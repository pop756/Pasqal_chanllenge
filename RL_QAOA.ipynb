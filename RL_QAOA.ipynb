{
  "cells": [
    {
      "cell_type": "code",
      "execution_count": 1,
      "metadata": {
        "colab": {
          "base_uri": "https://localhost:8080/"
        },
        "id": "lIYdn1woOS1n",
        "outputId": "e5404f10-c631-4bff-acc6-d3da17ee3d3b"
      },
      "outputs": [
        {
          "output_type": "stream",
          "name": "stdout",
          "text": [
            "Collecting pennylane\n",
            "  Downloading PennyLane-0.40.0-py3-none-any.whl.metadata (10 kB)\n",
            "Requirement already satisfied: numpy<2.1 in /usr/local/lib/python3.11/dist-packages (from pennylane) (1.26.4)\n",
            "Requirement already satisfied: scipy in /usr/local/lib/python3.11/dist-packages (from pennylane) (1.13.1)\n",
            "Requirement already satisfied: networkx in /usr/local/lib/python3.11/dist-packages (from pennylane) (3.4.2)\n",
            "Collecting rustworkx>=0.14.0 (from pennylane)\n",
            "  Downloading rustworkx-0.15.1-cp38-abi3-manylinux_2_17_x86_64.manylinux2014_x86_64.whl.metadata (9.9 kB)\n",
            "Requirement already satisfied: autograd in /usr/local/lib/python3.11/dist-packages (from pennylane) (1.7.0)\n",
            "Collecting tomlkit (from pennylane)\n",
            "  Downloading tomlkit-0.13.2-py3-none-any.whl.metadata (2.7 kB)\n",
            "Collecting appdirs (from pennylane)\n",
            "  Downloading appdirs-1.4.4-py2.py3-none-any.whl.metadata (9.0 kB)\n",
            "Collecting autoray>=0.6.11 (from pennylane)\n",
            "  Downloading autoray-0.7.0-py3-none-any.whl.metadata (5.8 kB)\n",
            "Requirement already satisfied: cachetools in /usr/local/lib/python3.11/dist-packages (from pennylane) (5.5.0)\n",
            "Collecting pennylane-lightning>=0.40 (from pennylane)\n",
            "  Downloading PennyLane_Lightning-0.40.0-cp311-cp311-manylinux_2_28_x86_64.whl.metadata (27 kB)\n",
            "Requirement already satisfied: requests in /usr/local/lib/python3.11/dist-packages (from pennylane) (2.32.3)\n",
            "Requirement already satisfied: typing-extensions in /usr/local/lib/python3.11/dist-packages (from pennylane) (4.12.2)\n",
            "Requirement already satisfied: packaging in /usr/local/lib/python3.11/dist-packages (from pennylane) (24.2)\n",
            "Collecting diastatic-malt (from pennylane)\n",
            "  Downloading diastatic_malt-2.15.2-py3-none-any.whl.metadata (2.6 kB)\n",
            "Collecting scipy-openblas32>=0.3.26 (from pennylane-lightning>=0.40->pennylane)\n",
            "  Downloading scipy_openblas32-0.3.28.0.2-py3-none-manylinux_2_17_x86_64.manylinux2014_x86_64.whl.metadata (56 kB)\n",
            "\u001b[2K     \u001b[90m━━━━━━━━━━━━━━━━━━━━━━━━━━━━━━━━━━━━━━━━\u001b[0m \u001b[32m56.1/56.1 kB\u001b[0m \u001b[31m1.9 MB/s\u001b[0m eta \u001b[36m0:00:00\u001b[0m\n",
            "\u001b[?25hRequirement already satisfied: astunparse in /usr/local/lib/python3.11/dist-packages (from diastatic-malt->pennylane) (1.6.3)\n",
            "Requirement already satisfied: gast in /usr/local/lib/python3.11/dist-packages (from diastatic-malt->pennylane) (0.6.0)\n",
            "Requirement already satisfied: termcolor in /usr/local/lib/python3.11/dist-packages (from diastatic-malt->pennylane) (2.5.0)\n",
            "Requirement already satisfied: charset-normalizer<4,>=2 in /usr/local/lib/python3.11/dist-packages (from requests->pennylane) (3.4.1)\n",
            "Requirement already satisfied: idna<4,>=2.5 in /usr/local/lib/python3.11/dist-packages (from requests->pennylane) (3.10)\n",
            "Requirement already satisfied: urllib3<3,>=1.21.1 in /usr/local/lib/python3.11/dist-packages (from requests->pennylane) (2.3.0)\n",
            "Requirement already satisfied: certifi>=2017.4.17 in /usr/local/lib/python3.11/dist-packages (from requests->pennylane) (2024.12.14)\n",
            "Requirement already satisfied: wheel<1.0,>=0.23.0 in /usr/local/lib/python3.11/dist-packages (from astunparse->diastatic-malt->pennylane) (0.45.1)\n",
            "Requirement already satisfied: six<2.0,>=1.6.1 in /usr/local/lib/python3.11/dist-packages (from astunparse->diastatic-malt->pennylane) (1.17.0)\n",
            "Downloading PennyLane-0.40.0-py3-none-any.whl (2.0 MB)\n",
            "\u001b[2K   \u001b[90m━━━━━━━━━━━━━━━━━━━━━━━━━━━━━━━━━━━━━━━━\u001b[0m \u001b[32m2.0/2.0 MB\u001b[0m \u001b[31m12.7 MB/s\u001b[0m eta \u001b[36m0:00:00\u001b[0m\n",
            "\u001b[?25hDownloading autoray-0.7.0-py3-none-any.whl (930 kB)\n",
            "\u001b[2K   \u001b[90m━━━━━━━━━━━━━━━━━━━━━━━━━━━━━━━━━━━━━━━━\u001b[0m \u001b[32m930.0/930.0 kB\u001b[0m \u001b[31m22.7 MB/s\u001b[0m eta \u001b[36m0:00:00\u001b[0m\n",
            "\u001b[?25hDownloading PennyLane_Lightning-0.40.0-cp311-cp311-manylinux_2_28_x86_64.whl (2.4 MB)\n",
            "\u001b[2K   \u001b[90m━━━━━━━━━━━━━━━━━━━━━━━━━━━━━━━━━━━━━━━━\u001b[0m \u001b[32m2.4/2.4 MB\u001b[0m \u001b[31m30.1 MB/s\u001b[0m eta \u001b[36m0:00:00\u001b[0m\n",
            "\u001b[?25hDownloading rustworkx-0.15.1-cp38-abi3-manylinux_2_17_x86_64.manylinux2014_x86_64.whl (2.0 MB)\n",
            "\u001b[2K   \u001b[90m━━━━━━━━━━━━━━━━━━━━━━━━━━━━━━━━━━━━━━━━\u001b[0m \u001b[32m2.0/2.0 MB\u001b[0m \u001b[31m36.7 MB/s\u001b[0m eta \u001b[36m0:00:00\u001b[0m\n",
            "\u001b[?25hDownloading appdirs-1.4.4-py2.py3-none-any.whl (9.6 kB)\n",
            "Downloading diastatic_malt-2.15.2-py3-none-any.whl (167 kB)\n",
            "\u001b[2K   \u001b[90m━━━━━━━━━━━━━━━━━━━━━━━━━━━━━━━━━━━━━━━━\u001b[0m \u001b[32m167.9/167.9 kB\u001b[0m \u001b[31m8.7 MB/s\u001b[0m eta \u001b[36m0:00:00\u001b[0m\n",
            "\u001b[?25hDownloading tomlkit-0.13.2-py3-none-any.whl (37 kB)\n",
            "Downloading scipy_openblas32-0.3.28.0.2-py3-none-manylinux_2_17_x86_64.manylinux2014_x86_64.whl (8.1 MB)\n",
            "\u001b[2K   \u001b[90m━━━━━━━━━━━━━━━━━━━━━━━━━━━━━━━━━━━━━━━━\u001b[0m \u001b[32m8.1/8.1 MB\u001b[0m \u001b[31m14.3 MB/s\u001b[0m eta \u001b[36m0:00:00\u001b[0m\n",
            "\u001b[?25hInstalling collected packages: appdirs, tomlkit, scipy-openblas32, rustworkx, autoray, diastatic-malt, pennylane-lightning, pennylane\n",
            "Successfully installed appdirs-1.4.4 autoray-0.7.0 diastatic-malt-2.15.2 pennylane-0.40.0 pennylane-lightning-0.40.0 rustworkx-0.15.1 scipy-openblas32-0.3.28.0.2 tomlkit-0.13.2\n",
            "ERROR: unknown command \"isntall\" - maybe you meant \"install\"\n"
          ]
        }
      ],
      "source": [
        "!pip install pennylane\n",
        "!pip isntall torch"
      ]
    },
    {
      "cell_type": "code",
      "source": [
        "import pennylane as qml  # Importing PennyLane for quantum computing\n",
        "from pennylane import numpy as np  # Importing PennyLane's NumPy for compatibility\n",
        "import torch  # Importing PyTorch for potential machine learning applications\n",
        "import torch.nn as nn  # Importing PyTorch's neural network module\n",
        "import copy  # Importing copy module for deep copying objects\n",
        "import itertools  # Importing itertools for combinatorial operations\n",
        "from tqdm import tqdm  # Importing tqdm for progress tracking\n",
        "\n",
        "class AdamOptimizer():\n",
        "\t\"\"\"Stochastic gradient descent optimizer with Adam\n",
        "\tNote: All default values are from the original Adam paper\n",
        "\tParameters\n",
        "\t----------\n",
        "\tparams : list, length = len(coefs_) + len(intercepts_)\n",
        "\t\tThe concatenated list containing coefs_ and intercepts_ in MLP model.\n",
        "\t\tUsed for initializing velocities and updating params\n",
        "\tlearning_rate_init : float, default=0.001\n",
        "\t\tThe initial learning rate used. It controls the step-size in updating\n",
        "\t\tthe weights\n",
        "\tbeta_1 : float, default=0.9\n",
        "\t\tExponential decay rate for estimates of first moment vector, should be\n",
        "\t\tin [0, 1)\n",
        "\tbeta_2 : float, default=0.999\n",
        "\t\tExponential decay rate for estimates of second moment vector, should be\n",
        "\t\tin [0, 1)\n",
        "\tepsilon : float, default=1e-8\n",
        "\t\tValue for numerical stability\n",
        "\tAttributes\n",
        "\t----------\n",
        "\tlearning_rate : float\n",
        "\t\tThe current learning rate\n",
        "\tt : int\n",
        "\t\tTimestep\n",
        "\tms : list, length = len(params)\n",
        "\t\tFirst moment vectors\n",
        "\tvs : list, length = len(params)\n",
        "\t\tSecond moment vectors\n",
        "\tReferences\n",
        "\t----------\n",
        "\tKingma, Diederik, and Jimmy Ba.\n",
        "\t\"Adam: A method for stochastic optimization.\"\n",
        "\tarXiv preprint arXiv:1412.6980 (2014).\n",
        "\t\"\"\"\n",
        "\n",
        "\tdef __init__(self, params, learning_rate_init=0.001, beta_1=0.9,\n",
        "\t\t\t\t beta_2=0.999, epsilon=1e-8, amsgrad = False):\n",
        "\n",
        "\t\tself.beta_1 = beta_1\n",
        "\t\tself.beta_2 = beta_2\n",
        "\t\tself.epsilon = epsilon\n",
        "\t\tif type(learning_rate_init) == float:\n",
        "\t\t\tself.learning_rate_init = np.ones(len(params))*learning_rate_init\n",
        "\t\telse:\n",
        "\t\t\tself.learning_rate_init = np.array(learning_rate_init)\n",
        "\t\tself.t = 0\n",
        "\t\tself.ms = [np.zeros_like(param) for param in params]\n",
        "\t\tself.vs = [np.zeros_like(param) for param in params]\n",
        "\t\tself.amsgrad = amsgrad\n",
        "\t\tself.max_vs = [np.zeros_like(param) for param in params]\n",
        "\n",
        "\tdef get_updates(self, grads):\n",
        "\t\t\"\"\"Get the values used to update params with given gradients\n",
        "\t\tParameters\n",
        "\t\t----------\n",
        "\t\tgrads : list, length = len(coefs_) + len(intercepts_)\n",
        "\t\t\tContaining gradients with respect to coefs_ and intercepts_ in MLP\n",
        "\t\t\tmodel. So length should be aligned with params\n",
        "\t\tReturns\n",
        "\t\t-------\n",
        "\t\tupdates : list, length = len(grads)\n",
        "\t\t\tThe values to add to params\n",
        "\t\t\"\"\"\n",
        "\t\tself.t += 1\n",
        "\t\tself.ms = [self.beta_1 * m + (1 - self.beta_1) * grad\n",
        "\t\t\t\t\t for m, grad in zip(self.ms, grads)]\n",
        "\t\tself.vs = [self.beta_2 * v + (1 - self.beta_2) * (grad ** 2)\n",
        "\t\t\t\t\t for v, grad in zip(self.vs, grads)]\n",
        "\t\tself.max_vs = [np.maximum(v, max_v) for v, max_v in zip(self.vs, self.max_vs)]\n",
        "\t\tself.learning_rate = (self.learning_rate_init *\n",
        "\t\t\t\t\t\t\t\tnp.sqrt(1 - self.beta_2 ** self.t) /\n",
        "\t\t\t\t\t\t\t\t(1 - self.beta_1 ** self.t))\n",
        "\t\tif self.amsgrad:\n",
        "\t\t\tupdates = [lr * m / (np.sqrt(max_v) + self.epsilon)\n",
        "\t\t\t           for lr, m, max_v in zip(self.learning_rate, self.ms, self.max_vs)]\n",
        "\t\telse:\n",
        "\t\t\tupdates = [lr * m / (np.sqrt(v) + self.epsilon)\n",
        "\t\t\t\t\t for lr, m, v in zip(self.learning_rate, self.ms, self.vs)]\n",
        "\t\treturn updates\n",
        "\n",
        "\n",
        "\n",
        "class QAOA_layer():\n",
        "    def __init__(self, depth, Q):\n",
        "        \"\"\"\n",
        "        Initializes the QAOA layer with a given depth and QUBO matrix.\n",
        "\n",
        "        Args:\n",
        "            depth (int): The depth of the QAOA circuit (number of layers).\n",
        "            Q (np.ndarray): QUBO matrix representing the quadratic unconstrained binary optimization problem.\n",
        "        \"\"\"\n",
        "        self.Q = Q  # Store the QUBO matrix\n",
        "        self.p = depth  # Store the QAOA depth\n",
        "        self.ham = self.prepare_cost_hamiltonian()  # Prepare the cost Hamiltonian based on QUBO matrix\n",
        "        self.dev = qml.device(\"default.qubit\", wires=Q.shape[0])  # Define a quantum device with qubits equal to the size of Q\n",
        "\n",
        "    def qaoa_circuit(self, params):\n",
        "        \"\"\"\n",
        "        Constructs the QAOA circuit with the given parameters.\n",
        "\n",
        "        Args:\n",
        "            params (list): A list containing gamma and beta values for parameterized QAOA layers.\n",
        "        \"\"\"\n",
        "        n = self.Q.shape[0]  # Number of qubits based on QUBO matrix size\n",
        "        gammas = params[:self.p]  # Extract gamma parameters for cost Hamiltonian evolution\n",
        "        betas = params[self.p:]  # Extract beta parameters for mixer Hamiltonian\n",
        "        # Apply Hadamard gates to all qubits to initialize in uniform superposition\n",
        "        for i in range(n):\n",
        "            qml.Hadamard(wires=i)\n",
        "\n",
        "        # Apply QAOA layers consisting of cost and mixer Hamiltonians\n",
        "        for layer in range(self.p):\n",
        "            self.qubo_cost(gammas[layer])  # Apply cost Hamiltonian with corresponding gamma\n",
        "            self.mixer(betas[layer])  # Apply mixer Hamiltonian with corresponding beta\n",
        "\n",
        "    def qubo_cost(self, gamma):\n",
        "        \"\"\"\n",
        "        Implements the cost Hamiltonian evolution for the QUBO problem.\n",
        "\n",
        "        Args:\n",
        "            gamma (float): Parameter for cost Hamiltonian evolution.\n",
        "        \"\"\"\n",
        "        n = self.Q.shape[0]  # Get number of qubits\n",
        "        for i in range(n):\n",
        "            for j in range(n):\n",
        "                if self.Q[i, j] != 0:  # If the QUBO coefficient is non-zero\n",
        "                    if i == j:\n",
        "                        qml.RZ(2 * gamma * float(self.Q[i, j]), wires=i)  # Apply single-qubit phase rotation\n",
        "                    else:\n",
        "                        qml.CNOT(wires=[i, j])  # Apply CNOT before controlled rotation\n",
        "                        qml.RZ(2 * gamma * float(self.Q[i, j]), wires=j)  # Apply controlled phase rotation\n",
        "                        qml.CNOT(wires=[i, j])  # Undo entanglement with another CNOT\n",
        "\n",
        "    def mixer(self, beta):\n",
        "        \"\"\"\n",
        "        Implements the mixer Hamiltonian for QAOA.\n",
        "\n",
        "        Args:\n",
        "            beta (float): Parameter for mixer Hamiltonian evolution.\n",
        "        \"\"\"\n",
        "        for i in range(self.Q.shape[0]):\n",
        "            qml.RX(2 * beta, wires=i)  # Apply X-rotation to all qubits\n",
        "\n",
        "    def prepare_cost_hamiltonian(self):\n",
        "        \"\"\"\n",
        "        Constructs the cost Hamiltonian for the QUBO problem.\n",
        "\n",
        "        Returns:\n",
        "            qml.Hamiltonian: The constructed cost Hamiltonian.\n",
        "        \"\"\"\n",
        "        n = self.Q.shape[0]  # Get the size of the QUBO matrix\n",
        "        coeffs = []  # Store the coefficients of the Hamiltonian terms\n",
        "        ops = []  # Store the corresponding Pauli operators\n",
        "\n",
        "        for i in range(n):\n",
        "            for j in range(n):\n",
        "                if self.Q[i, j] != 0:  # Only consider non-zero QUBO elements\n",
        "                    if i == j:\n",
        "                        coeffs.append(self.Q[i, j])  # Add coefficient for single-qubit term\n",
        "                        ops.append(qml.PauliZ(i))  # Add Pauli-Z operator\n",
        "                    else:\n",
        "                        coeffs.append(self.Q[i, j])  # Add coefficient for two-qubit interaction\n",
        "                        ops.append(qml.PauliZ(i) @ qml.PauliZ(j))  # Add ZZ interaction term\n",
        "\n",
        "        return qml.Hamiltonian(coeffs, ops)  # Return the constructed Hamiltonian\n",
        "\n",
        "\n",
        "\n",
        "class RL_QAOA():\n",
        "    def __init__(self, Q, n_c,init_paramter,b_vector, QAOA_depth,gamma=0.99,learning_rate_init=0.001):\n",
        "        self.Q = Q\n",
        "        self.n_c = n_c\n",
        "        self.param = init_paramter\n",
        "        self.b = b_vector\n",
        "        self.p = QAOA_depth\n",
        "        self.qaoa_layer = QAOA_layer(QAOA_depth,Q)\n",
        "        self.gamma = gamma\n",
        "        self.optimzer = AdamOptimizer([init_paramter,b_vector],learning_rate_init=learning_rate_init)\n",
        "\n",
        "\n",
        "\n",
        "\n",
        "    def RL_QAOA(self,episodes,epochs,correc_ans = None):\n",
        "        ## RL_QAOA실행 episodes : 몬테카를로를 진행할 숫자\n",
        "        ## epochs : parameter 최적화를 진행할 숫자\n",
        "\n",
        "        for j in range(epochs):\n",
        "          value_list = []\n",
        "          QAOA_diff_list = []\n",
        "          beta_diff_list = []\n",
        "          if correc_ans is not None:\n",
        "            prob = 0\n",
        "\n",
        "\n",
        "          for i in tqdm(range(episodes)):\n",
        "            QAOA_diff,beta_diff,value = self.rqaoa_execute()\n",
        "            value_list.append(value)\n",
        "            QAOA_diff_list.append(QAOA_diff)\n",
        "            beta_diff_list.append(beta_diff)\n",
        "\n",
        "            if correc_ans is not None:\n",
        "              if value <= correc_ans+0.01 and value >= correc_ans-0.01:\n",
        "                prob+=1\n",
        "\n",
        "\n",
        "          batch_maen = np.array(value_list) - np.mean(np.array(value_list),axis=0)\n",
        "          print(batch_maen)\n",
        "\n",
        "          for index,val in enumerate(batch_maen):\n",
        "            QAOA_diff_list[index] *= -val\n",
        "            beta_diff_list[index] *=-val\n",
        "\n",
        "\n",
        "          QAOA_diff_sum = np.mean(QAOA_diff_list,axis=0)\n",
        "          beta_diff_sum = np.mean(beta_diff_list,axis=0)\n",
        "          value_sum = np.mean(value_list)\n",
        "          print(f'cost : {value_sum}')\n",
        "          if correc_ans is not None:\n",
        "              prob = prob/episodes\n",
        "              print(f'prob : {prob}')\n",
        "          update = self.optimzer.get_updates([QAOA_diff_sum,beta_diff_sum])\n",
        "          print(f'QAOA update : {update[0]}')\n",
        "          self.param += np.array(update[0])\n",
        "          self.b += np.reshape(update[1],-1)\n",
        "          print(f'QAOA param : {self.param}')\n",
        "\n",
        "\n",
        "\n",
        "\n",
        "    def rqaoa_execute(self,cal_grad = True):\n",
        "        ## RQAOA를 확률적 뽑기로 진행해 주는 함수\n",
        "        Q_init = copy.deepcopy(self.Q)\n",
        "        Q_action = copy.deepcopy(self.Q)\n",
        "        self.Q_remove = []\n",
        "        self.node_assignments = {}  # Keep track of node assignments\n",
        "        self.edge_expectations = [] # Edge들의 expectation value 저장(Gradient 계산에 필요)\n",
        "        self.edge_expectations_grad = [] # Edge들의 expectation value gradient 저장(Gradient 계산에 필요)\n",
        "        self.policys = [] #각 edge가 지정될 확률을 저장(Gradient 계산에 필요)\n",
        "\n",
        "\n",
        "\n",
        "\n",
        "        QAOA_diff_list = [] ##QAOA layer parameter gradient\n",
        "        beta_diff_list = [] ##beta parameter gradient\n",
        "        index = 0\n",
        "        while Q_init.shape[0] > self.n_c:\n",
        "            # Select and cut an edge,cal grad\n",
        "            edge_expectations = self._qaoa_edge_expectations(Q_init,[i for i in range(self.p*index*2,self.p*index*2+2*self.p)])\n",
        "            selected_edge_idx, policy, edge_res = self._select_edge_to_cut(Q_action,Q_init,edge_expectations)\n",
        "            if cal_grad:\n",
        "              #edge_res_grad = self._qaoa_edge_expectations_gradients(Q_init, [i for i in range(self.p*index*2,self.p*index*2+2*self.p)])\n",
        "              edge_res_grad = self._qaoa_edge_expectations_gradient(Q_init, [i for i in range(self.p*index*2,self.p*index*2+2*self.p)],selected_edge_idx)\n",
        "            if cal_grad:\n",
        "              #QAOA_diff = self._compute_log_pol_diff(selected_edge_idx,Q_action,edge_res,edge_res_grad ,policy)\n",
        "              QAOA_diff = self._compute_log_pol_diff_idx(selected_edge_idx,Q_action,edge_res,edge_res_grad ,policy)\n",
        "              beta_diff = self._compute_grad_beta(selected_edge_idx,Q_action,policy,edge_res)\n",
        "\n",
        "\n",
        "              QAOA_diff_list.append(QAOA_diff)\n",
        "              beta_diff_list.append(beta_diff)\n",
        "            Q_init,Q_action = self._cut_edge(selected_edge_idx,edge_res,Q_action,Q_init)\n",
        "            index+=1\n",
        "\n",
        "\n",
        "        self.QAOA_result = copy.deepcopy(self.node_assignments)\n",
        "        # 그래프의 크기가 n_c보다 작으면 전체 space를 다 계산해서 최종값 도출\n",
        "        self._brute_force_optimal(Q_init)\n",
        "\n",
        "\n",
        "        z = self._dict_to_list(self.node_assignments)\n",
        "        Value = self._state_energy(z,self.Q)\n",
        "\n",
        "        ## 최근에 얻은 값이 최종 변화율에 영향을 크게 미치도록 함수 변경(큰 그래프에서는 뭘 선택하든 중요하지 않을때가 많음)\n",
        "\n",
        "\n",
        "        ## 정책에 대한 미분과 panalty 받은 보상을 곱해서 최종 기울기 도출\n",
        "        if cal_grad:\n",
        "\n",
        "          beta_diff_res = None\n",
        "          for beta_diff in beta_diff_list:\n",
        "            if beta_diff_res is None:\n",
        "              beta_diff_res = beta_diff\n",
        "            else:\n",
        "              beta_diff_res += beta_diff\n",
        "\n",
        "          QAOA_diff_res = None\n",
        "          for QAOA_diff in QAOA_diff_list:\n",
        "            if QAOA_diff_res is None:\n",
        "              QAOA_diff_res = QAOA_diff\n",
        "            else:\n",
        "              QAOA_diff_res += QAOA_diff\n",
        "\n",
        "          return QAOA_diff_res,beta_diff_res,Value\n",
        "\n",
        "\n",
        "        else:\n",
        "          return Value\n",
        "\n",
        "\n",
        "\n",
        "\n",
        "    def _compute_log_pol_diff(self, idx,Q_action,edge_expectations,edge_expectations_grad,policy):\n",
        "        ## 특정 edge가 선택 됐을 때 그 정책에 대한 paramter의 log기울기 값 계산\n",
        "        action_space = self._action_space(Q_action)\n",
        "        betas = self.b[action_space]\n",
        "        gather = np.zeros_like(policy)\n",
        "        for i in range(len(edge_expectations_grad)):\n",
        "            gather[i] += policy[i] * betas[i]\n",
        "\n",
        "        diff_log_pol = betas[idx] *np.sign(edge_expectations[idx])* edge_expectations_grad[idx]\n",
        "        for i in range(len(gather)):\n",
        "            if gather[i]:\n",
        "                diff_log_pol-= gather[i] * np.sign(edge_expectations[i]) * (\n",
        "                    (edge_expectations_grad[i]))\n",
        "\n",
        "        return np.array(diff_log_pol)\n",
        "\n",
        "    def _compute_log_pol_diff_idx(self, idx,Q_action,edge_expectations,grad,policy):\n",
        "        ## 특정 edge가 선택 됐을 때 그 정책에 대한 paramter의 log기울기 값 계산\n",
        "        action_space = self._action_space(Q_action)\n",
        "        betas = self.b[action_space]\n",
        "        diff_log_pol = betas[idx] *np.sign(edge_expectations[idx])* grad - policy[idx] * betas[idx] *np.sign(edge_expectations[idx])* grad\n",
        "        return np.array(diff_log_pol)\n",
        "\n",
        "    def _compute_grad_beta(self,idx,Q_action,policy,edge_expectations):\n",
        "\n",
        "        grad_beta = []\n",
        "        abs_expectations = abs(np.array(edge_expectations))\n",
        "        action_space = self._action_space(Q_action)\n",
        "\n",
        "        betas_idx = action_space\n",
        "\n",
        "        grad = np.zeros(len(self.b))\n",
        "        grad[betas_idx[idx]] += abs_expectations[idx]\n",
        "        for i in range(len(action_space)):\n",
        "            grad[betas_idx[i]] -= policy[i] * abs_expectations[i]\n",
        "\n",
        "\n",
        "        return np.array(grad)\n",
        "\n",
        "\n",
        "\n",
        "    def _cut_edge(self, selected_edge_idx,expectations,Q_action,Q_init):\n",
        "        ## 선택된 edge에 해당하는 index와 그에 해당하는 expectaion value를 받아 1 혹은 -1 를 edge의 노드에 부여하는 메소드\n",
        "        ## 또한 Q_action,줄어들어진 Q도 여기서 갱신해준다\n",
        "        edge_list = [(i, j) for i in range(Q_init.shape[0]) for j in range(Q_init.shape[0]) if Q_init[i, j] != 0 and i!=j]\n",
        "        edge_to_cut = edge_list[selected_edge_idx]\n",
        "\n",
        "\n",
        "        expectation = expectations[selected_edge_idx]\n",
        "        ###수정\n",
        "\n",
        "\n",
        "        i = edge_to_cut[0]\n",
        "        j = edge_to_cut[1]\n",
        "\n",
        "        for key in dict(sorted(self.node_assignments.items(), key=lambda item: item[0])):\n",
        "          if i >= key:\n",
        "            i+=1\n",
        "          if j >= key:\n",
        "            j+=1\n",
        "\n",
        "        node_list = list(self.node_assignments.keys())\n",
        "        node_list += [i,j]\n",
        "        node_list.sort()\n",
        "\n",
        "\n",
        "        Q_remove = []\n",
        "        for index_1 in node_list:\n",
        "          row = []\n",
        "          for index_2 in node_list:\n",
        "            row.append(self.Q[index_1][index_2])\n",
        "          Q_remove.append(row)\n",
        "        Q_remove = np.array(Q_remove)\n",
        "\n",
        "\n",
        "        if expectation < 0:\n",
        "            self.node_assignments[i] = -1\n",
        "            self.node_assignments[j] = 1\n",
        "            sorted_dict = np.array(list(dict(sorted(self.node_assignments.items())).values()))\n",
        "            energy_1 = self._state_energy(sorted_dict,Q_remove)\n",
        "\n",
        "\n",
        "            self.node_assignments[i] = 1\n",
        "            self.node_assignments[j] = -1\n",
        "            sorted_dict = np.array(list(dict(sorted(self.node_assignments.items())).values()))\n",
        "            energy_2 = self._state_energy(sorted_dict,Q_remove)\n",
        "            if energy_1 > energy_2:\n",
        "              self.node_assignments[i] = 1\n",
        "              self.node_assignments[j] = -1\n",
        "            else:\n",
        "              self.node_assignments[i] = -1\n",
        "              self.node_assignments[j] = 1\n",
        "\n",
        "\n",
        "        else:\n",
        "            if Q_init[edge_to_cut[0]][edge_to_cut[0]]+Q_init[edge_to_cut[1]][edge_to_cut[1]]>0:\n",
        "              # Assign nodes such that they are the same (e.g., 0-0 or 1-1)\n",
        "              self.node_assignments[i] = -1\n",
        "              self.node_assignments[j] = -1\n",
        "              sorted_dict = np.array(list(dict(sorted(self.node_assignments.items())).values()))\n",
        "              energy_1 = self._state_energy(sorted_dict,Q_remove)\n",
        "            else:\n",
        "              # Assign nodes such that they are the same (e.g., 0-0 or 1-1)\n",
        "              self.node_assignments[i] = 1\n",
        "              self.node_assignments[j] = 1\n",
        "              sorted_dict = np.array(list(dict(sorted(self.node_assignments.items())).values()))\n",
        "              energy_2 = self._state_energy(sorted_dict,Q_remove)\n",
        "              if energy_1 > energy_2:\n",
        "                self.node_assignments[i] = 1\n",
        "                self.node_assignments[j] = 1\n",
        "              else:\n",
        "                self.node_assignments[i] = -1\n",
        "                self.node_assignments[j] = -1\n",
        "\n",
        "        # Remove the nodes connected by the selected edge\n",
        "        nodes_to_remove = list(edge_to_cut)\n",
        "\n",
        "        # Create a reduced Q matrix\n",
        "        remaining_nodes = [i for i in range(Q_init.shape[0]) if i not in nodes_to_remove]\n",
        "        new_size = len(remaining_nodes)\n",
        "        new_Q = np.zeros((new_size, new_size))\n",
        "\n",
        "        for index, node_i in enumerate(remaining_nodes):\n",
        "            for jedex, node_j in enumerate(remaining_nodes):\n",
        "                new_Q[index, jedex] = Q_init[node_i, node_j]\n",
        "\n",
        "\n",
        "        Q_action[i] = 0\n",
        "        Q_action[:,i] = 0\n",
        "        Q_action[:,j] = 0\n",
        "        Q_action[j] = 0\n",
        "\n",
        "\n",
        "\n",
        "        return new_Q,Q_action\n",
        "\n",
        "    def _select_edge_to_cut(self,Q_action,Q_init,edge_expectations):\n",
        "          ## ZZ를 측정하여 beta와 곱한 후 softmax를 진행하여 자를 edge를 확률적으로 고르는 method\n",
        "          action_space = self._action_space(Q_action)\n",
        "          interactions = abs(np.array((edge_expectations))) * self.b[action_space]\n",
        "          probabilities = torch.softmax(torch.tensor(interactions), dim=0).numpy()\n",
        "          selected_edge_idx = np.random.choice(len(probabilities), p=probabilities)\n",
        "          return selected_edge_idx, probabilities, edge_expectations\n",
        "\n",
        "\n",
        "\n",
        "\n",
        "    def _action_space(self,Q_action):\n",
        "        ## 현재 살아있는 edge들이 기존 그래프에서 몇번째 edge였는지 표시해주는 action space뽑아내주는 함수\n",
        "        ## Q_action : 죽은 노드들이 있는 행과 열에 대하여 0으로 대체된 살아있는 노드들만 표시되는 매트릭스\n",
        "        action_space_list = []\n",
        "        index = 0\n",
        "        for i in range(Q_action.shape[0]):\n",
        "            for j in range(Q_action.shape[0]):\n",
        "                if i!=j and self.Q[i,j] != 0:\n",
        "                    if Q_action[i,j] != 0:\n",
        "                        action_space_list.append(index)\n",
        "                    index+=1\n",
        "        return action_space_list\n",
        "\n",
        "    def _qaoa_edge_expectations(self, Q,idx):\n",
        "        ## 각 edge별 ZZ interaction을 도출해주는 함수\n",
        "\n",
        "        @qml.qnode(self.qaoa_layer.dev)\n",
        "        def circuit(param):\n",
        "            self.qaoa_layer.qaoa_circuit(param)\n",
        "            return [qml.expval(qml.PauliZ(i) @ qml.PauliZ(j)) for i in range(Q.shape[0]) for j in range(Q.shape[0]) if Q[i, j] != 0 and i!=j]\n",
        "        return circuit(self.param[idx])\n",
        "\n",
        "    def _qaoa_edge_expectations_gradients(self, Q,idx):\n",
        "      ## 각 edge별 ZZ interaction의 기울기를 도출해주는 함수\n",
        "        res = []\n",
        "        @qml.qnode(self.qaoa_layer.dev)\n",
        "        def circuit(params,i,j):\n",
        "            self.qaoa_layer.qaoa_circuit(params[idx])\n",
        "            return qml.expval(qml.PauliZ(i) @ qml.PauliZ(j))\n",
        "        for i in range(Q.shape[0]) :\n",
        "          for j in range(Q.shape[0]):\n",
        "             if Q[i, j] != 0 and i != j:\n",
        "                # Compute gradients for each parameter\n",
        "                gradients = qml.grad(circuit)(self.param,i,j)\n",
        "                res.append(gradients)\n",
        "        return res\n",
        "\n",
        "\n",
        "    def _qaoa_edge_expectations_gradient(self, Q,idx,index):\n",
        "      ## 각 edge별 ZZ interaction의 기울기를 도출해주는 함수\n",
        "        res = []\n",
        "        number = 0\n",
        "        @qml.qnode(self.qaoa_layer.dev)\n",
        "        def circuit(params,i,j):\n",
        "            self.qaoa_layer.qaoa_circuit(params[idx])\n",
        "            return qml.expval(qml.PauliZ(i) @ qml.PauliZ(j))\n",
        "        for i in range(Q.shape[0]) :\n",
        "          for j in range(Q.shape[0]):\n",
        "             if Q[i, j] != 0 and i != j:\n",
        "                if number == index:\n",
        "                  # Compute gradients for each parameter\n",
        "                  gradients = qml.grad(circuit)(self.param,i,j)\n",
        "                  return gradients\n",
        "                number+=1\n",
        "\n",
        "\n",
        "    def _brute_force_optimal(self,Q):\n",
        "\n",
        "        ### 고전적으로 최선의 해를 도출해주는 함수\n",
        "        if Q.shape[0] > self.n_c:\n",
        "            print(\"Graph size too large for brute force.\")\n",
        "            return None\n",
        "\n",
        "        n = Q.shape[0]\n",
        "        configs = list(itertools.product([-1, 1], repeat=n))\n",
        "        best_value = np.inf\n",
        "        best_config = None\n",
        "\n",
        "\n",
        "\n",
        "        for config in configs:\n",
        "            node_assignments = {}\n",
        "            copy_node = copy.deepcopy(self.node_assignments)\n",
        "\n",
        "\n",
        "            for index,value in enumerate(config):\n",
        "              for key in dict(sorted(self.node_assignments.items(), key=lambda item: item[0])):\n",
        "                if index >= key:\n",
        "                  index+=1\n",
        "              node_assignments[index] = value\n",
        "\n",
        "\n",
        "            copy_node.update(node_assignments)\n",
        "            z = self._dict_to_list(copy_node)\n",
        "            value = self._state_energy(z,self.Q)\n",
        "            if value < best_value:\n",
        "                best_value = value\n",
        "                res_node = copy.copy(copy_node)\n",
        "\n",
        "        self.node_assignments = res_node\n",
        "\n",
        "\n",
        "\n",
        "\n",
        "\n",
        "    def _state_energy(self,state,Q):\n",
        "        ## State가 주어질 때 그 에너지를 계산해주는 함수\n",
        "\n",
        "\n",
        "        # 동일한 크기의 단위 행렬 생성\n",
        "        identity_matrix = np.eye(Q.shape[0], dtype=bool)\n",
        "\n",
        "        # 대각선 요소를 제거한 새로운 행렬 생성\n",
        "        interaction = np.where(identity_matrix, 0, Q)\n",
        "        diagonal_elements = np.diag(Q)\n",
        "        value = diagonal_elements@state + state.T@interaction@state\n",
        "        return value\n",
        "\n",
        "    def _dict_to_list(self,node_assign):\n",
        "        ##보조 함수 assign된 node들의 0 과 1을 list 형태로 순서대로 출력해주는 함수\n",
        "        node_assignments_list = [0]*len(node_assign)\n",
        "        for key,value in node_assign.items(): # Change: Iterate through key-value pairs using .items()\n",
        "            node_assignments_list[key]=value\n",
        "        return np.array(node_assignments_list)\n",
        "\n",
        "\n",
        ""
      ],
      "metadata": {
        "id": "DWNwn26CNDtz"
      },
      "execution_count": 218,
      "outputs": []
    },
    {
      "cell_type": "code",
      "source": [
        "def generate_upper_triangular_qubo(size, low=-10, high=10, integer=True, seed=None):\n",
        "    \"\"\"\n",
        "    Generates an upper-triangular QUBO (Quadratic Unconstrained Binary Optimization) matrix.\n",
        "\n",
        "    Args:\n",
        "        size (int): The number of variables (size of the QUBO matrix).\n",
        "        low (int/float): Minimum value of the random elements.\n",
        "        high (int/float): Maximum value of the random elements.\n",
        "        integer (bool): If True, generates integer values; otherwise, generates float values.\n",
        "        seed (int, optional): Random seed for reproducibility.\n",
        "\n",
        "    Returns:\n",
        "        np.ndarray: An upper-triangular QUBO matrix of the specified size.\n",
        "    \"\"\"\n",
        "    if seed is not None:\n",
        "        np.random.seed(seed)\n",
        "\n",
        "    # Generate random values for the upper triangular part including diagonal\n",
        "    if integer:\n",
        "        Q = np.random.randint(low, high, (size, size))\n",
        "    else:\n",
        "        Q = np.random.uniform(low, high, (size, size))\n",
        "\n",
        "    # Keep only the upper triangle values (including diagonal), set lower triangle to zero\n",
        "    Q = np.triu(Q)\n",
        "\n",
        "    # Ensure diagonal values are positive (bias terms)\n",
        "    np.fill_diagonal(Q, np.abs(np.diagonal(Q)))\n",
        "\n",
        "    return Q\n",
        "\n",
        "# Example usage\n",
        "qubo_matrix = generate_upper_triangular_qubo(size=3, low=-5, high=5, integer=True, seed=70)\n",
        "print(\"Randomly generated upper-triangular QUBO matrix:\\n\", qubo_matrix)\n",
        "\n",
        "import numpy as np\n",
        "\n",
        "# Original QUBO matrix\n",
        "qubo_matrix = np.array([\n",
        "    [0.0658492, -0.024853287,  0.064008761,  0.058160105,  0.058757735],\n",
        "    [-0.024853287, 0.080128677, -0.025012106, -0.023698929, -0.013849719],\n",
        "    [0.064008761, -0.025012106,  0.063201845,  0.053540045,  0.055350148],\n",
        "    [0.058160105, -0.023698929,  0.053540045,  0.066177288,  0.055601435],\n",
        "    [0.058757735, -0.013849719,  0.055350148,  0.055601435,  0.059764565]\n",
        "])\n",
        "\n",
        "diagonal = np.diag(np.diag(qubo_matrix)) + np.eye(qubo_matrix.shape[0])\n",
        "\n",
        "# Combine results: upper triangle + modified diagonal\n",
        "\n",
        "\n",
        "\n",
        "\n",
        "\n",
        "\n",
        "# Create an upper triangular matrix by doubling the upper triangle values and keeping diagonal\n",
        "modified_qubo = np.triu(qubo_matrix, k=1) * 2 + np.diag(np.diag(qubo_matrix))\n",
        "modified_qubo =  modified_qubo + diagonal\n",
        "\n",
        "print(\"Modified QUBO Matrix:\\n\", modified_qubo)\n",
        "qubo_matrix = modified_qubo\n"
      ],
      "metadata": {
        "colab": {
          "base_uri": "https://localhost:8080/"
        },
        "id": "1tlK5E_dPRQ6",
        "outputId": "434d1b42-6793-4cdd-ecd2-7acd824e417e"
      },
      "execution_count": 140,
      "outputs": [
        {
          "output_type": "stream",
          "name": "stdout",
          "text": [
            "Randomly generated upper-triangular QUBO matrix:\n",
            " [[ 1 -3  3]\n",
            " [ 0  1  0]\n",
            " [ 0  0  1]]\n",
            "Modified QUBO Matrix:\n",
            " [[ 1.1316984  -0.04970657  0.12801752  0.11632021  0.11751547]\n",
            " [ 0.          1.16025735 -0.05002421 -0.04739786 -0.02769944]\n",
            " [ 0.          0.          1.12640369  0.10708009  0.1107003 ]\n",
            " [ 0.          0.          0.          1.13235458  0.11120287]\n",
            " [ 0.          0.          0.          0.          1.11952913]]\n"
          ]
        }
      ]
    },
    {
      "cell_type": "code",
      "source": [
        "import pennylane as qml\n",
        "from pennylane import numpy as np\n",
        "from scipy.optimize import minimize\n",
        "\n",
        "# Define QAOA depth\n",
        "\n",
        "''' Q = qubo_matrix\n",
        "print(Q)\n",
        "depth = 2 '''\n",
        "Q = generate_upper_triangular_qubo(9,-5,5,integer=False)\n",
        "depth = 1\n",
        "# Initialize the QAOA layer\n",
        "qaoa = QAOA_layer(depth, Q)\n",
        "\n",
        "# Define the QNode for optimization\n",
        "@qml.qnode(qaoa.dev)\n",
        "def qaoa_expectation(params):\n",
        "    \"\"\"\n",
        "    Quantum node that runs the QAOA circuit and measures the expectation value\n",
        "    of the cost Hamiltonian.\n",
        "\n",
        "    Args:\n",
        "        params (np.ndarray): Array of QAOA parameters (gammas and betas).\n",
        "\n",
        "    Returns:\n",
        "        float: Expectation value of the cost Hamiltonian.\n",
        "    \"\"\"\n",
        "    qaoa.qaoa_circuit(params)\n",
        "    return qml.expval(qaoa.ham)\n",
        "\n",
        "# Define the cost function for optimization\n",
        "def cost_function(params):\n",
        "    \"\"\"\n",
        "    Computes the expectation value of the cost Hamiltonian.\n",
        "\n",
        "    Args:\n",
        "        params (np.ndarray): Array of QAOA parameters (gammas and betas).\n",
        "\n",
        "    Returns:\n",
        "        float: Expectation value of the cost Hamiltonian.\n",
        "    \"\"\"\n",
        "    return qaoa_expectation(params)\n",
        "\n",
        "\n",
        "\n",
        "\n",
        "\n",
        "\n",
        "\n",
        "opt = qml.AdamOptimizer(stepsize=0.1)\n",
        "\n",
        "# Initial random parameters for QAOA (gammas and betas)\n",
        "init_params = np.random.uniform(0, np.pi, 2 * depth)\n",
        "\n",
        "# Define the QNode for optimization\n",
        "@qml.qnode(qaoa.dev)\n",
        "def qaoa_expectation(params):\n",
        "    \"\"\"\n",
        "    Quantum node that runs the QAOA circuit and measures the expectation value\n",
        "    of the cost Hamiltonian.\n",
        "\n",
        "    Args:\n",
        "        params (np.ndarray): Array of QAOA parameters (gammas and betas).\n",
        "\n",
        "    Returns:\n",
        "        float: Expectation value of the cost Hamiltonian.\n",
        "    \"\"\"\n",
        "    qaoa.qaoa_circuit(params)\n",
        "    return qml.expval(qaoa.ham)\n",
        "\n",
        "# Define the cost function for optimization\n",
        "def cost_function(params):\n",
        "    \"\"\"\n",
        "    Computes the expectation value of the cost Hamiltonian.\n",
        "\n",
        "    Args:\n",
        "        params (np.ndarray): Array of QAOA parameters (gammas and betas).\n",
        "\n",
        "    Returns:\n",
        "        float: Expectation value of the cost Hamiltonian.\n",
        "    \"\"\"\n",
        "    return qaoa_expectation(params)\n",
        "\n",
        "# Initial random parameters for QAOA (gammas and betas)\n",
        "init_params = np.random.uniform(0, np.pi, 2 * depth)\n",
        "\n",
        "# Optimize the QAOA parameters using classical optimizer (COBYLA)\n",
        "result = minimize(cost_function, init_params, method=\"COBYLA\", options={'maxiter': 200})\n",
        "\n",
        "# Extract optimized parameters and minimum cost\n",
        "optimized_params = result.x\n",
        "min_cost = result.fun\n",
        "\n",
        "# Print the results\n",
        "print(\"Optimized parameters (gammas and betas):\", optimized_params)\n",
        "print(\"Minimum cost achieved:\", min_cost)\n"
      ],
      "metadata": {
        "colab": {
          "base_uri": "https://localhost:8080/"
        },
        "id": "0QfQTZbv9A6C",
        "outputId": "29fd0844-8c32-4d10-d123-02b9bfeaee7b"
      },
      "execution_count": 212,
      "outputs": [
        {
          "output_type": "stream",
          "name": "stdout",
          "text": [
            "Optimized parameters (gammas and betas): [3.62673162 4.2089466 ]\n",
            "Minimum cost achieved: -2.243267672750182\n"
          ]
        }
      ]
    },
    {
      "cell_type": "code",
      "source": [
        "import pennylane as qml\n",
        "from pennylane import numpy as np\n",
        "\n",
        "# Define the QUBO matrix for the problem\n",
        "def generate_upper_triangular_qubo(size, low=-10, high=10, integer=True, seed=None):\n",
        "    \"\"\"\n",
        "    Generates an upper-triangular QUBO (Quadratic Unconstrained Binary Optimization) matrix.\n",
        "\n",
        "    Args:\n",
        "        size (int): The number of variables (size of the QUBO matrix).\n",
        "        low (int/float): Minimum value of the random elements.\n",
        "        high (int/float): Maximum value of the random elements.\n",
        "        integer (bool): If True, generates integer values; otherwise, generates float values.\n",
        "        seed (int, optional): Random seed for reproducibility.\n",
        "\n",
        "    Returns:\n",
        "        np.ndarray: An upper-triangular QUBO matrix of the specified size.\n",
        "    \"\"\"\n",
        "    if seed is not None:\n",
        "        np.random.seed(seed)\n",
        "\n",
        "    # Generate random values for the upper triangular part including diagonal\n",
        "    if integer:\n",
        "        Q = np.random.randint(low, high, (size, size))\n",
        "    else:\n",
        "        Q = np.random.uniform(low, high, (size, size))\n",
        "\n",
        "    # Keep only the upper triangle values (including diagonal), set lower triangle to zero\n",
        "    Q = np.triu(Q)\n",
        "\n",
        "    # Ensure diagonal values are positive (bias terms)\n",
        "    np.fill_diagonal(Q, np.abs(np.diagonal(Q)))\n",
        "\n",
        "    return Q\n",
        "\n",
        "\n",
        "\n",
        "# Initialize the QAOA layer\n",
        "qaoa = QAOA_layer(depth, Q)\n",
        "\n",
        "# Define the QNode for optimization\n",
        "@qml.qnode(qaoa.dev)\n",
        "def qaoa_expectation(params):\n",
        "    \"\"\"\n",
        "    Quantum node that runs the QAOA circuit and measures the expectation value\n",
        "    of the cost Hamiltonian.\n",
        "\n",
        "    Args:\n",
        "        params (np.ndarray): Array of QAOA parameters (gammas and betas).\n",
        "\n",
        "    Returns:\n",
        "        float: Expectation value of the cost Hamiltonian.\n",
        "    \"\"\"\n",
        "    qaoa.qaoa_circuit(params)\n",
        "    return qml.expval(qaoa.ham)\n",
        "\n",
        "# Define the cost function for optimization\n",
        "def cost_function(params):\n",
        "    \"\"\"\n",
        "    Computes the expectation value of the cost Hamiltonian.\n",
        "\n",
        "    Args:\n",
        "        params (np.ndarray): Array of QAOA parameters (gammas and betas).\n",
        "\n",
        "    Returns:\n",
        "        float: Expectation value of the cost Hamiltonian.\n",
        "    \"\"\"\n",
        "    return qaoa_expectation(params)\n",
        "\n",
        "\n",
        "\n",
        "\n",
        "\n",
        "\n",
        "\n",
        "opt = qml.AdamOptimizer(stepsize=0.1)\n",
        "\n",
        "# Initial random parameters for QAOA (gammas and betas)\n",
        "init_params = optimized_params\n",
        "\n",
        "# Optimization loop\n",
        "max_iterations = 200\n",
        "params = init_params\n",
        "for i in range(max_iterations):\n",
        "    params = opt.step(cost_function, params)\n",
        "    if i % 20 == 0:\n",
        "        cost = cost_function(params)\n",
        "        print(f\"Iteration {i}: Cost = {cost}\")\n",
        "\n",
        "# Final optimized parameters\n",
        "final_cost = cost_function(params)\n",
        "print(\"Optimized parameters (gammas and betas):\", params)\n",
        "print(\"Final minimum cost achieved:\", final_cost)\n",
        "\n",
        "\n",
        "\n"
      ],
      "metadata": {
        "colab": {
          "base_uri": "https://localhost:8080/"
        },
        "id": "Bq73EdJPOREl",
        "outputId": "a4168fe9-cdf2-490e-d499-d2c9e4119c1f"
      },
      "execution_count": 213,
      "outputs": [
        {
          "output_type": "stream",
          "name": "stdout",
          "text": [
            "Iteration 0: Cost = -2.243267672750182\n",
            "Iteration 20: Cost = -2.243267672750182\n",
            "Iteration 40: Cost = -2.243267672750182\n",
            "Iteration 60: Cost = -2.243267672750182\n",
            "Iteration 80: Cost = -2.243267672750182\n",
            "Iteration 100: Cost = -2.243267672750182\n",
            "Iteration 120: Cost = -2.243267672750182\n",
            "Iteration 140: Cost = -2.243267672750182\n",
            "Iteration 160: Cost = -2.243267672750182\n",
            "Iteration 180: Cost = -2.243267672750182\n",
            "Optimized parameters (gammas and betas): [3.62673162 4.2089466 ]\n",
            "Final minimum cost achieved: -2.243267672750182\n"
          ]
        }
      ]
    },
    {
      "cell_type": "code",
      "source": [
        "dev = qml.device(\"default.qubit\", shots=1500)\n",
        "@qml.qnode(dev)\n",
        "def sample_solution(params):\n",
        "    \"\"\"Runs the optimized QAOA circuit and samples the output state.\"\"\"\n",
        "    qaoa.qaoa_circuit(params)\n",
        "    return qml.sample()\n",
        "\n",
        "# Get multiple samples from the optimized circuit\n",
        "num_samples = 1000\n",
        "samples = sample_solution(params)\n",
        "\n",
        "# Convert measurement results from {-1,1} to {0,1}\n",
        "binary_solutions = samples*(-2)+1\n",
        "\n",
        "# Compute the cost for each sampled solution\n",
        "def evaluate_solution(sample):\n",
        "    # 동일한 크기의 단위 행렬 생성\n",
        "    identity_matrix = np.eye(Q.shape[0], dtype=bool)\n",
        "\n",
        "    # 대각선 요소를 제거한 새로운 행렬 생성\n",
        "    interaction = np.where(identity_matrix, 0, Q)\n",
        "    diagonal_elements = np.diag(Q)\n",
        "    value = diagonal_elements@sample + sample.T@interaction@sample\n",
        "    return value\n",
        "\n",
        "# Evaluate the cost for all sampled solutions and find the best\n",
        "costs = np.array([evaluate_solution(sample) for sample in binary_solutions])\n",
        "best_solution = binary_solutions[np.argmin(costs)]\n",
        "best_cost = np.min(costs)\n",
        "\n",
        "print(\"Best solution found:\", best_solution)\n",
        "print(\"Cost of best solution:\", best_cost)"
      ],
      "metadata": {
        "colab": {
          "base_uri": "https://localhost:8080/"
        },
        "id": "1qSVQYlvO59R",
        "outputId": "b58e10cc-adac-4224-8704-6b935451916a"
      },
      "execution_count": 214,
      "outputs": [
        {
          "output_type": "stream",
          "name": "stdout",
          "text": [
            "Best solution found: [ 1  1 -1 -1 -1 -1 -1  1  1]\n",
            "Cost of best solution: -50.13978872011384\n"
          ]
        }
      ]
    },
    {
      "cell_type": "code",
      "source": [
        "@qml.qnode(dev)\n",
        "def sample_solution(params):\n",
        "    \"\"\"Runs the optimized QAOA circuit and samples the output state.\"\"\"\n",
        "    qaoa.qaoa_circuit(params)\n",
        "    return qml.sample()"
      ],
      "metadata": {
        "id": "S1_iFsih_-E9"
      },
      "execution_count": 215,
      "outputs": []
    },
    {
      "cell_type": "code",
      "source": [
        "# Initial parameters for QAOA\n",
        "init_params = params\n",
        "init_params = np.reshape(init_params,(-1))\n",
        "\n",
        "# RL-QAOA setup\n",
        "rl_qaoa = RL_QAOA(Q,Q.shape[0],init_params,b_vector = np.array([25.]*30) ,QAOA_depth=1,gamma = 0.99,learning_rate_init=[0.01,0.05])\n",
        "final_config = rl_qaoa.rqaoa_execute()\n",
        "rl_qaoa.n_c = 1\n",
        "print(f\"classical_result : {final_config},best : {rl_qaoa.node_assignments}\" )"
      ],
      "metadata": {
        "colab": {
          "base_uri": "https://localhost:8080/"
        },
        "id": "_WCetVOy9zh7",
        "outputId": "2b530305-5278-4218-dd8b-a45931332dbc"
      },
      "execution_count": 216,
      "outputs": [
        {
          "output_type": "stream",
          "name": "stdout",
          "text": [
            "classical_result : (None, None, tensor(-50.13978872, requires_grad=True)),best : {0: 1, 1: 1, 2: -1, 3: -1, 4: -1, 5: -1, 6: -1, 7: 1, 8: 1}\n"
          ]
        }
      ]
    },
    {
      "cell_type": "code",
      "source": [
        "# Evaluate the cost for all sampled solutions and find the best\n",
        "costs = np.array([evaluate_solution(sample) for sample in binary_solutions])\n",
        "best_solution = binary_solutions[np.argmin(costs)]\n",
        "best_cost = np.min(costs)\n",
        "\n",
        "print(\"Best solution found:\", best_solution)\n",
        "print(\"Cost of best solution:\", best_cost)\n",
        "print(\"Best solution percent : \",np.sum(np.array((costs == float(final_config[2])),dtype=int))/1500)"
      ],
      "metadata": {
        "colab": {
          "base_uri": "https://localhost:8080/"
        },
        "id": "LMAKWyWdQG5f",
        "outputId": "dfa3d2d6-2d4c-4ca8-bee2-57acd8276440"
      },
      "execution_count": 217,
      "outputs": [
        {
          "output_type": "stream",
          "name": "stdout",
          "text": [
            "Best solution found: [ 1  1 -1 -1 -1 -1 -1  1  1]\n",
            "Cost of best solution: -50.13978872011384\n",
            "Best solution percent :  0.0013333333333333333\n"
          ]
        }
      ]
    },
    {
      "cell_type": "code",
      "source": [
        "### Single optimization\n",
        "# Example QUBO matrix\n",
        "#Q = Q_onsite\n",
        "\n",
        "# Initial parameters for QAOA\n",
        "init_params = [params]*5\n",
        "init_params = np.reshape(init_params,(-1))\n",
        "\n",
        "# RL-QAOA setup\n",
        "rl_qaoa = RL_QAOA(Q,Q.shape[0],init_params,b_vector = np.array([15.]*70) ,QAOA_depth=depth,gamma = 0.99,learning_rate_init=[0.05,0.00])\n",
        "final_config = rl_qaoa.rqaoa_execute()\n",
        "rl_qaoa.n_c = 1\n",
        "print(f\"classical_result : {final_config},best : {rl_qaoa.node_assignments}\" )\n",
        "\n",
        "\n",
        "# Execute RQAOA\n",
        "final_config = rl_qaoa.RL_QAOA(episodes=50,epochs=60,correc_ans=float(final_config[2]))"
      ],
      "metadata": {
        "id": "_uZrwgoiq0JU",
        "outputId": "baa59356-fcb5-4099-8a46-fc28d10eb23e",
        "colab": {
          "base_uri": "https://localhost:8080/",
          "height": 1000
        }
      },
      "execution_count": 221,
      "outputs": [
        {
          "output_type": "stream",
          "name": "stdout",
          "text": [
            "classical_result : (None, None, tensor(-50.13978872, requires_grad=True)),best : {0: 1, 1: 1, 2: -1, 3: -1, 4: -1, 5: -1, 6: -1, 7: 1, 8: 1}\n"
          ]
        },
        {
          "output_type": "stream",
          "name": "stderr",
          "text": [
            "100%|██████████| 50/50 [00:43<00:00,  1.15it/s]\n"
          ]
        },
        {
          "output_type": "stream",
          "name": "stdout",
          "text": [
            "[ 23.87519773 -17.01636045  -2.81128167  24.4578509   -5.54662416\n",
            "  -7.80361635   7.06632909 -17.01636045  -7.80361635   0.21551871\n",
            " -20.98353724 -21.45639083 -17.02575082  12.25160525  -2.19704903\n",
            " -23.04131042 -17.01636045  46.59014461 -11.66286189  27.46540939\n",
            " -15.73969434  -3.87761191 -16.0740248   -0.99897074  14.46010766\n",
            " -11.02770154   5.6719305   -2.81128167  23.87519773  18.98924923\n",
            "   7.83537292   2.63557655   2.01310057   5.54242602  28.65616642\n",
            "   3.06211681  -2.01151514  27.46540939   2.77320976   2.71503876\n",
            " -15.73969434   1.85972284   0.46107569  -8.73835015  -2.19704903\n",
            "   2.03665081   5.6719305  -21.45639083 -17.78931689  -7.80361635]\n",
            "cost : -27.098478297257056\n",
            "prob : 0.02\n",
            "QAOA update : [ 0.05        0.04999993  0.05        0.05        0.05       -0.04999998\n",
            "  0.05       -0.04999997  0.          0.        ]\n",
            "QAOA param : [3.67673162 4.25894653 3.67673162 4.2589466  3.67673162 4.15894662\n",
            " 3.67673162 4.15894663 3.62673162 4.2089466 ]\n"
          ]
        },
        {
          "output_type": "stream",
          "name": "stderr",
          "text": [
            "100%|██████████| 50/50 [00:39<00:00,  1.27it/s]\n"
          ]
        },
        {
          "output_type": "stream",
          "name": "stdout",
          "text": [
            "[ -9.10242117  -0.08623478 -21.11603006   7.59721086  17.9534896\n",
            "  -6.81306979 -12.81402297  25.90343973  -3.6213438    5.01583092\n",
            "  10.22394071 -12.81402297   8.99160946  -2.91139825   2.14079908\n",
            "  -6.81306979   8.99160946  -1.33247322 -12.81402297  10.22394071\n",
            "   9.08193517 -15.09108008  -5.87833598 -13.81441397  -1.80936308\n",
            "   0.92630962  25.55883217  -3.99263038  -0.92247096 -19.05825687\n",
            "  -3.6213438    4.61349601  -3.6213438   22.9408254    1.88707959\n",
            "  13.45010264  22.9408254  -15.86403652  -3.68002697 -19.05825687\n",
            "  -1.1486845   -4.79494403  17.9006742   13.45010264   9.19303629\n",
            " -14.14874444   4.61349601 -21.11603006   8.40823083 -14.14874444]\n",
            "cost : -29.023758662174703\n",
            "prob : 0.04\n",
            "QAOA update : [-0.03502635 -0.03536501  0.02879792  0.03492822  0.02982825 -0.04008367\n",
            "  0.03383043 -0.01718584  0.          0.        ]\n",
            "QAOA param : [3.64170526 4.22358152 3.70552954 4.29387482 3.70655987 4.11886295\n",
            " 3.71056205 4.14176079 3.62673162 4.2089466 ]\n"
          ]
        },
        {
          "output_type": "stream",
          "name": "stderr",
          "text": [
            "100%|██████████| 50/50 [00:39<00:00,  1.27it/s]\n"
          ]
        },
        {
          "output_type": "stream",
          "name": "stdout",
          "text": [
            "[ 11.05702381   6.00379529   2.99172397   6.67891036 -12.08333009\n",
            "   4.4517704  -17.46569612 -13.02566574 -16.99284253 -10.56812461\n",
            "  -3.81292164   2.82725681 -13.02566574  31.45610411  11.45607517\n",
            " -13.02566574   1.15871294   9.66262521 -19.05061571   0.91672984\n",
            "  -3.69193951 -16.99284253   1.17941304   4.4517704   12.28935506\n",
            "  16.93898076 -16.99284253   7.51842604  12.01924315   2.9813676\n",
            "  -2.72952968   4.4517704  -13.02566574 -16.99284253  19.27638348\n",
            "  20.40678547   0.91672984   6.00379529  -1.92721603  -1.55592945\n",
            "   0.91672984 -16.99284253  -1.92721603   8.0514038   -1.55592945\n",
            "  14.59011792   6.67891036 -19.05061571   7.08124527  -1.92721603]\n",
            "cost : -31.0891730105679\n",
            "prob : 0.04\n",
            "QAOA update : [-0.02081416 -0.03936403  0.02313786  0.03627118 -0.01775418 -0.02154328\n",
            "  0.00656224 -0.01560806  0.          0.        ]\n",
            "QAOA param : [3.6208911  4.18421749 3.7286674  4.330146   3.68880568 4.09731967\n",
            " 3.71712429 4.12615273 3.62673162 4.2089466 ]\n"
          ]
        },
        {
          "output_type": "stream",
          "name": "stderr",
          "text": [
            "100%|██████████| 50/50 [00:40<00:00,  1.24it/s]\n"
          ]
        },
        {
          "output_type": "stream",
          "name": "stdout",
          "text": [
            "[-23.27833827  11.28779443  -7.91966207  23.39652396 -11.89988973\n",
            "  -3.08477917 -21.22056509 -17.26277867   2.53618191   5.07176489\n",
            "  -2.27904825   1.77607273   3.86530629  28.41913858   9.97689682\n",
            "  -1.46317987   0.22404784   3.86530629 -21.22056509  -2.24854299\n",
            "  12.20586563 -21.69341868   8.11426808   5.43490265 -14.79584717\n",
            "   1.77607273  -1.40046575   2.88787812  -5.84233518   8.0616325\n",
            "   8.11426808 -16.31105265   6.82930125  13.61539156  -3.97167129\n",
            "   8.43715751 -17.25338829  12.0145774  -21.69341868  25.01454362\n",
            "   2.47801091   7.92920128 -17.25338829  -1.40046575   6.24592262\n",
            "   2.82508897   1.622695     5.07176489   6.82930125  -2.43407687]\n",
            "cost : -26.861450452147828\n",
            "prob : 0.02\n",
            "QAOA update : [-0.01717656 -0.0155338  -0.00118102  0.02404118 -0.02395374 -0.03227405\n",
            " -0.00153806 -0.01214394  0.          0.        ]\n",
            "QAOA param : [3.60371455 4.16868368 3.72748638 4.35418717 3.66485194 4.06504562\n",
            " 3.71558623 4.11400879 3.62673162 4.2089466 ]\n"
          ]
        },
        {
          "output_type": "stream",
          "name": "stderr",
          "text": [
            "100%|██████████| 50/50 [00:40<00:00,  1.24it/s]\n"
          ]
        },
        {
          "output_type": "stream",
          "name": "stdout",
          "text": [
            "[-15.68700313  -5.49393295   4.15502534 -16.02133359   4.32546924\n",
            "   7.51807166   4.15502534   8.35135155 -21.40369962 -20.93084603\n",
            "  -5.49393295  11.57751349 -20.93084603  11.18183537   8.08123965\n",
            "   3.11480802 -21.40369962  -0.94627953   5.59511722  -6.66753319\n",
            " -15.68700313 -16.02133359   2.68826775 -14.50612811   8.12705888\n",
            "   7.32044714  -4.7839874   24.58690294   3.17759717   6.53564167\n",
            " -16.96366924   2.68826775   8.35135155  -2.20439587 -14.50612811\n",
            "  17.72695222 -21.40369962   9.31650624  11.18183537  -3.04622033\n",
            "   8.48409674 -17.73662568  13.59177167   4.3459554   23.68624301\n",
            "   5.59511722   4.15502534   8.12705888  -3.8249207   27.92166464]\n",
            "cost : -27.15116950489285\n",
            "prob : 0.0\n",
            "QAOA update : [ 0.00209026 -0.00631327 -0.00506036  0.01382655 -0.01195836 -0.03756231\n",
            " -0.01648622 -0.00815438  0.          0.        ]\n",
            "QAOA param : [3.60580481 4.16237041 3.72242602 4.36801372 3.65289358 4.02748331\n",
            " 3.69910001 4.1058544  3.62673162 4.2089466 ]\n"
          ]
        },
        {
          "output_type": "stream",
          "name": "stderr",
          "text": [
            "100%|██████████| 50/50 [00:39<00:00,  1.28it/s]\n"
          ]
        },
        {
          "output_type": "stream",
          "name": "stdout",
          "text": [
            "[ -9.5010933   14.58989697  27.87491236  12.83218267   3.39084972\n",
            "  -9.83542376  -8.50070229  -9.83542376  -9.5010933   14.9127864\n",
            "  -9.83542376   6.45411976  16.3195917   12.31455902 -10.77775941\n",
            "   4.19658064 -10.77775941  -2.49974911  -9.5010933   10.34093518\n",
            " -10.77775941  -8.50070229  -9.5010933    9.36350701   2.36098913\n",
            " -14.7449362  -14.7449362    2.36098913  14.31296872   3.42731937\n",
            " -14.7449362   -1.44403318  -2.49974911   3.42731937 -16.80270938\n",
            "  -9.5010933   -9.5010933    0.3206903   -2.49974911   3.98151397\n",
            "  32.21723545  -2.49974911   3.42731937   0.69197688 -10.77775941\n",
            "   8.9536398   10.34093518  20.97185543  -9.5010933  -10.77775941]\n",
            "cost : -33.3370793408914\n",
            "prob : 0.02\n",
            "QAOA update : [ 0.00677405 -0.00248019 -0.01301408  0.00187581  0.0100457  -0.04029685\n",
            " -0.02040033 -0.01503798  0.          0.        ]\n",
            "QAOA param : [3.61257886 4.15989022 3.70941193 4.36988953 3.66293928 3.98718646\n",
            " 3.67869968 4.09081643 3.62673162 4.2089466 ]\n"
          ]
        },
        {
          "output_type": "stream",
          "name": "stderr",
          "text": [
            "100%|██████████| 50/50 [00:39<00:00,  1.27it/s]\n"
          ]
        },
        {
          "output_type": "stream",
          "name": "stdout",
          "text": [
            "[ -3.20033994  13.46336114  -0.45693636  13.86814215  -1.55249617\n",
            "  20.58445178  -1.38802901  -8.07169249  -9.12740842  -0.45693636\n",
            "  13.53098344  -8.07169249  13.86814215   7.31074386  -8.07169249\n",
            "   7.68530941  11.22895643 -12.05192015 -21.37259551  -1.38802901\n",
            " -23.43036869  13.86814215  -8.89899919  -9.12740842  13.1500222\n",
            "  11.22895643   7.31074386  -1.38802901 -12.05192015  -8.07169249\n",
            "   3.22090872  15.58633557  16.11534889  -3.20033994  -8.19267462\n",
            "   2.29915738 -17.40541871 -11.41675981   6.20452336  -0.45693636\n",
            "   2.7358477   -3.22104004  -1.38802901  16.0270325    7.90960208\n",
            "  -6.30696901  -1.39838538   1.64759254 -21.37259551  -6.30696901]\n",
            "cost : -26.709420031477684\n",
            "prob : 0.02\n",
            "QAOA update : [ 0.00603576  0.00877514 -0.01969514  0.00422289  0.01148845 -0.03461789\n",
            " -0.0184339  -0.02781586  0.          0.        ]\n",
            "QAOA param : [3.61861462 4.16866536 3.68971679 4.37411242 3.67442773 3.95256856\n",
            " 3.66026578 4.06300056 3.62673162 4.2089466 ]\n"
          ]
        },
        {
          "output_type": "stream",
          "name": "stderr",
          "text": [
            "100%|██████████| 50/50 [00:38<00:00,  1.30it/s]\n"
          ]
        },
        {
          "output_type": "stream",
          "name": "stdout",
          "text": [
            "[  3.16725722  -2.31832798 -10.37538809 -12.42501064  11.03623675\n",
            "   2.29034138  -2.4393101   14.62812129 -17.67700417   2.29034138\n",
            "  11.03623675 -10.70971855 -17.67700417 -17.67700417   2.55302458\n",
            "   8.07934501  -2.31832798  -9.37499709   2.26539471   5.82538193\n",
            "   4.36533551 -11.6520542   19.53423108   2.60835686 -17.67700417\n",
            "  12.43063534   7.37740682   5.82538193  12.52096106  -6.29855564\n",
            "   1.62966281 -15.61923099  -1.35591814  -3.3740439  -11.66144457\n",
            " -12.42501064   3.10721917 -12.42501064   9.46664038   8.05252189\n",
            "  15.57823092 -10.70971855 -10.70971855  15.4452969  -11.6520542\n",
            "   8.97427324   8.13751601  12.43063534   4.36533551  13.53053537]\n",
            "cost : -32.46278454664354\n",
            "prob : 0.08\n",
            "QAOA update : [ 0.01328791  0.0111906  -0.03015441  0.00632582  0.01574972 -0.03320242\n",
            " -0.01925639 -0.00614791  0.          0.        ]\n",
            "QAOA param : [3.63190253 4.17985596 3.65956238 4.38043824 3.69017746 3.91936615\n",
            " 3.64100938 4.05685265 3.62673162 4.2089466 ]\n"
          ]
        },
        {
          "output_type": "stream",
          "name": "stderr",
          "text": [
            "100%|██████████| 50/50 [00:39<00:00,  1.27it/s]\n"
          ]
        },
        {
          "output_type": "stream",
          "name": "stdout",
          "text": [
            "[ -0.86347626  -5.85581094   0.78436751  19.62206643  -0.89994591\n",
            " -19.03573183  10.37921095 -21.09350501   2.16332413  -3.97010533\n",
            "   9.01413451   5.5577724  -19.03573183   0.94883467  17.20864259\n",
            "   3.98445622  14.19941066  -3.97010533  -6.79054474  -3.97010533\n",
            "   3.98445622  12.02879607   2.52192511  -0.89994591   3.96090599\n",
            " -12.79149792  -1.78683803  14.89609146 -15.84151148 -21.09350501\n",
            " -15.06855504  -1.12615946  -1.12615946  -9.71505648 -12.61101391\n",
            " -19.03573183  19.62206643  10.71848123 -15.06855504  12.16173008\n",
            "  17.92319925  17.92319925  -9.71505648   5.47553674  -5.73482881\n",
            "  -1.30994817  -0.88417636  27.90203166 -12.79149792   9.10446022]\n",
            "cost : -29.046283710270746\n",
            "prob : 0.04\n",
            "QAOA update : [ 0.00864813 -0.01013141 -0.02064378  0.003611    0.00936809 -0.0294872\n",
            " -0.00855702 -0.01243233  0.          0.        ]\n",
            "QAOA param : [3.64055067 4.16972455 3.6389186  4.38404924 3.69954554 3.88987895\n",
            " 3.63245237 4.04442032 3.62673162 4.2089466 ]\n"
          ]
        },
        {
          "output_type": "stream",
          "name": "stderr",
          "text": [
            "100%|██████████| 50/50 [00:38<00:00,  1.29it/s]\n"
          ]
        },
        {
          "output_type": "stream",
          "name": "stdout",
          "text": [
            "[ 1.48115527e+01  2.63942944e+00  2.14015298e+00  2.39387247e+00\n",
            "  4.89339251e+00 -1.48380067e+01  1.04770141e+01  6.28068789e+00\n",
            "  9.24468285e+00  1.40435159e+01  2.75247345e+00  1.09490296e+01\n",
            " -6.53628023e-01  2.63942944e+00 -1.88051835e+01  1.23922784e+01\n",
            " -9.48450814e+00  1.14421688e+01  9.52201725e-01 -1.88051835e+01\n",
            " -1.86952759e-02 -2.08629567e+01  9.24468285e+00  1.28141323e+01\n",
            " -1.69925816e+00 -6.55999640e+00  9.64373421e+00  1.02069022e+01\n",
            " -1.48380067e+01 -2.08629567e+01  2.63942944e+00 -5.77595636e-01\n",
            " -1.88051835e+01  2.39387247e+00 -5.62526260e+00 -6.32927918e-01\n",
            " -4.54187064e+00 -1.25609496e+01  1.00137267e+01 -5.50428047e+00\n",
            "  1.54873154e+01 -1.88051835e+01  9.64373421e+00 -9.20557788e-01\n",
            "  5.30325972e+00  3.12591219e+01 -1.48380067e+01 -5.50428047e+00\n",
            " -2.08629567e+01  9.90564152e+00]\n",
            "cost : -29.276832050762447\n",
            "prob : 0.06\n",
            "QAOA update : [ 0.01196419 -0.00017108 -0.01202715  0.0086488   0.00920086 -0.03109838\n",
            "  0.00196759 -0.01531682  0.          0.        ]\n",
            "QAOA param : [3.65251485 4.16955347 3.62689144 4.39269804 3.7087464  3.85878057\n",
            " 3.63441996 4.0291035  3.62673162 4.2089466 ]\n"
          ]
        },
        {
          "output_type": "stream",
          "name": "stderr",
          "text": [
            "100%|██████████| 50/50 [00:38<00:00,  1.29it/s]\n"
          ]
        },
        {
          "output_type": "stream",
          "name": "stdout",
          "text": [
            "[ -7.06573811  -2.01807115  -2.07340343   7.89453305  12.04138051\n",
            "  19.37195414 -20.245659    18.41213925 -22.30343218 -16.27848221\n",
            "   1.19895392  23.16366538  -5.1800325    9.08917416  -0.2610925\n",
            " -14.0014251    4.77368048 -16.27848221  -4.8674291    1.19895392\n",
            " -10.92498365  -0.27144888 -16.27848221  -6.94475599 -15.0018161\n",
            "   3.42609388 -13.82094108  12.60304039  10.95180291   9.50855406\n",
            "   9.41206359  -5.98234616  -5.98234616  15.89044347  -6.94475599\n",
            "   2.59760108  13.18077171  -5.1800325    7.33145987  -4.80874592\n",
            "  -6.94475599  29.76300498 -16.27848221  -6.94475599 -20.245659\n",
            "  14.99507866  16.76608747   3.8627842    7.80420733  -2.10987308]\n",
            "cost : -27.836356535340734\n",
            "prob : 0.02\n",
            "QAOA update : [ 0.01284323  0.00933719 -0.01000015  0.00989376 -0.00616796 -0.0285616\n",
            " -0.00221485 -0.02525089  0.          0.        ]\n",
            "QAOA param : [3.66535808 4.17889066 3.61689129 4.4025918  3.70257843 3.83021897\n",
            " 3.63220511 4.00385261 3.62673162 4.2089466 ]\n"
          ]
        },
        {
          "output_type": "stream",
          "name": "stderr",
          "text": [
            "100%|██████████| 50/50 [00:37<00:00,  1.34it/s]\n"
          ]
        },
        {
          "output_type": "stream",
          "name": "stdout",
          "text": [
            "[ 21.4782446    3.05968741  25.80619082  -0.25474284  10.0008235\n",
            " -18.13936854   0.03288703 -14.94514819  20.25957543  -1.99250991\n",
            "   6.45413569  11.19546462  11.19546462  -5.89418145   5.53238434\n",
            "   3.30524438   5.47974524  -4.95944765  -4.83846553 -20.19714173\n",
            "   0.03288703 -20.19714173  14.36899098  -1.03344321   7.90919558\n",
            "   9.32711916  10.0008235  -18.13936854  11.19546462   4.70389154\n",
            " -14.94514819 -14.18158212 -14.94514819   1.84519795 -18.13936854\n",
            "   1.68073079 -14.17219175   0.83265355   3.05968741 -18.13936854\n",
            "   1.84519795   1.84519795  16.15313037   1.84519795  -5.89418145\n",
            " -14.18158212  -8.81869319   0.08821931  14.14767097   9.32711916]\n",
            "cost : -29.942646993747754\n",
            "prob : 0.04\n",
            "QAOA update : [ 0.0002482   0.01021402 -0.00597988  0.01362482 -0.0107963  -0.0179992\n",
            " -0.00223551 -0.00706716  0.          0.        ]\n",
            "QAOA param : [3.66560629 4.18910468 3.61091141 4.41621662 3.69178214 3.81221977\n",
            " 3.6299696  3.99678545 3.62673162 4.2089466 ]\n"
          ]
        },
        {
          "output_type": "stream",
          "name": "stderr",
          "text": [
            "100%|██████████| 50/50 [00:38<00:00,  1.31it/s]\n"
          ]
        },
        {
          "output_type": "stream",
          "name": "stdout",
          "text": [
            "[ 14.91752525 -11.00253706  -7.14329152 -16.35603562  -4.17635378\n",
            "  36.29824297  29.3124958    0.59244674  24.53552256 -14.0789785\n",
            "  -6.05989956 -11.00253706  19.68590441 -13.89849449  -7.02230939\n",
            " -22.38098559 -14.0789785   -7.02230939  21.67586987  -2.43858671\n",
            "   1.12140052  -0.50311307  -2.41364004  14.1994053   -7.14329152\n",
            "  -6.05989956  -7.02230939 -14.0789785  -16.35603562  -5.25758591\n",
            " -11.00253706  -2.41364004  -7.02230939  -5.25758591 -11.00253706\n",
            "  19.68590441  12.4073503   -2.59742875  18.33458585  13.10321831\n",
            "  26.61455107 -17.12899206   9.33451019  -5.25758591   3.34854048\n",
            " -22.38098559  -6.05989956   7.25390646   1.23444453  11.9638271 ]\n",
            "cost : -27.7588031288358\n",
            "prob : 0.04\n",
            "QAOA update : [-0.01631681  0.01443805 -0.00016134  0.01111081 -0.0141685  -0.01583866\n",
            "  0.00676188 -0.02132323  0.          0.        ]\n",
            "QAOA param : [3.64928947 4.20354272 3.61075007 4.42732742 3.67761364 3.79638111\n",
            " 3.63673148 3.97546222 3.62673162 4.2089466 ]\n"
          ]
        },
        {
          "output_type": "stream",
          "name": "stderr",
          "text": [
            "100%|██████████| 50/50 [00:38<00:00,  1.30it/s]\n"
          ]
        },
        {
          "output_type": "stream",
          "name": "stdout",
          "text": [
            "[  8.55989686 -20.15334406  -3.83225804  -0.18599851  -8.77489553\n",
            "  10.04462117  -3.02994438  15.13957161 -11.85133698  -4.79466787\n",
            "   1.66181433  10.58776848  -5.85038379   1.87863924  19.30405712\n",
            "  -0.18599851   4.92461717  11.31937189  -8.77489553  11.23926228\n",
            " -14.90135053   3.10348507  -5.85038379   1.88899562 -12.85172798\n",
            "  11.56215171  19.30405712 -13.18605844   6.9237686   -3.83225804\n",
            "  -8.77489553  -1.94871225  10.15572229  -8.77489553 -14.12839409\n",
            "   9.69126434 -20.15334406   2.84976558  13.10189103   1.87863924\n",
            "   1.87863924  28.8421926   14.41278864 -14.12839409   0.04021504\n",
            " -14.90135053  -2.71734098  -2.6586578    0.07668469 -14.12839409]\n",
            "cost : -29.98644465526511\n",
            "prob : 0.04\n",
            "QAOA update : [-0.01756919  0.01749471  0.00351732  0.01251862 -0.01532658 -0.00541495\n",
            "  0.00195689 -0.01195432  0.          0.        ]\n",
            "QAOA param : [3.63172028 4.22103743 3.61426739 4.43984605 3.66228706 3.79096616\n",
            " 3.63868838 3.9635079  3.62673162 4.2089466 ]\n"
          ]
        },
        {
          "output_type": "stream",
          "name": "stderr",
          "text": [
            "100%|██████████| 50/50 [00:38<00:00,  1.29it/s]\n"
          ]
        },
        {
          "output_type": "stream",
          "name": "stdout",
          "text": [
            "[  3.07547806  -5.18921398  -4.10582202  -3.30350837   5.67651919\n",
            "  -6.12394778  -5.06823185 -13.45962243   4.65105318   3.07547806\n",
            "  15.92336405 -14.40195808  15.05729585   1.61543163   9.77105718\n",
            "  15.24760128   2.82992109   9.8821583    4.65105318  -3.30350837\n",
            " -15.17491452  -4.10582202  -6.12394778   1.61543163  -9.04845952\n",
            "  15.92336405 -12.12490096  -6.12394778  -2.93222179  -1.26320954\n",
            "   0.60288723  10.68877005  17.87523955  -2.93222179   3.18852207\n",
            "   2.82992109  -1.26320954 -20.42690805  -2.22227624 -15.17491452\n",
            "   6.22436936  -3.30350837  13.21382558  -5.06823185   4.62750295\n",
            "  12.82832704 -12.12490096   7.41152778  -5.06823185  -9.04845952]\n",
            "cost : -29.712880670696073\n",
            "prob : 0.02\n",
            "QAOA update : [-0.01819438  0.01674867 -0.00135733  0.01536467 -0.01535127 -0.00109476\n",
            "  0.00258921 -0.01777674  0.          0.        ]\n",
            "QAOA param : [3.6135259  4.23778611 3.61291005 4.45521072 3.64693578 3.78987139\n",
            " 3.64127758 3.94573116 3.62673162 4.2089466 ]\n"
          ]
        },
        {
          "output_type": "stream",
          "name": "stderr",
          "text": [
            "100%|██████████| 50/50 [00:39<00:00,  1.28it/s]\n"
          ]
        },
        {
          "output_type": "stream",
          "name": "stdout",
          "text": [
            "[  9.46812607  -3.25308266   1.65550097   1.93359302   8.2072541\n",
            "  -5.01780614  -8.36287346  -5.01780614  15.61311413   9.82148289\n",
            "  16.20390855   0.62280768  12.87875275 -14.35153237  40.13620595\n",
            "  -0.40913679  -0.14645359   0.40774101  -0.18292324  26.54002582\n",
            " -12.07447525  -2.94047925   2.8803468  -20.37648234  -6.07352207\n",
            "  -2.88179608  16.20390855   9.14777854  -0.40913679   9.82148289\n",
            "   5.78973405 -20.37648234   6.76716221 -18.31870916 -14.36092274\n",
            " -20.37648234   0.46777905 -18.31870916   6.72553717  -0.40913679\n",
            "  -0.40913679 -20.37648234  -8.99803381  -2.88179608   1.66585734\n",
            "  -6.07352207  -2.88179608  -5.01780614 -14.35153237  31.68995482]\n",
            "cost : -29.76330637993077\n",
            "prob : 0.08\n",
            "QAOA update : [-0.02044449  0.00930782 -0.00340888  0.01724312 -0.00480502  0.00697842\n",
            "  0.00372756 -0.0196458   0.          0.        ]\n",
            "QAOA param : [3.59308141 4.24709393 3.60950117 4.47245384 3.64213076 3.79684981\n",
            " 3.64500514 3.92608536 3.62673162 4.2089466 ]\n"
          ]
        },
        {
          "output_type": "stream",
          "name": "stderr",
          "text": [
            "100%|██████████| 50/50 [00:38<00:00,  1.30it/s]\n"
          ]
        },
        {
          "output_type": "stream",
          "name": "stdout",
          "text": [
            "[ -1.90675757  -4.04276763 -12.43415821 -12.09982774 -19.40144383\n",
            "  15.25788129  19.66807583   6.32808224 -12.09982774  10.7965214\n",
            "   2.64089585  -3.0803578  -17.34367064 -13.38588422  10.12281706\n",
            "  11.99116252  10.7965214    0.79211528 -17.34367064  -2.27804415\n",
            "  -8.02299529   1.44281757 -14.14945029  13.15515838   0.79211528\n",
            "  22.13488309  -4.16374975 -12.43415821   0.80788482  -5.09848356\n",
            "  13.85379127  16.94882827  -1.90675757 -17.81652424   6.32808224\n",
            "  -2.27804415 -17.34367064  29.66243264  19.66807583 -13.37649385\n",
            "  17.5599083   10.7965214    3.85538531 -12.09982774  -1.90675757\n",
            "  -5.09848356   1.59784619  -7.38783494 -12.09982774   3.60166582]\n",
            "cost : -30.738344892964047\n",
            "prob : 0.02\n",
            "QAOA update : [-0.01987285  0.01553566  0.00415001  0.02248853 -0.00731792  0.00628851\n",
            "  0.00777724 -0.00490173  0.          0.        ]\n",
            "QAOA param : [3.57320856 4.26262958 3.61365118 4.49494236 3.63481284 3.80313833\n",
            " 3.65278238 3.92118363 3.62673162 4.2089466 ]\n"
          ]
        },
        {
          "output_type": "stream",
          "name": "stderr",
          "text": [
            "100%|██████████| 50/50 [00:37<00:00,  1.33it/s]\n"
          ]
        },
        {
          "output_type": "stream",
          "name": "stdout",
          "text": [
            "[  2.11440901   3.12695341   3.12695341   7.65365548 -10.43289517\n",
            "   1.31464248  10.20188214  25.14146919  12.4245845    2.08390375\n",
            "   0.24831224 -18.91538627 -13.66339273 -13.66339273  -1.42070001\n",
            "  -1.42070001  -1.42070001  10.84336393   1.31464248   6.7615007\n",
            "  10.71950578   2.11440901 -17.33046668   2.11440901  20.54201492\n",
            "  -6.90177738 -12.89043629 -12.89043629   6.84096292 -13.66339273\n",
            "  -4.612426     6.16257496  12.47722008 -16.85761308   8.41918834\n",
            "  17.66500462  -3.67769219  20.73247313  -7.53693773  -3.55671007\n",
            " -12.89982667 -16.85761308  10.84336393   0.24831224 -11.61377018\n",
            "  -2.59430024  -1.42070001  12.80010951 -13.66339273   1.86883708]\n",
            "cost : -31.22440245262387\n",
            "prob : 0.02\n",
            "QAOA update : [-0.01160734  0.01676669  0.00018212  0.02165982 -0.0046307   0.0054997\n",
            "  0.0071586  -0.00256719  0.          0.        ]\n",
            "QAOA param : [3.56160122 4.27939627 3.6138333  4.51660218 3.63018214 3.80863803\n",
            " 3.65994098 3.91861644 3.62673162 4.2089466 ]\n"
          ]
        },
        {
          "output_type": "stream",
          "name": "stderr",
          "text": [
            "100%|██████████| 50/50 [00:38<00:00,  1.30it/s]\n"
          ]
        },
        {
          "output_type": "stream",
          "name": "stdout",
          "text": [
            "[ -0.10754311 -10.13627391   1.46554734  10.15524267   6.20022037\n",
            "  -1.91985404 -16.13432319  -1.94055414   8.04808244   2.75115047\n",
            "   1.10694635 -16.12493281   4.92722988  -1.91985404 -10.13627391\n",
            "  -7.84692252   9.24272356   9.24272356  -5.82879676  -1.94055414\n",
            "  36.97656456  -0.10754311 -16.89788926   1.46554734  12.50944233\n",
            "   1.46554734  -2.18253724 -13.8478757   -5.02648311 -16.13432319\n",
            "  -2.18253724 -20.09210961  29.27748074   2.92807844  -4.65519653\n",
            "  -6.91218872  11.1053523   -1.91985404 -20.09210961  -2.98618428\n",
            "  14.81146934   6.56335813   6.43385365  -0.10754311 -22.14988279\n",
            "   9.24272356   4.50139462  26.1429991    6.43385365 -13.66739169]\n",
            "cost : -27.98990593130533\n",
            "prob : 0.02\n",
            "QAOA update : [-0.00524734  0.01864771 -0.00039899  0.02292003 -0.00537366  0.00534093\n",
            "  0.00875779  0.00276804  0.          0.        ]\n",
            "QAOA param : [3.55635388 4.29804398 3.6134343  4.53952221 3.62480848 3.81397896\n",
            " 3.66869877 3.92138447 3.62673162 4.2089466 ]\n"
          ]
        },
        {
          "output_type": "stream",
          "name": "stderr",
          "text": [
            "100%|██████████| 50/50 [00:38<00:00,  1.30it/s]\n"
          ]
        },
        {
          "output_type": "stream",
          "name": "stdout",
          "text": [
            "[ -9.52635021   2.71063138 -14.87984877   3.99623452   2.71063138\n",
            "  -9.52635021  11.40032672 -20.90479874  -6.60183847  -5.66710467\n",
            "   9.86379945  13.26565584  -5.66710467 -14.87984877  -4.58371271\n",
            "   1.13754094  10.43517203   2.59758737  10.81069704  15.08479772\n",
            "   4.17316249   6.23884581  10.4878076   -4.58371271  -6.60183847\n",
            "  13.75452638  13.51650366  -0.61943771 -13.93751312  10.56791721\n",
            " -20.90479874  -0.71123964   8.73009331   7.80844218   0.09449127\n",
            "  -6.37342925  -8.89118986 -20.90479874 -20.90479874  20.77058758\n",
            "   2.35203039   6.17231393  -5.66710467  32.91133004  -3.78139906\n",
            "  -0.12057539  -3.41011248  -9.52635021  -1.74110023  -0.67476999]\n",
            "cost : -29.234989977763515\n",
            "prob : 0.08\n",
            "QAOA update : [-0.00635034  0.01757357  0.00458638  0.02047139 -0.00164144  0.00892795\n",
            "  0.00763189  0.00872344  0.          0.        ]\n",
            "QAOA param : [3.55000354 4.31561755 3.61802068 4.5599936  3.62316705 3.8229069\n",
            " 3.67633066 3.93010791 3.62673162 4.2089466 ]\n"
          ]
        },
        {
          "output_type": "stream",
          "name": "stderr",
          "text": [
            "100%|██████████| 50/50 [00:38<00:00,  1.30it/s]\n"
          ]
        },
        {
          "output_type": "stream",
          "name": "stdout",
          "text": [
            "[  2.39808114 -11.16176744  18.65788907 -13.61930856   6.52195785\n",
            "   6.11209064  -3.32317251  -2.52085886  -2.14957228   7.49938602\n",
            "   3.97117159   5.43370269 -13.61930856   1.35503148 -11.34225145\n",
            "   2.38772477  -7.63064966 -12.67697292  15.94055646   6.17026164\n",
            "  -3.32317251  -7.63064966 -19.64425854   0.58577021   7.49938602\n",
            "   1.35503148  24.20147343 -17.58648536  -0.48056003  24.41259692\n",
            "   7.69031607  -5.34129827  -0.48056003   6.11209064  32.85848598\n",
            " -12.34264245  -8.26581     -7.63064966 -13.62869894  14.52619604\n",
            "  -0.33759156  -5.34129827  18.65788907  -2.20825545  10.46338098\n",
            " -19.64425854  -8.26581     -3.32317251 -12.67697292   1.38553674]\n",
            "cost : -30.495530181404884\n",
            "prob : 0.04\n",
            "QAOA update : [-0.00322041  0.0213231   0.0072921   0.02209441 -0.00082265  0.00662594\n",
            "  0.00691472  0.00839051  0.          0.        ]\n",
            "QAOA param : [3.54678313 4.33694064 3.62531278 4.58208801 3.6223444  3.82953284\n",
            " 3.68324538 3.93849842 3.62673162 4.2089466 ]\n"
          ]
        },
        {
          "output_type": "stream",
          "name": "stderr",
          "text": [
            "100%|██████████| 50/50 [00:38<00:00,  1.30it/s]\n"
          ]
        },
        {
          "output_type": "stream",
          "name": "stdout",
          "text": [
            "[ 15.1868472   27.83211177   3.8909861   -0.93339615  -1.99972639\n",
            "   2.45200523  -0.93339615   8.68118351  -4.04002522  -5.8047487\n",
            "  -4.84233887 -14.19613928 -12.6809338   26.12672643   5.48785252\n",
            " -19.57850531  -9.78497636 -19.57850531  15.79792723 -15.91143136\n",
            "  -4.04002522 -21.1634249    4.56610117  -3.66873864  -1.99972639\n",
            "  10.22918145  -5.8047487   15.1868472    9.57768765   5.98021966\n",
            "   9.90643397 -19.10565171 -19.10565171   3.8909861   -4.84233887\n",
            "   1.83968475 -21.1634249   14.320779     7.42031154  13.00702968\n",
            " -13.86180881  13.25787751  -4.84233887  -5.8047487   -4.04002522\n",
            "  -0.87806386  12.09181019  15.1868472   -0.37920155  -0.93339615]\n",
            "cost : -28.97636382269517\n",
            "prob : 0.04\n",
            "QAOA update : [0.00154908 0.02014025 0.01088647 0.02257896 0.00258068 0.00564344\n",
            " 0.00386987 0.00934035 0.         0.        ]\n",
            "QAOA param : [3.54833221 4.35708089 3.63619925 4.60466696 3.62492508 3.83517628\n",
            " 3.68711526 3.94783877 3.62673162 4.2089466 ]\n"
          ]
        },
        {
          "output_type": "stream",
          "name": "stderr",
          "text": [
            "100%|██████████| 50/50 [00:38<00:00,  1.31it/s]\n"
          ]
        },
        {
          "output_type": "stream",
          "name": "stdout",
          "text": [
            "[ -2.10720436   3.48716192  -7.11091107  -7.11091107  -1.44652579\n",
            "  -9.40026246   0.62846834 -14.11225526  11.84136375   7.29936958\n",
            "  -7.11091107 -19.35609816   2.20155878   5.90021711   1.55956099\n",
            " -19.35609816 -15.38892137  -6.88250185  -0.41458133  -3.97786825\n",
            "  20.26151498 -16.16187781  -2.10720436  14.93640076  -3.97786825\n",
            "   0.62846834 -14.11225526  -3.91918508  -0.56960995  -2.25017283\n",
            " -15.39831174  20.65301866  22.483779    -3.91918508  -4.29047166\n",
            "  15.16651955 -12.93138024   2.20155878   7.1698651   16.464688\n",
            "   9.70180675 -21.41387134  13.24545378   5.92070327   8.22102071\n",
            "   7.70339706  -1.22031224  10.3981149   12.26321761  -4.29047166]\n",
            "cost : -28.725917377451932\n",
            "prob : 0.02\n",
            "QAOA update : [ 0.00533581  0.01896907  0.01196538  0.01917313  0.00811958  0.00386995\n",
            " -0.00032335  0.00785052  0.          0.        ]\n",
            "QAOA param : [3.55366802 4.37604996 3.64816463 4.6238401  3.63304466 3.83904623\n",
            " 3.68679191 3.95568929 3.62673162 4.2089466 ]\n"
          ]
        },
        {
          "output_type": "stream",
          "name": "stderr",
          "text": [
            "100%|██████████| 50/50 [00:37<00:00,  1.32it/s]\n"
          ]
        },
        {
          "output_type": "stream",
          "name": "stdout",
          "text": [
            "[  1.02666622   9.22328174 -16.0314156   -4.96232311   9.22328174\n",
            "  -3.07877732 -14.31612352  12.88704544   0.75893054   2.33202099\n",
            "  -3.78872288   8.82423038   0.74857417  -4.96232311  -9.9049606\n",
            "   7.42983178   9.92413041 -19.22563595   2.33202099  -1.05338039\n",
            "  -1.31606358  -9.26980025   1.97342     15.06686296  35.49198534\n",
            " -19.22563595  22.77344632  -1.34101026  17.78611052 -13.98179305\n",
            "  -6.04571506  17.69331702   1.71970051  -6.04571506 -19.22563595\n",
            " -16.0314156    1.69002319  24.71992341  -4.96232311 -21.28340914\n",
            "  -9.26980025   1.97342     -3.84740605  22.56232283   8.82423038\n",
            "   0.59446338  -6.04571506 -21.28340914  -9.9049606    8.82423038]\n",
            "cost : -28.85637958236449\n",
            "prob : 0.04\n",
            "QAOA update : [0.00961482 0.02077373 0.01029047 0.01863098 0.01375515 0.00461256\n",
            " 0.00196489 0.00654907 0.         0.        ]\n",
            "QAOA param : [3.56328284 4.39682369 3.65845511 4.64247108 3.64679981 3.84365879\n",
            " 3.68875681 3.96223836 3.62673162 4.2089466 ]\n"
          ]
        },
        {
          "output_type": "stream",
          "name": "stderr",
          "text": [
            "100%|██████████| 50/50 [00:37<00:00,  1.32it/s]\n"
          ]
        },
        {
          "output_type": "stream",
          "name": "stdout",
          "text": [
            "[ 24.01405612   7.62288167   0.0689405   12.1614463   -0.11659338\n",
            "  -6.6578945    7.62288167   0.0689405   -0.73082602 -12.47836367\n",
            " -13.99356915 -15.70886124 -12.47836367 -15.70886124  -0.99350922\n",
            "  -6.6578945    9.14678474  -8.94724589   4.79549441  -3.46616851\n",
            "  11.34427069  -5.7231607   12.29438032   9.78025777   1.07112853\n",
            "   9.14678474  -6.42948528  16.81371003   9.14678474  -6.42948528\n",
            "  -2.75622296   4.79549441  20.71453155 -13.99356915   1.34922059\n",
            "  -5.60217858  20.71453155  -8.94724589  -0.99350922   1.08148491\n",
            " -14.94529517  22.88487719  -5.60217858   2.29597436 -13.99356915\n",
            "   0.0689405   -0.73082602  -6.6578945   -5.60217858 -12.65884769]\n",
            "cost : -29.178933945449554\n",
            "prob : 0.0\n",
            "QAOA update : [1.13526370e-02 2.02067124e-02 1.02270399e-02 1.57161868e-02\n",
            " 1.56407570e-02 4.79622543e-03 1.45686424e-05 4.14944260e-03\n",
            " 0.00000000e+00 0.00000000e+00]\n",
            "QAOA param : [3.57463548 4.4170304  3.66868215 4.65818726 3.66244057 3.84845502\n",
            " 3.68877137 3.9663878  3.62673162 4.2089466 ]\n"
          ]
        },
        {
          "output_type": "stream",
          "name": "stderr",
          "text": [
            " 10%|█         | 5/50 [00:04<00:43,  1.03it/s]\n"
          ]
        },
        {
          "output_type": "error",
          "ename": "KeyboardInterrupt",
          "evalue": "",
          "traceback": [
            "\u001b[0;31m---------------------------------------------------------------------------\u001b[0m",
            "\u001b[0;31mKeyboardInterrupt\u001b[0m                         Traceback (most recent call last)",
            "\u001b[0;32m<ipython-input-221-2f87c0f447ca>\u001b[0m in \u001b[0;36m<cell line: 0>\u001b[0;34m()\u001b[0m\n\u001b[1;32m     15\u001b[0m \u001b[0;34m\u001b[0m\u001b[0m\n\u001b[1;32m     16\u001b[0m \u001b[0;31m# Execute RQAOA\u001b[0m\u001b[0;34m\u001b[0m\u001b[0;34m\u001b[0m\u001b[0m\n\u001b[0;32m---> 17\u001b[0;31m \u001b[0mfinal_config\u001b[0m \u001b[0;34m=\u001b[0m \u001b[0mrl_qaoa\u001b[0m\u001b[0;34m.\u001b[0m\u001b[0mRL_QAOA\u001b[0m\u001b[0;34m(\u001b[0m\u001b[0mepisodes\u001b[0m\u001b[0;34m=\u001b[0m\u001b[0;36m50\u001b[0m\u001b[0;34m,\u001b[0m\u001b[0mepochs\u001b[0m\u001b[0;34m=\u001b[0m\u001b[0;36m60\u001b[0m\u001b[0;34m,\u001b[0m\u001b[0mcorrec_ans\u001b[0m\u001b[0;34m=\u001b[0m\u001b[0mfloat\u001b[0m\u001b[0;34m(\u001b[0m\u001b[0mfinal_config\u001b[0m\u001b[0;34m[\u001b[0m\u001b[0;36m2\u001b[0m\u001b[0;34m]\u001b[0m\u001b[0;34m)\u001b[0m\u001b[0;34m)\u001b[0m\u001b[0;34m\u001b[0m\u001b[0;34m\u001b[0m\u001b[0m\n\u001b[0m",
            "\u001b[0;32m<ipython-input-218-1fae60981c6c>\u001b[0m in \u001b[0;36mRL_QAOA\u001b[0;34m(self, episodes, epochs, correc_ans)\u001b[0m\n\u001b[1;32m    203\u001b[0m \u001b[0;34m\u001b[0m\u001b[0m\n\u001b[1;32m    204\u001b[0m           \u001b[0;32mfor\u001b[0m \u001b[0mi\u001b[0m \u001b[0;32min\u001b[0m \u001b[0mtqdm\u001b[0m\u001b[0;34m(\u001b[0m\u001b[0mrange\u001b[0m\u001b[0;34m(\u001b[0m\u001b[0mepisodes\u001b[0m\u001b[0;34m)\u001b[0m\u001b[0;34m)\u001b[0m\u001b[0;34m:\u001b[0m\u001b[0;34m\u001b[0m\u001b[0;34m\u001b[0m\u001b[0m\n\u001b[0;32m--> 205\u001b[0;31m             \u001b[0mQAOA_diff\u001b[0m\u001b[0;34m,\u001b[0m\u001b[0mbeta_diff\u001b[0m\u001b[0;34m,\u001b[0m\u001b[0mvalue\u001b[0m \u001b[0;34m=\u001b[0m \u001b[0mself\u001b[0m\u001b[0;34m.\u001b[0m\u001b[0mrqaoa_execute\u001b[0m\u001b[0;34m(\u001b[0m\u001b[0;34m)\u001b[0m\u001b[0;34m\u001b[0m\u001b[0;34m\u001b[0m\u001b[0m\n\u001b[0m\u001b[1;32m    206\u001b[0m             \u001b[0mvalue_list\u001b[0m\u001b[0;34m.\u001b[0m\u001b[0mappend\u001b[0m\u001b[0;34m(\u001b[0m\u001b[0mvalue\u001b[0m\u001b[0;34m)\u001b[0m\u001b[0;34m\u001b[0m\u001b[0;34m\u001b[0m\u001b[0m\n\u001b[1;32m    207\u001b[0m             \u001b[0mQAOA_diff_list\u001b[0m\u001b[0;34m.\u001b[0m\u001b[0mappend\u001b[0m\u001b[0;34m(\u001b[0m\u001b[0mQAOA_diff\u001b[0m\u001b[0;34m)\u001b[0m\u001b[0;34m\u001b[0m\u001b[0;34m\u001b[0m\u001b[0m\n",
            "\u001b[0;32m<ipython-input-218-1fae60981c6c>\u001b[0m in \u001b[0;36mrqaoa_execute\u001b[0;34m(self, cal_grad)\u001b[0m\n\u001b[1;32m    255\u001b[0m         \u001b[0;32mwhile\u001b[0m \u001b[0mQ_init\u001b[0m\u001b[0;34m.\u001b[0m\u001b[0mshape\u001b[0m\u001b[0;34m[\u001b[0m\u001b[0;36m0\u001b[0m\u001b[0;34m]\u001b[0m \u001b[0;34m>\u001b[0m \u001b[0mself\u001b[0m\u001b[0;34m.\u001b[0m\u001b[0mn_c\u001b[0m\u001b[0;34m:\u001b[0m\u001b[0;34m\u001b[0m\u001b[0;34m\u001b[0m\u001b[0m\n\u001b[1;32m    256\u001b[0m             \u001b[0;31m# Select and cut an edge,cal grad\u001b[0m\u001b[0;34m\u001b[0m\u001b[0;34m\u001b[0m\u001b[0m\n\u001b[0;32m--> 257\u001b[0;31m             \u001b[0medge_expectations\u001b[0m \u001b[0;34m=\u001b[0m \u001b[0mself\u001b[0m\u001b[0;34m.\u001b[0m\u001b[0m_qaoa_edge_expectations\u001b[0m\u001b[0;34m(\u001b[0m\u001b[0mQ_init\u001b[0m\u001b[0;34m,\u001b[0m\u001b[0;34m[\u001b[0m\u001b[0mi\u001b[0m \u001b[0;32mfor\u001b[0m \u001b[0mi\u001b[0m \u001b[0;32min\u001b[0m \u001b[0mrange\u001b[0m\u001b[0;34m(\u001b[0m\u001b[0mself\u001b[0m\u001b[0;34m.\u001b[0m\u001b[0mp\u001b[0m\u001b[0;34m*\u001b[0m\u001b[0mindex\u001b[0m\u001b[0;34m*\u001b[0m\u001b[0;36m2\u001b[0m\u001b[0;34m,\u001b[0m\u001b[0mself\u001b[0m\u001b[0;34m.\u001b[0m\u001b[0mp\u001b[0m\u001b[0;34m*\u001b[0m\u001b[0mindex\u001b[0m\u001b[0;34m*\u001b[0m\u001b[0;36m2\u001b[0m\u001b[0;34m+\u001b[0m\u001b[0;36m2\u001b[0m\u001b[0;34m*\u001b[0m\u001b[0mself\u001b[0m\u001b[0;34m.\u001b[0m\u001b[0mp\u001b[0m\u001b[0;34m)\u001b[0m\u001b[0;34m]\u001b[0m\u001b[0;34m)\u001b[0m\u001b[0;34m\u001b[0m\u001b[0;34m\u001b[0m\u001b[0m\n\u001b[0m\u001b[1;32m    258\u001b[0m             \u001b[0mselected_edge_idx\u001b[0m\u001b[0;34m,\u001b[0m \u001b[0mpolicy\u001b[0m\u001b[0;34m,\u001b[0m \u001b[0medge_res\u001b[0m \u001b[0;34m=\u001b[0m \u001b[0mself\u001b[0m\u001b[0;34m.\u001b[0m\u001b[0m_select_edge_to_cut\u001b[0m\u001b[0;34m(\u001b[0m\u001b[0mQ_action\u001b[0m\u001b[0;34m,\u001b[0m\u001b[0mQ_init\u001b[0m\u001b[0;34m,\u001b[0m\u001b[0medge_expectations\u001b[0m\u001b[0;34m)\u001b[0m\u001b[0;34m\u001b[0m\u001b[0;34m\u001b[0m\u001b[0m\n\u001b[1;32m    259\u001b[0m             \u001b[0;32mif\u001b[0m \u001b[0mcal_grad\u001b[0m\u001b[0;34m:\u001b[0m\u001b[0;34m\u001b[0m\u001b[0;34m\u001b[0m\u001b[0m\n",
            "\u001b[0;32m<ipython-input-218-1fae60981c6c>\u001b[0m in \u001b[0;36m_qaoa_edge_expectations\u001b[0;34m(self, Q, idx)\u001b[0m\n\u001b[1;32m    476\u001b[0m             \u001b[0mself\u001b[0m\u001b[0;34m.\u001b[0m\u001b[0mqaoa_layer\u001b[0m\u001b[0;34m.\u001b[0m\u001b[0mqaoa_circuit\u001b[0m\u001b[0;34m(\u001b[0m\u001b[0mparam\u001b[0m\u001b[0;34m)\u001b[0m\u001b[0;34m\u001b[0m\u001b[0;34m\u001b[0m\u001b[0m\n\u001b[1;32m    477\u001b[0m             \u001b[0;32mreturn\u001b[0m \u001b[0;34m[\u001b[0m\u001b[0mqml\u001b[0m\u001b[0;34m.\u001b[0m\u001b[0mexpval\u001b[0m\u001b[0;34m(\u001b[0m\u001b[0mqml\u001b[0m\u001b[0;34m.\u001b[0m\u001b[0mPauliZ\u001b[0m\u001b[0;34m(\u001b[0m\u001b[0mi\u001b[0m\u001b[0;34m)\u001b[0m \u001b[0;34m@\u001b[0m \u001b[0mqml\u001b[0m\u001b[0;34m.\u001b[0m\u001b[0mPauliZ\u001b[0m\u001b[0;34m(\u001b[0m\u001b[0mj\u001b[0m\u001b[0;34m)\u001b[0m\u001b[0;34m)\u001b[0m \u001b[0;32mfor\u001b[0m \u001b[0mi\u001b[0m \u001b[0;32min\u001b[0m \u001b[0mrange\u001b[0m\u001b[0;34m(\u001b[0m\u001b[0mQ\u001b[0m\u001b[0;34m.\u001b[0m\u001b[0mshape\u001b[0m\u001b[0;34m[\u001b[0m\u001b[0;36m0\u001b[0m\u001b[0;34m]\u001b[0m\u001b[0;34m)\u001b[0m \u001b[0;32mfor\u001b[0m \u001b[0mj\u001b[0m \u001b[0;32min\u001b[0m \u001b[0mrange\u001b[0m\u001b[0;34m(\u001b[0m\u001b[0mQ\u001b[0m\u001b[0;34m.\u001b[0m\u001b[0mshape\u001b[0m\u001b[0;34m[\u001b[0m\u001b[0;36m0\u001b[0m\u001b[0;34m]\u001b[0m\u001b[0;34m)\u001b[0m \u001b[0;32mif\u001b[0m \u001b[0mQ\u001b[0m\u001b[0;34m[\u001b[0m\u001b[0mi\u001b[0m\u001b[0;34m,\u001b[0m \u001b[0mj\u001b[0m\u001b[0;34m]\u001b[0m \u001b[0;34m!=\u001b[0m \u001b[0;36m0\u001b[0m \u001b[0;32mand\u001b[0m \u001b[0mi\u001b[0m\u001b[0;34m!=\u001b[0m\u001b[0mj\u001b[0m\u001b[0;34m]\u001b[0m\u001b[0;34m\u001b[0m\u001b[0;34m\u001b[0m\u001b[0m\n\u001b[0;32m--> 478\u001b[0;31m         \u001b[0;32mreturn\u001b[0m \u001b[0mcircuit\u001b[0m\u001b[0;34m(\u001b[0m\u001b[0mself\u001b[0m\u001b[0;34m.\u001b[0m\u001b[0mparam\u001b[0m\u001b[0;34m[\u001b[0m\u001b[0midx\u001b[0m\u001b[0;34m]\u001b[0m\u001b[0;34m)\u001b[0m\u001b[0;34m\u001b[0m\u001b[0;34m\u001b[0m\u001b[0m\n\u001b[0m\u001b[1;32m    479\u001b[0m \u001b[0;34m\u001b[0m\u001b[0m\n\u001b[1;32m    480\u001b[0m     \u001b[0;32mdef\u001b[0m \u001b[0m_qaoa_edge_expectations_gradients\u001b[0m\u001b[0;34m(\u001b[0m\u001b[0mself\u001b[0m\u001b[0;34m,\u001b[0m \u001b[0mQ\u001b[0m\u001b[0;34m,\u001b[0m\u001b[0midx\u001b[0m\u001b[0;34m)\u001b[0m\u001b[0;34m:\u001b[0m\u001b[0;34m\u001b[0m\u001b[0;34m\u001b[0m\u001b[0m\n",
            "\u001b[0;32m/usr/local/lib/python3.11/dist-packages/pennylane/workflow/qnode.py\u001b[0m in \u001b[0;36m__call__\u001b[0;34m(self, *args, **kwargs)\u001b[0m\n\u001b[1;32m    903\u001b[0m         \u001b[0;32mif\u001b[0m \u001b[0mqml\u001b[0m\u001b[0;34m.\u001b[0m\u001b[0mcapture\u001b[0m\u001b[0;34m.\u001b[0m\u001b[0menabled\u001b[0m\u001b[0;34m(\u001b[0m\u001b[0;34m)\u001b[0m\u001b[0;34m:\u001b[0m\u001b[0;34m\u001b[0m\u001b[0;34m\u001b[0m\u001b[0m\n\u001b[1;32m    904\u001b[0m             \u001b[0;32mreturn\u001b[0m \u001b[0mcapture_qnode\u001b[0m\u001b[0;34m(\u001b[0m\u001b[0mself\u001b[0m\u001b[0;34m,\u001b[0m \u001b[0;34m*\u001b[0m\u001b[0margs\u001b[0m\u001b[0;34m,\u001b[0m \u001b[0;34m**\u001b[0m\u001b[0mkwargs\u001b[0m\u001b[0;34m)\u001b[0m\u001b[0;34m\u001b[0m\u001b[0;34m\u001b[0m\u001b[0m\n\u001b[0;32m--> 905\u001b[0;31m         \u001b[0;32mreturn\u001b[0m \u001b[0mself\u001b[0m\u001b[0;34m.\u001b[0m\u001b[0m_impl_call\u001b[0m\u001b[0;34m(\u001b[0m\u001b[0;34m*\u001b[0m\u001b[0margs\u001b[0m\u001b[0;34m,\u001b[0m \u001b[0;34m**\u001b[0m\u001b[0mkwargs\u001b[0m\u001b[0;34m)\u001b[0m\u001b[0;34m\u001b[0m\u001b[0;34m\u001b[0m\u001b[0m\n\u001b[0m\u001b[1;32m    906\u001b[0m \u001b[0;34m\u001b[0m\u001b[0m\n\u001b[1;32m    907\u001b[0m \u001b[0;34m\u001b[0m\u001b[0m\n",
            "\u001b[0;32m/usr/local/lib/python3.11/dist-packages/pennylane/workflow/qnode.py\u001b[0m in \u001b[0;36m_impl_call\u001b[0;34m(self, *args, **kwargs)\u001b[0m\n\u001b[1;32m    879\u001b[0m         \u001b[0mself\u001b[0m\u001b[0;34m.\u001b[0m\u001b[0m_transform_program\u001b[0m\u001b[0;34m.\u001b[0m\u001b[0mset_classical_component\u001b[0m\u001b[0;34m(\u001b[0m\u001b[0mself\u001b[0m\u001b[0;34m,\u001b[0m \u001b[0margs\u001b[0m\u001b[0;34m,\u001b[0m \u001b[0mkwargs\u001b[0m\u001b[0;34m)\u001b[0m\u001b[0;34m\u001b[0m\u001b[0;34m\u001b[0m\u001b[0m\n\u001b[1;32m    880\u001b[0m \u001b[0;34m\u001b[0m\u001b[0m\n\u001b[0;32m--> 881\u001b[0;31m         res = qml.execute(\n\u001b[0m\u001b[1;32m    882\u001b[0m             \u001b[0;34m(\u001b[0m\u001b[0mtape\u001b[0m\u001b[0;34m,\u001b[0m\u001b[0;34m)\u001b[0m\u001b[0;34m,\u001b[0m\u001b[0;34m\u001b[0m\u001b[0;34m\u001b[0m\u001b[0m\n\u001b[1;32m    883\u001b[0m             \u001b[0mdevice\u001b[0m\u001b[0;34m=\u001b[0m\u001b[0mself\u001b[0m\u001b[0;34m.\u001b[0m\u001b[0mdevice\u001b[0m\u001b[0;34m,\u001b[0m\u001b[0;34m\u001b[0m\u001b[0;34m\u001b[0m\u001b[0m\n",
            "\u001b[0;32m/usr/local/lib/python3.11/dist-packages/pennylane/workflow/execution.py\u001b[0m in \u001b[0;36mexecute\u001b[0;34m(tapes, device, diff_method, interface, transform_program, inner_transform, config, grad_on_execution, gradient_kwargs, cache, cachesize, max_diff, device_vjp, mcm_config, gradient_fn)\u001b[0m\n\u001b[1;32m    230\u001b[0m         \u001b[0;32mreturn\u001b[0m \u001b[0mpost_processing\u001b[0m\u001b[0;34m(\u001b[0m\u001b[0mtapes\u001b[0m\u001b[0;34m)\u001b[0m\u001b[0;34m\u001b[0m\u001b[0;34m\u001b[0m\u001b[0m\n\u001b[1;32m    231\u001b[0m \u001b[0;34m\u001b[0m\u001b[0m\n\u001b[0;32m--> 232\u001b[0;31m     \u001b[0mresults\u001b[0m \u001b[0;34m=\u001b[0m \u001b[0mrun\u001b[0m\u001b[0;34m(\u001b[0m\u001b[0mtapes\u001b[0m\u001b[0;34m,\u001b[0m \u001b[0mdevice\u001b[0m\u001b[0;34m,\u001b[0m \u001b[0mconfig\u001b[0m\u001b[0;34m,\u001b[0m \u001b[0minner_transform\u001b[0m\u001b[0;34m)\u001b[0m\u001b[0;34m\u001b[0m\u001b[0;34m\u001b[0m\u001b[0m\n\u001b[0m\u001b[1;32m    233\u001b[0m     \u001b[0;32mreturn\u001b[0m \u001b[0mpost_processing\u001b[0m\u001b[0;34m(\u001b[0m\u001b[0mresults\u001b[0m\u001b[0;34m)\u001b[0m\u001b[0;34m\u001b[0m\u001b[0;34m\u001b[0m\u001b[0m\n",
            "\u001b[0;32m/usr/local/lib/python3.11/dist-packages/pennylane/workflow/run.py\u001b[0m in \u001b[0;36mrun\u001b[0;34m(tapes, device, config, inner_transform_program)\u001b[0m\n\u001b[1;32m    285\u001b[0m     )\n\u001b[1;32m    286\u001b[0m     \u001b[0;32mif\u001b[0m \u001b[0mno_interface_boundary_required\u001b[0m\u001b[0;34m:\u001b[0m\u001b[0;34m\u001b[0m\u001b[0;34m\u001b[0m\u001b[0m\n\u001b[0;32m--> 287\u001b[0;31m         \u001b[0mresults\u001b[0m \u001b[0;34m=\u001b[0m \u001b[0minner_execute\u001b[0m\u001b[0;34m(\u001b[0m\u001b[0mtapes\u001b[0m\u001b[0;34m)\u001b[0m\u001b[0;34m\u001b[0m\u001b[0;34m\u001b[0m\u001b[0m\n\u001b[0m\u001b[1;32m    288\u001b[0m         \u001b[0;32mreturn\u001b[0m \u001b[0mresults\u001b[0m\u001b[0;34m\u001b[0m\u001b[0;34m\u001b[0m\u001b[0m\n\u001b[1;32m    289\u001b[0m \u001b[0;34m\u001b[0m\u001b[0m\n",
            "\u001b[0;32m/usr/local/lib/python3.11/dist-packages/pennylane/workflow/run.py\u001b[0m in \u001b[0;36minner_execute\u001b[0;34m(tapes)\u001b[0m\n\u001b[1;32m    245\u001b[0m \u001b[0;34m\u001b[0m\u001b[0m\n\u001b[1;32m    246\u001b[0m         \u001b[0;32mif\u001b[0m \u001b[0mtransformed_tapes\u001b[0m\u001b[0;34m:\u001b[0m\u001b[0;34m\u001b[0m\u001b[0;34m\u001b[0m\u001b[0m\n\u001b[0;32m--> 247\u001b[0;31m             \u001b[0mresults\u001b[0m \u001b[0;34m=\u001b[0m \u001b[0mdevice\u001b[0m\u001b[0;34m.\u001b[0m\u001b[0mexecute\u001b[0m\u001b[0;34m(\u001b[0m\u001b[0mtransformed_tapes\u001b[0m\u001b[0;34m,\u001b[0m \u001b[0mexecution_config\u001b[0m\u001b[0;34m=\u001b[0m\u001b[0mexecution_config\u001b[0m\u001b[0;34m)\u001b[0m\u001b[0;34m\u001b[0m\u001b[0;34m\u001b[0m\u001b[0m\n\u001b[0m\u001b[1;32m    248\u001b[0m         \u001b[0;32melse\u001b[0m\u001b[0;34m:\u001b[0m\u001b[0;34m\u001b[0m\u001b[0;34m\u001b[0m\u001b[0m\n\u001b[1;32m    249\u001b[0m             \u001b[0mresults\u001b[0m \u001b[0;34m=\u001b[0m \u001b[0;34m(\u001b[0m\u001b[0;34m)\u001b[0m\u001b[0;34m\u001b[0m\u001b[0;34m\u001b[0m\u001b[0m\n",
            "\u001b[0;32m/usr/local/lib/python3.11/dist-packages/pennylane/devices/modifiers/simulator_tracking.py\u001b[0m in \u001b[0;36mexecute\u001b[0;34m(self, circuits, execution_config)\u001b[0m\n\u001b[1;32m     28\u001b[0m     \u001b[0;34m@\u001b[0m\u001b[0mwraps\u001b[0m\u001b[0;34m(\u001b[0m\u001b[0muntracked_execute\u001b[0m\u001b[0;34m)\u001b[0m\u001b[0;34m\u001b[0m\u001b[0;34m\u001b[0m\u001b[0m\n\u001b[1;32m     29\u001b[0m     \u001b[0;32mdef\u001b[0m \u001b[0mexecute\u001b[0m\u001b[0;34m(\u001b[0m\u001b[0mself\u001b[0m\u001b[0;34m,\u001b[0m \u001b[0mcircuits\u001b[0m\u001b[0;34m,\u001b[0m \u001b[0mexecution_config\u001b[0m\u001b[0;34m=\u001b[0m\u001b[0mDefaultExecutionConfig\u001b[0m\u001b[0;34m)\u001b[0m\u001b[0;34m:\u001b[0m\u001b[0;34m\u001b[0m\u001b[0;34m\u001b[0m\u001b[0m\n\u001b[0;32m---> 30\u001b[0;31m         \u001b[0mresults\u001b[0m \u001b[0;34m=\u001b[0m \u001b[0muntracked_execute\u001b[0m\u001b[0;34m(\u001b[0m\u001b[0mself\u001b[0m\u001b[0;34m,\u001b[0m \u001b[0mcircuits\u001b[0m\u001b[0;34m,\u001b[0m \u001b[0mexecution_config\u001b[0m\u001b[0;34m)\u001b[0m\u001b[0;34m\u001b[0m\u001b[0;34m\u001b[0m\u001b[0m\n\u001b[0m\u001b[1;32m     31\u001b[0m         \u001b[0;32mif\u001b[0m \u001b[0misinstance\u001b[0m\u001b[0;34m(\u001b[0m\u001b[0mcircuits\u001b[0m\u001b[0;34m,\u001b[0m \u001b[0mQuantumScript\u001b[0m\u001b[0;34m)\u001b[0m\u001b[0;34m:\u001b[0m\u001b[0;34m\u001b[0m\u001b[0;34m\u001b[0m\u001b[0m\n\u001b[1;32m     32\u001b[0m             \u001b[0mbatch\u001b[0m \u001b[0;34m=\u001b[0m \u001b[0;34m(\u001b[0m\u001b[0mcircuits\u001b[0m\u001b[0;34m,\u001b[0m\u001b[0;34m)\u001b[0m\u001b[0;34m\u001b[0m\u001b[0;34m\u001b[0m\u001b[0m\n",
            "\u001b[0;32m/usr/local/lib/python3.11/dist-packages/pennylane/devices/modifiers/single_tape_support.py\u001b[0m in \u001b[0;36mexecute\u001b[0;34m(self, circuits, execution_config)\u001b[0m\n\u001b[1;32m     30\u001b[0m             \u001b[0mis_single_circuit\u001b[0m \u001b[0;34m=\u001b[0m \u001b[0;32mTrue\u001b[0m\u001b[0;34m\u001b[0m\u001b[0;34m\u001b[0m\u001b[0m\n\u001b[1;32m     31\u001b[0m             \u001b[0mcircuits\u001b[0m \u001b[0;34m=\u001b[0m \u001b[0;34m(\u001b[0m\u001b[0mcircuits\u001b[0m\u001b[0;34m,\u001b[0m\u001b[0;34m)\u001b[0m\u001b[0;34m\u001b[0m\u001b[0;34m\u001b[0m\u001b[0m\n\u001b[0;32m---> 32\u001b[0;31m         \u001b[0mresults\u001b[0m \u001b[0;34m=\u001b[0m \u001b[0mbatch_execute\u001b[0m\u001b[0;34m(\u001b[0m\u001b[0mself\u001b[0m\u001b[0;34m,\u001b[0m \u001b[0mcircuits\u001b[0m\u001b[0;34m,\u001b[0m \u001b[0mexecution_config\u001b[0m\u001b[0;34m)\u001b[0m\u001b[0;34m\u001b[0m\u001b[0;34m\u001b[0m\u001b[0m\n\u001b[0m\u001b[1;32m     33\u001b[0m         \u001b[0;32mreturn\u001b[0m \u001b[0mresults\u001b[0m\u001b[0;34m[\u001b[0m\u001b[0;36m0\u001b[0m\u001b[0;34m]\u001b[0m \u001b[0;32mif\u001b[0m \u001b[0mis_single_circuit\u001b[0m \u001b[0;32melse\u001b[0m \u001b[0mresults\u001b[0m\u001b[0;34m\u001b[0m\u001b[0;34m\u001b[0m\u001b[0m\n\u001b[1;32m     34\u001b[0m \u001b[0;34m\u001b[0m\u001b[0m\n",
            "\u001b[0;32m/usr/local/lib/python3.11/dist-packages/pennylane/logging/decorators.py\u001b[0m in \u001b[0;36mwrapper_entry\u001b[0;34m(*args, **kwargs)\u001b[0m\n\u001b[1;32m     59\u001b[0m                 \u001b[0;34m**\u001b[0m\u001b[0m_debug_log_kwargs\u001b[0m\u001b[0;34m,\u001b[0m\u001b[0;34m\u001b[0m\u001b[0;34m\u001b[0m\u001b[0m\n\u001b[1;32m     60\u001b[0m             )\n\u001b[0;32m---> 61\u001b[0;31m         \u001b[0;32mreturn\u001b[0m \u001b[0mfunc\u001b[0m\u001b[0;34m(\u001b[0m\u001b[0;34m*\u001b[0m\u001b[0margs\u001b[0m\u001b[0;34m,\u001b[0m \u001b[0;34m**\u001b[0m\u001b[0mkwargs\u001b[0m\u001b[0;34m)\u001b[0m\u001b[0;34m\u001b[0m\u001b[0;34m\u001b[0m\u001b[0m\n\u001b[0m\u001b[1;32m     62\u001b[0m \u001b[0;34m\u001b[0m\u001b[0m\n\u001b[1;32m     63\u001b[0m     \u001b[0;34m@\u001b[0m\u001b[0mwraps\u001b[0m\u001b[0;34m(\u001b[0m\u001b[0mfunc\u001b[0m\u001b[0;34m)\u001b[0m\u001b[0;34m\u001b[0m\u001b[0;34m\u001b[0m\u001b[0m\n",
            "\u001b[0;32m/usr/local/lib/python3.11/dist-packages/pennylane/devices/default_qubit.py\u001b[0m in \u001b[0;36mexecute\u001b[0;34m(self, circuits, execution_config)\u001b[0m\n\u001b[1;32m    628\u001b[0m \u001b[0;34m\u001b[0m\u001b[0m\n\u001b[1;32m    629\u001b[0m         \u001b[0;32mif\u001b[0m \u001b[0mmax_workers\u001b[0m \u001b[0;32mis\u001b[0m \u001b[0;32mNone\u001b[0m\u001b[0;34m:\u001b[0m\u001b[0;34m\u001b[0m\u001b[0;34m\u001b[0m\u001b[0m\n\u001b[0;32m--> 630\u001b[0;31m             return tuple(\n\u001b[0m\u001b[1;32m    631\u001b[0m                 _simulate_wrapper(\n\u001b[1;32m    632\u001b[0m                     \u001b[0mc\u001b[0m\u001b[0;34m,\u001b[0m\u001b[0;34m\u001b[0m\u001b[0;34m\u001b[0m\u001b[0m\n",
            "\u001b[0;32m/usr/local/lib/python3.11/dist-packages/pennylane/devices/default_qubit.py\u001b[0m in \u001b[0;36m<genexpr>\u001b[0;34m(.0)\u001b[0m\n\u001b[1;32m    629\u001b[0m         \u001b[0;32mif\u001b[0m \u001b[0mmax_workers\u001b[0m \u001b[0;32mis\u001b[0m \u001b[0;32mNone\u001b[0m\u001b[0;34m:\u001b[0m\u001b[0;34m\u001b[0m\u001b[0;34m\u001b[0m\u001b[0m\n\u001b[1;32m    630\u001b[0m             return tuple(\n\u001b[0;32m--> 631\u001b[0;31m                 _simulate_wrapper(\n\u001b[0m\u001b[1;32m    632\u001b[0m                     \u001b[0mc\u001b[0m\u001b[0;34m,\u001b[0m\u001b[0;34m\u001b[0m\u001b[0;34m\u001b[0m\u001b[0m\n\u001b[1;32m    633\u001b[0m                     {\n",
            "\u001b[0;32m/usr/local/lib/python3.11/dist-packages/pennylane/devices/default_qubit.py\u001b[0m in \u001b[0;36m_simulate_wrapper\u001b[0;34m(circuit, kwargs)\u001b[0m\n\u001b[1;32m    916\u001b[0m \u001b[0;34m\u001b[0m\u001b[0m\n\u001b[1;32m    917\u001b[0m \u001b[0;32mdef\u001b[0m \u001b[0m_simulate_wrapper\u001b[0m\u001b[0;34m(\u001b[0m\u001b[0mcircuit\u001b[0m\u001b[0;34m,\u001b[0m \u001b[0mkwargs\u001b[0m\u001b[0;34m)\u001b[0m\u001b[0;34m:\u001b[0m\u001b[0;34m\u001b[0m\u001b[0;34m\u001b[0m\u001b[0m\n\u001b[0;32m--> 918\u001b[0;31m     \u001b[0;32mreturn\u001b[0m \u001b[0msimulate\u001b[0m\u001b[0;34m(\u001b[0m\u001b[0mcircuit\u001b[0m\u001b[0;34m,\u001b[0m \u001b[0;34m**\u001b[0m\u001b[0mkwargs\u001b[0m\u001b[0;34m)\u001b[0m\u001b[0;34m\u001b[0m\u001b[0;34m\u001b[0m\u001b[0m\n\u001b[0m\u001b[1;32m    919\u001b[0m \u001b[0;34m\u001b[0m\u001b[0m\n\u001b[1;32m    920\u001b[0m \u001b[0;34m\u001b[0m\u001b[0m\n",
            "\u001b[0;32m/usr/local/lib/python3.11/dist-packages/pennylane/logging/decorators.py\u001b[0m in \u001b[0;36mwrapper_entry\u001b[0;34m(*args, **kwargs)\u001b[0m\n\u001b[1;32m     59\u001b[0m                 \u001b[0;34m**\u001b[0m\u001b[0m_debug_log_kwargs\u001b[0m\u001b[0;34m,\u001b[0m\u001b[0;34m\u001b[0m\u001b[0;34m\u001b[0m\u001b[0m\n\u001b[1;32m     60\u001b[0m             )\n\u001b[0;32m---> 61\u001b[0;31m         \u001b[0;32mreturn\u001b[0m \u001b[0mfunc\u001b[0m\u001b[0;34m(\u001b[0m\u001b[0;34m*\u001b[0m\u001b[0margs\u001b[0m\u001b[0;34m,\u001b[0m \u001b[0;34m**\u001b[0m\u001b[0mkwargs\u001b[0m\u001b[0;34m)\u001b[0m\u001b[0;34m\u001b[0m\u001b[0;34m\u001b[0m\u001b[0m\n\u001b[0m\u001b[1;32m     62\u001b[0m \u001b[0;34m\u001b[0m\u001b[0m\n\u001b[1;32m     63\u001b[0m     \u001b[0;34m@\u001b[0m\u001b[0mwraps\u001b[0m\u001b[0;34m(\u001b[0m\u001b[0mfunc\u001b[0m\u001b[0;34m)\u001b[0m\u001b[0;34m\u001b[0m\u001b[0;34m\u001b[0m\u001b[0m\n",
            "\u001b[0;32m/usr/local/lib/python3.11/dist-packages/pennylane/devices/qubit/simulate.py\u001b[0m in \u001b[0;36msimulate\u001b[0;34m(circuit, debugger, state_cache, **execution_kwargs)\u001b[0m\n\u001b[1;32m    355\u001b[0m \u001b[0;34m\u001b[0m\u001b[0m\n\u001b[1;32m    356\u001b[0m     \u001b[0mops_key\u001b[0m\u001b[0;34m,\u001b[0m \u001b[0mmeas_key\u001b[0m \u001b[0;34m=\u001b[0m \u001b[0mjax_random_split\u001b[0m\u001b[0;34m(\u001b[0m\u001b[0mprng_key\u001b[0m\u001b[0;34m)\u001b[0m\u001b[0;34m\u001b[0m\u001b[0;34m\u001b[0m\u001b[0m\n\u001b[0;32m--> 357\u001b[0;31m     state, is_state_batched = get_final_state(\n\u001b[0m\u001b[1;32m    358\u001b[0m         \u001b[0mcircuit\u001b[0m\u001b[0;34m,\u001b[0m \u001b[0mdebugger\u001b[0m\u001b[0;34m=\u001b[0m\u001b[0mdebugger\u001b[0m\u001b[0;34m,\u001b[0m \u001b[0mprng_key\u001b[0m\u001b[0;34m=\u001b[0m\u001b[0mops_key\u001b[0m\u001b[0;34m,\u001b[0m \u001b[0;34m**\u001b[0m\u001b[0mexecution_kwargs\u001b[0m\u001b[0;34m\u001b[0m\u001b[0;34m\u001b[0m\u001b[0m\n\u001b[1;32m    359\u001b[0m     )\n",
            "\u001b[0;32m/usr/local/lib/python3.11/dist-packages/pennylane/logging/decorators.py\u001b[0m in \u001b[0;36mwrapper_entry\u001b[0;34m(*args, **kwargs)\u001b[0m\n\u001b[1;32m     59\u001b[0m                 \u001b[0;34m**\u001b[0m\u001b[0m_debug_log_kwargs\u001b[0m\u001b[0;34m,\u001b[0m\u001b[0;34m\u001b[0m\u001b[0;34m\u001b[0m\u001b[0m\n\u001b[1;32m     60\u001b[0m             )\n\u001b[0;32m---> 61\u001b[0;31m         \u001b[0;32mreturn\u001b[0m \u001b[0mfunc\u001b[0m\u001b[0;34m(\u001b[0m\u001b[0;34m*\u001b[0m\u001b[0margs\u001b[0m\u001b[0;34m,\u001b[0m \u001b[0;34m**\u001b[0m\u001b[0mkwargs\u001b[0m\u001b[0;34m)\u001b[0m\u001b[0;34m\u001b[0m\u001b[0;34m\u001b[0m\u001b[0m\n\u001b[0m\u001b[1;32m     62\u001b[0m \u001b[0;34m\u001b[0m\u001b[0m\n\u001b[1;32m     63\u001b[0m     \u001b[0;34m@\u001b[0m\u001b[0mwraps\u001b[0m\u001b[0;34m(\u001b[0m\u001b[0mfunc\u001b[0m\u001b[0;34m)\u001b[0m\u001b[0;34m\u001b[0m\u001b[0;34m\u001b[0m\u001b[0m\n",
            "\u001b[0;32m/usr/local/lib/python3.11/dist-packages/pennylane/devices/qubit/simulate.py\u001b[0m in \u001b[0;36mget_final_state\u001b[0;34m(circuit, debugger, **execution_kwargs)\u001b[0m\n\u001b[1;32m    188\u001b[0m         \u001b[0;32mif\u001b[0m \u001b[0misinstance\u001b[0m\u001b[0;34m(\u001b[0m\u001b[0mop\u001b[0m\u001b[0;34m,\u001b[0m \u001b[0mMidMeasureMP\u001b[0m\u001b[0;34m)\u001b[0m\u001b[0;34m:\u001b[0m\u001b[0;34m\u001b[0m\u001b[0;34m\u001b[0m\u001b[0m\n\u001b[1;32m    189\u001b[0m             \u001b[0mprng_key\u001b[0m\u001b[0;34m,\u001b[0m \u001b[0mkey\u001b[0m \u001b[0;34m=\u001b[0m \u001b[0mjax_random_split\u001b[0m\u001b[0;34m(\u001b[0m\u001b[0mprng_key\u001b[0m\u001b[0;34m)\u001b[0m\u001b[0;34m\u001b[0m\u001b[0;34m\u001b[0m\u001b[0m\n\u001b[0;32m--> 190\u001b[0;31m         state = apply_operation(\n\u001b[0m\u001b[1;32m    191\u001b[0m             \u001b[0mop\u001b[0m\u001b[0;34m,\u001b[0m\u001b[0;34m\u001b[0m\u001b[0;34m\u001b[0m\u001b[0m\n\u001b[1;32m    192\u001b[0m             \u001b[0mstate\u001b[0m\u001b[0;34m,\u001b[0m\u001b[0;34m\u001b[0m\u001b[0;34m\u001b[0m\u001b[0m\n",
            "\u001b[0;32m/usr/lib/python3.11/functools.py\u001b[0m in \u001b[0;36mwrapper\u001b[0;34m(*args, **kw)\u001b[0m\n\u001b[1;32m    907\u001b[0m                             '1 positional argument')\n\u001b[1;32m    908\u001b[0m \u001b[0;34m\u001b[0m\u001b[0m\n\u001b[0;32m--> 909\u001b[0;31m         \u001b[0;32mreturn\u001b[0m \u001b[0mdispatch\u001b[0m\u001b[0;34m(\u001b[0m\u001b[0margs\u001b[0m\u001b[0;34m[\u001b[0m\u001b[0;36m0\u001b[0m\u001b[0;34m]\u001b[0m\u001b[0;34m.\u001b[0m\u001b[0m__class__\u001b[0m\u001b[0;34m)\u001b[0m\u001b[0;34m(\u001b[0m\u001b[0;34m*\u001b[0m\u001b[0margs\u001b[0m\u001b[0;34m,\u001b[0m \u001b[0;34m**\u001b[0m\u001b[0mkw\u001b[0m\u001b[0;34m)\u001b[0m\u001b[0;34m\u001b[0m\u001b[0;34m\u001b[0m\u001b[0m\n\u001b[0m\u001b[1;32m    910\u001b[0m \u001b[0;34m\u001b[0m\u001b[0m\n\u001b[1;32m    911\u001b[0m     \u001b[0mfuncname\u001b[0m \u001b[0;34m=\u001b[0m \u001b[0mgetattr\u001b[0m\u001b[0;34m(\u001b[0m\u001b[0mfunc\u001b[0m\u001b[0;34m,\u001b[0m \u001b[0;34m'__name__'\u001b[0m\u001b[0;34m,\u001b[0m \u001b[0;34m'singledispatch function'\u001b[0m\u001b[0;34m)\u001b[0m\u001b[0;34m\u001b[0m\u001b[0;34m\u001b[0m\u001b[0m\n",
            "\u001b[0;32m/usr/local/lib/python3.11/dist-packages/pennylane/devices/qubit/apply_operation.py\u001b[0m in \u001b[0;36mapply_operation\u001b[0;34m(op, state, is_state_batched, debugger, **_)\u001b[0m\n\u001b[1;32m    229\u001b[0m \u001b[0;34m\u001b[0m\u001b[0m\n\u001b[1;32m    230\u001b[0m     \"\"\"\n\u001b[0;32m--> 231\u001b[0;31m     \u001b[0;32mreturn\u001b[0m \u001b[0m_apply_operation_default\u001b[0m\u001b[0;34m(\u001b[0m\u001b[0mop\u001b[0m\u001b[0;34m,\u001b[0m \u001b[0mstate\u001b[0m\u001b[0;34m,\u001b[0m \u001b[0mis_state_batched\u001b[0m\u001b[0;34m,\u001b[0m \u001b[0mdebugger\u001b[0m\u001b[0;34m)\u001b[0m\u001b[0;34m\u001b[0m\u001b[0;34m\u001b[0m\u001b[0m\n\u001b[0m\u001b[1;32m    232\u001b[0m \u001b[0;34m\u001b[0m\u001b[0m\n\u001b[1;32m    233\u001b[0m \u001b[0;34m\u001b[0m\u001b[0m\n",
            "\u001b[0;32m/usr/local/lib/python3.11/dist-packages/pennylane/devices/qubit/apply_operation.py\u001b[0m in \u001b[0;36m_apply_operation_default\u001b[0;34m(op, state, is_state_batched, debugger)\u001b[0m\n\u001b[1;32m    239\u001b[0m         \u001b[0;32mand\u001b[0m \u001b[0mmath\u001b[0m\u001b[0;34m.\u001b[0m\u001b[0mndim\u001b[0m\u001b[0;34m(\u001b[0m\u001b[0mstate\u001b[0m\u001b[0;34m)\u001b[0m \u001b[0;34m<\u001b[0m \u001b[0mEINSUM_STATE_WIRECOUNT_PERF_THRESHOLD\u001b[0m\u001b[0;34m\u001b[0m\u001b[0;34m\u001b[0m\u001b[0m\n\u001b[1;32m    240\u001b[0m     ) or (op.batch_size and is_state_batched):\n\u001b[0;32m--> 241\u001b[0;31m         \u001b[0;32mreturn\u001b[0m \u001b[0mapply_operation_einsum\u001b[0m\u001b[0;34m(\u001b[0m\u001b[0mop\u001b[0m\u001b[0;34m,\u001b[0m \u001b[0mstate\u001b[0m\u001b[0;34m,\u001b[0m \u001b[0mis_state_batched\u001b[0m\u001b[0;34m=\u001b[0m\u001b[0mis_state_batched\u001b[0m\u001b[0;34m)\u001b[0m\u001b[0;34m\u001b[0m\u001b[0;34m\u001b[0m\u001b[0m\n\u001b[0m\u001b[1;32m    242\u001b[0m     \u001b[0;32mreturn\u001b[0m \u001b[0mapply_operation_tensordot\u001b[0m\u001b[0;34m(\u001b[0m\u001b[0mop\u001b[0m\u001b[0;34m,\u001b[0m \u001b[0mstate\u001b[0m\u001b[0;34m,\u001b[0m \u001b[0mis_state_batched\u001b[0m\u001b[0;34m=\u001b[0m\u001b[0mis_state_batched\u001b[0m\u001b[0;34m)\u001b[0m\u001b[0;34m\u001b[0m\u001b[0;34m\u001b[0m\u001b[0m\n\u001b[1;32m    243\u001b[0m \u001b[0;34m\u001b[0m\u001b[0m\n",
            "\u001b[0;32m/usr/local/lib/python3.11/dist-packages/pennylane/devices/qubit/apply_operation.py\u001b[0m in \u001b[0;36mapply_operation_einsum\u001b[0;34m(op, state, is_state_batched)\u001b[0m\n\u001b[1;32m     78\u001b[0m         \u001b[0mmat\u001b[0m \u001b[0;34m=\u001b[0m \u001b[0mqml\u001b[0m\u001b[0;34m.\u001b[0m\u001b[0mmath\u001b[0m\u001b[0;34m.\u001b[0m\u001b[0mcast_like\u001b[0m\u001b[0;34m(\u001b[0m\u001b[0mop\u001b[0m\u001b[0;34m.\u001b[0m\u001b[0mmatrix\u001b[0m\u001b[0;34m(\u001b[0m\u001b[0;34m)\u001b[0m\u001b[0;34m,\u001b[0m \u001b[0mstate\u001b[0m\u001b[0;34m)\u001b[0m\u001b[0;34m\u001b[0m\u001b[0;34m\u001b[0m\u001b[0m\n\u001b[1;32m     79\u001b[0m     \u001b[0;32melse\u001b[0m\u001b[0;34m:\u001b[0m\u001b[0;34m\u001b[0m\u001b[0;34m\u001b[0m\u001b[0m\n\u001b[0;32m---> 80\u001b[0;31m         \u001b[0mmat\u001b[0m \u001b[0;34m=\u001b[0m \u001b[0mop\u001b[0m\u001b[0;34m.\u001b[0m\u001b[0mmatrix\u001b[0m\u001b[0;34m(\u001b[0m\u001b[0;34m)\u001b[0m \u001b[0;34m+\u001b[0m \u001b[0;36m0j\u001b[0m\u001b[0;34m\u001b[0m\u001b[0;34m\u001b[0m\u001b[0m\n\u001b[0m\u001b[1;32m     81\u001b[0m \u001b[0;34m\u001b[0m\u001b[0m\n\u001b[1;32m     82\u001b[0m     \u001b[0mtotal_indices\u001b[0m \u001b[0;34m=\u001b[0m \u001b[0mlen\u001b[0m\u001b[0;34m(\u001b[0m\u001b[0mstate\u001b[0m\u001b[0;34m.\u001b[0m\u001b[0mshape\u001b[0m\u001b[0;34m)\u001b[0m \u001b[0;34m-\u001b[0m \u001b[0mis_state_batched\u001b[0m\u001b[0;34m\u001b[0m\u001b[0;34m\u001b[0m\u001b[0m\n",
            "\u001b[0;32m/usr/local/lib/python3.11/dist-packages/pennylane/operation.py\u001b[0m in \u001b[0;36mmatrix\u001b[0;34m(self, wire_order)\u001b[0m\n\u001b[1;32m    808\u001b[0m             \u001b[0mtensor_like\u001b[0m\u001b[0;34m:\u001b[0m \u001b[0mmatrix\u001b[0m \u001b[0mrepresentation\u001b[0m\u001b[0;34m\u001b[0m\u001b[0;34m\u001b[0m\u001b[0m\n\u001b[1;32m    809\u001b[0m         \"\"\"\n\u001b[0;32m--> 810\u001b[0;31m         \u001b[0mcanonical_matrix\u001b[0m \u001b[0;34m=\u001b[0m \u001b[0mself\u001b[0m\u001b[0;34m.\u001b[0m\u001b[0mcompute_matrix\u001b[0m\u001b[0;34m(\u001b[0m\u001b[0;34m*\u001b[0m\u001b[0mself\u001b[0m\u001b[0;34m.\u001b[0m\u001b[0mparameters\u001b[0m\u001b[0;34m,\u001b[0m \u001b[0;34m**\u001b[0m\u001b[0mself\u001b[0m\u001b[0;34m.\u001b[0m\u001b[0mhyperparameters\u001b[0m\u001b[0;34m)\u001b[0m\u001b[0;34m\u001b[0m\u001b[0;34m\u001b[0m\u001b[0m\n\u001b[0m\u001b[1;32m    811\u001b[0m \u001b[0;34m\u001b[0m\u001b[0m\n\u001b[1;32m    812\u001b[0m         if (\n",
            "\u001b[0;32m/usr/local/lib/python3.11/dist-packages/pennylane/ops/qubit/parametric_ops_single_qubit.py\u001b[0m in \u001b[0;36mcompute_matrix\u001b[0;34m(theta)\u001b[0m\n\u001b[1;32m    303\u001b[0m \u001b[0;34m\u001b[0m\u001b[0m\n\u001b[1;32m    304\u001b[0m         \u001b[0;32mif\u001b[0m \u001b[0mqml\u001b[0m\u001b[0;34m.\u001b[0m\u001b[0mmath\u001b[0m\u001b[0;34m.\u001b[0m\u001b[0mndim\u001b[0m\u001b[0;34m(\u001b[0m\u001b[0marg\u001b[0m\u001b[0;34m)\u001b[0m \u001b[0;34m==\u001b[0m \u001b[0;36m0\u001b[0m\u001b[0;34m:\u001b[0m\u001b[0;34m\u001b[0m\u001b[0;34m\u001b[0m\u001b[0m\n\u001b[0;32m--> 305\u001b[0;31m             \u001b[0;32mreturn\u001b[0m \u001b[0mqml\u001b[0m\u001b[0;34m.\u001b[0m\u001b[0mmath\u001b[0m\u001b[0;34m.\u001b[0m\u001b[0mdiag\u001b[0m\u001b[0;34m(\u001b[0m\u001b[0mqml\u001b[0m\u001b[0;34m.\u001b[0m\u001b[0mmath\u001b[0m\u001b[0;34m.\u001b[0m\u001b[0mexp\u001b[0m\u001b[0;34m(\u001b[0m\u001b[0marg\u001b[0m \u001b[0;34m*\u001b[0m \u001b[0msigns\u001b[0m\u001b[0;34m)\u001b[0m\u001b[0;34m)\u001b[0m\u001b[0;34m\u001b[0m\u001b[0;34m\u001b[0m\u001b[0m\n\u001b[0m\u001b[1;32m    306\u001b[0m \u001b[0;34m\u001b[0m\u001b[0m\n\u001b[1;32m    307\u001b[0m         \u001b[0mdiags\u001b[0m \u001b[0;34m=\u001b[0m \u001b[0mqml\u001b[0m\u001b[0;34m.\u001b[0m\u001b[0mmath\u001b[0m\u001b[0;34m.\u001b[0m\u001b[0mexp\u001b[0m\u001b[0;34m(\u001b[0m\u001b[0mqml\u001b[0m\u001b[0;34m.\u001b[0m\u001b[0mmath\u001b[0m\u001b[0;34m.\u001b[0m\u001b[0mouter\u001b[0m\u001b[0;34m(\u001b[0m\u001b[0marg\u001b[0m\u001b[0;34m,\u001b[0m \u001b[0msigns\u001b[0m\u001b[0;34m)\u001b[0m\u001b[0;34m)\u001b[0m\u001b[0;34m\u001b[0m\u001b[0;34m\u001b[0m\u001b[0m\n",
            "\u001b[0;32m/usr/local/lib/python3.11/dist-packages/pennylane/numpy/tensor.py\u001b[0m in \u001b[0;36m__array_ufunc__\u001b[0;34m(self, ufunc, method, *inputs, **kwargs)\u001b[0m\n\u001b[1;32m    153\u001b[0m         \u001b[0;31m# call the ndarray.__array_ufunc__ method to compute the result\u001b[0m\u001b[0;34m\u001b[0m\u001b[0;34m\u001b[0m\u001b[0m\n\u001b[1;32m    154\u001b[0m         \u001b[0;31m# of the vectorized ufunc\u001b[0m\u001b[0;34m\u001b[0m\u001b[0;34m\u001b[0m\u001b[0m\n\u001b[0;32m--> 155\u001b[0;31m         \u001b[0mres\u001b[0m \u001b[0;34m=\u001b[0m \u001b[0msuper\u001b[0m\u001b[0;34m(\u001b[0m\u001b[0;34m)\u001b[0m\u001b[0;34m.\u001b[0m\u001b[0m__array_ufunc__\u001b[0m\u001b[0;34m(\u001b[0m\u001b[0mufunc\u001b[0m\u001b[0;34m,\u001b[0m \u001b[0mmethod\u001b[0m\u001b[0;34m,\u001b[0m \u001b[0;34m*\u001b[0m\u001b[0margs\u001b[0m\u001b[0;34m,\u001b[0m \u001b[0;34m**\u001b[0m\u001b[0mkwargs\u001b[0m\u001b[0;34m)\u001b[0m\u001b[0;34m\u001b[0m\u001b[0;34m\u001b[0m\u001b[0m\n\u001b[0m\u001b[1;32m    156\u001b[0m \u001b[0;34m\u001b[0m\u001b[0m\n\u001b[1;32m    157\u001b[0m         \u001b[0;32mif\u001b[0m \u001b[0misinstance\u001b[0m\u001b[0;34m(\u001b[0m\u001b[0mres\u001b[0m\u001b[0;34m,\u001b[0m \u001b[0mOperator\u001b[0m\u001b[0;34m)\u001b[0m\u001b[0;34m:\u001b[0m\u001b[0;34m\u001b[0m\u001b[0;34m\u001b[0m\u001b[0m\n",
            "\u001b[0;31mKeyboardInterrupt\u001b[0m: "
          ]
        }
      ]
    },
    {
      "cell_type": "code",
      "source": [
        "\n",
        "# Example QUBO matrix\n",
        "#Q = Q_onsite\n",
        "\n",
        "# Initial parameters for QAOA\n",
        "init_params = [params]*3\n",
        "init_params = np.reshape(init_params,(-1))\n",
        "\n",
        "# RL-QAOA setup\n",
        "rl_qaoa = RL_QAOA(Q,Q.shape[0],init_params,b_vector = np.array([15.]*30) ,QAOA_depth=depth,gamma = 0.99,learning_rate_init=[0.05,0.00])\n",
        "final_config = rl_qaoa.rqaoa_execute()\n",
        "rl_qaoa.n_c = 1\n",
        "print(f\"classical_result : {final_config},best : {rl_qaoa.node_assignments}\" )\n",
        "\n",
        "\n",
        "# Execute RQAOA\n",
        "final_config = rl_qaoa.RL_QAOA(episodes=50,epochs=60,correc_ans=float(final_config[2]))"
      ],
      "metadata": {
        "id": "JdrTwHRLZ3Rs",
        "outputId": "58495588-2167-47b9-953c-11975132a645",
        "colab": {
          "base_uri": "https://localhost:8080/",
          "height": 1000
        }
      },
      "execution_count": 209,
      "outputs": [
        {
          "output_type": "stream",
          "name": "stdout",
          "text": [
            "classical_result : (None, None, tensor(-36.72102804, requires_grad=True)),best : {0: -1, 1: -1, 2: -1, 3: -1, 4: -1}\n"
          ]
        },
        {
          "output_type": "stream",
          "name": "stderr",
          "text": [
            "100%|██████████| 50/50 [00:10<00:00,  4.90it/s]\n"
          ]
        },
        {
          "output_type": "stream",
          "name": "stdout",
          "text": [
            "[-3.92313542 -3.92313542 15.44386196 -3.92313542 -3.92313542 15.44386196\n",
            " -3.92313542 -3.92313542 -3.92313542 -3.92313542 -3.92313542 15.44386196\n",
            " -3.92313542 -3.92313542 -3.92313542 -3.92313542 -3.92313542 -3.92313542\n",
            " -3.92313542 -3.92313542 -3.92313542 -3.92313542 -3.92313542 -3.92313542\n",
            " -3.92313542 -3.92313542 -3.92313542 15.44386196 -3.92313542 -3.92313542\n",
            " 15.44386196 15.44386196 -3.92313542 -3.92313542 -3.92313542 15.44386196\n",
            " -3.92313542 -3.92313542 15.44386196 -3.92313542 -3.92313542 -3.92313542\n",
            " -3.92313542 -3.92313542 17.93065922 -3.92313542 -3.92313542 15.44386196\n",
            " -3.92313542 -3.92313542]\n",
            "cost : -32.79789261385608\n",
            "prob : 0.8\n",
            "QAOA update : [-0.04999999 -0.04999965  0.05       -0.05        0.          0.        ]\n",
            "QAOA param : [3.33854764 2.23756881 3.43854762 2.23756846 3.38854762 2.28756846]\n"
          ]
        },
        {
          "output_type": "stream",
          "name": "stderr",
          "text": [
            "100%|██████████| 50/50 [00:06<00:00,  7.42it/s]\n"
          ]
        },
        {
          "output_type": "stream",
          "name": "stdout",
          "text": [
            "[  7.36778986   4.8809926  -14.48600478 -14.48600478  19.81148398\n",
            "   7.36778986   7.36778986   9.42242958   7.36778986   4.71371273\n",
            " -14.48600478   7.36778986 -14.48600478   7.36778986 -14.48600478\n",
            " -14.48600478   4.71371273   4.71371273   7.36778986 -14.48600478\n",
            "   7.36778986   4.71371273   7.36778986   7.36778986   7.36778986\n",
            " -14.48600478   7.36778986 -14.48600478 -14.48600478   9.42242958\n",
            " -14.48600478 -14.48600478   7.36778986   7.36778986   4.71371273\n",
            "   7.36778986 -14.48600478   7.36778986   4.8809926  -14.48600478\n",
            "   4.71371273  19.81148398   4.8809926  -14.48600478   4.8809926\n",
            "   7.36778986 -14.48600478   7.36778986 -14.48600478   7.36778986]\n",
            "cost : -22.23502325596314\n",
            "prob : 0.34\n",
            "QAOA update : [ 0.03303596 -0.0372503  -0.00273512 -0.05005955  0.          0.        ]\n",
            "QAOA param : [3.3715836  2.20031852 3.43581251 2.18750891 3.38854762 2.28756846]\n"
          ]
        },
        {
          "output_type": "stream",
          "name": "stderr",
          "text": [
            "100%|██████████| 50/50 [00:07<00:00,  6.76it/s]\n"
          ]
        },
        {
          "output_type": "stream",
          "name": "stdout",
          "text": [
            "[-4.92642146 -4.92642146 -4.92642146 -4.92642146 -4.92642146 16.92737318\n",
            " 14.27329605 -4.92642146 14.27329605 -4.92642146 -4.92642146 -4.92642146\n",
            " 14.27329605 14.27329605 -4.92642146 -4.92642146 -4.92642146 -4.92642146\n",
            " 16.92737318 16.92737318 -4.92642146 -4.92642146 -4.92642146 -4.92642146\n",
            " 14.27329605 -4.92642146 -4.92642146 -4.92642146 -4.92642146 16.92737318\n",
            " -4.92642146 -4.92642146 -4.92642146 -4.92642146 -4.92642146 -4.92642146\n",
            " -4.92642146 -4.92642146 -4.92642146 -4.92642146 16.92737318 -4.92642146\n",
            " -4.92642146 -4.92642146 14.27329605 -4.92642146 -4.92642146 -4.92642146\n",
            " 16.92737318 -4.92642146]\n",
            "cost : -31.79460657784294\n",
            "prob : 0.76\n",
            "QAOA update : [ 0.00831009 -0.03078238 -0.02164946 -0.04999602  0.          0.        ]\n",
            "QAOA param : [3.37989369 2.16953614 3.41416305 2.13751288 3.38854762 2.28756846]\n"
          ]
        },
        {
          "output_type": "stream",
          "name": "stderr",
          "text": [
            "100%|██████████| 50/50 [00:06<00:00,  7.24it/s]\n"
          ]
        },
        {
          "output_type": "stream",
          "name": "stdout",
          "text": [
            "[0. 0. 0. 0. 0. 0. 0. 0. 0. 0. 0. 0. 0. 0. 0. 0. 0. 0. 0. 0. 0. 0. 0. 0.\n",
            " 0. 0. 0. 0. 0. 0. 0. 0. 0. 0. 0. 0. 0. 0. 0. 0. 0. 0. 0. 0. 0. 0. 0. 0.\n",
            " 0. 0.]\n",
            "cost : -36.721028035474816\n",
            "prob : 1.0\n",
            "QAOA update : [ 0.00680712 -0.02521505 -0.01773392 -0.0409537   0.          0.        ]\n",
            "QAOA param : [3.3867008  2.14432109 3.39642913 2.09655918 3.38854762 2.28756846]\n"
          ]
        },
        {
          "output_type": "stream",
          "name": "stderr",
          "text": [
            "100%|██████████| 50/50 [00:07<00:00,  6.59it/s]\n"
          ]
        },
        {
          "output_type": "stream",
          "name": "stdout",
          "text": [
            "[-0.38733995 -0.38733995 -0.38733995 -0.38733995 -0.38733995 -0.38733995\n",
            " -0.38733995 -0.38733995 -0.38733995 -0.38733995 -0.38733995 -0.38733995\n",
            " -0.38733995 -0.38733995 18.97965743 -0.38733995 -0.38733995 -0.38733995\n",
            " -0.38733995 -0.38733995 -0.38733995 -0.38733995 -0.38733995 -0.38733995\n",
            " -0.38733995 -0.38733995 -0.38733995 -0.38733995 -0.38733995 -0.38733995\n",
            " -0.38733995 -0.38733995 -0.38733995 -0.38733995 -0.38733995 -0.38733995\n",
            " -0.38733995 -0.38733995 -0.38733995 -0.38733995 -0.38733995 -0.38733995\n",
            " -0.38733995 -0.38733995 -0.38733995 -0.38733995 -0.38733995 -0.38733995\n",
            " -0.38733995 -0.38733995]\n",
            "cost : -36.33368808783086\n",
            "prob : 0.98\n",
            "QAOA update : [ 0.0247898  -0.02168533 -0.01393093 -0.0338337   0.          0.        ]\n",
            "QAOA param : [3.41149061 2.12263576 3.3824982  2.06272548 3.38854762 2.28756846]\n"
          ]
        },
        {
          "output_type": "stream",
          "name": "stderr",
          "text": [
            "100%|██████████| 50/50 [00:07<00:00,  6.78it/s]\n"
          ]
        },
        {
          "output_type": "stream",
          "name": "stdout",
          "text": [
            "[0. 0. 0. 0. 0. 0. 0. 0. 0. 0. 0. 0. 0. 0. 0. 0. 0. 0. 0. 0. 0. 0. 0. 0.\n",
            " 0. 0. 0. 0. 0. 0. 0. 0. 0. 0. 0. 0. 0. 0. 0. 0. 0. 0. 0. 0. 0. 0. 0. 0.\n",
            " 0. 0.]\n",
            "cost : -36.721028035474816\n",
            "prob : 1.0\n",
            "QAOA update : [ 0.0213656  -0.01868995 -0.01200666 -0.02916027  0.          0.        ]\n",
            "QAOA param : [3.43285621 2.10394581 3.37049154 2.03356521 3.38854762 2.28756846]\n"
          ]
        },
        {
          "output_type": "stream",
          "name": "stderr",
          "text": [
            " 28%|██▊       | 14/50 [00:02<00:05,  6.88it/s]\n"
          ]
        },
        {
          "output_type": "error",
          "ename": "KeyboardInterrupt",
          "evalue": "",
          "traceback": [
            "\u001b[0;31m---------------------------------------------------------------------------\u001b[0m",
            "\u001b[0;31mKeyboardInterrupt\u001b[0m                         Traceback (most recent call last)",
            "\u001b[0;32m<ipython-input-209-9d5d37cf345d>\u001b[0m in \u001b[0;36m<cell line: 0>\u001b[0;34m()\u001b[0m\n\u001b[1;32m     14\u001b[0m \u001b[0;34m\u001b[0m\u001b[0m\n\u001b[1;32m     15\u001b[0m \u001b[0;31m# Execute RQAOA\u001b[0m\u001b[0;34m\u001b[0m\u001b[0;34m\u001b[0m\u001b[0m\n\u001b[0;32m---> 16\u001b[0;31m \u001b[0mfinal_config\u001b[0m \u001b[0;34m=\u001b[0m \u001b[0mrl_qaoa\u001b[0m\u001b[0;34m.\u001b[0m\u001b[0mRL_QAOA\u001b[0m\u001b[0;34m(\u001b[0m\u001b[0mepisodes\u001b[0m\u001b[0;34m=\u001b[0m\u001b[0;36m50\u001b[0m\u001b[0;34m,\u001b[0m\u001b[0mepochs\u001b[0m\u001b[0;34m=\u001b[0m\u001b[0;36m60\u001b[0m\u001b[0;34m,\u001b[0m\u001b[0mcorrec_ans\u001b[0m\u001b[0;34m=\u001b[0m\u001b[0mfloat\u001b[0m\u001b[0;34m(\u001b[0m\u001b[0mfinal_config\u001b[0m\u001b[0;34m[\u001b[0m\u001b[0;36m2\u001b[0m\u001b[0;34m]\u001b[0m\u001b[0;34m)\u001b[0m\u001b[0;34m)\u001b[0m\u001b[0;34m\u001b[0m\u001b[0;34m\u001b[0m\u001b[0m\n\u001b[0m",
            "\u001b[0;32m<ipython-input-197-1fae60981c6c>\u001b[0m in \u001b[0;36mRL_QAOA\u001b[0;34m(self, episodes, epochs, correc_ans)\u001b[0m\n\u001b[1;32m    203\u001b[0m \u001b[0;34m\u001b[0m\u001b[0m\n\u001b[1;32m    204\u001b[0m           \u001b[0;32mfor\u001b[0m \u001b[0mi\u001b[0m \u001b[0;32min\u001b[0m \u001b[0mtqdm\u001b[0m\u001b[0;34m(\u001b[0m\u001b[0mrange\u001b[0m\u001b[0;34m(\u001b[0m\u001b[0mepisodes\u001b[0m\u001b[0;34m)\u001b[0m\u001b[0;34m)\u001b[0m\u001b[0;34m:\u001b[0m\u001b[0;34m\u001b[0m\u001b[0;34m\u001b[0m\u001b[0m\n\u001b[0;32m--> 205\u001b[0;31m             \u001b[0mQAOA_diff\u001b[0m\u001b[0;34m,\u001b[0m\u001b[0mbeta_diff\u001b[0m\u001b[0;34m,\u001b[0m\u001b[0mvalue\u001b[0m \u001b[0;34m=\u001b[0m \u001b[0mself\u001b[0m\u001b[0;34m.\u001b[0m\u001b[0mrqaoa_execute\u001b[0m\u001b[0;34m(\u001b[0m\u001b[0;34m)\u001b[0m\u001b[0;34m\u001b[0m\u001b[0;34m\u001b[0m\u001b[0m\n\u001b[0m\u001b[1;32m    206\u001b[0m             \u001b[0mvalue_list\u001b[0m\u001b[0;34m.\u001b[0m\u001b[0mappend\u001b[0m\u001b[0;34m(\u001b[0m\u001b[0mvalue\u001b[0m\u001b[0;34m)\u001b[0m\u001b[0;34m\u001b[0m\u001b[0;34m\u001b[0m\u001b[0m\n\u001b[1;32m    207\u001b[0m             \u001b[0mQAOA_diff_list\u001b[0m\u001b[0;34m.\u001b[0m\u001b[0mappend\u001b[0m\u001b[0;34m(\u001b[0m\u001b[0mQAOA_diff\u001b[0m\u001b[0;34m)\u001b[0m\u001b[0;34m\u001b[0m\u001b[0;34m\u001b[0m\u001b[0m\n",
            "\u001b[0;32m<ipython-input-197-1fae60981c6c>\u001b[0m in \u001b[0;36mrqaoa_execute\u001b[0;34m(self, cal_grad)\u001b[0m\n\u001b[1;32m    262\u001b[0m             \u001b[0;32mif\u001b[0m \u001b[0mcal_grad\u001b[0m\u001b[0;34m:\u001b[0m\u001b[0;34m\u001b[0m\u001b[0;34m\u001b[0m\u001b[0m\n\u001b[1;32m    263\u001b[0m               \u001b[0;31m#QAOA_diff = self._compute_log_pol_diff(selected_edge_idx,Q_action,edge_res,edge_res_grad ,policy)\u001b[0m\u001b[0;34m\u001b[0m\u001b[0;34m\u001b[0m\u001b[0m\n\u001b[0;32m--> 264\u001b[0;31m               \u001b[0mQAOA_diff\u001b[0m \u001b[0;34m=\u001b[0m \u001b[0mself\u001b[0m\u001b[0;34m.\u001b[0m\u001b[0m_compute_log_pol_diff_idx\u001b[0m\u001b[0;34m(\u001b[0m\u001b[0mselected_edge_idx\u001b[0m\u001b[0;34m,\u001b[0m\u001b[0mQ_action\u001b[0m\u001b[0;34m,\u001b[0m\u001b[0medge_res\u001b[0m\u001b[0;34m,\u001b[0m\u001b[0medge_res_grad\u001b[0m \u001b[0;34m,\u001b[0m\u001b[0mpolicy\u001b[0m\u001b[0;34m)\u001b[0m\u001b[0;34m\u001b[0m\u001b[0;34m\u001b[0m\u001b[0m\n\u001b[0m\u001b[1;32m    265\u001b[0m               \u001b[0mbeta_diff\u001b[0m \u001b[0;34m=\u001b[0m \u001b[0mself\u001b[0m\u001b[0;34m.\u001b[0m\u001b[0m_compute_grad_beta\u001b[0m\u001b[0;34m(\u001b[0m\u001b[0mselected_edge_idx\u001b[0m\u001b[0;34m,\u001b[0m\u001b[0mQ_action\u001b[0m\u001b[0;34m,\u001b[0m\u001b[0mpolicy\u001b[0m\u001b[0;34m,\u001b[0m\u001b[0medge_res\u001b[0m\u001b[0;34m)\u001b[0m\u001b[0;34m\u001b[0m\u001b[0;34m\u001b[0m\u001b[0m\n\u001b[1;32m    266\u001b[0m \u001b[0;34m\u001b[0m\u001b[0m\n",
            "\u001b[0;32m<ipython-input-197-1fae60981c6c>\u001b[0m in \u001b[0;36m_compute_log_pol_diff_idx\u001b[0;34m(self, idx, Q_action, edge_expectations, grad, policy)\u001b[0m\n\u001b[1;32m    327\u001b[0m     \u001b[0;32mdef\u001b[0m \u001b[0m_compute_log_pol_diff_idx\u001b[0m\u001b[0;34m(\u001b[0m\u001b[0mself\u001b[0m\u001b[0;34m,\u001b[0m \u001b[0midx\u001b[0m\u001b[0;34m,\u001b[0m\u001b[0mQ_action\u001b[0m\u001b[0;34m,\u001b[0m\u001b[0medge_expectations\u001b[0m\u001b[0;34m,\u001b[0m\u001b[0mgrad\u001b[0m\u001b[0;34m,\u001b[0m\u001b[0mpolicy\u001b[0m\u001b[0;34m)\u001b[0m\u001b[0;34m:\u001b[0m\u001b[0;34m\u001b[0m\u001b[0;34m\u001b[0m\u001b[0m\n\u001b[1;32m    328\u001b[0m         \u001b[0;31m## 특정 edge가 선택 됐을 때 그 정책에 대한 paramter의 log기울기 값 계산\u001b[0m\u001b[0;34m\u001b[0m\u001b[0;34m\u001b[0m\u001b[0m\n\u001b[0;32m--> 329\u001b[0;31m         \u001b[0maction_space\u001b[0m \u001b[0;34m=\u001b[0m \u001b[0mself\u001b[0m\u001b[0;34m.\u001b[0m\u001b[0m_action_space\u001b[0m\u001b[0;34m(\u001b[0m\u001b[0mQ_action\u001b[0m\u001b[0;34m)\u001b[0m\u001b[0;34m\u001b[0m\u001b[0;34m\u001b[0m\u001b[0m\n\u001b[0m\u001b[1;32m    330\u001b[0m         \u001b[0mbetas\u001b[0m \u001b[0;34m=\u001b[0m \u001b[0mself\u001b[0m\u001b[0;34m.\u001b[0m\u001b[0mb\u001b[0m\u001b[0;34m[\u001b[0m\u001b[0maction_space\u001b[0m\u001b[0;34m]\u001b[0m\u001b[0;34m\u001b[0m\u001b[0;34m\u001b[0m\u001b[0m\n\u001b[1;32m    331\u001b[0m         \u001b[0mdiff_log_pol\u001b[0m \u001b[0;34m=\u001b[0m \u001b[0mbetas\u001b[0m\u001b[0;34m[\u001b[0m\u001b[0midx\u001b[0m\u001b[0;34m]\u001b[0m \u001b[0;34m*\u001b[0m\u001b[0mnp\u001b[0m\u001b[0;34m.\u001b[0m\u001b[0msign\u001b[0m\u001b[0;34m(\u001b[0m\u001b[0medge_expectations\u001b[0m\u001b[0;34m[\u001b[0m\u001b[0midx\u001b[0m\u001b[0;34m]\u001b[0m\u001b[0;34m)\u001b[0m\u001b[0;34m*\u001b[0m \u001b[0mgrad\u001b[0m \u001b[0;34m-\u001b[0m \u001b[0mpolicy\u001b[0m\u001b[0;34m[\u001b[0m\u001b[0midx\u001b[0m\u001b[0;34m]\u001b[0m \u001b[0;34m*\u001b[0m \u001b[0mbetas\u001b[0m\u001b[0;34m[\u001b[0m\u001b[0midx\u001b[0m\u001b[0;34m]\u001b[0m \u001b[0;34m*\u001b[0m\u001b[0mnp\u001b[0m\u001b[0;34m.\u001b[0m\u001b[0msign\u001b[0m\u001b[0;34m(\u001b[0m\u001b[0medge_expectations\u001b[0m\u001b[0;34m[\u001b[0m\u001b[0midx\u001b[0m\u001b[0;34m]\u001b[0m\u001b[0;34m)\u001b[0m\u001b[0;34m*\u001b[0m \u001b[0mgrad\u001b[0m\u001b[0;34m\u001b[0m\u001b[0;34m\u001b[0m\u001b[0m\n",
            "\u001b[0;32m<ipython-input-197-1fae60981c6c>\u001b[0m in \u001b[0;36m_action_space\u001b[0;34m(self, Q_action)\u001b[0m\n\u001b[1;32m    463\u001b[0m         \u001b[0;32mfor\u001b[0m \u001b[0mi\u001b[0m \u001b[0;32min\u001b[0m \u001b[0mrange\u001b[0m\u001b[0;34m(\u001b[0m\u001b[0mQ_action\u001b[0m\u001b[0;34m.\u001b[0m\u001b[0mshape\u001b[0m\u001b[0;34m[\u001b[0m\u001b[0;36m0\u001b[0m\u001b[0;34m]\u001b[0m\u001b[0;34m)\u001b[0m\u001b[0;34m:\u001b[0m\u001b[0;34m\u001b[0m\u001b[0;34m\u001b[0m\u001b[0m\n\u001b[1;32m    464\u001b[0m             \u001b[0;32mfor\u001b[0m \u001b[0mj\u001b[0m \u001b[0;32min\u001b[0m \u001b[0mrange\u001b[0m\u001b[0;34m(\u001b[0m\u001b[0mQ_action\u001b[0m\u001b[0;34m.\u001b[0m\u001b[0mshape\u001b[0m\u001b[0;34m[\u001b[0m\u001b[0;36m0\u001b[0m\u001b[0;34m]\u001b[0m\u001b[0;34m)\u001b[0m\u001b[0;34m:\u001b[0m\u001b[0;34m\u001b[0m\u001b[0;34m\u001b[0m\u001b[0m\n\u001b[0;32m--> 465\u001b[0;31m                 \u001b[0;32mif\u001b[0m \u001b[0mi\u001b[0m\u001b[0;34m!=\u001b[0m\u001b[0mj\u001b[0m \u001b[0;32mand\u001b[0m \u001b[0mself\u001b[0m\u001b[0;34m.\u001b[0m\u001b[0mQ\u001b[0m\u001b[0;34m[\u001b[0m\u001b[0mi\u001b[0m\u001b[0;34m,\u001b[0m\u001b[0mj\u001b[0m\u001b[0;34m]\u001b[0m \u001b[0;34m!=\u001b[0m \u001b[0;36m0\u001b[0m\u001b[0;34m:\u001b[0m\u001b[0;34m\u001b[0m\u001b[0;34m\u001b[0m\u001b[0m\n\u001b[0m\u001b[1;32m    466\u001b[0m                     \u001b[0;32mif\u001b[0m \u001b[0mQ_action\u001b[0m\u001b[0;34m[\u001b[0m\u001b[0mi\u001b[0m\u001b[0;34m,\u001b[0m\u001b[0mj\u001b[0m\u001b[0;34m]\u001b[0m \u001b[0;34m!=\u001b[0m \u001b[0;36m0\u001b[0m\u001b[0;34m:\u001b[0m\u001b[0;34m\u001b[0m\u001b[0;34m\u001b[0m\u001b[0m\n\u001b[1;32m    467\u001b[0m                         \u001b[0maction_space_list\u001b[0m\u001b[0;34m.\u001b[0m\u001b[0mappend\u001b[0m\u001b[0;34m(\u001b[0m\u001b[0mindex\u001b[0m\u001b[0;34m)\u001b[0m\u001b[0;34m\u001b[0m\u001b[0;34m\u001b[0m\u001b[0m\n",
            "\u001b[0;32m/usr/local/lib/python3.11/dist-packages/pennylane/numpy/tensor.py\u001b[0m in \u001b[0;36m__array_ufunc__\u001b[0;34m(self, ufunc, method, *inputs, **kwargs)\u001b[0m\n\u001b[1;32m    149\u001b[0m \u001b[0;34m\u001b[0m\u001b[0m\n\u001b[1;32m    150\u001b[0m         \u001b[0;31m# unwrap the input arguments to the ufunc\u001b[0m\u001b[0;34m\u001b[0m\u001b[0;34m\u001b[0m\u001b[0m\n\u001b[0;32m--> 151\u001b[0;31m         \u001b[0margs\u001b[0m \u001b[0;34m=\u001b[0m \u001b[0;34m[\u001b[0m\u001b[0mi\u001b[0m\u001b[0;34m.\u001b[0m\u001b[0munwrap\u001b[0m\u001b[0;34m(\u001b[0m\u001b[0;34m)\u001b[0m \u001b[0;32mif\u001b[0m \u001b[0mhasattr\u001b[0m\u001b[0;34m(\u001b[0m\u001b[0mi\u001b[0m\u001b[0;34m,\u001b[0m \u001b[0;34m\"unwrap\"\u001b[0m\u001b[0;34m)\u001b[0m \u001b[0;32melse\u001b[0m \u001b[0mi\u001b[0m \u001b[0;32mfor\u001b[0m \u001b[0mi\u001b[0m \u001b[0;32min\u001b[0m \u001b[0minputs\u001b[0m\u001b[0;34m]\u001b[0m\u001b[0;34m\u001b[0m\u001b[0;34m\u001b[0m\u001b[0m\n\u001b[0m\u001b[1;32m    152\u001b[0m \u001b[0;34m\u001b[0m\u001b[0m\n\u001b[1;32m    153\u001b[0m         \u001b[0;31m# call the ndarray.__array_ufunc__ method to compute the result\u001b[0m\u001b[0;34m\u001b[0m\u001b[0;34m\u001b[0m\u001b[0m\n",
            "\u001b[0;32m/usr/local/lib/python3.11/dist-packages/pennylane/numpy/tensor.py\u001b[0m in \u001b[0;36m<listcomp>\u001b[0;34m(.0)\u001b[0m\n\u001b[1;32m    149\u001b[0m \u001b[0;34m\u001b[0m\u001b[0m\n\u001b[1;32m    150\u001b[0m         \u001b[0;31m# unwrap the input arguments to the ufunc\u001b[0m\u001b[0;34m\u001b[0m\u001b[0;34m\u001b[0m\u001b[0m\n\u001b[0;32m--> 151\u001b[0;31m         \u001b[0margs\u001b[0m \u001b[0;34m=\u001b[0m \u001b[0;34m[\u001b[0m\u001b[0mi\u001b[0m\u001b[0;34m.\u001b[0m\u001b[0munwrap\u001b[0m\u001b[0;34m(\u001b[0m\u001b[0;34m)\u001b[0m \u001b[0;32mif\u001b[0m \u001b[0mhasattr\u001b[0m\u001b[0;34m(\u001b[0m\u001b[0mi\u001b[0m\u001b[0;34m,\u001b[0m \u001b[0;34m\"unwrap\"\u001b[0m\u001b[0;34m)\u001b[0m \u001b[0;32melse\u001b[0m \u001b[0mi\u001b[0m \u001b[0;32mfor\u001b[0m \u001b[0mi\u001b[0m \u001b[0;32min\u001b[0m \u001b[0minputs\u001b[0m\u001b[0;34m]\u001b[0m\u001b[0;34m\u001b[0m\u001b[0;34m\u001b[0m\u001b[0m\n\u001b[0m\u001b[1;32m    152\u001b[0m \u001b[0;34m\u001b[0m\u001b[0m\n\u001b[1;32m    153\u001b[0m         \u001b[0;31m# call the ndarray.__array_ufunc__ method to compute the result\u001b[0m\u001b[0;34m\u001b[0m\u001b[0;34m\u001b[0m\u001b[0m\n",
            "\u001b[0;32m/usr/local/lib/python3.11/dist-packages/pennylane/numpy/tensor.py\u001b[0m in \u001b[0;36munwrap\u001b[0;34m(self)\u001b[0m\n\u001b[1;32m    270\u001b[0m         \"\"\"\n\u001b[1;32m    271\u001b[0m         \u001b[0;32mif\u001b[0m \u001b[0mself\u001b[0m\u001b[0;34m.\u001b[0m\u001b[0mndim\u001b[0m \u001b[0;34m==\u001b[0m \u001b[0;36m0\u001b[0m\u001b[0;34m:\u001b[0m\u001b[0;34m\u001b[0m\u001b[0;34m\u001b[0m\u001b[0m\n\u001b[0;32m--> 272\u001b[0;31m             \u001b[0;32mreturn\u001b[0m \u001b[0mself\u001b[0m\u001b[0;34m.\u001b[0m\u001b[0mview\u001b[0m\u001b[0;34m(\u001b[0m\u001b[0monp\u001b[0m\u001b[0;34m.\u001b[0m\u001b[0mndarray\u001b[0m\u001b[0;34m)\u001b[0m\u001b[0;34m.\u001b[0m\u001b[0mitem\u001b[0m\u001b[0;34m(\u001b[0m\u001b[0;34m)\u001b[0m\u001b[0;34m\u001b[0m\u001b[0;34m\u001b[0m\u001b[0m\n\u001b[0m\u001b[1;32m    273\u001b[0m \u001b[0;34m\u001b[0m\u001b[0m\n\u001b[1;32m    274\u001b[0m         \u001b[0;32mreturn\u001b[0m \u001b[0mself\u001b[0m\u001b[0;34m.\u001b[0m\u001b[0mview\u001b[0m\u001b[0;34m(\u001b[0m\u001b[0monp\u001b[0m\u001b[0;34m.\u001b[0m\u001b[0mndarray\u001b[0m\u001b[0;34m)\u001b[0m\u001b[0;34m\u001b[0m\u001b[0;34m\u001b[0m\u001b[0m\n",
            "\u001b[0;31mKeyboardInterrupt\u001b[0m: "
          ]
        }
      ]
    },
    {
      "cell_type": "code",
      "source": [
        "### Single optimization\n",
        "# Example QUBO matrix\n",
        "#Q = Q_onsite\n",
        "\n",
        "# Initial parameters for QAOA\n",
        "init_params = [params]*3\n",
        "init_params = np.reshape(init_params,(-1))\n",
        "\n",
        "# RL-QAOA setup\n",
        "rl_qaoa = RL_QAOA(Q,Q.shape[0],init_params,b_vector = np.array([5.]*30) ,QAOA_depth=depth,gamma = 0.99,learning_rate_init=[0.05,0.00])\n",
        "final_config = rl_qaoa.rqaoa_execute()\n",
        "rl_qaoa.n_c = 1\n",
        "print(f\"classical_result : {final_config},best : {rl_qaoa.node_assignments}\" )\n",
        "\n",
        "\n",
        "# Execute RQAOA\n",
        "final_config = rl_qaoa.RL_QAOA(episodes=50,epochs=60,correc_ans=float(final_config[2]))"
      ],
      "metadata": {
        "id": "5I8yijEbp_Bk",
        "outputId": "ad992ffe-fe0d-4b09-849f-d0f5c5190006",
        "colab": {
          "base_uri": "https://localhost:8080/",
          "height": 1000
        }
      },
      "execution_count": 211,
      "outputs": [
        {
          "output_type": "stream",
          "name": "stdout",
          "text": [
            "classical_result : (None, None, tensor(-36.72102804, requires_grad=True)),best : {0: -1, 1: -1, 2: -1, 3: -1, 4: -1}\n"
          ]
        },
        {
          "output_type": "stream",
          "name": "stderr",
          "text": [
            "100%|██████████| 50/50 [00:29<00:00,  1.72it/s]\n"
          ]
        },
        {
          "output_type": "stream",
          "name": "stdout",
          "text": [
            "[-10.49508838 -10.49508838 -10.49508838  11.35870626   8.871909\n",
            " -10.49508838 -10.49508838 -10.49508838 -10.49508838 -10.49508838\n",
            " -10.49508838 -10.49508838   8.871909   -10.49508838 -10.49508838\n",
            "   8.871909     8.871909   -10.49508838  30.6347972   23.34627595\n",
            "  23.34627595  13.41334598 -10.49508838  11.35870626 -10.49508838\n",
            "  23.34627595 -10.49508838  11.35870626  23.34627595 -10.49508838\n",
            " -10.49508838 -10.49508838  11.35870626 -10.49508838  13.41334598\n",
            " -10.49508838 -10.49508838 -10.49508838  23.34627595 -10.49508838\n",
            "  30.6347972  -10.49508838   8.871909    11.35870626 -10.49508838\n",
            " -10.49508838 -10.49508838 -10.49508838 -10.49508838   8.871909  ]\n",
            "cost : -26.225939655278612\n",
            "prob : 0.6\n",
            "QAOA update : [ 0.05 -0.05  0.05 -0.05  0.    0.  ]\n",
            "QAOA param : [3.43854762 2.23756846 3.43854762 2.23756846 3.38854762 2.28756846]\n"
          ]
        },
        {
          "output_type": "stream",
          "name": "stderr",
          "text": [
            "100%|██████████| 50/50 [00:26<00:00,  1.88it/s]\n"
          ]
        },
        {
          "output_type": "stream",
          "name": "stdout",
          "text": [
            "[-16.09406339   7.81437097  15.23842038   7.81437097   3.10565411\n",
            "   3.27293399 -16.09406339   3.27293399   3.27293399   7.81437097\n",
            "   3.10565411 -16.09406339 -16.09406339   3.10565411   7.81437097\n",
            "   3.27293399   7.81437097   5.75973125   3.10565411 -16.09406339\n",
            "   3.10565411 -16.09406339 -16.09406339   5.75973125   3.27293399\n",
            "   7.81437097  17.74730093  15.23842038  17.99428723 -16.09406339\n",
            "   7.81437097  25.03582219   3.27293399   3.27293399   3.10565411\n",
            "   3.27293399   7.81437097 -16.09406339   3.10565411 -16.09406339\n",
            " -16.09406339 -16.09406339   3.10565411 -16.09406339   5.75973125\n",
            " -16.09406339   5.75973125   7.81437097 -16.09406339   5.75973125]\n",
            "cost : -20.626964642677763\n",
            "prob : 0.3\n",
            "QAOA update : [-0.00976394 -0.04534998  0.01133634 -0.05002642  0.          0.        ]\n",
            "QAOA param : [3.42878368 2.19221848 3.44988397 2.18754204 3.38854762 2.28756846]\n"
          ]
        },
        {
          "output_type": "stream",
          "name": "stderr",
          "text": [
            "100%|██████████| 50/50 [00:27<00:00,  1.81it/s]\n"
          ]
        },
        {
          "output_type": "stream",
          "name": "stdout",
          "text": [
            "[-11.25269442   7.94702308 -11.25269442 -11.25269442 -11.25269442\n",
            "  10.60110022 -11.25269442 -11.25269442  12.65573994  12.65573994\n",
            "  12.65573994  10.60110022   7.94702308 -11.25269442   7.94702308\n",
            "  12.65573994 -11.25269442 -11.25269442  10.60110022 -11.25269442\n",
            "  10.60110022 -11.25269442 -11.25269442   7.94702308  12.65573994\n",
            "   8.11430296   7.94702308 -11.25269442  22.8356562  -11.25269442\n",
            "   8.11430296 -11.25269442  10.60110022  12.65573994 -11.25269442\n",
            "   8.11430296 -11.25269442   7.94702308 -11.25269442 -11.25269442\n",
            " -11.25269442 -11.25269442  10.60110022 -11.25269442  11.65457259\n",
            "   7.94702308   7.94702308 -11.25269442   8.11430296 -11.25269442]\n",
            "cost : -25.468333610910655\n",
            "prob : 0.48\n",
            "QAOA update : [-0.01050196 -0.04740933 -0.00475102 -0.05011981  0.          0.        ]\n",
            "QAOA param : [3.41828173 2.14480915 3.44513295 2.13742223 3.38854762 2.28756846]\n"
          ]
        },
        {
          "output_type": "stream",
          "name": "stderr",
          "text": [
            "100%|██████████| 50/50 [00:27<00:00,  1.81it/s]\n"
          ]
        },
        {
          "output_type": "stream",
          "name": "stdout",
          "text": [
            "[ 12.37564277 -11.53279159 -11.53279159  10.32100306  10.32100306\n",
            " -11.53279159  12.37564277 -11.53279159 -11.53279159  10.32100306\n",
            " -11.53279159 -11.53279159   7.66692592   7.66692592 -11.53279159\n",
            " -11.53279159   7.8342058   10.32100306   7.8342058    7.66692592\n",
            "  12.37564277  19.79969219  10.32100306 -11.53279159 -11.53279159\n",
            " -11.53279159   7.66692592 -11.53279159 -11.53279159  12.37564277\n",
            "   7.8342058  -11.53279159  10.32100306 -11.53279159 -11.53279159\n",
            "  10.32100306   7.8342058    7.8342058  -11.53279159   7.8342058\n",
            "   7.8342058  -11.53279159   7.66692592  12.37564277 -11.53279159\n",
            " -11.53279159 -11.53279159   7.8342058  -11.53279159  10.32100306]\n",
            "cost : -25.1882364495731\n",
            "prob : 0.46\n",
            "QAOA update : [-0.01852088 -0.03579171 -0.01265612 -0.04928352  0.          0.        ]\n",
            "QAOA param : [3.39976084 2.10901744 3.43247683 2.0881387  3.38854762 2.28756846]\n"
          ]
        },
        {
          "output_type": "stream",
          "name": "stderr",
          "text": [
            "100%|██████████| 50/50 [00:27<00:00,  1.81it/s]\n"
          ]
        },
        {
          "output_type": "stream",
          "name": "stdout",
          "text": [
            "[ 9.45544484 12.10952198 -9.74427266 -9.74427266 -9.74427266 -9.74427266\n",
            "  9.62272472  9.62272472 14.25353196  9.45544484 -9.74427266 -9.74427266\n",
            "  9.45544484 12.10952198 -9.74427266 -9.74427266  9.45544484 -9.74427266\n",
            " -9.74427266 31.38561291 -9.74427266  9.45544484  9.45544484  9.62272472\n",
            "  9.45544484 -9.74427266 -9.74427266 12.10952198 -9.74427266 -9.74427266\n",
            " 31.38561291 -9.74427266  9.62272472 14.1641617  12.10952198 -9.74427266\n",
            " -9.74427266  9.45544484 -9.74427266 -9.74427266 -9.74427266  9.62272472\n",
            " -9.74427266 -9.74427266  9.45544484 -9.74427266 -9.74427266 -9.74427266\n",
            " -9.74427266 -9.74427266]\n",
            "cost : -26.97675537208077\n",
            "prob : 0.56\n",
            "QAOA update : [-0.01356604 -0.01821045 -0.02095697 -0.04868234  0.          0.        ]\n",
            "QAOA param : [3.38619481 2.09080699 3.41151986 2.03945637 3.38854762 2.28756846]\n"
          ]
        },
        {
          "output_type": "stream",
          "name": "stderr",
          "text": [
            "100%|██████████| 50/50 [00:27<00:00,  1.85it/s]\n"
          ]
        },
        {
          "output_type": "stream",
          "name": "stdout",
          "text": [
            "[-2.37377563 -2.37377563 -2.37377563 -2.37377563 16.99322175 -2.37377563\n",
            " -2.37377563 -2.37377563 -2.37377563 -2.37377563 -2.37377563 -2.37377563\n",
            " -2.37377563 -2.37377563 -2.37377563 -2.37377563 -2.37377563 -2.37377563\n",
            " -2.37377563 -2.37377563 -2.37377563 -2.37377563 16.99322175 -2.37377563\n",
            " -2.37377563 -2.37377563 -2.37377563 19.48001901 -2.37377563 -2.37377563\n",
            " -2.37377563 -2.37377563 -2.37377563 -2.37377563 -2.37377563 16.99322175\n",
            " -2.37377563 -2.37377563 -2.37377563 16.99322175 -2.37377563 16.99322175\n",
            " -2.37377563 -2.37377563 -2.37377563 -2.37377563 -2.37377563 -2.37377563\n",
            " -2.37377563 -2.37377563]\n",
            "cost : -34.34725240443193\n",
            "prob : 0.88\n",
            "QAOA update : [-0.00622876 -0.01558357 -0.01732001 -0.04156314  0.          0.        ]\n",
            "QAOA param : [3.37996604 2.07522342 3.39419985 1.99789323 3.38854762 2.28756846]\n"
          ]
        },
        {
          "output_type": "stream",
          "name": "stderr",
          "text": [
            " 18%|█▊        | 9/50 [00:05<00:26,  1.55it/s]\n"
          ]
        },
        {
          "output_type": "error",
          "ename": "KeyboardInterrupt",
          "evalue": "",
          "traceback": [
            "\u001b[0;31m---------------------------------------------------------------------------\u001b[0m",
            "\u001b[0;31mKeyboardInterrupt\u001b[0m                         Traceback (most recent call last)",
            "\u001b[0;32m<ipython-input-211-d3c781ade8e5>\u001b[0m in \u001b[0;36m<cell line: 0>\u001b[0;34m()\u001b[0m\n\u001b[1;32m     15\u001b[0m \u001b[0;34m\u001b[0m\u001b[0m\n\u001b[1;32m     16\u001b[0m \u001b[0;31m# Execute RQAOA\u001b[0m\u001b[0;34m\u001b[0m\u001b[0;34m\u001b[0m\u001b[0m\n\u001b[0;32m---> 17\u001b[0;31m \u001b[0mfinal_config\u001b[0m \u001b[0;34m=\u001b[0m \u001b[0mrl_qaoa\u001b[0m\u001b[0;34m.\u001b[0m\u001b[0mRL_QAOA\u001b[0m\u001b[0;34m(\u001b[0m\u001b[0mepisodes\u001b[0m\u001b[0;34m=\u001b[0m\u001b[0;36m50\u001b[0m\u001b[0;34m,\u001b[0m\u001b[0mepochs\u001b[0m\u001b[0;34m=\u001b[0m\u001b[0;36m60\u001b[0m\u001b[0;34m,\u001b[0m\u001b[0mcorrec_ans\u001b[0m\u001b[0;34m=\u001b[0m\u001b[0mfloat\u001b[0m\u001b[0;34m(\u001b[0m\u001b[0mfinal_config\u001b[0m\u001b[0;34m[\u001b[0m\u001b[0;36m2\u001b[0m\u001b[0;34m]\u001b[0m\u001b[0;34m)\u001b[0m\u001b[0;34m)\u001b[0m\u001b[0;34m\u001b[0m\u001b[0;34m\u001b[0m\u001b[0m\n\u001b[0m",
            "\u001b[0;32m<ipython-input-210-32325be24335>\u001b[0m in \u001b[0;36mRL_QAOA\u001b[0;34m(self, episodes, epochs, correc_ans)\u001b[0m\n\u001b[1;32m    203\u001b[0m \u001b[0;34m\u001b[0m\u001b[0m\n\u001b[1;32m    204\u001b[0m           \u001b[0;32mfor\u001b[0m \u001b[0mi\u001b[0m \u001b[0;32min\u001b[0m \u001b[0mtqdm\u001b[0m\u001b[0;34m(\u001b[0m\u001b[0mrange\u001b[0m\u001b[0;34m(\u001b[0m\u001b[0mepisodes\u001b[0m\u001b[0;34m)\u001b[0m\u001b[0;34m)\u001b[0m\u001b[0;34m:\u001b[0m\u001b[0;34m\u001b[0m\u001b[0;34m\u001b[0m\u001b[0m\n\u001b[0;32m--> 205\u001b[0;31m             \u001b[0mQAOA_diff\u001b[0m\u001b[0;34m,\u001b[0m\u001b[0mbeta_diff\u001b[0m\u001b[0;34m,\u001b[0m\u001b[0mvalue\u001b[0m \u001b[0;34m=\u001b[0m \u001b[0mself\u001b[0m\u001b[0;34m.\u001b[0m\u001b[0mrqaoa_execute\u001b[0m\u001b[0;34m(\u001b[0m\u001b[0;34m)\u001b[0m\u001b[0;34m\u001b[0m\u001b[0;34m\u001b[0m\u001b[0m\n\u001b[0m\u001b[1;32m    206\u001b[0m             \u001b[0mvalue_list\u001b[0m\u001b[0;34m.\u001b[0m\u001b[0mappend\u001b[0m\u001b[0;34m(\u001b[0m\u001b[0mvalue\u001b[0m\u001b[0;34m)\u001b[0m\u001b[0;34m\u001b[0m\u001b[0;34m\u001b[0m\u001b[0m\n\u001b[1;32m    207\u001b[0m             \u001b[0mQAOA_diff_list\u001b[0m\u001b[0;34m.\u001b[0m\u001b[0mappend\u001b[0m\u001b[0;34m(\u001b[0m\u001b[0mQAOA_diff\u001b[0m\u001b[0;34m)\u001b[0m\u001b[0;34m\u001b[0m\u001b[0;34m\u001b[0m\u001b[0m\n",
            "\u001b[0;32m<ipython-input-210-32325be24335>\u001b[0m in \u001b[0;36mrqaoa_execute\u001b[0;34m(self, cal_grad)\u001b[0m\n\u001b[1;32m    258\u001b[0m             \u001b[0mselected_edge_idx\u001b[0m\u001b[0;34m,\u001b[0m \u001b[0mpolicy\u001b[0m\u001b[0;34m,\u001b[0m \u001b[0medge_res\u001b[0m \u001b[0;34m=\u001b[0m \u001b[0mself\u001b[0m\u001b[0;34m.\u001b[0m\u001b[0m_select_edge_to_cut\u001b[0m\u001b[0;34m(\u001b[0m\u001b[0mQ_action\u001b[0m\u001b[0;34m,\u001b[0m\u001b[0mQ_init\u001b[0m\u001b[0;34m,\u001b[0m\u001b[0medge_expectations\u001b[0m\u001b[0;34m)\u001b[0m\u001b[0;34m\u001b[0m\u001b[0;34m\u001b[0m\u001b[0m\n\u001b[1;32m    259\u001b[0m             \u001b[0;32mif\u001b[0m \u001b[0mcal_grad\u001b[0m\u001b[0;34m:\u001b[0m\u001b[0;34m\u001b[0m\u001b[0;34m\u001b[0m\u001b[0m\n\u001b[0;32m--> 260\u001b[0;31m               \u001b[0medge_res_grad\u001b[0m \u001b[0;34m=\u001b[0m \u001b[0mself\u001b[0m\u001b[0;34m.\u001b[0m\u001b[0m_qaoa_edge_expectations_gradients\u001b[0m\u001b[0;34m(\u001b[0m\u001b[0mQ_init\u001b[0m\u001b[0;34m,\u001b[0m \u001b[0;34m[\u001b[0m\u001b[0mi\u001b[0m \u001b[0;32mfor\u001b[0m \u001b[0mi\u001b[0m \u001b[0;32min\u001b[0m \u001b[0mrange\u001b[0m\u001b[0;34m(\u001b[0m\u001b[0mself\u001b[0m\u001b[0;34m.\u001b[0m\u001b[0mp\u001b[0m\u001b[0;34m*\u001b[0m\u001b[0mindex\u001b[0m\u001b[0;34m*\u001b[0m\u001b[0;36m2\u001b[0m\u001b[0;34m,\u001b[0m\u001b[0mself\u001b[0m\u001b[0;34m.\u001b[0m\u001b[0mp\u001b[0m\u001b[0;34m*\u001b[0m\u001b[0mindex\u001b[0m\u001b[0;34m*\u001b[0m\u001b[0;36m2\u001b[0m\u001b[0;34m+\u001b[0m\u001b[0;36m2\u001b[0m\u001b[0;34m*\u001b[0m\u001b[0mself\u001b[0m\u001b[0;34m.\u001b[0m\u001b[0mp\u001b[0m\u001b[0;34m)\u001b[0m\u001b[0;34m]\u001b[0m\u001b[0;34m)\u001b[0m\u001b[0;34m\u001b[0m\u001b[0;34m\u001b[0m\u001b[0m\n\u001b[0m\u001b[1;32m    261\u001b[0m               \u001b[0;31m#edge_res_grad = self._qaoa_edge_expectations_gradient(Q_init, [i for i in range(self.p*index*2,self.p*index*2+2*self.p)],selected_edge_idx)\u001b[0m\u001b[0;34m\u001b[0m\u001b[0;34m\u001b[0m\u001b[0m\n\u001b[1;32m    262\u001b[0m             \u001b[0;32mif\u001b[0m \u001b[0mcal_grad\u001b[0m\u001b[0;34m:\u001b[0m\u001b[0;34m\u001b[0m\u001b[0;34m\u001b[0m\u001b[0m\n",
            "\u001b[0;32m<ipython-input-210-32325be24335>\u001b[0m in \u001b[0;36m_qaoa_edge_expectations_gradients\u001b[0;34m(self, Q, idx)\u001b[0m\n\u001b[1;32m    489\u001b[0m              \u001b[0;32mif\u001b[0m \u001b[0mQ\u001b[0m\u001b[0;34m[\u001b[0m\u001b[0mi\u001b[0m\u001b[0;34m,\u001b[0m \u001b[0mj\u001b[0m\u001b[0;34m]\u001b[0m \u001b[0;34m!=\u001b[0m \u001b[0;36m0\u001b[0m \u001b[0;32mand\u001b[0m \u001b[0mi\u001b[0m \u001b[0;34m!=\u001b[0m \u001b[0mj\u001b[0m\u001b[0;34m:\u001b[0m\u001b[0;34m\u001b[0m\u001b[0;34m\u001b[0m\u001b[0m\n\u001b[1;32m    490\u001b[0m                 \u001b[0;31m# Compute gradients for each parameter\u001b[0m\u001b[0;34m\u001b[0m\u001b[0;34m\u001b[0m\u001b[0m\n\u001b[0;32m--> 491\u001b[0;31m                 \u001b[0mgradients\u001b[0m \u001b[0;34m=\u001b[0m \u001b[0mqml\u001b[0m\u001b[0;34m.\u001b[0m\u001b[0mgrad\u001b[0m\u001b[0;34m(\u001b[0m\u001b[0mcircuit\u001b[0m\u001b[0;34m)\u001b[0m\u001b[0;34m(\u001b[0m\u001b[0mself\u001b[0m\u001b[0;34m.\u001b[0m\u001b[0mparam\u001b[0m\u001b[0;34m,\u001b[0m\u001b[0mi\u001b[0m\u001b[0;34m,\u001b[0m\u001b[0mj\u001b[0m\u001b[0;34m)\u001b[0m\u001b[0;34m\u001b[0m\u001b[0;34m\u001b[0m\u001b[0m\n\u001b[0m\u001b[1;32m    492\u001b[0m                 \u001b[0mres\u001b[0m\u001b[0;34m.\u001b[0m\u001b[0mappend\u001b[0m\u001b[0;34m(\u001b[0m\u001b[0mgradients\u001b[0m\u001b[0;34m)\u001b[0m\u001b[0;34m\u001b[0m\u001b[0;34m\u001b[0m\u001b[0m\n\u001b[1;32m    493\u001b[0m         \u001b[0;32mreturn\u001b[0m \u001b[0mres\u001b[0m\u001b[0;34m\u001b[0m\u001b[0;34m\u001b[0m\u001b[0m\n",
            "\u001b[0;32m/usr/local/lib/python3.11/dist-packages/pennylane/_grad.py\u001b[0m in \u001b[0;36m__call__\u001b[0;34m(self, *args, **kwargs)\u001b[0m\n\u001b[1;32m    222\u001b[0m             \u001b[0;32mreturn\u001b[0m \u001b[0;34m(\u001b[0m\u001b[0;34m)\u001b[0m\u001b[0;34m\u001b[0m\u001b[0;34m\u001b[0m\u001b[0m\n\u001b[1;32m    223\u001b[0m \u001b[0;34m\u001b[0m\u001b[0m\n\u001b[0;32m--> 224\u001b[0;31m         \u001b[0mgrad_value\u001b[0m\u001b[0;34m,\u001b[0m \u001b[0mans\u001b[0m \u001b[0;34m=\u001b[0m \u001b[0mgrad_fn\u001b[0m\u001b[0;34m(\u001b[0m\u001b[0;34m*\u001b[0m\u001b[0margs\u001b[0m\u001b[0;34m,\u001b[0m \u001b[0;34m**\u001b[0m\u001b[0mkwargs\u001b[0m\u001b[0;34m)\u001b[0m  \u001b[0;31m# pylint: disable=not-callable\u001b[0m\u001b[0;34m\u001b[0m\u001b[0;34m\u001b[0m\u001b[0m\n\u001b[0m\u001b[1;32m    225\u001b[0m         \u001b[0mself\u001b[0m\u001b[0;34m.\u001b[0m\u001b[0m_forward\u001b[0m \u001b[0;34m=\u001b[0m \u001b[0mans\u001b[0m\u001b[0;34m\u001b[0m\u001b[0;34m\u001b[0m\u001b[0m\n\u001b[1;32m    226\u001b[0m \u001b[0;34m\u001b[0m\u001b[0m\n",
            "\u001b[0;32m/usr/local/lib/python3.11/dist-packages/autograd/wrap_util.py\u001b[0m in \u001b[0;36mnary_f\u001b[0;34m(*args, **kwargs)\u001b[0m\n\u001b[1;32m     18\u001b[0m             \u001b[0;32melse\u001b[0m\u001b[0;34m:\u001b[0m\u001b[0;34m\u001b[0m\u001b[0;34m\u001b[0m\u001b[0m\n\u001b[1;32m     19\u001b[0m                 \u001b[0mx\u001b[0m \u001b[0;34m=\u001b[0m \u001b[0mtuple\u001b[0m\u001b[0;34m(\u001b[0m\u001b[0margs\u001b[0m\u001b[0;34m[\u001b[0m\u001b[0mi\u001b[0m\u001b[0;34m]\u001b[0m \u001b[0;32mfor\u001b[0m \u001b[0mi\u001b[0m \u001b[0;32min\u001b[0m \u001b[0margnum\u001b[0m\u001b[0;34m)\u001b[0m\u001b[0;34m\u001b[0m\u001b[0;34m\u001b[0m\u001b[0m\n\u001b[0;32m---> 20\u001b[0;31m             \u001b[0;32mreturn\u001b[0m \u001b[0munary_operator\u001b[0m\u001b[0;34m(\u001b[0m\u001b[0munary_f\u001b[0m\u001b[0;34m,\u001b[0m \u001b[0mx\u001b[0m\u001b[0;34m,\u001b[0m \u001b[0;34m*\u001b[0m\u001b[0mnary_op_args\u001b[0m\u001b[0;34m,\u001b[0m \u001b[0;34m**\u001b[0m\u001b[0mnary_op_kwargs\u001b[0m\u001b[0;34m)\u001b[0m\u001b[0;34m\u001b[0m\u001b[0;34m\u001b[0m\u001b[0m\n\u001b[0m\u001b[1;32m     21\u001b[0m         \u001b[0;32mreturn\u001b[0m \u001b[0mnary_f\u001b[0m\u001b[0;34m\u001b[0m\u001b[0;34m\u001b[0m\u001b[0m\n\u001b[1;32m     22\u001b[0m     \u001b[0;32mreturn\u001b[0m \u001b[0mnary_operator\u001b[0m\u001b[0;34m\u001b[0m\u001b[0;34m\u001b[0m\u001b[0m\n",
            "\u001b[0;32m/usr/local/lib/python3.11/dist-packages/pennylane/_grad.py\u001b[0m in \u001b[0;36m_grad_with_forward\u001b[0;34m(fun, x)\u001b[0m\n\u001b[1;32m    240\u001b[0m         \u001b[0mdifference\u001b[0m \u001b[0mbeing\u001b[0m \u001b[0mthat\u001b[0m \u001b[0mit\u001b[0m \u001b[0mreturns\u001b[0m \u001b[0mboth\u001b[0m \u001b[0mthe\u001b[0m \u001b[0mgradient\u001b[0m \u001b[0;34m*\u001b[0m\u001b[0;32mand\u001b[0m\u001b[0;34m*\u001b[0m \u001b[0mthe\u001b[0m \u001b[0mforward\u001b[0m \u001b[0;32mpass\u001b[0m\u001b[0;34m\u001b[0m\u001b[0;34m\u001b[0m\u001b[0m\n\u001b[1;32m    241\u001b[0m         value.\"\"\"\n\u001b[0;32m--> 242\u001b[0;31m         \u001b[0mvjp\u001b[0m\u001b[0;34m,\u001b[0m \u001b[0mans\u001b[0m \u001b[0;34m=\u001b[0m \u001b[0m_make_vjp\u001b[0m\u001b[0;34m(\u001b[0m\u001b[0mfun\u001b[0m\u001b[0;34m,\u001b[0m \u001b[0mx\u001b[0m\u001b[0;34m)\u001b[0m  \u001b[0;31m# pylint: disable=redefined-outer-name\u001b[0m\u001b[0;34m\u001b[0m\u001b[0;34m\u001b[0m\u001b[0m\n\u001b[0m\u001b[1;32m    243\u001b[0m \u001b[0;34m\u001b[0m\u001b[0m\n\u001b[1;32m    244\u001b[0m         \u001b[0;32mif\u001b[0m \u001b[0mvspace\u001b[0m\u001b[0;34m(\u001b[0m\u001b[0mans\u001b[0m\u001b[0;34m)\u001b[0m\u001b[0;34m.\u001b[0m\u001b[0msize\u001b[0m \u001b[0;34m!=\u001b[0m \u001b[0;36m1\u001b[0m\u001b[0;34m:\u001b[0m\u001b[0;34m\u001b[0m\u001b[0;34m\u001b[0m\u001b[0m\n",
            "\u001b[0;32m/usr/local/lib/python3.11/dist-packages/autograd/core.py\u001b[0m in \u001b[0;36mmake_vjp\u001b[0;34m(fun, x)\u001b[0m\n\u001b[1;32m      8\u001b[0m \u001b[0;32mdef\u001b[0m \u001b[0mmake_vjp\u001b[0m\u001b[0;34m(\u001b[0m\u001b[0mfun\u001b[0m\u001b[0;34m,\u001b[0m \u001b[0mx\u001b[0m\u001b[0;34m)\u001b[0m\u001b[0;34m:\u001b[0m\u001b[0;34m\u001b[0m\u001b[0;34m\u001b[0m\u001b[0m\n\u001b[1;32m      9\u001b[0m     \u001b[0mstart_node\u001b[0m \u001b[0;34m=\u001b[0m \u001b[0mVJPNode\u001b[0m\u001b[0;34m.\u001b[0m\u001b[0mnew_root\u001b[0m\u001b[0;34m(\u001b[0m\u001b[0;34m)\u001b[0m\u001b[0;34m\u001b[0m\u001b[0;34m\u001b[0m\u001b[0m\n\u001b[0;32m---> 10\u001b[0;31m     \u001b[0mend_value\u001b[0m\u001b[0;34m,\u001b[0m \u001b[0mend_node\u001b[0m \u001b[0;34m=\u001b[0m  \u001b[0mtrace\u001b[0m\u001b[0;34m(\u001b[0m\u001b[0mstart_node\u001b[0m\u001b[0;34m,\u001b[0m \u001b[0mfun\u001b[0m\u001b[0;34m,\u001b[0m \u001b[0mx\u001b[0m\u001b[0;34m)\u001b[0m\u001b[0;34m\u001b[0m\u001b[0;34m\u001b[0m\u001b[0m\n\u001b[0m\u001b[1;32m     11\u001b[0m     \u001b[0;32mif\u001b[0m \u001b[0mend_node\u001b[0m \u001b[0;32mis\u001b[0m \u001b[0;32mNone\u001b[0m\u001b[0;34m:\u001b[0m\u001b[0;34m\u001b[0m\u001b[0;34m\u001b[0m\u001b[0m\n\u001b[1;32m     12\u001b[0m         \u001b[0;32mdef\u001b[0m \u001b[0mvjp\u001b[0m\u001b[0;34m(\u001b[0m\u001b[0mg\u001b[0m\u001b[0;34m)\u001b[0m\u001b[0;34m:\u001b[0m \u001b[0;32mreturn\u001b[0m \u001b[0mvspace\u001b[0m\u001b[0;34m(\u001b[0m\u001b[0mx\u001b[0m\u001b[0;34m)\u001b[0m\u001b[0;34m.\u001b[0m\u001b[0mzeros\u001b[0m\u001b[0;34m(\u001b[0m\u001b[0;34m)\u001b[0m\u001b[0;34m\u001b[0m\u001b[0;34m\u001b[0m\u001b[0m\n",
            "\u001b[0;32m/usr/local/lib/python3.11/dist-packages/autograd/tracer.py\u001b[0m in \u001b[0;36mtrace\u001b[0;34m(start_node, fun, x)\u001b[0m\n\u001b[1;32m      8\u001b[0m     \u001b[0;32mwith\u001b[0m \u001b[0mtrace_stack\u001b[0m\u001b[0;34m.\u001b[0m\u001b[0mnew_trace\u001b[0m\u001b[0;34m(\u001b[0m\u001b[0;34m)\u001b[0m \u001b[0;32mas\u001b[0m \u001b[0mt\u001b[0m\u001b[0;34m:\u001b[0m\u001b[0;34m\u001b[0m\u001b[0;34m\u001b[0m\u001b[0m\n\u001b[1;32m      9\u001b[0m         \u001b[0mstart_box\u001b[0m \u001b[0;34m=\u001b[0m \u001b[0mnew_box\u001b[0m\u001b[0;34m(\u001b[0m\u001b[0mx\u001b[0m\u001b[0;34m,\u001b[0m \u001b[0mt\u001b[0m\u001b[0;34m,\u001b[0m \u001b[0mstart_node\u001b[0m\u001b[0;34m)\u001b[0m\u001b[0;34m\u001b[0m\u001b[0;34m\u001b[0m\u001b[0m\n\u001b[0;32m---> 10\u001b[0;31m         \u001b[0mend_box\u001b[0m \u001b[0;34m=\u001b[0m \u001b[0mfun\u001b[0m\u001b[0;34m(\u001b[0m\u001b[0mstart_box\u001b[0m\u001b[0;34m)\u001b[0m\u001b[0;34m\u001b[0m\u001b[0;34m\u001b[0m\u001b[0m\n\u001b[0m\u001b[1;32m     11\u001b[0m         \u001b[0;32mif\u001b[0m \u001b[0misbox\u001b[0m\u001b[0;34m(\u001b[0m\u001b[0mend_box\u001b[0m\u001b[0;34m)\u001b[0m \u001b[0;32mand\u001b[0m \u001b[0mend_box\u001b[0m\u001b[0;34m.\u001b[0m\u001b[0m_trace\u001b[0m \u001b[0;34m==\u001b[0m \u001b[0mstart_box\u001b[0m\u001b[0;34m.\u001b[0m\u001b[0m_trace\u001b[0m\u001b[0;34m:\u001b[0m\u001b[0;34m\u001b[0m\u001b[0;34m\u001b[0m\u001b[0m\n\u001b[1;32m     12\u001b[0m             \u001b[0;32mreturn\u001b[0m \u001b[0mend_box\u001b[0m\u001b[0;34m.\u001b[0m\u001b[0m_value\u001b[0m\u001b[0;34m,\u001b[0m \u001b[0mend_box\u001b[0m\u001b[0;34m.\u001b[0m\u001b[0m_node\u001b[0m\u001b[0;34m\u001b[0m\u001b[0;34m\u001b[0m\u001b[0m\n",
            "\u001b[0;32m/usr/local/lib/python3.11/dist-packages/autograd/wrap_util.py\u001b[0m in \u001b[0;36munary_f\u001b[0;34m(x)\u001b[0m\n\u001b[1;32m     13\u001b[0m                 \u001b[0;32melse\u001b[0m\u001b[0;34m:\u001b[0m\u001b[0;34m\u001b[0m\u001b[0;34m\u001b[0m\u001b[0m\n\u001b[1;32m     14\u001b[0m                     \u001b[0msubargs\u001b[0m \u001b[0;34m=\u001b[0m \u001b[0msubvals\u001b[0m\u001b[0;34m(\u001b[0m\u001b[0margs\u001b[0m\u001b[0;34m,\u001b[0m \u001b[0mzip\u001b[0m\u001b[0;34m(\u001b[0m\u001b[0margnum\u001b[0m\u001b[0;34m,\u001b[0m \u001b[0mx\u001b[0m\u001b[0;34m)\u001b[0m\u001b[0;34m)\u001b[0m\u001b[0;34m\u001b[0m\u001b[0;34m\u001b[0m\u001b[0m\n\u001b[0;32m---> 15\u001b[0;31m                 \u001b[0;32mreturn\u001b[0m \u001b[0mfun\u001b[0m\u001b[0;34m(\u001b[0m\u001b[0;34m*\u001b[0m\u001b[0msubargs\u001b[0m\u001b[0;34m,\u001b[0m \u001b[0;34m**\u001b[0m\u001b[0mkwargs\u001b[0m\u001b[0;34m)\u001b[0m\u001b[0;34m\u001b[0m\u001b[0;34m\u001b[0m\u001b[0m\n\u001b[0m\u001b[1;32m     16\u001b[0m             \u001b[0;32mif\u001b[0m \u001b[0misinstance\u001b[0m\u001b[0;34m(\u001b[0m\u001b[0margnum\u001b[0m\u001b[0;34m,\u001b[0m \u001b[0mint\u001b[0m\u001b[0;34m)\u001b[0m\u001b[0;34m:\u001b[0m\u001b[0;34m\u001b[0m\u001b[0;34m\u001b[0m\u001b[0m\n\u001b[1;32m     17\u001b[0m                 \u001b[0mx\u001b[0m \u001b[0;34m=\u001b[0m \u001b[0margs\u001b[0m\u001b[0;34m[\u001b[0m\u001b[0margnum\u001b[0m\u001b[0;34m]\u001b[0m\u001b[0;34m\u001b[0m\u001b[0;34m\u001b[0m\u001b[0m\n",
            "\u001b[0;32m/usr/local/lib/python3.11/dist-packages/pennylane/workflow/qnode.py\u001b[0m in \u001b[0;36m__call__\u001b[0;34m(self, *args, **kwargs)\u001b[0m\n\u001b[1;32m    903\u001b[0m         \u001b[0;32mif\u001b[0m \u001b[0mqml\u001b[0m\u001b[0;34m.\u001b[0m\u001b[0mcapture\u001b[0m\u001b[0;34m.\u001b[0m\u001b[0menabled\u001b[0m\u001b[0;34m(\u001b[0m\u001b[0;34m)\u001b[0m\u001b[0;34m:\u001b[0m\u001b[0;34m\u001b[0m\u001b[0;34m\u001b[0m\u001b[0m\n\u001b[1;32m    904\u001b[0m             \u001b[0;32mreturn\u001b[0m \u001b[0mcapture_qnode\u001b[0m\u001b[0;34m(\u001b[0m\u001b[0mself\u001b[0m\u001b[0;34m,\u001b[0m \u001b[0;34m*\u001b[0m\u001b[0margs\u001b[0m\u001b[0;34m,\u001b[0m \u001b[0;34m**\u001b[0m\u001b[0mkwargs\u001b[0m\u001b[0;34m)\u001b[0m\u001b[0;34m\u001b[0m\u001b[0;34m\u001b[0m\u001b[0m\n\u001b[0;32m--> 905\u001b[0;31m         \u001b[0;32mreturn\u001b[0m \u001b[0mself\u001b[0m\u001b[0;34m.\u001b[0m\u001b[0m_impl_call\u001b[0m\u001b[0;34m(\u001b[0m\u001b[0;34m*\u001b[0m\u001b[0margs\u001b[0m\u001b[0;34m,\u001b[0m \u001b[0;34m**\u001b[0m\u001b[0mkwargs\u001b[0m\u001b[0;34m)\u001b[0m\u001b[0;34m\u001b[0m\u001b[0;34m\u001b[0m\u001b[0m\n\u001b[0m\u001b[1;32m    906\u001b[0m \u001b[0;34m\u001b[0m\u001b[0m\n\u001b[1;32m    907\u001b[0m \u001b[0;34m\u001b[0m\u001b[0m\n",
            "\u001b[0;32m/usr/local/lib/python3.11/dist-packages/pennylane/workflow/qnode.py\u001b[0m in \u001b[0;36m_impl_call\u001b[0;34m(self, *args, **kwargs)\u001b[0m\n\u001b[1;32m    879\u001b[0m         \u001b[0mself\u001b[0m\u001b[0;34m.\u001b[0m\u001b[0m_transform_program\u001b[0m\u001b[0;34m.\u001b[0m\u001b[0mset_classical_component\u001b[0m\u001b[0;34m(\u001b[0m\u001b[0mself\u001b[0m\u001b[0;34m,\u001b[0m \u001b[0margs\u001b[0m\u001b[0;34m,\u001b[0m \u001b[0mkwargs\u001b[0m\u001b[0;34m)\u001b[0m\u001b[0;34m\u001b[0m\u001b[0;34m\u001b[0m\u001b[0m\n\u001b[1;32m    880\u001b[0m \u001b[0;34m\u001b[0m\u001b[0m\n\u001b[0;32m--> 881\u001b[0;31m         res = qml.execute(\n\u001b[0m\u001b[1;32m    882\u001b[0m             \u001b[0;34m(\u001b[0m\u001b[0mtape\u001b[0m\u001b[0;34m,\u001b[0m\u001b[0;34m)\u001b[0m\u001b[0;34m,\u001b[0m\u001b[0;34m\u001b[0m\u001b[0;34m\u001b[0m\u001b[0m\n\u001b[1;32m    883\u001b[0m             \u001b[0mdevice\u001b[0m\u001b[0;34m=\u001b[0m\u001b[0mself\u001b[0m\u001b[0;34m.\u001b[0m\u001b[0mdevice\u001b[0m\u001b[0;34m,\u001b[0m\u001b[0;34m\u001b[0m\u001b[0;34m\u001b[0m\u001b[0m\n",
            "\u001b[0;32m/usr/local/lib/python3.11/dist-packages/pennylane/workflow/execution.py\u001b[0m in \u001b[0;36mexecute\u001b[0;34m(tapes, device, diff_method, interface, transform_program, inner_transform, config, grad_on_execution, gradient_kwargs, cache, cachesize, max_diff, device_vjp, mcm_config, gradient_fn)\u001b[0m\n\u001b[1;32m    230\u001b[0m         \u001b[0;32mreturn\u001b[0m \u001b[0mpost_processing\u001b[0m\u001b[0;34m(\u001b[0m\u001b[0mtapes\u001b[0m\u001b[0;34m)\u001b[0m\u001b[0;34m\u001b[0m\u001b[0;34m\u001b[0m\u001b[0m\n\u001b[1;32m    231\u001b[0m \u001b[0;34m\u001b[0m\u001b[0m\n\u001b[0;32m--> 232\u001b[0;31m     \u001b[0mresults\u001b[0m \u001b[0;34m=\u001b[0m \u001b[0mrun\u001b[0m\u001b[0;34m(\u001b[0m\u001b[0mtapes\u001b[0m\u001b[0;34m,\u001b[0m \u001b[0mdevice\u001b[0m\u001b[0;34m,\u001b[0m \u001b[0mconfig\u001b[0m\u001b[0;34m,\u001b[0m \u001b[0minner_transform\u001b[0m\u001b[0;34m)\u001b[0m\u001b[0;34m\u001b[0m\u001b[0;34m\u001b[0m\u001b[0m\n\u001b[0m\u001b[1;32m    233\u001b[0m     \u001b[0;32mreturn\u001b[0m \u001b[0mpost_processing\u001b[0m\u001b[0;34m(\u001b[0m\u001b[0mresults\u001b[0m\u001b[0;34m)\u001b[0m\u001b[0;34m\u001b[0m\u001b[0;34m\u001b[0m\u001b[0m\n",
            "\u001b[0;32m/usr/local/lib/python3.11/dist-packages/pennylane/workflow/run.py\u001b[0m in \u001b[0;36mrun\u001b[0;34m(tapes, device, config, inner_transform_program)\u001b[0m\n\u001b[1;32m    285\u001b[0m     )\n\u001b[1;32m    286\u001b[0m     \u001b[0;32mif\u001b[0m \u001b[0mno_interface_boundary_required\u001b[0m\u001b[0;34m:\u001b[0m\u001b[0;34m\u001b[0m\u001b[0;34m\u001b[0m\u001b[0m\n\u001b[0;32m--> 287\u001b[0;31m         \u001b[0mresults\u001b[0m \u001b[0;34m=\u001b[0m \u001b[0minner_execute\u001b[0m\u001b[0;34m(\u001b[0m\u001b[0mtapes\u001b[0m\u001b[0;34m)\u001b[0m\u001b[0;34m\u001b[0m\u001b[0;34m\u001b[0m\u001b[0m\n\u001b[0m\u001b[1;32m    288\u001b[0m         \u001b[0;32mreturn\u001b[0m \u001b[0mresults\u001b[0m\u001b[0;34m\u001b[0m\u001b[0;34m\u001b[0m\u001b[0m\n\u001b[1;32m    289\u001b[0m \u001b[0;34m\u001b[0m\u001b[0m\n",
            "\u001b[0;32m/usr/local/lib/python3.11/dist-packages/pennylane/workflow/run.py\u001b[0m in \u001b[0;36minner_execute\u001b[0;34m(tapes)\u001b[0m\n\u001b[1;32m    245\u001b[0m \u001b[0;34m\u001b[0m\u001b[0m\n\u001b[1;32m    246\u001b[0m         \u001b[0;32mif\u001b[0m \u001b[0mtransformed_tapes\u001b[0m\u001b[0;34m:\u001b[0m\u001b[0;34m\u001b[0m\u001b[0;34m\u001b[0m\u001b[0m\n\u001b[0;32m--> 247\u001b[0;31m             \u001b[0mresults\u001b[0m \u001b[0;34m=\u001b[0m \u001b[0mdevice\u001b[0m\u001b[0;34m.\u001b[0m\u001b[0mexecute\u001b[0m\u001b[0;34m(\u001b[0m\u001b[0mtransformed_tapes\u001b[0m\u001b[0;34m,\u001b[0m \u001b[0mexecution_config\u001b[0m\u001b[0;34m=\u001b[0m\u001b[0mexecution_config\u001b[0m\u001b[0;34m)\u001b[0m\u001b[0;34m\u001b[0m\u001b[0;34m\u001b[0m\u001b[0m\n\u001b[0m\u001b[1;32m    248\u001b[0m         \u001b[0;32melse\u001b[0m\u001b[0;34m:\u001b[0m\u001b[0;34m\u001b[0m\u001b[0;34m\u001b[0m\u001b[0m\n\u001b[1;32m    249\u001b[0m             \u001b[0mresults\u001b[0m \u001b[0;34m=\u001b[0m \u001b[0;34m(\u001b[0m\u001b[0;34m)\u001b[0m\u001b[0;34m\u001b[0m\u001b[0;34m\u001b[0m\u001b[0m\n",
            "\u001b[0;32m/usr/local/lib/python3.11/dist-packages/pennylane/devices/modifiers/simulator_tracking.py\u001b[0m in \u001b[0;36mexecute\u001b[0;34m(self, circuits, execution_config)\u001b[0m\n\u001b[1;32m     28\u001b[0m     \u001b[0;34m@\u001b[0m\u001b[0mwraps\u001b[0m\u001b[0;34m(\u001b[0m\u001b[0muntracked_execute\u001b[0m\u001b[0;34m)\u001b[0m\u001b[0;34m\u001b[0m\u001b[0;34m\u001b[0m\u001b[0m\n\u001b[1;32m     29\u001b[0m     \u001b[0;32mdef\u001b[0m \u001b[0mexecute\u001b[0m\u001b[0;34m(\u001b[0m\u001b[0mself\u001b[0m\u001b[0;34m,\u001b[0m \u001b[0mcircuits\u001b[0m\u001b[0;34m,\u001b[0m \u001b[0mexecution_config\u001b[0m\u001b[0;34m=\u001b[0m\u001b[0mDefaultExecutionConfig\u001b[0m\u001b[0;34m)\u001b[0m\u001b[0;34m:\u001b[0m\u001b[0;34m\u001b[0m\u001b[0;34m\u001b[0m\u001b[0m\n\u001b[0;32m---> 30\u001b[0;31m         \u001b[0mresults\u001b[0m \u001b[0;34m=\u001b[0m \u001b[0muntracked_execute\u001b[0m\u001b[0;34m(\u001b[0m\u001b[0mself\u001b[0m\u001b[0;34m,\u001b[0m \u001b[0mcircuits\u001b[0m\u001b[0;34m,\u001b[0m \u001b[0mexecution_config\u001b[0m\u001b[0;34m)\u001b[0m\u001b[0;34m\u001b[0m\u001b[0;34m\u001b[0m\u001b[0m\n\u001b[0m\u001b[1;32m     31\u001b[0m         \u001b[0;32mif\u001b[0m \u001b[0misinstance\u001b[0m\u001b[0;34m(\u001b[0m\u001b[0mcircuits\u001b[0m\u001b[0;34m,\u001b[0m \u001b[0mQuantumScript\u001b[0m\u001b[0;34m)\u001b[0m\u001b[0;34m:\u001b[0m\u001b[0;34m\u001b[0m\u001b[0;34m\u001b[0m\u001b[0m\n\u001b[1;32m     32\u001b[0m             \u001b[0mbatch\u001b[0m \u001b[0;34m=\u001b[0m \u001b[0;34m(\u001b[0m\u001b[0mcircuits\u001b[0m\u001b[0;34m,\u001b[0m\u001b[0;34m)\u001b[0m\u001b[0;34m\u001b[0m\u001b[0;34m\u001b[0m\u001b[0m\n",
            "\u001b[0;32m/usr/local/lib/python3.11/dist-packages/pennylane/devices/modifiers/single_tape_support.py\u001b[0m in \u001b[0;36mexecute\u001b[0;34m(self, circuits, execution_config)\u001b[0m\n\u001b[1;32m     30\u001b[0m             \u001b[0mis_single_circuit\u001b[0m \u001b[0;34m=\u001b[0m \u001b[0;32mTrue\u001b[0m\u001b[0;34m\u001b[0m\u001b[0;34m\u001b[0m\u001b[0m\n\u001b[1;32m     31\u001b[0m             \u001b[0mcircuits\u001b[0m \u001b[0;34m=\u001b[0m \u001b[0;34m(\u001b[0m\u001b[0mcircuits\u001b[0m\u001b[0;34m,\u001b[0m\u001b[0;34m)\u001b[0m\u001b[0;34m\u001b[0m\u001b[0;34m\u001b[0m\u001b[0m\n\u001b[0;32m---> 32\u001b[0;31m         \u001b[0mresults\u001b[0m \u001b[0;34m=\u001b[0m \u001b[0mbatch_execute\u001b[0m\u001b[0;34m(\u001b[0m\u001b[0mself\u001b[0m\u001b[0;34m,\u001b[0m \u001b[0mcircuits\u001b[0m\u001b[0;34m,\u001b[0m \u001b[0mexecution_config\u001b[0m\u001b[0;34m)\u001b[0m\u001b[0;34m\u001b[0m\u001b[0;34m\u001b[0m\u001b[0m\n\u001b[0m\u001b[1;32m     33\u001b[0m         \u001b[0;32mreturn\u001b[0m \u001b[0mresults\u001b[0m\u001b[0;34m[\u001b[0m\u001b[0;36m0\u001b[0m\u001b[0;34m]\u001b[0m \u001b[0;32mif\u001b[0m \u001b[0mis_single_circuit\u001b[0m \u001b[0;32melse\u001b[0m \u001b[0mresults\u001b[0m\u001b[0;34m\u001b[0m\u001b[0;34m\u001b[0m\u001b[0m\n\u001b[1;32m     34\u001b[0m \u001b[0;34m\u001b[0m\u001b[0m\n",
            "\u001b[0;32m/usr/local/lib/python3.11/dist-packages/pennylane/logging/decorators.py\u001b[0m in \u001b[0;36mwrapper_entry\u001b[0;34m(*args, **kwargs)\u001b[0m\n\u001b[1;32m     59\u001b[0m                 \u001b[0;34m**\u001b[0m\u001b[0m_debug_log_kwargs\u001b[0m\u001b[0;34m,\u001b[0m\u001b[0;34m\u001b[0m\u001b[0;34m\u001b[0m\u001b[0m\n\u001b[1;32m     60\u001b[0m             )\n\u001b[0;32m---> 61\u001b[0;31m         \u001b[0;32mreturn\u001b[0m \u001b[0mfunc\u001b[0m\u001b[0;34m(\u001b[0m\u001b[0;34m*\u001b[0m\u001b[0margs\u001b[0m\u001b[0;34m,\u001b[0m \u001b[0;34m**\u001b[0m\u001b[0mkwargs\u001b[0m\u001b[0;34m)\u001b[0m\u001b[0;34m\u001b[0m\u001b[0;34m\u001b[0m\u001b[0m\n\u001b[0m\u001b[1;32m     62\u001b[0m \u001b[0;34m\u001b[0m\u001b[0m\n\u001b[1;32m     63\u001b[0m     \u001b[0;34m@\u001b[0m\u001b[0mwraps\u001b[0m\u001b[0;34m(\u001b[0m\u001b[0mfunc\u001b[0m\u001b[0;34m)\u001b[0m\u001b[0;34m\u001b[0m\u001b[0;34m\u001b[0m\u001b[0m\n",
            "\u001b[0;32m/usr/local/lib/python3.11/dist-packages/pennylane/devices/default_qubit.py\u001b[0m in \u001b[0;36mexecute\u001b[0;34m(self, circuits, execution_config)\u001b[0m\n\u001b[1;32m    628\u001b[0m \u001b[0;34m\u001b[0m\u001b[0m\n\u001b[1;32m    629\u001b[0m         \u001b[0;32mif\u001b[0m \u001b[0mmax_workers\u001b[0m \u001b[0;32mis\u001b[0m \u001b[0;32mNone\u001b[0m\u001b[0;34m:\u001b[0m\u001b[0;34m\u001b[0m\u001b[0;34m\u001b[0m\u001b[0m\n\u001b[0;32m--> 630\u001b[0;31m             return tuple(\n\u001b[0m\u001b[1;32m    631\u001b[0m                 _simulate_wrapper(\n\u001b[1;32m    632\u001b[0m                     \u001b[0mc\u001b[0m\u001b[0;34m,\u001b[0m\u001b[0;34m\u001b[0m\u001b[0;34m\u001b[0m\u001b[0m\n",
            "\u001b[0;32m/usr/local/lib/python3.11/dist-packages/pennylane/devices/default_qubit.py\u001b[0m in \u001b[0;36m<genexpr>\u001b[0;34m(.0)\u001b[0m\n\u001b[1;32m    629\u001b[0m         \u001b[0;32mif\u001b[0m \u001b[0mmax_workers\u001b[0m \u001b[0;32mis\u001b[0m \u001b[0;32mNone\u001b[0m\u001b[0;34m:\u001b[0m\u001b[0;34m\u001b[0m\u001b[0;34m\u001b[0m\u001b[0m\n\u001b[1;32m    630\u001b[0m             return tuple(\n\u001b[0;32m--> 631\u001b[0;31m                 _simulate_wrapper(\n\u001b[0m\u001b[1;32m    632\u001b[0m                     \u001b[0mc\u001b[0m\u001b[0;34m,\u001b[0m\u001b[0;34m\u001b[0m\u001b[0;34m\u001b[0m\u001b[0m\n\u001b[1;32m    633\u001b[0m                     {\n",
            "\u001b[0;32m/usr/local/lib/python3.11/dist-packages/pennylane/devices/default_qubit.py\u001b[0m in \u001b[0;36m_simulate_wrapper\u001b[0;34m(circuit, kwargs)\u001b[0m\n\u001b[1;32m    916\u001b[0m \u001b[0;34m\u001b[0m\u001b[0m\n\u001b[1;32m    917\u001b[0m \u001b[0;32mdef\u001b[0m \u001b[0m_simulate_wrapper\u001b[0m\u001b[0;34m(\u001b[0m\u001b[0mcircuit\u001b[0m\u001b[0;34m,\u001b[0m \u001b[0mkwargs\u001b[0m\u001b[0;34m)\u001b[0m\u001b[0;34m:\u001b[0m\u001b[0;34m\u001b[0m\u001b[0;34m\u001b[0m\u001b[0m\n\u001b[0;32m--> 918\u001b[0;31m     \u001b[0;32mreturn\u001b[0m \u001b[0msimulate\u001b[0m\u001b[0;34m(\u001b[0m\u001b[0mcircuit\u001b[0m\u001b[0;34m,\u001b[0m \u001b[0;34m**\u001b[0m\u001b[0mkwargs\u001b[0m\u001b[0;34m)\u001b[0m\u001b[0;34m\u001b[0m\u001b[0;34m\u001b[0m\u001b[0m\n\u001b[0m\u001b[1;32m    919\u001b[0m \u001b[0;34m\u001b[0m\u001b[0m\n\u001b[1;32m    920\u001b[0m \u001b[0;34m\u001b[0m\u001b[0m\n",
            "\u001b[0;32m/usr/local/lib/python3.11/dist-packages/pennylane/logging/decorators.py\u001b[0m in \u001b[0;36mwrapper_entry\u001b[0;34m(*args, **kwargs)\u001b[0m\n\u001b[1;32m     59\u001b[0m                 \u001b[0;34m**\u001b[0m\u001b[0m_debug_log_kwargs\u001b[0m\u001b[0;34m,\u001b[0m\u001b[0;34m\u001b[0m\u001b[0;34m\u001b[0m\u001b[0m\n\u001b[1;32m     60\u001b[0m             )\n\u001b[0;32m---> 61\u001b[0;31m         \u001b[0;32mreturn\u001b[0m \u001b[0mfunc\u001b[0m\u001b[0;34m(\u001b[0m\u001b[0;34m*\u001b[0m\u001b[0margs\u001b[0m\u001b[0;34m,\u001b[0m \u001b[0;34m**\u001b[0m\u001b[0mkwargs\u001b[0m\u001b[0;34m)\u001b[0m\u001b[0;34m\u001b[0m\u001b[0;34m\u001b[0m\u001b[0m\n\u001b[0m\u001b[1;32m     62\u001b[0m \u001b[0;34m\u001b[0m\u001b[0m\n\u001b[1;32m     63\u001b[0m     \u001b[0;34m@\u001b[0m\u001b[0mwraps\u001b[0m\u001b[0;34m(\u001b[0m\u001b[0mfunc\u001b[0m\u001b[0;34m)\u001b[0m\u001b[0;34m\u001b[0m\u001b[0;34m\u001b[0m\u001b[0m\n",
            "\u001b[0;32m/usr/local/lib/python3.11/dist-packages/pennylane/devices/qubit/simulate.py\u001b[0m in \u001b[0;36msimulate\u001b[0;34m(circuit, debugger, state_cache, **execution_kwargs)\u001b[0m\n\u001b[1;32m    360\u001b[0m     \u001b[0;32mif\u001b[0m \u001b[0mstate_cache\u001b[0m \u001b[0;32mis\u001b[0m \u001b[0;32mnot\u001b[0m \u001b[0;32mNone\u001b[0m\u001b[0;34m:\u001b[0m\u001b[0;34m\u001b[0m\u001b[0;34m\u001b[0m\u001b[0m\n\u001b[1;32m    361\u001b[0m         \u001b[0mstate_cache\u001b[0m\u001b[0;34m[\u001b[0m\u001b[0mcircuit\u001b[0m\u001b[0;34m.\u001b[0m\u001b[0mhash\u001b[0m\u001b[0;34m]\u001b[0m \u001b[0;34m=\u001b[0m \u001b[0mstate\u001b[0m\u001b[0;34m\u001b[0m\u001b[0;34m\u001b[0m\u001b[0m\n\u001b[0;32m--> 362\u001b[0;31m     return measure_final_state(\n\u001b[0m\u001b[1;32m    363\u001b[0m         \u001b[0mcircuit\u001b[0m\u001b[0;34m,\u001b[0m \u001b[0mstate\u001b[0m\u001b[0;34m,\u001b[0m \u001b[0mis_state_batched\u001b[0m\u001b[0;34m,\u001b[0m \u001b[0mprng_key\u001b[0m\u001b[0;34m=\u001b[0m\u001b[0mmeas_key\u001b[0m\u001b[0;34m,\u001b[0m \u001b[0;34m**\u001b[0m\u001b[0mexecution_kwargs\u001b[0m\u001b[0;34m\u001b[0m\u001b[0;34m\u001b[0m\u001b[0m\n\u001b[1;32m    364\u001b[0m     )\n",
            "\u001b[0;32m/usr/local/lib/python3.11/dist-packages/pennylane/logging/decorators.py\u001b[0m in \u001b[0;36mwrapper_entry\u001b[0;34m(*args, **kwargs)\u001b[0m\n\u001b[1;32m     59\u001b[0m                 \u001b[0;34m**\u001b[0m\u001b[0m_debug_log_kwargs\u001b[0m\u001b[0;34m,\u001b[0m\u001b[0;34m\u001b[0m\u001b[0;34m\u001b[0m\u001b[0m\n\u001b[1;32m     60\u001b[0m             )\n\u001b[0;32m---> 61\u001b[0;31m         \u001b[0;32mreturn\u001b[0m \u001b[0mfunc\u001b[0m\u001b[0;34m(\u001b[0m\u001b[0;34m*\u001b[0m\u001b[0margs\u001b[0m\u001b[0;34m,\u001b[0m \u001b[0;34m**\u001b[0m\u001b[0mkwargs\u001b[0m\u001b[0;34m)\u001b[0m\u001b[0;34m\u001b[0m\u001b[0;34m\u001b[0m\u001b[0m\n\u001b[0m\u001b[1;32m     62\u001b[0m \u001b[0;34m\u001b[0m\u001b[0m\n\u001b[1;32m     63\u001b[0m     \u001b[0;34m@\u001b[0m\u001b[0mwraps\u001b[0m\u001b[0;34m(\u001b[0m\u001b[0mfunc\u001b[0m\u001b[0;34m)\u001b[0m\u001b[0;34m\u001b[0m\u001b[0;34m\u001b[0m\u001b[0m\n",
            "\u001b[0;32m/usr/local/lib/python3.11/dist-packages/pennylane/devices/qubit/simulate.py\u001b[0m in \u001b[0;36mmeasure_final_state\u001b[0;34m(circuit, state, is_state_batched, **execution_kwargs)\u001b[0m\n\u001b[1;32m    252\u001b[0m \u001b[0;34m\u001b[0m\u001b[0m\n\u001b[1;32m    253\u001b[0m         \u001b[0;32mif\u001b[0m \u001b[0mlen\u001b[0m\u001b[0;34m(\u001b[0m\u001b[0mcircuit\u001b[0m\u001b[0;34m.\u001b[0m\u001b[0mmeasurements\u001b[0m\u001b[0;34m)\u001b[0m \u001b[0;34m==\u001b[0m \u001b[0;36m1\u001b[0m\u001b[0;34m:\u001b[0m\u001b[0;34m\u001b[0m\u001b[0;34m\u001b[0m\u001b[0m\n\u001b[0;32m--> 254\u001b[0;31m             \u001b[0;32mreturn\u001b[0m \u001b[0mmeasure\u001b[0m\u001b[0;34m(\u001b[0m\u001b[0mcircuit\u001b[0m\u001b[0;34m.\u001b[0m\u001b[0mmeasurements\u001b[0m\u001b[0;34m[\u001b[0m\u001b[0;36m0\u001b[0m\u001b[0;34m]\u001b[0m\u001b[0;34m,\u001b[0m \u001b[0mstate\u001b[0m\u001b[0;34m,\u001b[0m \u001b[0mis_state_batched\u001b[0m\u001b[0;34m=\u001b[0m\u001b[0mis_state_batched\u001b[0m\u001b[0;34m)\u001b[0m\u001b[0;34m\u001b[0m\u001b[0;34m\u001b[0m\u001b[0m\n\u001b[0m\u001b[1;32m    255\u001b[0m \u001b[0;34m\u001b[0m\u001b[0m\n\u001b[1;32m    256\u001b[0m         return tuple(\n",
            "\u001b[0;32m/usr/local/lib/python3.11/dist-packages/pennylane/devices/qubit/measure.py\u001b[0m in \u001b[0;36mmeasure\u001b[0;34m(measurementprocess, state, is_state_batched)\u001b[0m\n\u001b[1;32m    236\u001b[0m         \u001b[0mTensorlike\u001b[0m\u001b[0;34m:\u001b[0m \u001b[0mthe\u001b[0m \u001b[0mresult\u001b[0m \u001b[0mof\u001b[0m \u001b[0mthe\u001b[0m \u001b[0mmeasurement\u001b[0m\u001b[0;34m\u001b[0m\u001b[0;34m\u001b[0m\u001b[0m\n\u001b[1;32m    237\u001b[0m     \"\"\"\n\u001b[0;32m--> 238\u001b[0;31m     return get_measurement_function(measurementprocess, state)(\n\u001b[0m\u001b[1;32m    239\u001b[0m         \u001b[0mmeasurementprocess\u001b[0m\u001b[0;34m,\u001b[0m \u001b[0mstate\u001b[0m\u001b[0;34m,\u001b[0m \u001b[0mis_state_batched\u001b[0m\u001b[0;34m\u001b[0m\u001b[0;34m\u001b[0m\u001b[0m\n\u001b[1;32m    240\u001b[0m     )\n",
            "\u001b[0;32m/usr/local/lib/python3.11/dist-packages/pennylane/devices/qubit/measure.py\u001b[0m in \u001b[0;36mstate_diagonalizing_gates\u001b[0;34m(measurementprocess, state, is_state_batched)\u001b[0m\n\u001b[1;32m     70\u001b[0m     \u001b[0mwires\u001b[0m \u001b[0;34m=\u001b[0m \u001b[0mWires\u001b[0m\u001b[0;34m(\u001b[0m\u001b[0mrange\u001b[0m\u001b[0;34m(\u001b[0m\u001b[0mtotal_indices\u001b[0m\u001b[0;34m)\u001b[0m\u001b[0;34m)\u001b[0m\u001b[0;34m\u001b[0m\u001b[0;34m\u001b[0m\u001b[0m\n\u001b[1;32m     71\u001b[0m     \u001b[0mflattened_state\u001b[0m \u001b[0;34m=\u001b[0m \u001b[0mflatten_state\u001b[0m\u001b[0;34m(\u001b[0m\u001b[0mstate\u001b[0m\u001b[0;34m,\u001b[0m \u001b[0mtotal_indices\u001b[0m\u001b[0;34m)\u001b[0m\u001b[0;34m\u001b[0m\u001b[0;34m\u001b[0m\u001b[0m\n\u001b[0;32m---> 72\u001b[0;31m     \u001b[0;32mreturn\u001b[0m \u001b[0mmeasurementprocess\u001b[0m\u001b[0;34m.\u001b[0m\u001b[0mprocess_state\u001b[0m\u001b[0;34m(\u001b[0m\u001b[0mflattened_state\u001b[0m\u001b[0;34m,\u001b[0m \u001b[0mwires\u001b[0m\u001b[0;34m)\u001b[0m\u001b[0;34m\u001b[0m\u001b[0;34m\u001b[0m\u001b[0m\n\u001b[0m\u001b[1;32m     73\u001b[0m \u001b[0;34m\u001b[0m\u001b[0m\n\u001b[1;32m     74\u001b[0m \u001b[0;34m\u001b[0m\u001b[0m\n",
            "\u001b[0;32m/usr/local/lib/python3.11/dist-packages/pennylane/measurements/expval.py\u001b[0m in \u001b[0;36mprocess_state\u001b[0;34m(self, state, wire_order)\u001b[0m\n\u001b[1;32m    138\u001b[0m             \u001b[0mprob\u001b[0m \u001b[0;34m=\u001b[0m \u001b[0mqml\u001b[0m\u001b[0;34m.\u001b[0m\u001b[0mprobs\u001b[0m\u001b[0;34m(\u001b[0m\u001b[0mwires\u001b[0m\u001b[0;34m=\u001b[0m\u001b[0mself\u001b[0m\u001b[0;34m.\u001b[0m\u001b[0mwires\u001b[0m\u001b[0;34m)\u001b[0m\u001b[0;34m.\u001b[0m\u001b[0mprocess_state\u001b[0m\u001b[0;34m(\u001b[0m\u001b[0mstate\u001b[0m\u001b[0;34m=\u001b[0m\u001b[0mstate\u001b[0m\u001b[0;34m,\u001b[0m \u001b[0mwire_order\u001b[0m\u001b[0;34m=\u001b[0m\u001b[0mwire_order\u001b[0m\u001b[0;34m)\u001b[0m\u001b[0;34m\u001b[0m\u001b[0;34m\u001b[0m\u001b[0m\n\u001b[1;32m    139\u001b[0m         \u001b[0;31m# In case of broadcasting, `prob` has two axes and this is a matrix-vector product\u001b[0m\u001b[0;34m\u001b[0m\u001b[0;34m\u001b[0m\u001b[0m\n\u001b[0;32m--> 140\u001b[0;31m         \u001b[0;32mreturn\u001b[0m \u001b[0mself\u001b[0m\u001b[0;34m.\u001b[0m\u001b[0m_calculate_expectation\u001b[0m\u001b[0;34m(\u001b[0m\u001b[0mprob\u001b[0m\u001b[0;34m)\u001b[0m\u001b[0;34m\u001b[0m\u001b[0;34m\u001b[0m\u001b[0m\n\u001b[0m\u001b[1;32m    141\u001b[0m \u001b[0;34m\u001b[0m\u001b[0m\n\u001b[1;32m    142\u001b[0m     \u001b[0;32mdef\u001b[0m \u001b[0mprocess_counts\u001b[0m\u001b[0;34m(\u001b[0m\u001b[0mself\u001b[0m\u001b[0;34m,\u001b[0m \u001b[0mcounts\u001b[0m\u001b[0;34m:\u001b[0m \u001b[0mdict\u001b[0m\u001b[0;34m,\u001b[0m \u001b[0mwire_order\u001b[0m\u001b[0;34m:\u001b[0m \u001b[0mWires\u001b[0m\u001b[0;34m)\u001b[0m\u001b[0;34m:\u001b[0m\u001b[0;34m\u001b[0m\u001b[0;34m\u001b[0m\u001b[0m\n",
            "\u001b[0;32m/usr/local/lib/python3.11/dist-packages/pennylane/measurements/expval.py\u001b[0m in \u001b[0;36m_calculate_expectation\u001b[0;34m(self, probabilities)\u001b[0m\n\u001b[1;32m    163\u001b[0m             \u001b[0mprobabilities\u001b[0m \u001b[0;34m(\u001b[0m\u001b[0marray\u001b[0m\u001b[0;34m)\u001b[0m\u001b[0;34m:\u001b[0m \u001b[0mthe\u001b[0m \u001b[0mprobabilities\u001b[0m \u001b[0mof\u001b[0m \u001b[0mcollapsing\u001b[0m \u001b[0mto\u001b[0m \u001b[0meigen\u001b[0m \u001b[0mstates\u001b[0m\u001b[0;34m\u001b[0m\u001b[0;34m\u001b[0m\u001b[0m\n\u001b[1;32m    164\u001b[0m         \"\"\"\n\u001b[0;32m--> 165\u001b[0;31m         \u001b[0meigvals\u001b[0m \u001b[0;34m=\u001b[0m \u001b[0mqml\u001b[0m\u001b[0;34m.\u001b[0m\u001b[0mmath\u001b[0m\u001b[0;34m.\u001b[0m\u001b[0mcast_like\u001b[0m\u001b[0;34m(\u001b[0m\u001b[0mself\u001b[0m\u001b[0;34m.\u001b[0m\u001b[0meigvals\u001b[0m\u001b[0;34m(\u001b[0m\u001b[0;34m)\u001b[0m\u001b[0;34m,\u001b[0m \u001b[0;36m1.0\u001b[0m\u001b[0;34m)\u001b[0m\u001b[0;34m\u001b[0m\u001b[0;34m\u001b[0m\u001b[0m\n\u001b[0m\u001b[1;32m    166\u001b[0m         \u001b[0;32mreturn\u001b[0m \u001b[0mqml\u001b[0m\u001b[0;34m.\u001b[0m\u001b[0mmath\u001b[0m\u001b[0;34m.\u001b[0m\u001b[0mdot\u001b[0m\u001b[0;34m(\u001b[0m\u001b[0mprobabilities\u001b[0m\u001b[0;34m,\u001b[0m \u001b[0meigvals\u001b[0m\u001b[0;34m)\u001b[0m\u001b[0;34m\u001b[0m\u001b[0;34m\u001b[0m\u001b[0m\n",
            "\u001b[0;32m/usr/local/lib/python3.11/dist-packages/pennylane/measurements/measurements.py\u001b[0m in \u001b[0;36meigvals\u001b[0;34m(self)\u001b[0m\n\u001b[1;32m    416\u001b[0m         \u001b[0;32mif\u001b[0m \u001b[0mself\u001b[0m\u001b[0;34m.\u001b[0m\u001b[0mobs\u001b[0m \u001b[0;32mis\u001b[0m \u001b[0;32mnot\u001b[0m \u001b[0;32mNone\u001b[0m\u001b[0;34m:\u001b[0m\u001b[0;34m\u001b[0m\u001b[0;34m\u001b[0m\u001b[0m\n\u001b[1;32m    417\u001b[0m             \u001b[0;32mtry\u001b[0m\u001b[0;34m:\u001b[0m\u001b[0;34m\u001b[0m\u001b[0;34m\u001b[0m\u001b[0m\n\u001b[0;32m--> 418\u001b[0;31m                 \u001b[0;32mreturn\u001b[0m \u001b[0mqml\u001b[0m\u001b[0;34m.\u001b[0m\u001b[0meigvals\u001b[0m\u001b[0;34m(\u001b[0m\u001b[0mself\u001b[0m\u001b[0;34m.\u001b[0m\u001b[0mobs\u001b[0m\u001b[0;34m)\u001b[0m\u001b[0;34m\u001b[0m\u001b[0;34m\u001b[0m\u001b[0m\n\u001b[0m\u001b[1;32m    419\u001b[0m             \u001b[0;32mexcept\u001b[0m \u001b[0mDecompositionUndefinedError\u001b[0m \u001b[0;32mas\u001b[0m \u001b[0me\u001b[0m\u001b[0;34m:\u001b[0m\u001b[0;34m\u001b[0m\u001b[0;34m\u001b[0m\u001b[0m\n\u001b[1;32m    420\u001b[0m                 \u001b[0;32mraise\u001b[0m \u001b[0mEigvalsUndefinedError\u001b[0m \u001b[0;32mfrom\u001b[0m \u001b[0me\u001b[0m\u001b[0;34m\u001b[0m\u001b[0;34m\u001b[0m\u001b[0m\n",
            "\u001b[0;32m/usr/local/lib/python3.11/dist-packages/pennylane/ops/functions/eigvals.py\u001b[0m in \u001b[0;36meigvals\u001b[0;34m(op, k, which)\u001b[0m\n\u001b[1;32m    124\u001b[0m     \u001b[0;31m# TODO: make `eigvals` take a `wire_order` argument to mimic `matrix`\u001b[0m\u001b[0;34m\u001b[0m\u001b[0;34m\u001b[0m\u001b[0m\n\u001b[1;32m    125\u001b[0m     \u001b[0;32mtry\u001b[0m\u001b[0;34m:\u001b[0m\u001b[0;34m\u001b[0m\u001b[0;34m\u001b[0m\u001b[0m\n\u001b[0;32m--> 126\u001b[0;31m         \u001b[0;32mreturn\u001b[0m \u001b[0mop\u001b[0m\u001b[0;34m.\u001b[0m\u001b[0meigvals\u001b[0m\u001b[0;34m(\u001b[0m\u001b[0;34m)\u001b[0m\u001b[0;34m\u001b[0m\u001b[0;34m\u001b[0m\u001b[0m\n\u001b[0m\u001b[1;32m    127\u001b[0m     \u001b[0;32mexcept\u001b[0m \u001b[0mqml\u001b[0m\u001b[0;34m.\u001b[0m\u001b[0moperation\u001b[0m\u001b[0;34m.\u001b[0m\u001b[0mEigvalsUndefinedError\u001b[0m\u001b[0;34m:\u001b[0m\u001b[0;34m\u001b[0m\u001b[0;34m\u001b[0m\u001b[0m\n\u001b[1;32m    128\u001b[0m         \u001b[0;32mreturn\u001b[0m \u001b[0meigvals\u001b[0m\u001b[0;34m(\u001b[0m\u001b[0mqml\u001b[0m\u001b[0;34m.\u001b[0m\u001b[0mtape\u001b[0m\u001b[0;34m.\u001b[0m\u001b[0mQuantumScript\u001b[0m\u001b[0;34m(\u001b[0m\u001b[0mop\u001b[0m\u001b[0;34m.\u001b[0m\u001b[0mdecomposition\u001b[0m\u001b[0;34m(\u001b[0m\u001b[0;34m)\u001b[0m\u001b[0;34m)\u001b[0m\u001b[0;34m,\u001b[0m \u001b[0mk\u001b[0m\u001b[0;34m=\u001b[0m\u001b[0mk\u001b[0m\u001b[0;34m,\u001b[0m \u001b[0mwhich\u001b[0m\u001b[0;34m=\u001b[0m\u001b[0mwhich\u001b[0m\u001b[0;34m)\u001b[0m\u001b[0;34m\u001b[0m\u001b[0;34m\u001b[0m\u001b[0m\n",
            "\u001b[0;32m/usr/local/lib/python3.11/dist-packages/pennylane/ops/op_math/composite.py\u001b[0m in \u001b[0;36mwrapper\u001b[0;34m(*args, **kwargs)\u001b[0m\n\u001b[1;32m     35\u001b[0m     \u001b[0;32mdef\u001b[0m \u001b[0mwrapper\u001b[0m\u001b[0;34m(\u001b[0m\u001b[0;34m*\u001b[0m\u001b[0margs\u001b[0m\u001b[0;34m,\u001b[0m \u001b[0;34m**\u001b[0m\u001b[0mkwargs\u001b[0m\u001b[0;34m)\u001b[0m\u001b[0;34m:\u001b[0m\u001b[0;34m\u001b[0m\u001b[0;34m\u001b[0m\u001b[0m\n\u001b[1;32m     36\u001b[0m         \u001b[0;32mtry\u001b[0m\u001b[0;34m:\u001b[0m\u001b[0;34m\u001b[0m\u001b[0;34m\u001b[0m\u001b[0m\n\u001b[0;32m---> 37\u001b[0;31m             \u001b[0;32mreturn\u001b[0m \u001b[0mfunc\u001b[0m\u001b[0;34m(\u001b[0m\u001b[0;34m*\u001b[0m\u001b[0margs\u001b[0m\u001b[0;34m,\u001b[0m \u001b[0;34m**\u001b[0m\u001b[0mkwargs\u001b[0m\u001b[0;34m)\u001b[0m\u001b[0;34m\u001b[0m\u001b[0;34m\u001b[0m\u001b[0m\n\u001b[0m\u001b[1;32m     38\u001b[0m         \u001b[0;32mexcept\u001b[0m \u001b[0mRecursionError\u001b[0m \u001b[0;32mas\u001b[0m \u001b[0me\u001b[0m\u001b[0;34m:\u001b[0m\u001b[0;34m\u001b[0m\u001b[0;34m\u001b[0m\u001b[0m\n\u001b[1;32m     39\u001b[0m             raise RuntimeError(\n",
            "\u001b[0;32m/usr/local/lib/python3.11/dist-packages/pennylane/ops/op_math/composite.py\u001b[0m in \u001b[0;36meigvals\u001b[0;34m(self)\u001b[0m\n\u001b[1;32m    194\u001b[0m             \u001b[0;32mif\u001b[0m \u001b[0mlen\u001b[0m\u001b[0;34m(\u001b[0m\u001b[0mops\u001b[0m\u001b[0;34m)\u001b[0m \u001b[0;34m==\u001b[0m \u001b[0;36m1\u001b[0m\u001b[0;34m:\u001b[0m\u001b[0;34m\u001b[0m\u001b[0;34m\u001b[0m\u001b[0m\n\u001b[1;32m    195\u001b[0m                 eigvals.append(\n\u001b[0;32m--> 196\u001b[0;31m                     \u001b[0mmath\u001b[0m\u001b[0;34m.\u001b[0m\u001b[0mexpand_vector\u001b[0m\u001b[0;34m(\u001b[0m\u001b[0mops\u001b[0m\u001b[0;34m[\u001b[0m\u001b[0;36m0\u001b[0m\u001b[0;34m]\u001b[0m\u001b[0;34m.\u001b[0m\u001b[0meigvals\u001b[0m\u001b[0;34m(\u001b[0m\u001b[0;34m)\u001b[0m\u001b[0;34m,\u001b[0m \u001b[0mlist\u001b[0m\u001b[0;34m(\u001b[0m\u001b[0mops\u001b[0m\u001b[0;34m[\u001b[0m\u001b[0;36m0\u001b[0m\u001b[0;34m]\u001b[0m\u001b[0;34m.\u001b[0m\u001b[0mwires\u001b[0m\u001b[0;34m)\u001b[0m\u001b[0;34m,\u001b[0m \u001b[0mlist\u001b[0m\u001b[0;34m(\u001b[0m\u001b[0mself\u001b[0m\u001b[0;34m.\u001b[0m\u001b[0mwires\u001b[0m\u001b[0;34m)\u001b[0m\u001b[0;34m)\u001b[0m\u001b[0;34m\u001b[0m\u001b[0;34m\u001b[0m\u001b[0m\n\u001b[0m\u001b[1;32m    197\u001b[0m                 )\n\u001b[1;32m    198\u001b[0m             \u001b[0;32melse\u001b[0m\u001b[0;34m:\u001b[0m\u001b[0;34m\u001b[0m\u001b[0;34m\u001b[0m\u001b[0m\n",
            "\u001b[0;32m/usr/local/lib/python3.11/dist-packages/pennylane/math/matrix_manipulation.py\u001b[0m in \u001b[0;36mexpand_vector\u001b[0;34m(vector, original_wires, expanded_wires)\u001b[0m\n\u001b[1;32m    389\u001b[0m         \u001b[0mextra_dims\u001b[0m \u001b[0;34m=\u001b[0m \u001b[0;34m[\u001b[0m\u001b[0mqudit_order\u001b[0m\u001b[0;34m]\u001b[0m \u001b[0;34m*\u001b[0m \u001b[0mD\u001b[0m\u001b[0;34m\u001b[0m\u001b[0;34m\u001b[0m\u001b[0m\n\u001b[1;32m    390\u001b[0m         \u001b[0mones\u001b[0m \u001b[0;34m=\u001b[0m \u001b[0mqml\u001b[0m\u001b[0;34m.\u001b[0m\u001b[0mmath\u001b[0m\u001b[0;34m.\u001b[0m\u001b[0mones\u001b[0m\u001b[0;34m(\u001b[0m\u001b[0mqudit_order\u001b[0m\u001b[0;34m**\u001b[0m\u001b[0mD\u001b[0m\u001b[0;34m)\u001b[0m\u001b[0;34m.\u001b[0m\u001b[0mreshape\u001b[0m\u001b[0;34m(\u001b[0m\u001b[0mextra_dims\u001b[0m\u001b[0;34m)\u001b[0m\u001b[0;34m\u001b[0m\u001b[0;34m\u001b[0m\u001b[0m\n\u001b[0;32m--> 391\u001b[0;31m         \u001b[0mexpanded_tensor\u001b[0m \u001b[0;34m=\u001b[0m \u001b[0mqml\u001b[0m\u001b[0;34m.\u001b[0m\u001b[0mmath\u001b[0m\u001b[0;34m.\u001b[0m\u001b[0mtensordot\u001b[0m\u001b[0;34m(\u001b[0m\u001b[0mtensor\u001b[0m\u001b[0;34m,\u001b[0m \u001b[0mones\u001b[0m\u001b[0;34m,\u001b[0m \u001b[0maxes\u001b[0m\u001b[0;34m=\u001b[0m\u001b[0;36m0\u001b[0m\u001b[0;34m)\u001b[0m\u001b[0;34m\u001b[0m\u001b[0;34m\u001b[0m\u001b[0m\n\u001b[0m\u001b[1;32m    392\u001b[0m     \u001b[0;32melse\u001b[0m\u001b[0;34m:\u001b[0m\u001b[0;34m\u001b[0m\u001b[0;34m\u001b[0m\u001b[0m\n\u001b[1;32m    393\u001b[0m         \u001b[0mexpanded_tensor\u001b[0m \u001b[0;34m=\u001b[0m \u001b[0mtensor\u001b[0m\u001b[0;34m\u001b[0m\u001b[0;34m\u001b[0m\u001b[0m\n",
            "\u001b[0;32m/usr/local/lib/python3.11/dist-packages/pennylane/math/multi_dispatch.py\u001b[0m in \u001b[0;36mwrapper\u001b[0;34m(*args, **kwargs)\u001b[0m\n\u001b[1;32m    148\u001b[0m \u001b[0;34m\u001b[0m\u001b[0m\n\u001b[1;32m    149\u001b[0m             \u001b[0minterface\u001b[0m \u001b[0;34m=\u001b[0m \u001b[0mkwargs\u001b[0m\u001b[0;34m.\u001b[0m\u001b[0mpop\u001b[0m\u001b[0;34m(\u001b[0m\u001b[0;34m\"like\"\u001b[0m\u001b[0;34m,\u001b[0m \u001b[0;32mNone\u001b[0m\u001b[0;34m)\u001b[0m\u001b[0;34m\u001b[0m\u001b[0;34m\u001b[0m\u001b[0m\n\u001b[0;32m--> 150\u001b[0;31m             \u001b[0minterface\u001b[0m \u001b[0;34m=\u001b[0m \u001b[0minterface\u001b[0m \u001b[0;32mor\u001b[0m \u001b[0mget_interface\u001b[0m\u001b[0;34m(\u001b[0m\u001b[0;34m*\u001b[0m\u001b[0mdispatch_args\u001b[0m\u001b[0;34m)\u001b[0m\u001b[0;34m\u001b[0m\u001b[0;34m\u001b[0m\u001b[0m\n\u001b[0m\u001b[1;32m    151\u001b[0m             \u001b[0mkwargs\u001b[0m\u001b[0;34m[\u001b[0m\u001b[0;34m\"like\"\u001b[0m\u001b[0;34m]\u001b[0m \u001b[0;34m=\u001b[0m \u001b[0minterface\u001b[0m\u001b[0;34m\u001b[0m\u001b[0;34m\u001b[0m\u001b[0m\n\u001b[1;32m    152\u001b[0m \u001b[0;34m\u001b[0m\u001b[0m\n",
            "\u001b[0;31mKeyboardInterrupt\u001b[0m: "
          ]
        }
      ]
    },
    {
      "cell_type": "code",
      "source": [
        "### Single optimization\n",
        "# Example QUBO matrix\n",
        "#Q = Q_onsite\n",
        "\n",
        "# Initial parameters for QAOA\n",
        "init_params = [params]*3\n",
        "init_params = np.reshape(init_params,(-1))\n",
        "\n",
        "# RL-QAOA setup\n",
        "rl_qaoa = RL_QAOA(Q,Q.shape[0],init_params,b_vector = np.array([5.]*30) ,QAOA_depth=depth,gamma = 0.99,learning_rate_init=[0.05,0.00])\n",
        "final_config = rl_qaoa.rqaoa_execute()\n",
        "rl_qaoa.n_c = 1\n",
        "print(f\"classical_result : {final_config},best : {rl_qaoa.node_assignments}\" )\n",
        "\n",
        "\n",
        "# Execute RQAOA\n",
        "final_config = rl_qaoa.RL_QAOA(episodes=50,epochs=60,correc_ans=float(final_config[2]))"
      ],
      "metadata": {
        "id": "3qKxLwAdopKQ",
        "outputId": "b71e243c-a1ec-4355-b1d3-80d6aa07d7ec",
        "colab": {
          "base_uri": "https://localhost:8080/",
          "height": 1000
        }
      },
      "execution_count": 198,
      "outputs": [
        {
          "output_type": "stream",
          "name": "stdout",
          "text": [
            "classical_result : (None, None, tensor(-21.43789003, requires_grad=True)),best : {0: -1, 1: 1, 2: 1, 3: -1, 4: -1}\n"
          ]
        },
        {
          "output_type": "stream",
          "name": "stderr",
          "text": [
            "100%|██████████| 50/50 [00:12<00:00,  3.86it/s]\n"
          ]
        },
        {
          "output_type": "stream",
          "name": "stdout",
          "text": [
            "[-0.35545076 -0.35545076 -0.11368019 -0.35545076 -0.35545076 -0.35545076\n",
            " -0.35545076 -0.35545076 -0.35545076 -0.35545076 -0.35545076  4.03163853\n",
            " -0.35545076 -0.11368019  4.03163853 -5.71841722 -0.35545076 -0.35545076\n",
            "  4.03163853 -0.35545076 -0.35545076 -0.35545076 -0.35545076 -0.35545076\n",
            " -0.35545076 -0.35545076 -0.11368019 -0.35545076 -0.35545076 -0.35545076\n",
            " -0.35545076 -0.35545076 -0.35545076 -0.11368019 -0.35545076 -0.11368019\n",
            " -0.11368019 -0.35545076 -0.11368019 -0.35545076 -0.35545076 -0.11368019\n",
            " -0.11368019 -5.71841722  4.03163853 -0.35545076 -0.35545076  4.03163853\n",
            " -0.35545076  4.03163853]\n",
            "cost : -15.719472807294398\n",
            "prob : 0.04\n",
            "QAOA update : [ 0.04999995  0.05        0.04999999  0.04999999  0.04999997 -0.04999973\n",
            "  0.04999994 -0.04999994  0.          0.          0.          0.        ]\n",
            "QAOA param : [1.7184651  3.30284643 2.32502639 2.77377668 1.71846513 3.2028467\n",
            " 2.32502634 2.67377675 1.66846515 3.25284643 2.27502641 2.72377669]\n"
          ]
        },
        {
          "output_type": "stream",
          "name": "stderr",
          "text": [
            "100%|██████████| 50/50 [00:12<00:00,  4.03it/s]\n"
          ]
        },
        {
          "output_type": "stream",
          "name": "stdout",
          "text": [
            "[ 5.96362359  0.0704135  -1.76328882 -2.00505939  5.96362359 -0.74109053\n",
            "  5.96362359  5.96362359 -1.76328882 -2.00505939 -2.00505939 -2.00505939\n",
            " -1.76328882  2.3820299   0.60716745 -0.74109053 -1.76328882 -2.00505939\n",
            "  0.0704135  -1.76328882 -2.00505939 -2.00505939 -1.76328882 -2.00505939\n",
            "  0.60716745 -1.76328882  2.3820299   0.0704135  -0.74109053 -2.00505939\n",
            "  2.3820299  -2.00505939 -2.00505939  2.3820299   0.0704135   2.3820299\n",
            "  5.96362359 -2.00505939 -1.76328882 -1.76328882 -1.76328882 -1.76328882\n",
            " -2.00505939  0.0704135   5.96362359 -1.76328882 -1.76328882  5.96362359\n",
            " -2.00505939 -2.00505939]\n",
            "cost : -14.06986417848556\n",
            "prob : 0.0\n",
            "QAOA update : [-0.03665359 -0.01811952  0.04747598  0.03346484  0.04193755 -0.04237073\n",
            "  0.04184512 -0.03993826  0.          0.          0.          0.        ]\n",
            "QAOA param : [1.68181151 3.28472691 2.37250238 2.80724152 1.76040268 3.16047598\n",
            " 2.36687147 2.63383849 1.66846515 3.25284643 2.27502641 2.72377669]\n"
          ]
        },
        {
          "output_type": "stream",
          "name": "stderr",
          "text": [
            "100%|██████████| 50/50 [00:12<00:00,  3.99it/s]\n"
          ]
        },
        {
          "output_type": "stream",
          "name": "stdout",
          "text": [
            "[ 0.18323224  0.4250028   0.4250028   0.18323224  2.25870512  0.18323224\n",
            "  0.18323224  0.18323224  2.25870512  0.18323224  0.18323224  1.44720109\n",
            "  0.18323224 -5.17973423  0.18323224  0.4250028  -5.17973423  0.4250028\n",
            "  0.4250028   0.18323224  2.25870512 -5.17973423 -5.17973423  0.18323224\n",
            "  0.18323224 -5.17973423  0.4250028   1.44720109  0.4250028   2.79545908\n",
            " -5.17973423  0.18323224  2.25870512  2.79545908  0.4250028   4.57032152\n",
            "  0.18323224  2.25870512  1.44720109 -5.17973423  0.18323224  2.79545908\n",
            " -5.17973423  0.18323224  0.18323224  2.25870512  0.18323224  0.18323224\n",
            "  1.44720109  2.25870512]\n",
            "cost : -16.258155800264237\n",
            "prob : 0.16\n",
            "QAOA update : [-0.04088356 -0.01634864  0.04847239  0.03733449 -0.02867895 -0.03898694\n",
            "  0.03668762 -0.03644306  0.          0.          0.          0.        ]\n",
            "QAOA param : [1.64092796 3.26837826 2.42097476 2.844576   1.73172373 3.12148904\n",
            " 2.40355909 2.59739542 1.66846515 3.25284643 2.27502641 2.72377669]\n"
          ]
        },
        {
          "output_type": "stream",
          "name": "stderr",
          "text": [
            "100%|██████████| 50/50 [00:12<00:00,  4.03it/s]\n"
          ]
        },
        {
          "output_type": "stream",
          "name": "stdout",
          "text": [
            "[ 5.44632479 -4.30373096  1.0592355   1.30100607 -4.30373096 -4.30373096\n",
            "  1.0592355   1.30100607  1.0592355  -4.30373096  1.30100607  1.0592355\n",
            " -4.30373096 -4.30373096  1.0592355   1.0592355   3.13470839  1.30100607\n",
            " -4.30373096 -4.30373096  1.0592355   3.67146234 -4.30373096  2.32320436\n",
            "  3.67146234 -4.30373096  1.0592355   1.0592355   1.0592355   1.0592355\n",
            "  3.67146234  2.32320436  1.30100607  3.67146234  1.30100607  1.30100607\n",
            "  2.32320436 -4.30373096 -4.30373096  1.0592355   1.0592355   1.30100607\n",
            "  2.32320436  3.13470839 -4.30373096  1.30100607 -4.30373096  1.0592355\n",
            " -4.30373096  2.32320436]\n",
            "cost : -17.134159068964806\n",
            "prob : 0.3\n",
            "QAOA update : [-0.03089148  0.00676919  0.0489308   0.02971305 -0.03495558  0.00285539\n",
            " -0.000996   -0.04030093  0.          0.          0.          0.        ]\n",
            "QAOA param : [1.61003648 3.27514745 2.46990556 2.87428905 1.69676815 3.12434443\n",
            " 2.40256309 2.55709449 1.66846515 3.25284643 2.27502641 2.72377669]\n"
          ]
        },
        {
          "output_type": "stream",
          "name": "stderr",
          "text": [
            "100%|██████████| 50/50 [00:12<00:00,  4.05it/s]\n"
          ]
        },
        {
          "output_type": "stream",
          "name": "stdout",
          "text": [
            "[ 0.06444758  7.79135999  4.2097663   0.06444758  7.79135999 -5.54028945\n",
            "  0.06444758 -5.54028945 -5.54028945  1.08664587  1.08664587 -0.17732299\n",
            " -5.54028945 -5.54028945  0.06444758  2.43490385  0.06444758  0.06444758\n",
            "  8.87688984  1.08664587  0.06444758  0.06444758  0.06444758 -0.17732299\n",
            " -0.17732299  2.43490385  0.06444758 -5.54028945 -5.54028945 -5.54028945\n",
            " -0.17732299 -5.54028945 -0.17732299  8.07597655 -0.17732299 -5.54028945\n",
            "  0.06444758 -0.17732299  7.79135999  1.08664587  0.06444758 -5.54028945\n",
            "  8.07597655 -0.17732299 -0.17732299 -0.17732299 -5.54028945  7.79135999\n",
            "  3.40318138 -5.54028945]\n",
            "cost : -15.897600578699702\n",
            "prob : 0.26\n",
            "QAOA update : [ 0.01283742  0.02573817  0.04796268 -0.01440349 -0.03973647 -0.02653073\n",
            " -0.02311079 -0.04361794  0.          0.          0.          0.        ]\n",
            "QAOA param : [1.6228739  3.30088562 2.51786824 2.85988556 1.65703167 3.0978137\n",
            " 2.3794523  2.51347655 1.66846515 3.25284643 2.27502641 2.72377669]\n"
          ]
        },
        {
          "output_type": "stream",
          "name": "stderr",
          "text": [
            "100%|██████████| 50/50 [00:12<00:00,  3.85it/s]\n"
          ]
        },
        {
          "output_type": "stream",
          "name": "stdout",
          "text": [
            "[ 1.17148695  1.17148695  5.31680567  5.31680567  1.17148695  5.31680567\n",
            "  1.17148695 -4.43325009 -4.43325009  5.31680567 -4.43325009 -4.43325009\n",
            " -4.43325009 -4.43325009  0.92971638  1.17148695 -4.43325009  5.31680567\n",
            "  1.17148695  5.31680567  9.98392921  9.98392921 -4.43325009 -4.43325009\n",
            "  0.92971638 -4.43325009 -4.43325009  1.17148695  0.92971638  1.17148695\n",
            "  0.92971638 -4.43325009 -4.43325009 -4.43325009  1.17148695  1.17148695\n",
            " -4.43325009 -4.43325009  0.92971638  0.92971638  1.17148695 -4.43325009\n",
            "  5.31680567  0.92971638 -4.43325009 -4.43325009 -4.43325009  9.98392921\n",
            "  0.92971638  1.17148695]\n",
            "cost : -17.00463994536333\n",
            "prob : 0.4\n",
            "QAOA update : [ 0.02295267  0.03004787  0.04855264 -0.02473059 -0.03194067 -0.01786702\n",
            " -0.01038733 -0.03317796  0.          0.          0.          0.        ]\n",
            "QAOA param : [1.64582657 3.33093349 2.56642088 2.83515498 1.625091   3.07994668\n",
            " 2.36906496 2.48029859 1.66846515 3.25284643 2.27502641 2.72377669]\n"
          ]
        },
        {
          "output_type": "stream",
          "name": "stderr",
          "text": [
            "100%|██████████| 50/50 [00:12<00:00,  4.02it/s]\n"
          ]
        },
        {
          "output_type": "stream",
          "name": "stdout",
          "text": [
            "[ 2.55094569 -2.81202077 -2.81202077  2.79271626 -2.81202077 -2.81202077\n",
            "  2.79271626  5.16317253  2.79271626  2.55094569 -2.81202077 -2.81202077\n",
            " -2.81202077  2.79271626 -2.81202077 -2.81202077 -2.81202077 -2.81202077\n",
            "  2.55094569 -2.81202077 -2.81202077  2.79271626  2.79271626 -2.81202077\n",
            "  2.79271626 -2.81202077  2.55094569  2.79271626  3.81491455 -2.81202077\n",
            "  6.93803498  2.79271626 -2.81202077 -2.81202077 -2.81202077 -2.81202077\n",
            " -2.81202077  2.79271626  2.55094569  2.79271626 -2.81202077  2.79271626\n",
            "  2.79271626 -2.81202077  2.79271626  2.55094569 -2.81202077 -2.81202077\n",
            "  2.79271626 -2.81202077]\n",
            "cost : -18.625869257615744\n",
            "prob : 0.52\n",
            "QAOA update : [ 0.01827518  0.0263712   0.04233624 -0.00502266 -0.02355668 -0.01885074\n",
            " -0.00490208 -0.0287492   0.          0.          0.          0.        ]\n",
            "QAOA param : [1.66410175 3.3573047  2.60875712 2.83013232 1.60153433 3.06109593\n",
            " 2.36416288 2.45154939 1.66846515 3.25284643 2.27502641 2.72377669]\n"
          ]
        },
        {
          "output_type": "stream",
          "name": "stderr",
          "text": [
            "100%|██████████| 50/50 [00:12<00:00,  3.88it/s]\n"
          ]
        },
        {
          "output_type": "stream",
          "name": "stdout",
          "text": [
            "[-3.7751894   1.82954764  1.82954764  1.58777707  1.58777707  4.20000391\n",
            " -3.7751894  -3.7751894  -3.7751894   1.82954764  1.82954764  1.82954764\n",
            " -3.7751894   1.58777707 -3.7751894  -3.7751894  -3.7751894  10.6419899\n",
            "  5.97486636 -3.7751894  -3.7751894   1.82954764  1.58777707  1.82954764\n",
            "  1.82954764  1.58777707  1.58777707  1.82954764 -3.7751894  -3.7751894\n",
            "  1.82954764  1.58777707 -3.7751894  10.6419899  -3.7751894  -3.7751894\n",
            "  1.58777707 -3.7751894   1.58777707 -3.7751894   4.20000391 -3.7751894\n",
            " -3.7751894   1.82954764 -3.7751894   1.82954764 -3.7751894   1.58777707\n",
            "  4.20000391  1.58777707]\n",
            "cost : -17.662700635222876\n",
            "prob : 0.42\n",
            "QAOA update : [ 0.00637637  0.00019311  0.0329096   0.00283081 -0.01517436 -0.01892803\n",
            " -0.01273144 -0.02022219  0.          0.          0.          0.        ]\n",
            "QAOA param : [1.67047812 3.35749781 2.64166672 2.83296312 1.58635997 3.0421679\n",
            " 2.35143144 2.4313272  1.66846515 3.25284643 2.27502641 2.72377669]\n"
          ]
        },
        {
          "output_type": "stream",
          "name": "stderr",
          "text": [
            "100%|██████████| 50/50 [00:12<00:00,  3.93it/s]\n"
          ]
        },
        {
          "output_type": "stream",
          "name": "stdout",
          "text": [
            "[-4.68604923  5.06400652  0.67691723  0.9186878   0.9186878   0.67691723\n",
            "  0.9186878   0.9186878  -4.68604923  5.06400652  1.94088609 -4.68604923\n",
            "  0.67691723  0.9186878   0.9186878   0.67691723 -4.68604923  0.67691723\n",
            "  0.9186878   5.06400652 -4.68604923  0.9186878   3.28914407  0.9186878\n",
            " -4.68604923  0.67691723  0.67691723  0.9186878   0.67691723  0.67691723\n",
            "  0.9186878  -4.68604923  5.06400652  0.9186878   0.9186878  -4.68604923\n",
            "  0.67691723 -4.68604923 -4.68604923  4.2574216   0.9186878   0.67691723\n",
            "  0.67691723 -4.68604923  0.9186878   3.28914407 -4.68604923  0.9186878\n",
            " -4.68604923  5.06400652]\n",
            "cost : -16.75184079817584\n",
            "prob : 0.26\n",
            "QAOA update : [-0.00104452 -0.01193548  0.01418107  0.0105218   0.0014423  -0.02257686\n",
            " -0.01470684 -0.01811365  0.          0.          0.          0.        ]\n",
            "QAOA param : [1.6694336  3.34556232 2.6558478  2.84348492 1.58780227 3.01959105\n",
            " 2.3367246  2.41321355 1.66846515 3.25284643 2.27502641 2.72377669]\n"
          ]
        },
        {
          "output_type": "stream",
          "name": "stderr",
          "text": [
            "100%|██████████| 50/50 [00:12<00:00,  4.02it/s]\n"
          ]
        },
        {
          "output_type": "stream",
          "name": "stdout",
          "text": [
            "[ 1.270218    1.270218    4.60895179  1.270218   -4.33451904  1.02844743\n",
            "  1.270218   -4.33451904  3.64067427  8.99713041  1.270218    1.02844743\n",
            " -4.33451904  2.29241628  1.02844743  5.41553672 -4.33451904 -4.33451904\n",
            "  3.64067427  1.270218   13.33717944  5.41553672 -4.33451904 -4.33451904\n",
            "  8.99713041  1.02844743 -4.33451904 -4.33451904  1.270218    1.02844743\n",
            " -4.33451904  1.02844743  1.270218    1.270218   -4.33451904 -4.33451904\n",
            "  1.270218   -4.33451904 -4.33451904  1.02844743  1.270218   -4.33451904\n",
            "  1.270218   -4.33451904  1.270218   -4.33451904  1.02844743 -4.33451904\n",
            "  1.270218   -4.33451904]\n",
            "cost : -17.103370994445054\n",
            "prob : 0.38\n",
            "QAOA update : [-0.01165234 -0.02218694  0.00422723  0.00688712 -0.00823733 -0.0108689\n",
            " -0.00605283 -0.01663642  0.          0.          0.          0.        ]\n",
            "QAOA param : [1.65778126 3.32337538 2.66007502 2.85037204 1.57956494 3.00872215\n",
            " 2.33067177 2.39657714 1.66846515 3.25284643 2.27502641 2.72377669]\n"
          ]
        },
        {
          "output_type": "stream",
          "name": "stderr",
          "text": [
            " 44%|████▍     | 22/50 [00:04<00:05,  4.86it/s]Exception ignored in: <function _xla_gc_callback at 0x798038e472e0>\n",
            "Traceback (most recent call last):\n",
            "  File \"/usr/local/lib/python3.11/dist-packages/jax/_src/lib/__init__.py\", line 96, in _xla_gc_callback\n",
            "    def _xla_gc_callback(*args):\n",
            "    \n",
            "KeyboardInterrupt: \n",
            " 72%|███████▏  | 36/50 [00:08<00:03,  4.33it/s]\n"
          ]
        },
        {
          "output_type": "error",
          "ename": "KeyboardInterrupt",
          "evalue": "",
          "traceback": [
            "\u001b[0;31m---------------------------------------------------------------------------\u001b[0m",
            "\u001b[0;31mKeyboardInterrupt\u001b[0m                         Traceback (most recent call last)",
            "\u001b[0;32m<ipython-input-198-d3c781ade8e5>\u001b[0m in \u001b[0;36m<cell line: 0>\u001b[0;34m()\u001b[0m\n\u001b[1;32m     15\u001b[0m \u001b[0;34m\u001b[0m\u001b[0m\n\u001b[1;32m     16\u001b[0m \u001b[0;31m# Execute RQAOA\u001b[0m\u001b[0;34m\u001b[0m\u001b[0;34m\u001b[0m\u001b[0m\n\u001b[0;32m---> 17\u001b[0;31m \u001b[0mfinal_config\u001b[0m \u001b[0;34m=\u001b[0m \u001b[0mrl_qaoa\u001b[0m\u001b[0;34m.\u001b[0m\u001b[0mRL_QAOA\u001b[0m\u001b[0;34m(\u001b[0m\u001b[0mepisodes\u001b[0m\u001b[0;34m=\u001b[0m\u001b[0;36m50\u001b[0m\u001b[0;34m,\u001b[0m\u001b[0mepochs\u001b[0m\u001b[0;34m=\u001b[0m\u001b[0;36m60\u001b[0m\u001b[0;34m,\u001b[0m\u001b[0mcorrec_ans\u001b[0m\u001b[0;34m=\u001b[0m\u001b[0mfloat\u001b[0m\u001b[0;34m(\u001b[0m\u001b[0mfinal_config\u001b[0m\u001b[0;34m[\u001b[0m\u001b[0;36m2\u001b[0m\u001b[0;34m]\u001b[0m\u001b[0;34m)\u001b[0m\u001b[0;34m)\u001b[0m\u001b[0;34m\u001b[0m\u001b[0;34m\u001b[0m\u001b[0m\n\u001b[0m",
            "\u001b[0;32m<ipython-input-197-1fae60981c6c>\u001b[0m in \u001b[0;36mRL_QAOA\u001b[0;34m(self, episodes, epochs, correc_ans)\u001b[0m\n\u001b[1;32m    203\u001b[0m \u001b[0;34m\u001b[0m\u001b[0m\n\u001b[1;32m    204\u001b[0m           \u001b[0;32mfor\u001b[0m \u001b[0mi\u001b[0m \u001b[0;32min\u001b[0m \u001b[0mtqdm\u001b[0m\u001b[0;34m(\u001b[0m\u001b[0mrange\u001b[0m\u001b[0;34m(\u001b[0m\u001b[0mepisodes\u001b[0m\u001b[0;34m)\u001b[0m\u001b[0;34m)\u001b[0m\u001b[0;34m:\u001b[0m\u001b[0;34m\u001b[0m\u001b[0;34m\u001b[0m\u001b[0m\n\u001b[0;32m--> 205\u001b[0;31m             \u001b[0mQAOA_diff\u001b[0m\u001b[0;34m,\u001b[0m\u001b[0mbeta_diff\u001b[0m\u001b[0;34m,\u001b[0m\u001b[0mvalue\u001b[0m \u001b[0;34m=\u001b[0m \u001b[0mself\u001b[0m\u001b[0;34m.\u001b[0m\u001b[0mrqaoa_execute\u001b[0m\u001b[0;34m(\u001b[0m\u001b[0;34m)\u001b[0m\u001b[0;34m\u001b[0m\u001b[0;34m\u001b[0m\u001b[0m\n\u001b[0m\u001b[1;32m    206\u001b[0m             \u001b[0mvalue_list\u001b[0m\u001b[0;34m.\u001b[0m\u001b[0mappend\u001b[0m\u001b[0;34m(\u001b[0m\u001b[0mvalue\u001b[0m\u001b[0;34m)\u001b[0m\u001b[0;34m\u001b[0m\u001b[0;34m\u001b[0m\u001b[0m\n\u001b[1;32m    207\u001b[0m             \u001b[0mQAOA_diff_list\u001b[0m\u001b[0;34m.\u001b[0m\u001b[0mappend\u001b[0m\u001b[0;34m(\u001b[0m\u001b[0mQAOA_diff\u001b[0m\u001b[0;34m)\u001b[0m\u001b[0;34m\u001b[0m\u001b[0;34m\u001b[0m\u001b[0m\n",
            "\u001b[0;32m<ipython-input-197-1fae60981c6c>\u001b[0m in \u001b[0;36mrqaoa_execute\u001b[0;34m(self, cal_grad)\u001b[0m\n\u001b[1;32m    255\u001b[0m         \u001b[0;32mwhile\u001b[0m \u001b[0mQ_init\u001b[0m\u001b[0;34m.\u001b[0m\u001b[0mshape\u001b[0m\u001b[0;34m[\u001b[0m\u001b[0;36m0\u001b[0m\u001b[0;34m]\u001b[0m \u001b[0;34m>\u001b[0m \u001b[0mself\u001b[0m\u001b[0;34m.\u001b[0m\u001b[0mn_c\u001b[0m\u001b[0;34m:\u001b[0m\u001b[0;34m\u001b[0m\u001b[0;34m\u001b[0m\u001b[0m\n\u001b[1;32m    256\u001b[0m             \u001b[0;31m# Select and cut an edge,cal grad\u001b[0m\u001b[0;34m\u001b[0m\u001b[0;34m\u001b[0m\u001b[0m\n\u001b[0;32m--> 257\u001b[0;31m             \u001b[0medge_expectations\u001b[0m \u001b[0;34m=\u001b[0m \u001b[0mself\u001b[0m\u001b[0;34m.\u001b[0m\u001b[0m_qaoa_edge_expectations\u001b[0m\u001b[0;34m(\u001b[0m\u001b[0mQ_init\u001b[0m\u001b[0;34m,\u001b[0m\u001b[0;34m[\u001b[0m\u001b[0mi\u001b[0m \u001b[0;32mfor\u001b[0m \u001b[0mi\u001b[0m \u001b[0;32min\u001b[0m \u001b[0mrange\u001b[0m\u001b[0;34m(\u001b[0m\u001b[0mself\u001b[0m\u001b[0;34m.\u001b[0m\u001b[0mp\u001b[0m\u001b[0;34m*\u001b[0m\u001b[0mindex\u001b[0m\u001b[0;34m*\u001b[0m\u001b[0;36m2\u001b[0m\u001b[0;34m,\u001b[0m\u001b[0mself\u001b[0m\u001b[0;34m.\u001b[0m\u001b[0mp\u001b[0m\u001b[0;34m*\u001b[0m\u001b[0mindex\u001b[0m\u001b[0;34m*\u001b[0m\u001b[0;36m2\u001b[0m\u001b[0;34m+\u001b[0m\u001b[0;36m2\u001b[0m\u001b[0;34m*\u001b[0m\u001b[0mself\u001b[0m\u001b[0;34m.\u001b[0m\u001b[0mp\u001b[0m\u001b[0;34m)\u001b[0m\u001b[0;34m]\u001b[0m\u001b[0;34m)\u001b[0m\u001b[0;34m\u001b[0m\u001b[0;34m\u001b[0m\u001b[0m\n\u001b[0m\u001b[1;32m    258\u001b[0m             \u001b[0mselected_edge_idx\u001b[0m\u001b[0;34m,\u001b[0m \u001b[0mpolicy\u001b[0m\u001b[0;34m,\u001b[0m \u001b[0medge_res\u001b[0m \u001b[0;34m=\u001b[0m \u001b[0mself\u001b[0m\u001b[0;34m.\u001b[0m\u001b[0m_select_edge_to_cut\u001b[0m\u001b[0;34m(\u001b[0m\u001b[0mQ_action\u001b[0m\u001b[0;34m,\u001b[0m\u001b[0mQ_init\u001b[0m\u001b[0;34m,\u001b[0m\u001b[0medge_expectations\u001b[0m\u001b[0;34m)\u001b[0m\u001b[0;34m\u001b[0m\u001b[0;34m\u001b[0m\u001b[0m\n\u001b[1;32m    259\u001b[0m             \u001b[0;32mif\u001b[0m \u001b[0mcal_grad\u001b[0m\u001b[0;34m:\u001b[0m\u001b[0;34m\u001b[0m\u001b[0;34m\u001b[0m\u001b[0m\n",
            "\u001b[0;32m<ipython-input-197-1fae60981c6c>\u001b[0m in \u001b[0;36m_qaoa_edge_expectations\u001b[0;34m(self, Q, idx)\u001b[0m\n\u001b[1;32m    476\u001b[0m             \u001b[0mself\u001b[0m\u001b[0;34m.\u001b[0m\u001b[0mqaoa_layer\u001b[0m\u001b[0;34m.\u001b[0m\u001b[0mqaoa_circuit\u001b[0m\u001b[0;34m(\u001b[0m\u001b[0mparam\u001b[0m\u001b[0;34m)\u001b[0m\u001b[0;34m\u001b[0m\u001b[0;34m\u001b[0m\u001b[0m\n\u001b[1;32m    477\u001b[0m             \u001b[0;32mreturn\u001b[0m \u001b[0;34m[\u001b[0m\u001b[0mqml\u001b[0m\u001b[0;34m.\u001b[0m\u001b[0mexpval\u001b[0m\u001b[0;34m(\u001b[0m\u001b[0mqml\u001b[0m\u001b[0;34m.\u001b[0m\u001b[0mPauliZ\u001b[0m\u001b[0;34m(\u001b[0m\u001b[0mi\u001b[0m\u001b[0;34m)\u001b[0m \u001b[0;34m@\u001b[0m \u001b[0mqml\u001b[0m\u001b[0;34m.\u001b[0m\u001b[0mPauliZ\u001b[0m\u001b[0;34m(\u001b[0m\u001b[0mj\u001b[0m\u001b[0;34m)\u001b[0m\u001b[0;34m)\u001b[0m \u001b[0;32mfor\u001b[0m \u001b[0mi\u001b[0m \u001b[0;32min\u001b[0m \u001b[0mrange\u001b[0m\u001b[0;34m(\u001b[0m\u001b[0mQ\u001b[0m\u001b[0;34m.\u001b[0m\u001b[0mshape\u001b[0m\u001b[0;34m[\u001b[0m\u001b[0;36m0\u001b[0m\u001b[0;34m]\u001b[0m\u001b[0;34m)\u001b[0m \u001b[0;32mfor\u001b[0m \u001b[0mj\u001b[0m \u001b[0;32min\u001b[0m \u001b[0mrange\u001b[0m\u001b[0;34m(\u001b[0m\u001b[0mQ\u001b[0m\u001b[0;34m.\u001b[0m\u001b[0mshape\u001b[0m\u001b[0;34m[\u001b[0m\u001b[0;36m0\u001b[0m\u001b[0;34m]\u001b[0m\u001b[0;34m)\u001b[0m \u001b[0;32mif\u001b[0m \u001b[0mQ\u001b[0m\u001b[0;34m[\u001b[0m\u001b[0mi\u001b[0m\u001b[0;34m,\u001b[0m \u001b[0mj\u001b[0m\u001b[0;34m]\u001b[0m \u001b[0;34m!=\u001b[0m \u001b[0;36m0\u001b[0m \u001b[0;32mand\u001b[0m \u001b[0mi\u001b[0m\u001b[0;34m!=\u001b[0m\u001b[0mj\u001b[0m\u001b[0;34m]\u001b[0m\u001b[0;34m\u001b[0m\u001b[0;34m\u001b[0m\u001b[0m\n\u001b[0;32m--> 478\u001b[0;31m         \u001b[0;32mreturn\u001b[0m \u001b[0mcircuit\u001b[0m\u001b[0;34m(\u001b[0m\u001b[0mself\u001b[0m\u001b[0;34m.\u001b[0m\u001b[0mparam\u001b[0m\u001b[0;34m[\u001b[0m\u001b[0midx\u001b[0m\u001b[0;34m]\u001b[0m\u001b[0;34m)\u001b[0m\u001b[0;34m\u001b[0m\u001b[0;34m\u001b[0m\u001b[0m\n\u001b[0m\u001b[1;32m    479\u001b[0m \u001b[0;34m\u001b[0m\u001b[0m\n\u001b[1;32m    480\u001b[0m     \u001b[0;32mdef\u001b[0m \u001b[0m_qaoa_edge_expectations_gradients\u001b[0m\u001b[0;34m(\u001b[0m\u001b[0mself\u001b[0m\u001b[0;34m,\u001b[0m \u001b[0mQ\u001b[0m\u001b[0;34m,\u001b[0m\u001b[0midx\u001b[0m\u001b[0;34m)\u001b[0m\u001b[0;34m:\u001b[0m\u001b[0;34m\u001b[0m\u001b[0;34m\u001b[0m\u001b[0m\n",
            "\u001b[0;32m/usr/local/lib/python3.11/dist-packages/pennylane/workflow/qnode.py\u001b[0m in \u001b[0;36m__call__\u001b[0;34m(self, *args, **kwargs)\u001b[0m\n\u001b[1;32m    903\u001b[0m         \u001b[0;32mif\u001b[0m \u001b[0mqml\u001b[0m\u001b[0;34m.\u001b[0m\u001b[0mcapture\u001b[0m\u001b[0;34m.\u001b[0m\u001b[0menabled\u001b[0m\u001b[0;34m(\u001b[0m\u001b[0;34m)\u001b[0m\u001b[0;34m:\u001b[0m\u001b[0;34m\u001b[0m\u001b[0;34m\u001b[0m\u001b[0m\n\u001b[1;32m    904\u001b[0m             \u001b[0;32mreturn\u001b[0m \u001b[0mcapture_qnode\u001b[0m\u001b[0;34m(\u001b[0m\u001b[0mself\u001b[0m\u001b[0;34m,\u001b[0m \u001b[0;34m*\u001b[0m\u001b[0margs\u001b[0m\u001b[0;34m,\u001b[0m \u001b[0;34m**\u001b[0m\u001b[0mkwargs\u001b[0m\u001b[0;34m)\u001b[0m\u001b[0;34m\u001b[0m\u001b[0;34m\u001b[0m\u001b[0m\n\u001b[0;32m--> 905\u001b[0;31m         \u001b[0;32mreturn\u001b[0m \u001b[0mself\u001b[0m\u001b[0;34m.\u001b[0m\u001b[0m_impl_call\u001b[0m\u001b[0;34m(\u001b[0m\u001b[0;34m*\u001b[0m\u001b[0margs\u001b[0m\u001b[0;34m,\u001b[0m \u001b[0;34m**\u001b[0m\u001b[0mkwargs\u001b[0m\u001b[0;34m)\u001b[0m\u001b[0;34m\u001b[0m\u001b[0;34m\u001b[0m\u001b[0m\n\u001b[0m\u001b[1;32m    906\u001b[0m \u001b[0;34m\u001b[0m\u001b[0m\n\u001b[1;32m    907\u001b[0m \u001b[0;34m\u001b[0m\u001b[0m\n",
            "\u001b[0;32m/usr/local/lib/python3.11/dist-packages/pennylane/workflow/qnode.py\u001b[0m in \u001b[0;36m_impl_call\u001b[0;34m(self, *args, **kwargs)\u001b[0m\n\u001b[1;32m    879\u001b[0m         \u001b[0mself\u001b[0m\u001b[0;34m.\u001b[0m\u001b[0m_transform_program\u001b[0m\u001b[0;34m.\u001b[0m\u001b[0mset_classical_component\u001b[0m\u001b[0;34m(\u001b[0m\u001b[0mself\u001b[0m\u001b[0;34m,\u001b[0m \u001b[0margs\u001b[0m\u001b[0;34m,\u001b[0m \u001b[0mkwargs\u001b[0m\u001b[0;34m)\u001b[0m\u001b[0;34m\u001b[0m\u001b[0;34m\u001b[0m\u001b[0m\n\u001b[1;32m    880\u001b[0m \u001b[0;34m\u001b[0m\u001b[0m\n\u001b[0;32m--> 881\u001b[0;31m         res = qml.execute(\n\u001b[0m\u001b[1;32m    882\u001b[0m             \u001b[0;34m(\u001b[0m\u001b[0mtape\u001b[0m\u001b[0;34m,\u001b[0m\u001b[0;34m)\u001b[0m\u001b[0;34m,\u001b[0m\u001b[0;34m\u001b[0m\u001b[0;34m\u001b[0m\u001b[0m\n\u001b[1;32m    883\u001b[0m             \u001b[0mdevice\u001b[0m\u001b[0;34m=\u001b[0m\u001b[0mself\u001b[0m\u001b[0;34m.\u001b[0m\u001b[0mdevice\u001b[0m\u001b[0;34m,\u001b[0m\u001b[0;34m\u001b[0m\u001b[0;34m\u001b[0m\u001b[0m\n",
            "\u001b[0;32m/usr/local/lib/python3.11/dist-packages/pennylane/workflow/execution.py\u001b[0m in \u001b[0;36mexecute\u001b[0;34m(tapes, device, diff_method, interface, transform_program, inner_transform, config, grad_on_execution, gradient_kwargs, cache, cachesize, max_diff, device_vjp, mcm_config, gradient_fn)\u001b[0m\n\u001b[1;32m    230\u001b[0m         \u001b[0;32mreturn\u001b[0m \u001b[0mpost_processing\u001b[0m\u001b[0;34m(\u001b[0m\u001b[0mtapes\u001b[0m\u001b[0;34m)\u001b[0m\u001b[0;34m\u001b[0m\u001b[0;34m\u001b[0m\u001b[0m\n\u001b[1;32m    231\u001b[0m \u001b[0;34m\u001b[0m\u001b[0m\n\u001b[0;32m--> 232\u001b[0;31m     \u001b[0mresults\u001b[0m \u001b[0;34m=\u001b[0m \u001b[0mrun\u001b[0m\u001b[0;34m(\u001b[0m\u001b[0mtapes\u001b[0m\u001b[0;34m,\u001b[0m \u001b[0mdevice\u001b[0m\u001b[0;34m,\u001b[0m \u001b[0mconfig\u001b[0m\u001b[0;34m,\u001b[0m \u001b[0minner_transform\u001b[0m\u001b[0;34m)\u001b[0m\u001b[0;34m\u001b[0m\u001b[0;34m\u001b[0m\u001b[0m\n\u001b[0m\u001b[1;32m    233\u001b[0m     \u001b[0;32mreturn\u001b[0m \u001b[0mpost_processing\u001b[0m\u001b[0;34m(\u001b[0m\u001b[0mresults\u001b[0m\u001b[0;34m)\u001b[0m\u001b[0;34m\u001b[0m\u001b[0;34m\u001b[0m\u001b[0m\n",
            "\u001b[0;32m/usr/local/lib/python3.11/dist-packages/pennylane/workflow/run.py\u001b[0m in \u001b[0;36mrun\u001b[0;34m(tapes, device, config, inner_transform_program)\u001b[0m\n\u001b[1;32m    285\u001b[0m     )\n\u001b[1;32m    286\u001b[0m     \u001b[0;32mif\u001b[0m \u001b[0mno_interface_boundary_required\u001b[0m\u001b[0;34m:\u001b[0m\u001b[0;34m\u001b[0m\u001b[0;34m\u001b[0m\u001b[0m\n\u001b[0;32m--> 287\u001b[0;31m         \u001b[0mresults\u001b[0m \u001b[0;34m=\u001b[0m \u001b[0minner_execute\u001b[0m\u001b[0;34m(\u001b[0m\u001b[0mtapes\u001b[0m\u001b[0;34m)\u001b[0m\u001b[0;34m\u001b[0m\u001b[0;34m\u001b[0m\u001b[0m\n\u001b[0m\u001b[1;32m    288\u001b[0m         \u001b[0;32mreturn\u001b[0m \u001b[0mresults\u001b[0m\u001b[0;34m\u001b[0m\u001b[0;34m\u001b[0m\u001b[0m\n\u001b[1;32m    289\u001b[0m \u001b[0;34m\u001b[0m\u001b[0m\n",
            "\u001b[0;32m/usr/local/lib/python3.11/dist-packages/pennylane/workflow/run.py\u001b[0m in \u001b[0;36minner_execute\u001b[0;34m(tapes)\u001b[0m\n\u001b[1;32m    245\u001b[0m \u001b[0;34m\u001b[0m\u001b[0m\n\u001b[1;32m    246\u001b[0m         \u001b[0;32mif\u001b[0m \u001b[0mtransformed_tapes\u001b[0m\u001b[0;34m:\u001b[0m\u001b[0;34m\u001b[0m\u001b[0;34m\u001b[0m\u001b[0m\n\u001b[0;32m--> 247\u001b[0;31m             \u001b[0mresults\u001b[0m \u001b[0;34m=\u001b[0m \u001b[0mdevice\u001b[0m\u001b[0;34m.\u001b[0m\u001b[0mexecute\u001b[0m\u001b[0;34m(\u001b[0m\u001b[0mtransformed_tapes\u001b[0m\u001b[0;34m,\u001b[0m \u001b[0mexecution_config\u001b[0m\u001b[0;34m=\u001b[0m\u001b[0mexecution_config\u001b[0m\u001b[0;34m)\u001b[0m\u001b[0;34m\u001b[0m\u001b[0;34m\u001b[0m\u001b[0m\n\u001b[0m\u001b[1;32m    248\u001b[0m         \u001b[0;32melse\u001b[0m\u001b[0;34m:\u001b[0m\u001b[0;34m\u001b[0m\u001b[0;34m\u001b[0m\u001b[0m\n\u001b[1;32m    249\u001b[0m             \u001b[0mresults\u001b[0m \u001b[0;34m=\u001b[0m \u001b[0;34m(\u001b[0m\u001b[0;34m)\u001b[0m\u001b[0;34m\u001b[0m\u001b[0;34m\u001b[0m\u001b[0m\n",
            "\u001b[0;32m/usr/local/lib/python3.11/dist-packages/pennylane/devices/modifiers/simulator_tracking.py\u001b[0m in \u001b[0;36mexecute\u001b[0;34m(self, circuits, execution_config)\u001b[0m\n\u001b[1;32m     28\u001b[0m     \u001b[0;34m@\u001b[0m\u001b[0mwraps\u001b[0m\u001b[0;34m(\u001b[0m\u001b[0muntracked_execute\u001b[0m\u001b[0;34m)\u001b[0m\u001b[0;34m\u001b[0m\u001b[0;34m\u001b[0m\u001b[0m\n\u001b[1;32m     29\u001b[0m     \u001b[0;32mdef\u001b[0m \u001b[0mexecute\u001b[0m\u001b[0;34m(\u001b[0m\u001b[0mself\u001b[0m\u001b[0;34m,\u001b[0m \u001b[0mcircuits\u001b[0m\u001b[0;34m,\u001b[0m \u001b[0mexecution_config\u001b[0m\u001b[0;34m=\u001b[0m\u001b[0mDefaultExecutionConfig\u001b[0m\u001b[0;34m)\u001b[0m\u001b[0;34m:\u001b[0m\u001b[0;34m\u001b[0m\u001b[0;34m\u001b[0m\u001b[0m\n\u001b[0;32m---> 30\u001b[0;31m         \u001b[0mresults\u001b[0m \u001b[0;34m=\u001b[0m \u001b[0muntracked_execute\u001b[0m\u001b[0;34m(\u001b[0m\u001b[0mself\u001b[0m\u001b[0;34m,\u001b[0m \u001b[0mcircuits\u001b[0m\u001b[0;34m,\u001b[0m \u001b[0mexecution_config\u001b[0m\u001b[0;34m)\u001b[0m\u001b[0;34m\u001b[0m\u001b[0;34m\u001b[0m\u001b[0m\n\u001b[0m\u001b[1;32m     31\u001b[0m         \u001b[0;32mif\u001b[0m \u001b[0misinstance\u001b[0m\u001b[0;34m(\u001b[0m\u001b[0mcircuits\u001b[0m\u001b[0;34m,\u001b[0m \u001b[0mQuantumScript\u001b[0m\u001b[0;34m)\u001b[0m\u001b[0;34m:\u001b[0m\u001b[0;34m\u001b[0m\u001b[0;34m\u001b[0m\u001b[0m\n\u001b[1;32m     32\u001b[0m             \u001b[0mbatch\u001b[0m \u001b[0;34m=\u001b[0m \u001b[0;34m(\u001b[0m\u001b[0mcircuits\u001b[0m\u001b[0;34m,\u001b[0m\u001b[0;34m)\u001b[0m\u001b[0;34m\u001b[0m\u001b[0;34m\u001b[0m\u001b[0m\n",
            "\u001b[0;32m/usr/local/lib/python3.11/dist-packages/pennylane/devices/modifiers/single_tape_support.py\u001b[0m in \u001b[0;36mexecute\u001b[0;34m(self, circuits, execution_config)\u001b[0m\n\u001b[1;32m     30\u001b[0m             \u001b[0mis_single_circuit\u001b[0m \u001b[0;34m=\u001b[0m \u001b[0;32mTrue\u001b[0m\u001b[0;34m\u001b[0m\u001b[0;34m\u001b[0m\u001b[0m\n\u001b[1;32m     31\u001b[0m             \u001b[0mcircuits\u001b[0m \u001b[0;34m=\u001b[0m \u001b[0;34m(\u001b[0m\u001b[0mcircuits\u001b[0m\u001b[0;34m,\u001b[0m\u001b[0;34m)\u001b[0m\u001b[0;34m\u001b[0m\u001b[0;34m\u001b[0m\u001b[0m\n\u001b[0;32m---> 32\u001b[0;31m         \u001b[0mresults\u001b[0m \u001b[0;34m=\u001b[0m \u001b[0mbatch_execute\u001b[0m\u001b[0;34m(\u001b[0m\u001b[0mself\u001b[0m\u001b[0;34m,\u001b[0m \u001b[0mcircuits\u001b[0m\u001b[0;34m,\u001b[0m \u001b[0mexecution_config\u001b[0m\u001b[0;34m)\u001b[0m\u001b[0;34m\u001b[0m\u001b[0;34m\u001b[0m\u001b[0m\n\u001b[0m\u001b[1;32m     33\u001b[0m         \u001b[0;32mreturn\u001b[0m \u001b[0mresults\u001b[0m\u001b[0;34m[\u001b[0m\u001b[0;36m0\u001b[0m\u001b[0;34m]\u001b[0m \u001b[0;32mif\u001b[0m \u001b[0mis_single_circuit\u001b[0m \u001b[0;32melse\u001b[0m \u001b[0mresults\u001b[0m\u001b[0;34m\u001b[0m\u001b[0;34m\u001b[0m\u001b[0m\n\u001b[1;32m     34\u001b[0m \u001b[0;34m\u001b[0m\u001b[0m\n",
            "\u001b[0;32m/usr/local/lib/python3.11/dist-packages/pennylane/logging/decorators.py\u001b[0m in \u001b[0;36mwrapper_entry\u001b[0;34m(*args, **kwargs)\u001b[0m\n\u001b[1;32m     59\u001b[0m                 \u001b[0;34m**\u001b[0m\u001b[0m_debug_log_kwargs\u001b[0m\u001b[0;34m,\u001b[0m\u001b[0;34m\u001b[0m\u001b[0;34m\u001b[0m\u001b[0m\n\u001b[1;32m     60\u001b[0m             )\n\u001b[0;32m---> 61\u001b[0;31m         \u001b[0;32mreturn\u001b[0m \u001b[0mfunc\u001b[0m\u001b[0;34m(\u001b[0m\u001b[0;34m*\u001b[0m\u001b[0margs\u001b[0m\u001b[0;34m,\u001b[0m \u001b[0;34m**\u001b[0m\u001b[0mkwargs\u001b[0m\u001b[0;34m)\u001b[0m\u001b[0;34m\u001b[0m\u001b[0;34m\u001b[0m\u001b[0m\n\u001b[0m\u001b[1;32m     62\u001b[0m \u001b[0;34m\u001b[0m\u001b[0m\n\u001b[1;32m     63\u001b[0m     \u001b[0;34m@\u001b[0m\u001b[0mwraps\u001b[0m\u001b[0;34m(\u001b[0m\u001b[0mfunc\u001b[0m\u001b[0;34m)\u001b[0m\u001b[0;34m\u001b[0m\u001b[0;34m\u001b[0m\u001b[0m\n",
            "\u001b[0;32m/usr/local/lib/python3.11/dist-packages/pennylane/devices/default_qubit.py\u001b[0m in \u001b[0;36mexecute\u001b[0;34m(self, circuits, execution_config)\u001b[0m\n\u001b[1;32m    628\u001b[0m \u001b[0;34m\u001b[0m\u001b[0m\n\u001b[1;32m    629\u001b[0m         \u001b[0;32mif\u001b[0m \u001b[0mmax_workers\u001b[0m \u001b[0;32mis\u001b[0m \u001b[0;32mNone\u001b[0m\u001b[0;34m:\u001b[0m\u001b[0;34m\u001b[0m\u001b[0;34m\u001b[0m\u001b[0m\n\u001b[0;32m--> 630\u001b[0;31m             return tuple(\n\u001b[0m\u001b[1;32m    631\u001b[0m                 _simulate_wrapper(\n\u001b[1;32m    632\u001b[0m                     \u001b[0mc\u001b[0m\u001b[0;34m,\u001b[0m\u001b[0;34m\u001b[0m\u001b[0;34m\u001b[0m\u001b[0m\n",
            "\u001b[0;32m/usr/local/lib/python3.11/dist-packages/pennylane/devices/default_qubit.py\u001b[0m in \u001b[0;36m<genexpr>\u001b[0;34m(.0)\u001b[0m\n\u001b[1;32m    629\u001b[0m         \u001b[0;32mif\u001b[0m \u001b[0mmax_workers\u001b[0m \u001b[0;32mis\u001b[0m \u001b[0;32mNone\u001b[0m\u001b[0;34m:\u001b[0m\u001b[0;34m\u001b[0m\u001b[0;34m\u001b[0m\u001b[0m\n\u001b[1;32m    630\u001b[0m             return tuple(\n\u001b[0;32m--> 631\u001b[0;31m                 _simulate_wrapper(\n\u001b[0m\u001b[1;32m    632\u001b[0m                     \u001b[0mc\u001b[0m\u001b[0;34m,\u001b[0m\u001b[0;34m\u001b[0m\u001b[0;34m\u001b[0m\u001b[0m\n\u001b[1;32m    633\u001b[0m                     {\n",
            "\u001b[0;32m/usr/local/lib/python3.11/dist-packages/pennylane/devices/default_qubit.py\u001b[0m in \u001b[0;36m_simulate_wrapper\u001b[0;34m(circuit, kwargs)\u001b[0m\n\u001b[1;32m    916\u001b[0m \u001b[0;34m\u001b[0m\u001b[0m\n\u001b[1;32m    917\u001b[0m \u001b[0;32mdef\u001b[0m \u001b[0m_simulate_wrapper\u001b[0m\u001b[0;34m(\u001b[0m\u001b[0mcircuit\u001b[0m\u001b[0;34m,\u001b[0m \u001b[0mkwargs\u001b[0m\u001b[0;34m)\u001b[0m\u001b[0;34m:\u001b[0m\u001b[0;34m\u001b[0m\u001b[0;34m\u001b[0m\u001b[0m\n\u001b[0;32m--> 918\u001b[0;31m     \u001b[0;32mreturn\u001b[0m \u001b[0msimulate\u001b[0m\u001b[0;34m(\u001b[0m\u001b[0mcircuit\u001b[0m\u001b[0;34m,\u001b[0m \u001b[0;34m**\u001b[0m\u001b[0mkwargs\u001b[0m\u001b[0;34m)\u001b[0m\u001b[0;34m\u001b[0m\u001b[0;34m\u001b[0m\u001b[0m\n\u001b[0m\u001b[1;32m    919\u001b[0m \u001b[0;34m\u001b[0m\u001b[0m\n\u001b[1;32m    920\u001b[0m \u001b[0;34m\u001b[0m\u001b[0m\n",
            "\u001b[0;32m/usr/local/lib/python3.11/dist-packages/pennylane/logging/decorators.py\u001b[0m in \u001b[0;36mwrapper_entry\u001b[0;34m(*args, **kwargs)\u001b[0m\n\u001b[1;32m     59\u001b[0m                 \u001b[0;34m**\u001b[0m\u001b[0m_debug_log_kwargs\u001b[0m\u001b[0;34m,\u001b[0m\u001b[0;34m\u001b[0m\u001b[0;34m\u001b[0m\u001b[0m\n\u001b[1;32m     60\u001b[0m             )\n\u001b[0;32m---> 61\u001b[0;31m         \u001b[0;32mreturn\u001b[0m \u001b[0mfunc\u001b[0m\u001b[0;34m(\u001b[0m\u001b[0;34m*\u001b[0m\u001b[0margs\u001b[0m\u001b[0;34m,\u001b[0m \u001b[0;34m**\u001b[0m\u001b[0mkwargs\u001b[0m\u001b[0;34m)\u001b[0m\u001b[0;34m\u001b[0m\u001b[0;34m\u001b[0m\u001b[0m\n\u001b[0m\u001b[1;32m     62\u001b[0m \u001b[0;34m\u001b[0m\u001b[0m\n\u001b[1;32m     63\u001b[0m     \u001b[0;34m@\u001b[0m\u001b[0mwraps\u001b[0m\u001b[0;34m(\u001b[0m\u001b[0mfunc\u001b[0m\u001b[0;34m)\u001b[0m\u001b[0;34m\u001b[0m\u001b[0;34m\u001b[0m\u001b[0m\n",
            "\u001b[0;32m/usr/local/lib/python3.11/dist-packages/pennylane/devices/qubit/simulate.py\u001b[0m in \u001b[0;36msimulate\u001b[0;34m(circuit, debugger, state_cache, **execution_kwargs)\u001b[0m\n\u001b[1;32m    355\u001b[0m \u001b[0;34m\u001b[0m\u001b[0m\n\u001b[1;32m    356\u001b[0m     \u001b[0mops_key\u001b[0m\u001b[0;34m,\u001b[0m \u001b[0mmeas_key\u001b[0m \u001b[0;34m=\u001b[0m \u001b[0mjax_random_split\u001b[0m\u001b[0;34m(\u001b[0m\u001b[0mprng_key\u001b[0m\u001b[0;34m)\u001b[0m\u001b[0;34m\u001b[0m\u001b[0;34m\u001b[0m\u001b[0m\n\u001b[0;32m--> 357\u001b[0;31m     state, is_state_batched = get_final_state(\n\u001b[0m\u001b[1;32m    358\u001b[0m         \u001b[0mcircuit\u001b[0m\u001b[0;34m,\u001b[0m \u001b[0mdebugger\u001b[0m\u001b[0;34m=\u001b[0m\u001b[0mdebugger\u001b[0m\u001b[0;34m,\u001b[0m \u001b[0mprng_key\u001b[0m\u001b[0;34m=\u001b[0m\u001b[0mops_key\u001b[0m\u001b[0;34m,\u001b[0m \u001b[0;34m**\u001b[0m\u001b[0mexecution_kwargs\u001b[0m\u001b[0;34m\u001b[0m\u001b[0;34m\u001b[0m\u001b[0m\n\u001b[1;32m    359\u001b[0m     )\n",
            "\u001b[0;32m/usr/local/lib/python3.11/dist-packages/pennylane/logging/decorators.py\u001b[0m in \u001b[0;36mwrapper_entry\u001b[0;34m(*args, **kwargs)\u001b[0m\n\u001b[1;32m     59\u001b[0m                 \u001b[0;34m**\u001b[0m\u001b[0m_debug_log_kwargs\u001b[0m\u001b[0;34m,\u001b[0m\u001b[0;34m\u001b[0m\u001b[0;34m\u001b[0m\u001b[0m\n\u001b[1;32m     60\u001b[0m             )\n\u001b[0;32m---> 61\u001b[0;31m         \u001b[0;32mreturn\u001b[0m \u001b[0mfunc\u001b[0m\u001b[0;34m(\u001b[0m\u001b[0;34m*\u001b[0m\u001b[0margs\u001b[0m\u001b[0;34m,\u001b[0m \u001b[0;34m**\u001b[0m\u001b[0mkwargs\u001b[0m\u001b[0;34m)\u001b[0m\u001b[0;34m\u001b[0m\u001b[0;34m\u001b[0m\u001b[0m\n\u001b[0m\u001b[1;32m     62\u001b[0m \u001b[0;34m\u001b[0m\u001b[0m\n\u001b[1;32m     63\u001b[0m     \u001b[0;34m@\u001b[0m\u001b[0mwraps\u001b[0m\u001b[0;34m(\u001b[0m\u001b[0mfunc\u001b[0m\u001b[0;34m)\u001b[0m\u001b[0;34m\u001b[0m\u001b[0;34m\u001b[0m\u001b[0m\n",
            "\u001b[0;32m/usr/local/lib/python3.11/dist-packages/pennylane/devices/qubit/simulate.py\u001b[0m in \u001b[0;36mget_final_state\u001b[0;34m(circuit, debugger, **execution_kwargs)\u001b[0m\n\u001b[1;32m    188\u001b[0m         \u001b[0;32mif\u001b[0m \u001b[0misinstance\u001b[0m\u001b[0;34m(\u001b[0m\u001b[0mop\u001b[0m\u001b[0;34m,\u001b[0m \u001b[0mMidMeasureMP\u001b[0m\u001b[0;34m)\u001b[0m\u001b[0;34m:\u001b[0m\u001b[0;34m\u001b[0m\u001b[0;34m\u001b[0m\u001b[0m\n\u001b[1;32m    189\u001b[0m             \u001b[0mprng_key\u001b[0m\u001b[0;34m,\u001b[0m \u001b[0mkey\u001b[0m \u001b[0;34m=\u001b[0m \u001b[0mjax_random_split\u001b[0m\u001b[0;34m(\u001b[0m\u001b[0mprng_key\u001b[0m\u001b[0;34m)\u001b[0m\u001b[0;34m\u001b[0m\u001b[0;34m\u001b[0m\u001b[0m\n\u001b[0;32m--> 190\u001b[0;31m         state = apply_operation(\n\u001b[0m\u001b[1;32m    191\u001b[0m             \u001b[0mop\u001b[0m\u001b[0;34m,\u001b[0m\u001b[0;34m\u001b[0m\u001b[0;34m\u001b[0m\u001b[0m\n\u001b[1;32m    192\u001b[0m             \u001b[0mstate\u001b[0m\u001b[0;34m,\u001b[0m\u001b[0;34m\u001b[0m\u001b[0;34m\u001b[0m\u001b[0m\n",
            "\u001b[0;32m/usr/lib/python3.11/functools.py\u001b[0m in \u001b[0;36mwrapper\u001b[0;34m(*args, **kw)\u001b[0m\n\u001b[1;32m    907\u001b[0m                             '1 positional argument')\n\u001b[1;32m    908\u001b[0m \u001b[0;34m\u001b[0m\u001b[0m\n\u001b[0;32m--> 909\u001b[0;31m         \u001b[0;32mreturn\u001b[0m \u001b[0mdispatch\u001b[0m\u001b[0;34m(\u001b[0m\u001b[0margs\u001b[0m\u001b[0;34m[\u001b[0m\u001b[0;36m0\u001b[0m\u001b[0;34m]\u001b[0m\u001b[0;34m.\u001b[0m\u001b[0m__class__\u001b[0m\u001b[0;34m)\u001b[0m\u001b[0;34m(\u001b[0m\u001b[0;34m*\u001b[0m\u001b[0margs\u001b[0m\u001b[0;34m,\u001b[0m \u001b[0;34m**\u001b[0m\u001b[0mkw\u001b[0m\u001b[0;34m)\u001b[0m\u001b[0;34m\u001b[0m\u001b[0;34m\u001b[0m\u001b[0m\n\u001b[0m\u001b[1;32m    910\u001b[0m \u001b[0;34m\u001b[0m\u001b[0m\n\u001b[1;32m    911\u001b[0m     \u001b[0mfuncname\u001b[0m \u001b[0;34m=\u001b[0m \u001b[0mgetattr\u001b[0m\u001b[0;34m(\u001b[0m\u001b[0mfunc\u001b[0m\u001b[0;34m,\u001b[0m \u001b[0;34m'__name__'\u001b[0m\u001b[0;34m,\u001b[0m \u001b[0;34m'singledispatch function'\u001b[0m\u001b[0;34m)\u001b[0m\u001b[0;34m\u001b[0m\u001b[0;34m\u001b[0m\u001b[0m\n",
            "\u001b[0;32m/usr/local/lib/python3.11/dist-packages/pennylane/devices/qubit/apply_operation.py\u001b[0m in \u001b[0;36mapply_operation\u001b[0;34m(op, state, is_state_batched, debugger, **_)\u001b[0m\n\u001b[1;32m    229\u001b[0m \u001b[0;34m\u001b[0m\u001b[0m\n\u001b[1;32m    230\u001b[0m     \"\"\"\n\u001b[0;32m--> 231\u001b[0;31m     \u001b[0;32mreturn\u001b[0m \u001b[0m_apply_operation_default\u001b[0m\u001b[0;34m(\u001b[0m\u001b[0mop\u001b[0m\u001b[0;34m,\u001b[0m \u001b[0mstate\u001b[0m\u001b[0;34m,\u001b[0m \u001b[0mis_state_batched\u001b[0m\u001b[0;34m,\u001b[0m \u001b[0mdebugger\u001b[0m\u001b[0;34m)\u001b[0m\u001b[0;34m\u001b[0m\u001b[0;34m\u001b[0m\u001b[0m\n\u001b[0m\u001b[1;32m    232\u001b[0m \u001b[0;34m\u001b[0m\u001b[0m\n\u001b[1;32m    233\u001b[0m \u001b[0;34m\u001b[0m\u001b[0m\n",
            "\u001b[0;32m/usr/local/lib/python3.11/dist-packages/pennylane/devices/qubit/apply_operation.py\u001b[0m in \u001b[0;36m_apply_operation_default\u001b[0;34m(op, state, is_state_batched, debugger)\u001b[0m\n\u001b[1;32m    239\u001b[0m         \u001b[0;32mand\u001b[0m \u001b[0mmath\u001b[0m\u001b[0;34m.\u001b[0m\u001b[0mndim\u001b[0m\u001b[0;34m(\u001b[0m\u001b[0mstate\u001b[0m\u001b[0;34m)\u001b[0m \u001b[0;34m<\u001b[0m \u001b[0mEINSUM_STATE_WIRECOUNT_PERF_THRESHOLD\u001b[0m\u001b[0;34m\u001b[0m\u001b[0;34m\u001b[0m\u001b[0m\n\u001b[1;32m    240\u001b[0m     ) or (op.batch_size and is_state_batched):\n\u001b[0;32m--> 241\u001b[0;31m         \u001b[0;32mreturn\u001b[0m \u001b[0mapply_operation_einsum\u001b[0m\u001b[0;34m(\u001b[0m\u001b[0mop\u001b[0m\u001b[0;34m,\u001b[0m \u001b[0mstate\u001b[0m\u001b[0;34m,\u001b[0m \u001b[0mis_state_batched\u001b[0m\u001b[0;34m=\u001b[0m\u001b[0mis_state_batched\u001b[0m\u001b[0;34m)\u001b[0m\u001b[0;34m\u001b[0m\u001b[0;34m\u001b[0m\u001b[0m\n\u001b[0m\u001b[1;32m    242\u001b[0m     \u001b[0;32mreturn\u001b[0m \u001b[0mapply_operation_tensordot\u001b[0m\u001b[0;34m(\u001b[0m\u001b[0mop\u001b[0m\u001b[0;34m,\u001b[0m \u001b[0mstate\u001b[0m\u001b[0;34m,\u001b[0m \u001b[0mis_state_batched\u001b[0m\u001b[0;34m=\u001b[0m\u001b[0mis_state_batched\u001b[0m\u001b[0;34m)\u001b[0m\u001b[0;34m\u001b[0m\u001b[0;34m\u001b[0m\u001b[0m\n\u001b[1;32m    243\u001b[0m \u001b[0;34m\u001b[0m\u001b[0m\n",
            "\u001b[0;32m/usr/local/lib/python3.11/dist-packages/pennylane/devices/qubit/apply_operation.py\u001b[0m in \u001b[0;36mapply_operation_einsum\u001b[0;34m(op, state, is_state_batched)\u001b[0m\n\u001b[1;32m    106\u001b[0m     \u001b[0mreshaped_mat\u001b[0m \u001b[0;34m=\u001b[0m \u001b[0mmath\u001b[0m\u001b[0;34m.\u001b[0m\u001b[0mreshape\u001b[0m\u001b[0;34m(\u001b[0m\u001b[0mmat\u001b[0m\u001b[0;34m,\u001b[0m \u001b[0mnew_mat_shape\u001b[0m\u001b[0;34m)\u001b[0m\u001b[0;34m\u001b[0m\u001b[0;34m\u001b[0m\u001b[0m\n\u001b[1;32m    107\u001b[0m \u001b[0;34m\u001b[0m\u001b[0m\n\u001b[0;32m--> 108\u001b[0;31m     \u001b[0;32mreturn\u001b[0m \u001b[0mmath\u001b[0m\u001b[0;34m.\u001b[0m\u001b[0meinsum\u001b[0m\u001b[0;34m(\u001b[0m\u001b[0meinsum_indices\u001b[0m\u001b[0;34m,\u001b[0m \u001b[0mreshaped_mat\u001b[0m\u001b[0;34m,\u001b[0m \u001b[0mstate\u001b[0m\u001b[0;34m)\u001b[0m\u001b[0;34m\u001b[0m\u001b[0;34m\u001b[0m\u001b[0m\n\u001b[0m\u001b[1;32m    109\u001b[0m \u001b[0;34m\u001b[0m\u001b[0m\n\u001b[1;32m    110\u001b[0m \u001b[0;34m\u001b[0m\u001b[0m\n",
            "\u001b[0;32m/usr/local/lib/python3.11/dist-packages/pennylane/math/multi_dispatch.py\u001b[0m in \u001b[0;36meinsum\u001b[0;34m(indices, like, optimize, *operands)\u001b[0m\n\u001b[1;32m    556\u001b[0m     \u001b[0;32mif\u001b[0m \u001b[0moptimize\u001b[0m \u001b[0;32mis\u001b[0m \u001b[0;32mNone\u001b[0m \u001b[0;32mor\u001b[0m \u001b[0mlike\u001b[0m \u001b[0;34m==\u001b[0m \u001b[0;34m\"torch\"\u001b[0m\u001b[0;34m:\u001b[0m\u001b[0;34m\u001b[0m\u001b[0;34m\u001b[0m\u001b[0m\n\u001b[1;32m    557\u001b[0m         \u001b[0;31m# torch einsum doesn't support the optimize keyword argument\u001b[0m\u001b[0;34m\u001b[0m\u001b[0;34m\u001b[0m\u001b[0m\n\u001b[0;32m--> 558\u001b[0;31m         \u001b[0;32mreturn\u001b[0m \u001b[0mnp\u001b[0m\u001b[0;34m.\u001b[0m\u001b[0meinsum\u001b[0m\u001b[0;34m(\u001b[0m\u001b[0mindices\u001b[0m\u001b[0;34m,\u001b[0m \u001b[0;34m*\u001b[0m\u001b[0moperands\u001b[0m\u001b[0;34m,\u001b[0m \u001b[0mlike\u001b[0m\u001b[0;34m=\u001b[0m\u001b[0mlike\u001b[0m\u001b[0;34m)\u001b[0m\u001b[0;34m\u001b[0m\u001b[0;34m\u001b[0m\u001b[0m\n\u001b[0m\u001b[1;32m    559\u001b[0m     \u001b[0;32mif\u001b[0m \u001b[0mlike\u001b[0m \u001b[0;34m==\u001b[0m \u001b[0;34m\"tensorflow\"\u001b[0m\u001b[0;34m:\u001b[0m\u001b[0;34m\u001b[0m\u001b[0;34m\u001b[0m\u001b[0m\n\u001b[1;32m    560\u001b[0m         \u001b[0;31m# Unpacking and casting necessary for higher order derivatives,\u001b[0m\u001b[0;34m\u001b[0m\u001b[0;34m\u001b[0m\u001b[0m\n",
            "\u001b[0;32m/usr/local/lib/python3.11/dist-packages/autoray/autoray.py\u001b[0m in \u001b[0;36mdo\u001b[0;34m(fn, like, *args, **kwargs)\u001b[0m\n\u001b[1;32m     79\u001b[0m     \u001b[0mbackend\u001b[0m \u001b[0;34m=\u001b[0m \u001b[0m_choose_backend\u001b[0m\u001b[0;34m(\u001b[0m\u001b[0mfn\u001b[0m\u001b[0;34m,\u001b[0m \u001b[0margs\u001b[0m\u001b[0;34m,\u001b[0m \u001b[0mkwargs\u001b[0m\u001b[0;34m,\u001b[0m \u001b[0mlike\u001b[0m\u001b[0;34m=\u001b[0m\u001b[0mlike\u001b[0m\u001b[0;34m)\u001b[0m\u001b[0;34m\u001b[0m\u001b[0;34m\u001b[0m\u001b[0m\n\u001b[1;32m     80\u001b[0m     \u001b[0mfunc\u001b[0m \u001b[0;34m=\u001b[0m \u001b[0mget_lib_fn\u001b[0m\u001b[0;34m(\u001b[0m\u001b[0mbackend\u001b[0m\u001b[0;34m,\u001b[0m \u001b[0mfn\u001b[0m\u001b[0;34m)\u001b[0m\u001b[0;34m\u001b[0m\u001b[0;34m\u001b[0m\u001b[0m\n\u001b[0;32m---> 81\u001b[0;31m     \u001b[0;32mreturn\u001b[0m \u001b[0mfunc\u001b[0m\u001b[0;34m(\u001b[0m\u001b[0;34m*\u001b[0m\u001b[0margs\u001b[0m\u001b[0;34m,\u001b[0m \u001b[0;34m**\u001b[0m\u001b[0mkwargs\u001b[0m\u001b[0;34m)\u001b[0m\u001b[0;34m\u001b[0m\u001b[0;34m\u001b[0m\u001b[0m\n\u001b[0m\u001b[1;32m     82\u001b[0m \u001b[0;34m\u001b[0m\u001b[0m\n\u001b[1;32m     83\u001b[0m \u001b[0;34m\u001b[0m\u001b[0m\n",
            "\u001b[0;32m/usr/local/lib/python3.11/dist-packages/pennylane/numpy/wrapper.py\u001b[0m in \u001b[0;36m_wrapped\u001b[0;34m(*args, **kwargs)\u001b[0m\n\u001b[1;32m    115\u001b[0m \u001b[0;34m\u001b[0m\u001b[0m\n\u001b[1;32m    116\u001b[0m         \u001b[0;31m# evaluate the original object\u001b[0m\u001b[0;34m\u001b[0m\u001b[0;34m\u001b[0m\u001b[0m\n\u001b[0;32m--> 117\u001b[0;31m         \u001b[0mres\u001b[0m \u001b[0;34m=\u001b[0m \u001b[0mobj\u001b[0m\u001b[0;34m(\u001b[0m\u001b[0;34m*\u001b[0m\u001b[0margs\u001b[0m\u001b[0;34m,\u001b[0m \u001b[0;34m**\u001b[0m\u001b[0mkwargs\u001b[0m\u001b[0;34m)\u001b[0m\u001b[0;34m\u001b[0m\u001b[0;34m\u001b[0m\u001b[0m\n\u001b[0m\u001b[1;32m    118\u001b[0m \u001b[0;34m\u001b[0m\u001b[0m\n\u001b[1;32m    119\u001b[0m         \u001b[0;32mif\u001b[0m \u001b[0misinstance\u001b[0m\u001b[0;34m(\u001b[0m\u001b[0mres\u001b[0m\u001b[0;34m,\u001b[0m \u001b[0m_np\u001b[0m\u001b[0;34m.\u001b[0m\u001b[0mndarray\u001b[0m\u001b[0;34m)\u001b[0m\u001b[0;34m:\u001b[0m\u001b[0;34m\u001b[0m\u001b[0;34m\u001b[0m\u001b[0m\n",
            "\u001b[0;32m/usr/local/lib/python3.11/dist-packages/autograd/tracer.py\u001b[0m in \u001b[0;36mf_wrapped\u001b[0;34m(*args, **kwargs)\u001b[0m\n\u001b[1;32m     46\u001b[0m             \u001b[0;32mreturn\u001b[0m \u001b[0mnew_box\u001b[0m\u001b[0;34m(\u001b[0m\u001b[0mans\u001b[0m\u001b[0;34m,\u001b[0m \u001b[0mtrace\u001b[0m\u001b[0;34m,\u001b[0m \u001b[0mnode\u001b[0m\u001b[0;34m)\u001b[0m\u001b[0;34m\u001b[0m\u001b[0;34m\u001b[0m\u001b[0m\n\u001b[1;32m     47\u001b[0m         \u001b[0;32melse\u001b[0m\u001b[0;34m:\u001b[0m\u001b[0;34m\u001b[0m\u001b[0;34m\u001b[0m\u001b[0m\n\u001b[0;32m---> 48\u001b[0;31m             \u001b[0;32mreturn\u001b[0m \u001b[0mf_raw\u001b[0m\u001b[0;34m(\u001b[0m\u001b[0;34m*\u001b[0m\u001b[0margs\u001b[0m\u001b[0;34m,\u001b[0m \u001b[0;34m**\u001b[0m\u001b[0mkwargs\u001b[0m\u001b[0;34m)\u001b[0m\u001b[0;34m\u001b[0m\u001b[0;34m\u001b[0m\u001b[0m\n\u001b[0m\u001b[1;32m     49\u001b[0m     \u001b[0mf_wrapped\u001b[0m\u001b[0;34m.\u001b[0m\u001b[0mfun\u001b[0m \u001b[0;34m=\u001b[0m \u001b[0mf_raw\u001b[0m\u001b[0;34m\u001b[0m\u001b[0;34m\u001b[0m\u001b[0m\n\u001b[1;32m     50\u001b[0m     \u001b[0mf_wrapped\u001b[0m\u001b[0;34m.\u001b[0m\u001b[0m_is_autograd_primitive\u001b[0m \u001b[0;34m=\u001b[0m \u001b[0;32mTrue\u001b[0m\u001b[0;34m\u001b[0m\u001b[0;34m\u001b[0m\u001b[0m\n",
            "\u001b[0;32m/usr/local/lib/python3.11/dist-packages/numpy/core/einsumfunc.py\u001b[0m in \u001b[0;36meinsum\u001b[0;34m(out, optimize, *operands, **kwargs)\u001b[0m\n\u001b[1;32m   1369\u001b[0m         \u001b[0;32mif\u001b[0m \u001b[0mspecified_out\u001b[0m\u001b[0;34m:\u001b[0m\u001b[0;34m\u001b[0m\u001b[0;34m\u001b[0m\u001b[0m\n\u001b[1;32m   1370\u001b[0m             \u001b[0mkwargs\u001b[0m\u001b[0;34m[\u001b[0m\u001b[0;34m'out'\u001b[0m\u001b[0;34m]\u001b[0m \u001b[0;34m=\u001b[0m \u001b[0mout\u001b[0m\u001b[0;34m\u001b[0m\u001b[0;34m\u001b[0m\u001b[0m\n\u001b[0;32m-> 1371\u001b[0;31m         \u001b[0;32mreturn\u001b[0m \u001b[0mc_einsum\u001b[0m\u001b[0;34m(\u001b[0m\u001b[0;34m*\u001b[0m\u001b[0moperands\u001b[0m\u001b[0;34m,\u001b[0m \u001b[0;34m**\u001b[0m\u001b[0mkwargs\u001b[0m\u001b[0;34m)\u001b[0m\u001b[0;34m\u001b[0m\u001b[0;34m\u001b[0m\u001b[0m\n\u001b[0m\u001b[1;32m   1372\u001b[0m \u001b[0;34m\u001b[0m\u001b[0m\n\u001b[1;32m   1373\u001b[0m     \u001b[0;31m# Check the kwargs to avoid a more cryptic error later, without having to\u001b[0m\u001b[0;34m\u001b[0m\u001b[0;34m\u001b[0m\u001b[0m\n",
            "\u001b[0;31mKeyboardInterrupt\u001b[0m: "
          ]
        }
      ]
    },
    {
      "cell_type": "code",
      "source": [
        "### Single optimization\n",
        "# Example QUBO matrix\n",
        "#Q = Q_onsite\n",
        "\n",
        "# Initial parameters for QAOA\n",
        "init_params = [params]*3\n",
        "init_params = np.reshape(init_params,(-1))\n",
        "\n",
        "# RL-QAOA setup\n",
        "rl_qaoa = RL_QAOA(Q,Q.shape[0],init_params,b_vector = np.array([5.]*30) ,QAOA_depth=depth,gamma = 0.99,learning_rate_init=[0.05,0.00])\n",
        "final_config = rl_qaoa.rqaoa_execute()\n",
        "rl_qaoa.n_c = 1\n",
        "print(f\"classical_result : {final_config},best : {rl_qaoa.node_assignments}\" )\n",
        "\n",
        "\n",
        "# Execute RQAOA\n",
        "final_config = rl_qaoa.RL_QAOA(episodes=50,epochs=60,correc_ans=float(final_config[2]))"
      ],
      "metadata": {
        "colab": {
          "base_uri": "https://localhost:8080/",
          "height": 1000
        },
        "id": "Wosvgf5EM-Bq",
        "outputId": "1c2e099a-f644-45f4-e753-6fcfdb91f81d"
      },
      "execution_count": 193,
      "outputs": [
        {
          "output_type": "stream",
          "name": "stdout",
          "text": [
            "classical_result : (None, None, tensor(-21.43789003, requires_grad=True)),best : {0: -1, 1: 1, 2: 1, 3: -1, 4: -1}\n"
          ]
        },
        {
          "output_type": "stream",
          "name": "stderr",
          "text": [
            "100%|██████████| 50/50 [00:17<00:00,  2.88it/s]\n"
          ]
        },
        {
          "output_type": "stream",
          "name": "stdout",
          "text": [
            "[-0.92093656 -0.92093656 -0.92093656 -0.92093656 -0.92093656 -0.92093656\n",
            " -0.92093656 -0.92093656 -0.92093656 -0.92093656 -0.92093656 -0.92093656\n",
            " -0.67916599 -0.92093656 -0.67916599 -0.92093656  3.46615273 -0.92093656\n",
            " -0.92093656  3.46615273  3.46615273  3.46615273  3.46615273 -0.92093656\n",
            " -0.92093656 -0.92093656 -0.92093656 -0.67916599 -0.67916599 -0.67916599\n",
            " -0.67916599 -0.92093656 -0.92093656 -0.92093656  3.46615273  3.46615273\n",
            " -0.67916599  3.46615273 -0.92093656 -0.92093656 -0.92093656  3.46615273\n",
            "  3.46615273 -0.92093656 -0.67916599 -0.67916599 -0.92093656 -0.92093656\n",
            " -0.92093656 -0.92093656]\n",
            "cost : -15.153987005760824\n",
            "prob : 0.0\n",
            "QAOA update : [ 0.04999997  0.05        0.04999999  0.04999998  0.04999999 -0.05\n",
            "  0.04999996 -0.04999998  0.          0.          0.          0.        ]\n",
            "QAOA param : [1.71846512 3.30284643 2.32502639 2.77377667 1.71846514 3.20284643\n",
            " 2.32502636 2.67377671 1.66846515 3.25284643 2.27502641 2.72377669]\n"
          ]
        },
        {
          "output_type": "stream",
          "name": "stderr",
          "text": [
            "100%|██████████| 50/50 [00:13<00:00,  3.75it/s]\n"
          ]
        },
        {
          "output_type": "stream",
          "name": "stdout",
          "text": [
            "[-1.05035127  3.09496745  0.78335105 -1.05035127  1.320105   -1.29212184\n",
            " -1.29212184  1.320105   -1.29212184  1.320105    6.67656114  6.67656114\n",
            "  1.320105   -1.29212184 -1.05035127 -1.05035127 -1.29212184  0.78335105\n",
            " -1.05035127  6.67656114 -1.29212184 -1.05035127 -1.05035127 -0.02815299\n",
            "  6.67656114 -1.29212184  1.320105   -1.29212184 -1.29212184 -1.29212184\n",
            " -1.29212184 -1.05035127  0.78335105 -1.05035127 -1.29212184 -1.29212184\n",
            "  3.09496745 -0.02815299 -1.05035127 -1.29212184  0.78335105 -1.05035127\n",
            " -1.29212184 -1.29212184 -1.29212184 -6.65508831 -0.02815299 -1.29212184\n",
            " -0.02815299 -1.05035127]\n",
            "cost : -14.78280172529517\n",
            "prob : 0.02\n",
            "QAOA update : [-0.03615128  0.00111376  0.04925101  0.04578382  0.03267131 -0.03332896\n",
            "  0.03046543 -0.03315372  0.          0.          0.          0.        ]\n",
            "QAOA param : [1.68231384 3.30396019 2.37427741 2.81956049 1.75113645 3.16951748\n",
            " 2.3554918  2.64062299 1.66846515 3.25284643 2.27502641 2.72377669]\n"
          ]
        },
        {
          "output_type": "stream",
          "name": "stderr",
          "text": [
            "100%|██████████| 50/50 [00:13<00:00,  3.77it/s]\n"
          ]
        },
        {
          "output_type": "stream",
          "name": "stdout",
          "text": [
            "[-5.60503323e+00  4.14502252e+00  2.37016008e+00  2.37016008e+00\n",
            " -2.96195570e-04  2.37016008e+00 -2.96195570e-04 -2.96195570e-04\n",
            " -2.42066762e-01 -2.42066762e-01  4.14502252e+00  1.83340613e+00\n",
            "  2.37016008e+00  2.37016008e+00  1.83340613e+00 -2.42066762e-01\n",
            " -5.60503323e+00  1.02190209e+00 -5.60503323e+00 -5.60503323e+00\n",
            " -5.60503323e+00 -2.42066762e-01 -2.96195570e-04 -5.60503323e+00\n",
            " -5.60503323e+00 -2.42066762e-01  2.37016008e+00  2.37016008e+00\n",
            " -2.42066762e-01  2.37016008e+00 -2.42066762e-01  1.83340613e+00\n",
            " -2.42066762e-01 -5.60503323e+00 -2.96195570e-04  2.37016008e+00\n",
            " -2.42066762e-01 -2.42066762e-01  1.02190209e+00  2.37016008e+00\n",
            "  2.37016008e+00 -5.60503323e+00 -2.42066762e-01  7.72661622e+00\n",
            " -2.96195570e-04 -2.42066762e-01  1.83340613e+00 -2.42066762e-01\n",
            "  2.37016008e+00 -2.42066762e-01]\n",
            "cost : -15.832856802967527\n",
            "prob : 0.18\n",
            "QAOA update : [-0.04240497 -0.01130805  0.04684435  0.04612963 -0.0108004  -0.03707407\n",
            "  0.03916419 -0.04027019  0.          0.          0.          0.        ]\n",
            "QAOA param : [1.63990887 3.29265214 2.42112175 2.86569012 1.74033605 3.13244341\n",
            " 2.39465598 2.6003528  1.66846515 3.25284643 2.27502641 2.72377669]\n"
          ]
        },
        {
          "output_type": "stream",
          "name": "stderr",
          "text": [
            "100%|██████████| 50/50 [00:13<00:00,  3.81it/s]\n"
          ]
        },
        {
          "output_type": "stream",
          "name": "stdout",
          "text": [
            "[ 1.17163514 -4.19133133  1.17163514  1.41340571 -4.19133133  1.17163514\n",
            "  1.17163514  2.43560399 -4.19133133  1.41340571  1.41340571  3.24710803\n",
            "  2.43560399 -4.19133133  3.24710803 -4.19133133  1.17163514  1.17163514\n",
            " -4.19133133 -4.19133133 -4.19133133 -4.19133133  1.41340571  1.17163514\n",
            " -4.19133133  1.41340571  1.17163514  3.78386198  3.24710803  3.78386198\n",
            "  1.41340571  1.17163514 -4.19133133  1.41340571  1.17163514 -4.19133133\n",
            "  3.78386198  1.41340571 -4.19133133  1.41340571  1.17163514  1.17163514\n",
            " -4.19133133  1.17163514 -4.19133133  1.41340571  1.17163514  1.17163514\n",
            "  1.41340571  3.78386198]\n",
            "cost : -17.246558705480254\n",
            "prob : 0.3\n",
            "QAOA update : [-0.0362718  -0.00410092  0.04806851  0.03044754 -0.02984095 -0.02184445\n",
            "  0.03530158 -0.04389089  0.          0.          0.          0.        ]\n",
            "QAOA param : [1.60363707 3.28855122 2.46919026 2.89613766 1.7104951  3.11059896\n",
            " 2.42995756 2.55646191 1.66846515 3.25284643 2.27502641 2.72377669]\n"
          ]
        },
        {
          "output_type": "stream",
          "name": "stderr",
          "text": [
            "100%|██████████| 50/50 [00:12<00:00,  3.90it/s]\n"
          ]
        },
        {
          "output_type": "stream",
          "name": "stdout",
          "text": [
            "[ 1.23342708  1.23342708  1.23342708  1.23342708 -4.37130995 -4.37130995\n",
            "  1.23342708  1.23342708  0.99165652  1.23342708 -4.37130995  2.25562537\n",
            "  0.99165652  0.99165652 -4.37130995 -4.37130995  3.60388336 -4.37130995\n",
            "  0.99165652  1.23342708 -4.37130995  0.99165652  4.57216088  3.60388336\n",
            "  4.57216088 -4.37130995  4.57216088  0.99165652  3.60388336  2.25562537\n",
            " -4.37130995  0.99165652  3.60388336  0.99165652 -4.37130995 -4.37130995\n",
            "  8.9603395   3.60388336  1.23342708 -4.37130995 -4.37130995  1.23342708\n",
            " -4.37130995 -4.37130995 -4.37130995  5.3787458   0.99165652 -4.37130995\n",
            "  1.23342708  1.23342708]\n",
            "cost : -17.06658008195195\n",
            "prob : 0.34\n",
            "QAOA update : [ 0.00471276  0.01344977  0.0443009  -0.01543982 -0.03597951 -0.03000295\n",
            "  0.00615728 -0.04418862  0.          0.          0.          0.        ]\n",
            "QAOA param : [1.60834983 3.30200099 2.51349116 2.88069784 1.67451559 3.08059602\n",
            " 2.43611484 2.51227329 1.66846515 3.25284643 2.27502641 2.72377669]\n"
          ]
        },
        {
          "output_type": "stream",
          "name": "stderr",
          "text": [
            "100%|██████████| 50/50 [00:12<00:00,  3.92it/s]\n"
          ]
        },
        {
          "output_type": "stream",
          "name": "stdout",
          "text": [
            "[-5.2570125   0.10595397 -5.2570125   0.10595397  2.71818081 -5.2570125\n",
            "  0.10595397  1.36992282  0.10595397  0.34772453  0.34772453 -5.2570125\n",
            "  0.34772453  0.10595397  0.34772453  9.1601668   0.34772453 -5.2570125\n",
            " -5.2570125   8.07463695  4.49304325 -5.2570125   0.34772453  0.10595397\n",
            " -5.2570125   0.10595397  0.10595397  0.10595397 -5.2570125  -5.2570125\n",
            "  2.71818081  4.49304325  3.68645833  9.34427743  4.49304325  1.36992282\n",
            "  0.10595397  0.10595397  0.34772453 -5.2570125  -5.2570125   0.34772453\n",
            "  0.34772453  9.1601668   4.49304325 -5.2570125  -5.2570125  -5.2570125\n",
            "  4.49304325  4.49304325]\n",
            "cost : -16.180877531272266\n",
            "prob : 0.3\n",
            "QAOA update : [ 0.02163289  0.02432228  0.04534264 -0.02864258 -0.02978716 -0.02091863\n",
            "  0.00845526 -0.0389215   0.          0.          0.          0.        ]\n",
            "QAOA param : [1.62998272 3.32632327 2.5588338  2.85205526 1.64472843 3.05967739\n",
            " 2.44457009 2.47335179 1.66846515 3.25284643 2.27502641 2.72377669]\n"
          ]
        },
        {
          "output_type": "stream",
          "name": "stderr",
          "text": [
            "100%|██████████| 50/50 [00:12<00:00,  3.92it/s]\n"
          ]
        },
        {
          "output_type": "stream",
          "name": "stdout",
          "text": [
            "[-2.86838905  2.73634798  2.73634798 -2.86838905  2.49457742 -2.86838905\n",
            " -2.86838905 -2.86838905  5.10680426 -2.86838905 -2.86838905  6.8816667\n",
            "  3.75854627  2.49457742  2.49457742  2.49457742 -2.86838905  6.8816667\n",
            "  6.8816667  -2.86838905 -2.86838905 -2.86838905  6.8816667  -2.86838905\n",
            " -2.86838905 -2.86838905 -2.86838905  2.49457742 -2.86838905 -2.86838905\n",
            " -2.86838905  2.49457742  4.5700503   2.73634798 -2.86838905 -2.86838905\n",
            " -2.86838905 -2.86838905  2.49457742  2.73634798 -2.86838905  2.73634798\n",
            "  2.73634798 -2.86838905  2.73634798 -2.86838905 -2.86838905  2.73634798\n",
            " -2.86838905 -2.86838905]\n",
            "cost : -18.569500980626405\n",
            "prob : 0.56\n",
            "QAOA update : [ 0.02254327  0.01833093  0.03767998 -0.02213111 -0.02581865 -0.01609052\n",
            "  0.01078812 -0.03487571  0.          0.          0.          0.        ]\n",
            "QAOA param : [1.65252598 3.3446542  2.59651378 2.82992414 1.61890978 3.04358687\n",
            " 2.45535821 2.43847608 1.66846515 3.25284643 2.27502641 2.72377669]\n"
          ]
        },
        {
          "output_type": "stream",
          "name": "stderr",
          "text": [
            "100%|██████████| 50/50 [00:12<00:00,  3.89it/s]\n"
          ]
        },
        {
          "output_type": "stream",
          "name": "stdout",
          "text": [
            "[ 1.8287717   2.07054227  1.8287717   2.07054227  1.8287717   1.8287717\n",
            " -3.53419476 -3.53419476  2.07054227  1.8287717  -3.53419476  1.8287717\n",
            "  1.8287717  -3.53419476 -3.53419476 -3.53419476 -3.53419476  2.07054227\n",
            " -3.53419476 -3.53419476  2.07054227  1.8287717   2.07054227  2.07054227\n",
            "  6.21586099  2.07054227 -3.53419476  1.8287717   1.8287717  -3.53419476\n",
            " -3.53419476  1.8287717  -3.53419476  6.21586099  1.8287717   2.07054227\n",
            "  2.07054227 -3.53419476  1.8287717   1.8287717   1.8287717  -3.53419476\n",
            "  1.8287717  -3.53419476 -3.53419476  2.07054227  6.21586099 -3.53419476\n",
            " -3.53419476 -3.53419476]\n",
            "cost : -17.903695269469186\n",
            "prob : 0.4\n",
            "QAOA update : [ 1.54983691e-02  4.87121140e-05  2.04187988e-02 -1.14770127e-02\n",
            " -2.15868590e-02 -1.56026552e-02 -2.81404753e-03 -1.50227530e-02\n",
            "  0.00000000e+00  0.00000000e+00  0.00000000e+00  0.00000000e+00]\n",
            "QAOA param : [1.66802435 3.34470291 2.61693258 2.81844713 1.59732292 3.02798421\n",
            " 2.45254416 2.42345333 1.66846515 3.25284643 2.27502641 2.72377669]\n"
          ]
        },
        {
          "output_type": "stream",
          "name": "stderr",
          "text": [
            "100%|██████████| 50/50 [00:12<00:00,  3.98it/s]\n"
          ]
        },
        {
          "output_type": "stream",
          "name": "stdout",
          "text": [
            "[-4.94307307  4.80698269  0.66166397  0.4198934  -4.94307307  0.4198934\n",
            "  0.4198934   0.4198934  -4.94307307  0.4198934   0.4198934   4.80698269\n",
            " -4.94307307  0.66166397 -4.94307307  0.66166397 -4.94307307  4.80698269\n",
            "  0.4198934   0.4198934   0.66166397  0.4198934   0.4198934   0.4198934\n",
            "  0.4198934   4.80698269  4.80698269  0.66166397  0.66166397  0.4198934\n",
            "  0.4198934  -4.94307307  0.66166397 -4.94307307 -4.94307307  0.66166397\n",
            "  0.66166397  0.4198934   0.66166397  0.4198934   4.80698269  4.80698269\n",
            "  4.80698269 -4.94307307  0.4198934   0.66166397  0.4198934   0.66166397\n",
            " -4.94307307  0.4198934 ]\n",
            "cost : -16.494816965681665\n",
            "prob : 0.22\n",
            "QAOA update : [ 0.00543178 -0.01054601  0.01329271 -0.00581377 -0.0146812   0.00750927\n",
            " -0.01580705  0.00502387  0.          0.          0.          0.        ]\n",
            "QAOA param : [1.67345613 3.3341569  2.63022529 2.81263336 1.58264172 3.03549348\n",
            " 2.43673711 2.42847719 1.66846515 3.25284643 2.27502641 2.72377669]\n"
          ]
        },
        {
          "output_type": "stream",
          "name": "stderr",
          "text": [
            "100%|██████████| 50/50 [00:13<00:00,  3.78it/s]\n"
          ]
        },
        {
          "output_type": "stream",
          "name": "stdout",
          "text": [
            "[ 1.43476786  1.43476786  1.19299729  5.58008658 -4.16996917  1.43476786\n",
            " -4.16996917  3.80522413 -4.16996917 -4.16996917 -4.16996917 -4.16996917\n",
            "  1.19299729 -4.16996917 -4.16996917 -4.16996917 -4.16996917  1.19299729\n",
            " -4.16996917  1.43476786  1.19299729  1.43476786  1.43476786  5.58008658\n",
            " -4.16996917  1.43476786  1.43476786  1.19299729  1.19299729  1.19299729\n",
            " -4.16996917  1.19299729 -4.16996917  3.80522413 -4.16996917  1.19299729\n",
            "  1.43476786  1.43476786 -4.16996917  1.19299729  5.58008658  1.19299729\n",
            "  1.43476786  1.19299729  1.19299729  1.19299729  1.43476786  5.58008658\n",
            "  1.43476786  1.43476786]\n",
            "cost : -17.2679208588753\n",
            "prob : 0.32\n",
            "QAOA update : [-0.00453935 -0.01731465  0.00573588 -0.00183582 -0.00046637  0.00160092\n",
            " -0.02441241  0.01547497  0.          0.          0.          0.        ]\n",
            "QAOA param : [1.66891678 3.31684225 2.63596117 2.81079754 1.58217534 3.0370944\n",
            " 2.4123247  2.44395217 1.66846515 3.25284643 2.27502641 2.72377669]\n"
          ]
        },
        {
          "output_type": "stream",
          "name": "stderr",
          "text": [
            "100%|██████████| 50/50 [00:13<00:00,  3.78it/s]\n"
          ]
        },
        {
          "output_type": "stream",
          "name": "stdout",
          "text": [
            "[ 6.1333072   1.74621792  1.98798848  1.98798848  1.98798848  1.98798848\n",
            "  1.74621792 -3.61674855 -3.61674855  1.98798848  1.74621792 -3.61674855\n",
            "  1.98798848  1.98798848 -3.61674855  1.98798848  1.98798848 -3.61674855\n",
            "  1.98798848  1.74621792  1.74621792 -3.61674855 -3.61674855  1.98798848\n",
            "  1.74621792  1.74621792 -3.61674855  1.98798848 -3.61674855 -3.61674855\n",
            " -3.61674855  1.74621792  1.74621792  1.98798848 -3.61674855  1.98798848\n",
            " -3.61674855  1.98798848  1.98798848  1.98798848  1.98798848  1.74621792\n",
            "  1.74621792 -3.61674855  1.98798848 -3.61674855 -3.61674855  1.98798848\n",
            " -3.61674855 -3.61674855]\n",
            "cost : -17.821141480333115\n",
            "prob : 0.36\n",
            "QAOA update : [-0.00961891 -0.01493781  0.00237192  0.00863187  0.00445081  0.00255825\n",
            " -0.03169418  0.02584927  0.          0.          0.          0.        ]\n",
            "QAOA param : [1.65929787 3.30190444 2.63833308 2.81942941 1.58662615 3.03965265\n",
            " 2.38063052 2.46980144 1.66846515 3.25284643 2.27502641 2.72377669]\n"
          ]
        },
        {
          "output_type": "stream",
          "name": "stderr",
          "text": [
            "100%|██████████| 50/50 [00:12<00:00,  3.99it/s]\n"
          ]
        },
        {
          "output_type": "stream",
          "name": "stdout",
          "text": [
            "[-2.45081977  2.91214669 -2.45081977  3.15391726  4.17611555  3.15391726\n",
            "  3.15391726 -2.45081977 -2.45081977 -2.45081977 -2.45081977 -2.45081977\n",
            " -2.45081977  2.91214669 -2.45081977  3.15391726 -2.45081977  3.15391726\n",
            " -2.45081977  3.15391726  3.15391726 -2.45081977 -2.45081977  3.15391726\n",
            " -2.45081977  3.15391726 -2.45081977 -2.45081977 -2.45081977 -2.45081977\n",
            " 12.15047015 -2.45081977  7.29923598 -2.45081977 -2.45081977 -2.45081977\n",
            " -2.45081977 -2.45081977 -2.45081977  3.15391726 -2.45081977 -2.45081977\n",
            " -2.45081977  5.52437353 -2.45081977 -2.45081977 -2.45081977  3.15391726\n",
            "  3.15391726  3.15391726]\n",
            "cost : -18.987070257628265\n",
            "prob : 0.62\n",
            "QAOA update : [-0.01521993 -0.01819345  0.00393082  0.01300327 -0.00500954  0.01193763\n",
            " -0.03305265  0.02896965  0.          0.          0.          0.        ]\n",
            "QAOA param : [1.64407794 3.283711   2.6422639  2.83243269 1.58161661 3.05159028\n",
            " 2.34757786 2.49877109 1.66846515 3.25284643 2.27502641 2.72377669]\n"
          ]
        },
        {
          "output_type": "stream",
          "name": "stderr",
          "text": [
            "100%|██████████| 50/50 [00:12<00:00,  4.06it/s]\n"
          ]
        },
        {
          "output_type": "stream",
          "name": "stdout",
          "text": [
            "[-2.68412301 -2.68412301 -2.68412301  7.06593274  2.92061402  2.67884345\n",
            "  7.06593274 -2.68412301  2.67884345  2.92061402 -2.68412301 -2.68412301\n",
            " -2.68412301 -2.68412301  2.92061402  2.92061402  2.92061402 -2.68412301\n",
            "  2.92061402  2.92061402 -2.68412301 -2.68412301 -2.68412301  3.9428123\n",
            " -2.68412301 -2.68412301  2.67884345 -2.68412301 -2.68412301 -2.68412301\n",
            "  2.67884345 -2.68412301 -2.68412301 -2.68412301 -2.68412301 -2.68412301\n",
            " -2.68412301  5.29107029  2.67884345  7.06593274 -2.68412301  2.67884345\n",
            " -2.68412301  2.67884345  2.92061402 -2.68412301 -2.68412301 -2.68412301\n",
            " -2.68412301  5.29107029]\n",
            "cost : -18.75376701659584\n",
            "prob : 0.58\n",
            "QAOA update : [-0.0144596  -0.01471368  0.00406079  0.02062177  0.00323662  0.00486967\n",
            " -0.02993497  0.02650693  0.          0.          0.          0.        ]\n",
            "QAOA param : [1.62961835 3.26899732 2.64632469 2.85305446 1.58485323 3.05645995\n",
            " 2.31764289 2.52527801 1.66846515 3.25284643 2.27502641 2.72377669]\n"
          ]
        },
        {
          "output_type": "stream",
          "name": "stderr",
          "text": [
            "100%|██████████| 50/50 [00:12<00:00,  3.97it/s]\n"
          ]
        },
        {
          "output_type": "stream",
          "name": "stdout",
          "text": [
            "[-5.67606542  4.07399033 -0.31309896 -5.67606542 -0.31309896  0.9508699\n",
            " -5.67606542  8.74111387 -5.67606542 -0.31309896  2.29912788 -0.07132839\n",
            "  0.9508699  -5.67606542  4.07399033  8.74111387 -0.07132839  8.74111387\n",
            " -5.67606542  0.9508699   7.65558402 -0.07132839  2.29912788  0.9508699\n",
            " -5.67606542  4.07399033 -5.67606542 -0.07132839 -5.67606542  3.26740541\n",
            "  0.9508699   4.07399033  4.07399033 -5.67606542 -5.67606542 -5.67606542\n",
            " -0.07132839 -0.31309896 -5.67606542 -0.31309896 -0.31309896 -5.67606542\n",
            " -5.67606542 -0.31309896 -0.07132839 -0.07132839  4.07399033  8.74111387\n",
            "  4.07399033  4.07399033]\n",
            "cost : -15.76182460725749\n",
            "prob : 0.3\n",
            "QAOA update : [ 0.00118573  0.00988291  0.00085952  0.00844894 -0.01087818  0.01240732\n",
            " -0.03315726  0.03281652  0.          0.          0.          0.        ]\n",
            "QAOA param : [1.63080407 3.27888023 2.64718421 2.8615034  1.57397505 3.06886727\n",
            " 2.28448563 2.55809454 1.66846515 3.25284643 2.27502641 2.72377669]\n"
          ]
        },
        {
          "output_type": "stream",
          "name": "stderr",
          "text": [
            "100%|██████████| 50/50 [00:12<00:00,  4.00it/s]\n"
          ]
        },
        {
          "output_type": "stream",
          "name": "stdout",
          "text": [
            "[-3.6456192  -3.6456192  -3.6456192   6.10443655  1.71734726  1.95911783\n",
            " -3.6456192  -3.6456192   1.95911783 -3.6456192  -3.6456192  -3.6456192\n",
            "  4.3295741   1.95911783 -3.6456192   1.95911783  1.71734726 -3.6456192\n",
            " -3.6456192  -3.6456192  -3.6456192   1.71734726 -3.6456192   1.95911783\n",
            "  1.71734726  1.95911783 -3.6456192  -3.6456192   1.71734726  5.29785163\n",
            " -3.6456192  -3.6456192   9.9706468  -3.6456192   1.71734726  1.71734726\n",
            "  5.29785163  6.10443655 -3.6456192   1.95911783  1.95911783  1.71734726\n",
            " -3.6456192   6.10443655  1.95911783 10.95567072 -3.6456192   1.95911783\n",
            " -3.6456192  -3.6456192 ]\n",
            "cost : -17.792270826627117\n",
            "prob : 0.48\n",
            "QAOA update : [ 0.00629192  0.01795452  0.00312842  0.00364848 -0.01191762  0.00521666\n",
            " -0.02106792  0.03630292  0.          0.          0.          0.        ]\n",
            "QAOA param : [1.63709599 3.29683475 2.65031264 2.86515188 1.56205743 3.07408393\n",
            " 2.26341771 2.59439746 1.66846515 3.25284643 2.27502641 2.72377669]\n"
          ]
        },
        {
          "output_type": "stream",
          "name": "stderr",
          "text": [
            "100%|██████████| 50/50 [00:12<00:00,  3.94it/s]\n"
          ]
        },
        {
          "output_type": "stream",
          "name": "stdout",
          "text": [
            "[ 4.45696924 -3.51822407  6.23183169  2.08651297 -3.51822407  1.8447424\n",
            "  6.23183169  4.45696924 -3.51822407  2.08651297  1.8447424  -3.51822407\n",
            "  2.08651297  1.8447424   2.08651297 -3.51822407  3.10871125  1.8447424\n",
            " -3.51822407  4.45696924  1.8447424   6.23183169 -3.51822407  1.8447424\n",
            " -3.51822407 -3.51822407  1.8447424  -3.51822407  1.8447424   6.23183169\n",
            "  2.08651297 -3.51822407  2.08651297 -3.51822407 -3.51822407 -3.51822407\n",
            " -3.51822407 -3.51822407 -3.51822407 -3.51822407  3.10871125  1.8447424\n",
            "  2.08651297 -3.51822407  3.10871125 -3.51822407 -3.51822407 -3.51822407\n",
            " -3.51822407  2.08651297]\n",
            "cost : -17.919665964047347\n",
            "prob : 0.46\n",
            "QAOA update : [ 0.00622466  0.01602299  0.00484124 -0.00478645 -0.00545318 -0.00726618\n",
            "  0.00203134  0.03665691  0.          0.          0.          0.        ]\n",
            "QAOA param : [1.64332065 3.31285774 2.65515388 2.86036544 1.55660425 3.06681775\n",
            " 2.26544906 2.63105437 1.66846515 3.25284643 2.27502641 2.72377669]\n"
          ]
        },
        {
          "output_type": "stream",
          "name": "stderr",
          "text": [
            "100%|██████████| 50/50 [00:12<00:00,  3.93it/s]\n"
          ]
        },
        {
          "output_type": "stream",
          "name": "stdout",
          "text": [
            "[-3.34089666  2.26384037  3.28603866  2.26384037 -3.34089666  2.0220698\n",
            " -3.34089666  4.63429664  4.63429664  2.26384037  3.28603866 -3.34089666\n",
            " -3.34089666 -3.34089666  2.0220698  -3.34089666  2.0220698   2.0220698\n",
            "  2.0220698   6.40915909  4.63429664 -3.34089666 -3.34089666  6.40915909\n",
            " -3.34089666  4.63429664 -3.34089666 -3.34089666  6.40915909  3.28603866\n",
            "  3.28603866  2.0220698  -3.34089666 -3.34089666 -3.34089666  2.26384037\n",
            "  4.63429664 -3.34089666 -3.34089666 -3.34089666 -3.34089666  2.26384037\n",
            "  2.26384037 -3.34089666 -3.34089666 -3.34089666 -3.34089666 -3.34089666\n",
            "  2.26384037 -3.34089666]\n",
            "cost : -18.0969933690438\n",
            "prob : 0.5\n",
            "QAOA update : [ 0.00439046  0.01314825  0.00488233 -0.00554119  0.00210512 -0.01456287\n",
            "  0.01158111  0.03268235  0.          0.          0.          0.        ]\n",
            "QAOA param : [1.64771111 3.32600599 2.6600362  2.85482424 1.55870937 3.05225487\n",
            " 2.27703017 2.66373672 1.66846515 3.25284643 2.27502641 2.72377669]\n"
          ]
        },
        {
          "output_type": "stream",
          "name": "stderr",
          "text": [
            "100%|██████████| 50/50 [00:12<00:00,  3.93it/s]\n"
          ]
        },
        {
          "output_type": "stream",
          "name": "stdout",
          "text": [
            "[-2.51346065 -2.51346065 -2.51346065  2.84950581  2.84950581 -2.51346065\n",
            " 15.15823783 -2.51346065 -2.51346065 -2.51346065  3.09127638 -2.51346065\n",
            " -2.51346065 -2.51346065 -2.51346065 -2.51346065  5.46173265  4.9249787\n",
            "  4.11347467  5.46173265  2.84950581 -2.51346065 -2.51346065 -2.51346065\n",
            "  2.84950581  5.46173265 -2.51346065 -2.51346065 -2.51346065 -2.51346065\n",
            " -2.51346065 -2.51346065 -2.51346065 -2.51346065 -2.51346065 -2.51346065\n",
            " -2.51346065  3.09127638  3.09127638 -2.51346065 -2.51346065 -2.51346065\n",
            " -2.51346065  5.46173265  4.9249787  -2.51346065  3.09127638  2.84950581\n",
            " -2.51346065  2.84950581]\n",
            "cost : -18.924429377637775\n",
            "prob : 0.64\n",
            "QAOA update : [ 0.00024606  0.00701496 -0.00528597 -0.00338432 -0.00187197 -0.0045847\n",
            "  0.00938773  0.02968901  0.          0.          0.          0.        ]\n",
            "QAOA param : [1.64795716 3.33302095 2.65475023 2.85143993 1.5568374  3.04767017\n",
            " 2.2864179  2.69342573 1.66846515 3.25284643 2.27502641 2.72377669]\n"
          ]
        },
        {
          "output_type": "stream",
          "name": "stderr",
          "text": [
            "100%|██████████| 50/50 [00:12<00:00,  3.91it/s]\n"
          ]
        },
        {
          "output_type": "stream",
          "name": "stdout",
          "text": [
            "[ 3.04727072 -2.55746631 -2.55746631  2.80550016 -2.55746631 -2.55746631\n",
            " -2.55746631  4.88097304  3.04727072  2.80550016 -2.55746631 -2.55746631\n",
            " 10.77418313 -2.55746631  2.80550016 -2.55746631 -2.55746631 -2.55746631\n",
            " -2.55746631  2.80550016 -2.55746631  3.04727072 -2.55746631 -2.55746631\n",
            " -2.55746631  5.417727   -2.55746631  3.04727072 -2.55746631  3.04727072\n",
            "  2.80550016 -2.55746631 -2.55746631 -2.55746631 -2.55746631 -2.55746631\n",
            " -2.55746631 -2.55746631 -2.55746631  3.04727072 -2.55746631 -2.55746631\n",
            "  7.19258944 -2.55746631 -2.55746631  3.04727072  7.19258944  3.04727072\n",
            "  5.417727   -2.55746631]\n",
            "cost : -18.880423720690086\n",
            "prob : 0.62\n",
            "QAOA update : [-0.00366328 -0.00152222 -0.01270488 -0.0028471  -0.0108375  -0.01143307\n",
            "  0.01288746  0.03407226  0.          0.          0.          0.        ]\n",
            "QAOA param : [1.64429388 3.33149873 2.64204535 2.84859283 1.5459999  3.0362371\n",
            " 2.29930536 2.72749799 1.66846515 3.25284643 2.27502641 2.72377669]\n"
          ]
        },
        {
          "output_type": "stream",
          "name": "stderr",
          "text": [
            "100%|██████████| 50/50 [00:12<00:00,  3.93it/s]\n"
          ]
        },
        {
          "output_type": "stream",
          "name": "stdout",
          "text": [
            "[ 1.15434774  3.22982062  1.15434774 -4.20861873 -4.20861873  2.41831659\n",
            " -4.20861873 -4.20861873  1.3961183  -4.20861873  1.15434774 -4.20861873\n",
            "  3.22982062  1.3961183   3.76657458 -4.20861873 -4.20861873  3.22982062\n",
            " -4.20861873  1.15434774 -4.20861873  3.22982062  1.15434774 10.3926712\n",
            " -4.20861873  1.15434774 -4.20861873 -4.20861873  1.15434774 -4.20861873\n",
            " -4.20861873  3.22982062 -4.20861873  3.22982062 10.3926712  -4.20861873\n",
            " -4.20861873 -4.20861873  1.15434774  1.15434774  3.22982062 -4.20861873\n",
            " 10.3926712   3.22982062  3.22982062 -4.20861873  3.22982062  1.15434774\n",
            "  1.15434774  3.22982062]\n",
            "cost : -17.22927130124783\n",
            "prob : 0.42\n",
            "QAOA update : [-5.67714334e-03 -7.27860474e-03 -1.58058900e-02 -8.29978309e-03\n",
            " -7.77232753e-05  1.07876830e-02  1.71253159e-02  1.39845747e-02\n",
            "  0.00000000e+00  0.00000000e+00  0.00000000e+00  0.00000000e+00]\n",
            "QAOA param : [1.63861674 3.32422012 2.62623946 2.84029305 1.54592218 3.04702478\n",
            " 2.31643068 2.74148257 1.66846515 3.25284643 2.27502641 2.72377669]\n"
          ]
        },
        {
          "output_type": "stream",
          "name": "stderr",
          "text": [
            "100%|██████████| 50/50 [00:12<00:00,  3.93it/s]\n"
          ]
        },
        {
          "output_type": "stream",
          "name": "stdout",
          "text": [
            "[ 1.05808842  3.67031526 -4.30487805  3.1335613   1.05808842 -4.30487805\n",
            " -4.30487805 -4.30487805 -4.30487805  9.02677139 -4.30487805 -4.30487805\n",
            "  1.05808842 -4.30487805  1.29985898 -4.30487805  1.05808842 -4.30487805\n",
            "  3.1335613  -4.30487805 -4.30487805 -4.30487805  3.1335613  -4.30487805\n",
            "  1.05808842  3.1335613   3.1335613   1.29985898  1.29985898 10.29641188\n",
            "  3.1335613   1.05808842  2.32205727 -4.30487805 -4.30487805  3.1335613\n",
            " -4.30487805 -4.30487805  3.1335613  -4.30487805  1.29985898  1.05808842\n",
            "  3.1335613   1.29985898  1.05808842  9.02677139 -4.30487805  3.1335613\n",
            "  3.1335613   2.32205727]\n",
            "cost : -17.13301198015214\n",
            "prob : 0.4\n",
            "QAOA update : [-0.00447925 -0.00794076 -0.017172   -0.01176208  0.00972912  0.0248295\n",
            "  0.01826037 -0.00355696  0.          0.          0.          0.        ]\n",
            "QAOA param : [1.63413749 3.31627936 2.60906747 2.82853097 1.5556513  3.07185428\n",
            " 2.33469104 2.73792561 1.66846515 3.25284643 2.27502641 2.72377669]\n"
          ]
        },
        {
          "output_type": "stream",
          "name": "stderr",
          "text": [
            "100%|██████████| 50/50 [00:12<00:00,  3.98it/s]\n"
          ]
        },
        {
          "output_type": "stream",
          "name": "stdout",
          "text": [
            "[-2.39665711  5.5785362  -2.39665711 -2.39665711 -2.39665711 12.20463282\n",
            " -2.39665711  7.35339864  5.5785362   4.23027821 -2.39665711 -2.39665711\n",
            " -2.39665711 -2.39665711 -2.39665711 -2.39665711  5.04178225 -2.39665711\n",
            "  4.23027821  7.35339864  3.20807992 -2.39665711 -2.39665711  3.20807992\n",
            " 10.93499234 -2.39665711 -2.39665711 -2.39665711  3.20807992 -2.39665711\n",
            " -2.39665711  3.20807992  5.5785362  -2.39665711 -2.39665711 -2.39665711\n",
            "  2.96630936 -2.39665711 -2.39665711 -2.39665711 -2.39665711 -2.39665711\n",
            " -2.39665711 -2.39665711 -2.39665711 -2.39665711 -2.39665711 -2.39665711\n",
            " -2.39665711 -2.39665711]\n",
            "cost : -19.04123292310883\n",
            "prob : 0.7\n",
            "QAOA update : [-0.00249263 -0.00777263 -0.01620158 -0.01066553  0.00621597  0.02926084\n",
            "  0.00680407 -0.00755394  0.          0.          0.          0.        ]\n",
            "QAOA param : [1.63164485 3.30850673 2.59286588 2.81786544 1.56186727 3.10111513\n",
            " 2.34149511 2.73037167 1.66846515 3.25284643 2.27502641 2.72377669]\n"
          ]
        },
        {
          "output_type": "stream",
          "name": "stderr",
          "text": [
            "100%|██████████| 50/50 [00:12<00:00,  4.05it/s]\n"
          ]
        },
        {
          "output_type": "stream",
          "name": "stdout",
          "text": [
            "[-2.38149142 -2.38149142 -2.38149142 -2.38149142 -2.38149142 -2.38149142\n",
            " -2.38149142  2.98147505  3.22324561  2.98147505 -2.38149142 -2.38149142\n",
            " -2.38149142 -2.38149142 -2.38149142  3.22324561 -2.38149142  3.22324561\n",
            "  4.2454439   5.59370189 -2.38149142  4.2454439   2.98147505 -2.38149142\n",
            "  2.98147505 -2.38149142  2.98147505  3.22324561  2.98147505 -2.38149142\n",
            " -2.38149142 -2.38149142 -2.38149142 -2.38149142  2.98147505  2.98147505\n",
            " -2.38149142  3.22324561 -2.38149142  2.98147505 -2.38149142 -2.38149142\n",
            " -2.38149142  3.22324561  5.59370189 -2.38149142  5.59370189 -2.38149142\n",
            " -2.38149142 -2.38149142]\n",
            "cost : -19.05639861187201\n",
            "prob : 0.6\n",
            "QAOA update : [-0.00188156 -0.00807466 -0.01801222 -0.00627319  0.01305795  0.02226864\n",
            "  0.02126801 -0.00935478  0.          0.          0.          0.        ]\n",
            "QAOA param : [1.62976329 3.30043208 2.57485367 2.81159224 1.57492521 3.12338376\n",
            " 2.36276312 2.72101689 1.66846515 3.25284643 2.27502641 2.72377669]\n"
          ]
        },
        {
          "output_type": "stream",
          "name": "stderr",
          "text": [
            "100%|██████████| 50/50 [00:12<00:00,  3.96it/s]\n"
          ]
        },
        {
          "output_type": "stream",
          "name": "stdout",
          "text": [
            "[ 2.71111291 -2.65185356  2.95288347  2.95288347 -2.65185356  2.71111291\n",
            "  2.71111291 -2.65185356  5.32333975 -2.65185356 -2.65185356 -2.65185356\n",
            "  6.29161727  5.32333975  5.32333975  2.71111291  2.71111291  2.95288347\n",
            " -2.65185356 -2.65185356 -2.65185356 -2.65185356 -2.65185356 -2.65185356\n",
            "  2.95288347 -2.65185356 -2.65185356  2.95288347 -2.65185356 -2.65185356\n",
            " -2.65185356  5.32333975 -2.65185356 -2.65185356 -2.65185356 -2.65185356\n",
            "  5.32333975  2.95288347 -2.65185356 -2.65185356  2.95288347 -2.65185356\n",
            "  7.09820219 -2.65185356 -2.65185356 -2.65185356 -2.65185356  5.32333975\n",
            " -2.65185356 -2.65185356]\n",
            "cost : -18.786036471195466\n",
            "prob : 0.6\n",
            "QAOA update : [-0.00054065 -0.005755   -0.01103875 -0.00668723  0.01149931  0.01636552\n",
            "  0.02965882 -0.0099708   0.          0.          0.          0.        ]\n",
            "QAOA param : [1.62922264 3.29467708 2.56381492 2.80490502 1.58642452 3.13974928\n",
            " 2.39242194 2.71104609 1.66846515 3.25284643 2.27502641 2.72377669]\n"
          ]
        },
        {
          "output_type": "stream",
          "name": "stderr",
          "text": [
            "100%|██████████| 50/50 [00:13<00:00,  3.78it/s]\n"
          ]
        },
        {
          "output_type": "stream",
          "name": "stdout",
          "text": [
            "[-3.30669887  6.44335688 -3.30669887 -3.30669887 -3.30669887 -3.30669887\n",
            " -3.30669887  2.29803816  2.05626759  2.29803816  2.29803816  6.44335688\n",
            " -3.30669887 -3.30669887  2.29803816  2.05626759 -3.30669887 -3.30669887\n",
            "  4.66849443  2.29803816 -3.30669887 -3.30669887 -3.30669887 -3.30669887\n",
            " -3.30669887  2.05626759  2.05626759  2.05626759 10.30956713  2.29803816\n",
            " -3.30669887 -3.30669887  2.29803816 -3.30669887 -3.30669887  2.29803816\n",
            " -3.30669887 -3.30669887 -3.30669887  3.32023645  5.63677196 -3.30669887\n",
            "  2.29803816 -3.30669887 11.29459105  2.29803816  2.29803816 -3.30669887\n",
            "  2.29803816 -3.30669887]\n",
            "cost : -18.13119115857123\n",
            "prob : 0.52\n",
            "QAOA update : [ 0.00435498  0.00123543 -0.00655513 -0.00889094 -0.00071464  0.00582701\n",
            "  0.0376885  -0.01121376  0.          0.          0.          0.        ]\n",
            "QAOA param : [1.63357762 3.29591251 2.55725979 2.79601408 1.58570988 3.14557629\n",
            " 2.43011044 2.69983233 1.66846515 3.25284643 2.27502641 2.72377669]\n"
          ]
        },
        {
          "output_type": "stream",
          "name": "stderr",
          "text": [
            "100%|██████████| 50/50 [00:13<00:00,  3.67it/s]\n"
          ]
        },
        {
          "output_type": "stream",
          "name": "stdout",
          "text": [
            "[ 2.97397155 -2.63076548  2.73220099 -2.63076548 -2.63076548 -2.63076548\n",
            "  2.97397155  2.97397155 -2.63076548 -2.63076548  2.97397155 -2.63076548\n",
            " -2.63076548 -2.63076548 -2.63076548 -2.63076548 -2.63076548 -2.63076548\n",
            " -2.63076548 -2.63076548 -2.63076548 -2.63076548 -2.63076548  2.97397155\n",
            " 11.97052445 -2.63076548 -2.63076548  2.73220099  2.97397155 11.78641382\n",
            " -2.63076548 -2.63076548  7.11929027  2.97397155 -2.63076548 -2.63076548\n",
            "  5.34442783  3.99616984 -2.63076548 10.70088397 -2.63076548 -2.63076548\n",
            "  4.80767387 -2.63076548  4.80767387 -2.63076548 -2.63076548 -2.63076548\n",
            " -2.63076548 -2.63076548]\n",
            "cost : -18.807124552542177\n",
            "prob : 0.66\n",
            "QAOA update : [ 0.00541637  0.00640017 -0.00161245 -0.00095642  0.00259151  0.00032664\n",
            "  0.02233506 -0.01190418  0.          0.          0.          0.        ]\n",
            "QAOA param : [1.63899399 3.30231268 2.55564734 2.79505765 1.58830139 3.14590294\n",
            " 2.45244551 2.68792815 1.66846515 3.25284643 2.27502641 2.72377669]\n"
          ]
        },
        {
          "output_type": "stream",
          "name": "stderr",
          "text": [
            "100%|██████████| 50/50 [00:13<00:00,  3.84it/s]\n"
          ]
        },
        {
          "output_type": "stream",
          "name": "stdout",
          "text": [
            "[-2.72505204 -2.72505204 -2.72505204 -2.72505204 -2.72505204 -2.72505204\n",
            " -2.72505204  2.879685   -2.72505204 -2.72505204 -2.72505204 -2.72505204\n",
            " -2.72505204 -2.72505204 -2.72505204 -2.72505204  7.02500372  2.63791443\n",
            " -2.72505204 -2.72505204  2.63791443 -2.72505204 -2.72505204 -2.72505204\n",
            " -2.72505204  5.25014127  7.02500372 -2.72505204  5.25014127  2.879685\n",
            "  3.90188328 -2.72505204 -2.72505204 -2.72505204 -2.72505204 -2.72505204\n",
            " 11.69212726 -2.72505204 -2.72505204 11.69212726 -2.72505204 -2.72505204\n",
            "  2.63791443  2.879685   11.87623789  2.879685   -2.72505204  3.90188328\n",
            " -2.72505204  2.879685  ]\n",
            "cost : -18.71283799403918\n",
            "prob : 0.66\n",
            "QAOA update : [ 0.00569698  0.0119151   0.00323976  0.00545284  0.00418835 -0.0042411\n",
            "  0.01245606 -0.01168098  0.          0.          0.          0.        ]\n",
            "QAOA param : [1.64469097 3.31422777 2.5588871  2.80051049 1.59248975 3.14166184\n",
            " 2.46490157 2.67624717 1.66846515 3.25284643 2.27502641 2.72377669]\n"
          ]
        },
        {
          "output_type": "stream",
          "name": "stderr",
          "text": [
            "100%|██████████| 50/50 [00:12<00:00,  3.89it/s]\n"
          ]
        },
        {
          "output_type": "stream",
          "name": "stdout",
          "text": [
            "[ 6.63556011  6.63556011 -3.11449564 -3.11449564 -3.11449564  2.49024139\n",
            " -3.11449564 -3.11449564  2.24847083 11.48679429 -3.11449564 -3.11449564\n",
            "  4.86069767 -3.11449564  2.49024139 -3.11449564  4.32394371 -3.11449564\n",
            " -3.11449564  3.51243968 -3.11449564 -3.11449564  4.86069767 -3.11449564\n",
            "  2.49024139 -3.11449564 -3.11449564  2.24847083 -3.11449564  2.24847083\n",
            " -3.11449564 -3.11449564  3.51243968 -3.11449564 -3.11449564  3.51243968\n",
            " -3.11449564  3.51243968 -3.11449564 -3.11449564 -3.11449564  3.51243968\n",
            "  3.51243968  2.49024139  2.24847083 -3.11449564 -3.11449564 -3.11449564\n",
            "  4.86069767  3.51243968]\n",
            "cost : -18.323394392178447\n",
            "prob : 0.56\n",
            "QAOA update : [ 0.0030655   0.01195897  0.01144279  0.0081313   0.00352439 -0.0057618\n",
            "  0.00822625 -0.01074145  0.          0.          0.          0.        ]\n",
            "QAOA param : [1.64775647 3.32618675 2.5703299  2.80864179 1.59601414 3.13590004\n",
            " 2.47312782 2.66550572 1.66846515 3.25284643 2.27502641 2.72377669]\n"
          ]
        },
        {
          "output_type": "stream",
          "name": "stderr",
          "text": [
            "100%|██████████| 50/50 [00:12<00:00,  4.00it/s]\n"
          ]
        },
        {
          "output_type": "stream",
          "name": "stdout",
          "text": [
            "[-2.64348771  5.33170559  7.10656804 -2.64348771 -2.64348771  7.10656804\n",
            " -2.64348771  5.33170559 -2.64348771  5.33170559  5.33170559 -2.64348771\n",
            " -2.64348771  7.10656804 -2.64348771 -2.64348771 -2.64348771 -2.64348771\n",
            " -2.64348771 -2.64348771  2.71947875 -2.64348771 -2.64348771 -2.64348771\n",
            "  2.96124932 -2.64348771 -2.64348771 -2.64348771 -2.64348771  3.98344761\n",
            " -2.64348771 -2.64348771 -2.64348771 -2.64348771 -2.64348771 -2.64348771\n",
            " -2.64348771 -2.64348771  2.96124932 -2.64348771  2.96124932 -2.64348771\n",
            " -2.64348771 15.02821077  2.96124932  2.71947875 -2.64348771  2.96124932\n",
            "  5.33170559 -2.64348771]\n",
            "cost : -18.794402317114017\n",
            "prob : 0.66\n",
            "QAOA update : [-0.0014367   0.00777552  0.01079163  0.01396074  0.00129396 -0.00535112\n",
            "  0.00703335 -0.00932854  0.          0.          0.          0.        ]\n",
            "QAOA param : [1.64631977 3.33396227 2.58112153 2.82260253 1.5973081  3.13054892\n",
            " 2.48016117 2.65617718 1.66846515 3.25284643 2.27502641 2.72377669]\n"
          ]
        },
        {
          "output_type": "stream",
          "name": "stderr",
          "text": [
            "100%|██████████| 50/50 [00:12<00:00,  4.00it/s]\n"
          ]
        },
        {
          "output_type": "stream",
          "name": "stdout",
          "text": [
            "[ 2.36724831 -2.99571816  5.94775268 -2.99571816  2.60901888  2.60901888\n",
            " -2.99571816 -2.99571816 -2.99571816  2.60901888  2.60901888  3.63121716\n",
            "  2.60901888 -2.99571816 -2.99571816  4.4427212   4.97947515  2.60901888\n",
            "  4.97947515  4.4427212  -2.99571816 -2.99571816  2.60901888  2.60901888\n",
            " -2.99571816 -2.99571816 -2.99571816 -2.99571816  2.60901888 -2.99571816\n",
            " -2.99571816  2.60901888  2.60901888  2.60901888 -2.99571816 -2.99571816\n",
            "  2.60901888 -2.99571816 -2.99571816 -2.99571816  4.97947515 -2.99571816\n",
            " -2.99571816 -2.99571816  4.4427212   6.7543376  -2.99571816 -2.99571816\n",
            " -2.99571816 -2.99571816]\n",
            "cost : -18.442171875429764\n",
            "prob : 0.54\n",
            "QAOA update : [-0.00386301  0.00217617  0.00608571  0.01502718 -0.00226472 -0.00538786\n",
            "  0.00447921 -0.00776755  0.          0.          0.          0.        ]\n",
            "QAOA param : [1.64245676 3.33613844 2.58720724 2.83762972 1.59504337 3.12516105\n",
            " 2.48464037 2.64840962 1.66846515 3.25284643 2.27502641 2.72377669]\n"
          ]
        },
        {
          "output_type": "stream",
          "name": "stderr",
          "text": [
            "100%|██████████| 50/50 [00:12<00:00,  3.90it/s]\n"
          ]
        },
        {
          "output_type": "stream",
          "name": "stdout",
          "text": [
            "[-2.55263862 -2.55263862 -2.55263862  4.88580073 -2.55263862 -2.55263862\n",
            " -2.55263862  5.42255468 -2.55263862 -2.55263862  3.05209841 -2.55263862\n",
            " -2.55263862 12.0486513  -2.55263862 -2.55263862  2.81032784 -2.55263862\n",
            " -2.55263862 -2.55263862 -2.55263862  4.07429669  7.19741713 -2.55263862\n",
            "  3.05209841  3.05209841 -2.55263862  2.81032784 -2.55263862  5.42255468\n",
            " -2.55263862 -2.55263862 -2.55263862  4.07429669 -2.55263862 -2.55263862\n",
            " -2.55263862  4.88580073  4.07429669 -2.55263862 -2.55263862 -2.55263862\n",
            " -2.55263862  2.81032784  6.39083221 -2.55263862 -2.55263862  2.81032784\n",
            " -2.55263862  2.81032784]\n",
            "cost : -18.885251406501784\n",
            "prob : 0.64\n",
            "QAOA update : [-0.00531367 -0.00650508  0.0072992   0.00812106 -0.00306393 -0.00776106\n",
            " -0.00053047 -0.00799706  0.          0.          0.          0.        ]\n",
            "QAOA param : [1.63714309 3.32963336 2.59450644 2.84575078 1.59197944 3.1174\n",
            " 2.4841099  2.64041256 1.66846515 3.25284643 2.27502641 2.72377669]\n"
          ]
        },
        {
          "output_type": "stream",
          "name": "stderr",
          "text": [
            "100%|██████████| 50/50 [00:12<00:00,  3.93it/s]\n"
          ]
        },
        {
          "output_type": "stream",
          "name": "stdout",
          "text": [
            "[-1.91030745 -1.91030745  6.06488586 -1.91030745 -1.91030745 -1.91030745\n",
            " -1.91030745 -1.91030745 -1.91030745 -1.91030745 -1.91030745 -1.91030745\n",
            " -1.91030745 -1.91030745  3.69442958  3.69442958  7.8397483  -1.91030745\n",
            "  3.45265902 -1.91030745 -1.91030745  3.45265902 -1.91030745 -1.91030745\n",
            "  3.45265902 -1.91030745 -1.91030745 -1.91030745 -1.91030745  6.06488586\n",
            "  3.45265902 -1.91030745  4.71662787 -1.91030745 -1.91030745 -1.91030745\n",
            " -1.91030745  5.5281319  -1.91030745 -1.91030745 -1.91030745 -1.91030745\n",
            " -1.91030745 -1.91030745 -1.91030745  3.45265902  7.8397483   6.06488586\n",
            " -1.91030745 -1.91030745]\n",
            "cost : -19.527582580941242\n",
            "prob : 0.72\n",
            "QAOA update : [-0.00514109 -0.00902135  0.0055376   0.00401947 -0.00626    -0.00683348\n",
            " -0.00088075 -0.00638925  0.          0.          0.          0.        ]\n",
            "QAOA param : [1.632002   3.32061201 2.60004404 2.84977025 1.58571944 3.11056652\n",
            " 2.48322915 2.63402331 1.66846515 3.25284643 2.27502641 2.72377669]\n"
          ]
        },
        {
          "output_type": "stream",
          "name": "stderr",
          "text": [
            " 40%|████      | 20/50 [00:05<00:07,  3.77it/s]\n"
          ]
        },
        {
          "output_type": "error",
          "ename": "KeyboardInterrupt",
          "evalue": "",
          "traceback": [
            "\u001b[0;31m---------------------------------------------------------------------------\u001b[0m",
            "\u001b[0;31mKeyboardInterrupt\u001b[0m                         Traceback (most recent call last)",
            "\u001b[0;32m<ipython-input-193-894489aa2a2e>\u001b[0m in \u001b[0;36m<cell line: 0>\u001b[0;34m()\u001b[0m\n\u001b[1;32m     14\u001b[0m \u001b[0;34m\u001b[0m\u001b[0m\n\u001b[1;32m     15\u001b[0m \u001b[0;31m# Execute RQAOA\u001b[0m\u001b[0;34m\u001b[0m\u001b[0;34m\u001b[0m\u001b[0m\n\u001b[0;32m---> 16\u001b[0;31m \u001b[0mfinal_config\u001b[0m \u001b[0;34m=\u001b[0m \u001b[0mrl_qaoa\u001b[0m\u001b[0;34m.\u001b[0m\u001b[0mRL_QAOA\u001b[0m\u001b[0;34m(\u001b[0m\u001b[0mepisodes\u001b[0m\u001b[0;34m=\u001b[0m\u001b[0;36m50\u001b[0m\u001b[0;34m,\u001b[0m\u001b[0mepochs\u001b[0m\u001b[0;34m=\u001b[0m\u001b[0;36m60\u001b[0m\u001b[0;34m,\u001b[0m\u001b[0mcorrec_ans\u001b[0m\u001b[0;34m=\u001b[0m\u001b[0mfloat\u001b[0m\u001b[0;34m(\u001b[0m\u001b[0mfinal_config\u001b[0m\u001b[0;34m[\u001b[0m\u001b[0;36m2\u001b[0m\u001b[0;34m]\u001b[0m\u001b[0;34m)\u001b[0m\u001b[0;34m)\u001b[0m\u001b[0;34m\u001b[0m\u001b[0;34m\u001b[0m\u001b[0m\n\u001b[0m",
            "\u001b[0;32m<ipython-input-181-1fae60981c6c>\u001b[0m in \u001b[0;36mRL_QAOA\u001b[0;34m(self, episodes, epochs, correc_ans)\u001b[0m\n\u001b[1;32m    203\u001b[0m \u001b[0;34m\u001b[0m\u001b[0m\n\u001b[1;32m    204\u001b[0m           \u001b[0;32mfor\u001b[0m \u001b[0mi\u001b[0m \u001b[0;32min\u001b[0m \u001b[0mtqdm\u001b[0m\u001b[0;34m(\u001b[0m\u001b[0mrange\u001b[0m\u001b[0;34m(\u001b[0m\u001b[0mepisodes\u001b[0m\u001b[0;34m)\u001b[0m\u001b[0;34m)\u001b[0m\u001b[0;34m:\u001b[0m\u001b[0;34m\u001b[0m\u001b[0;34m\u001b[0m\u001b[0m\n\u001b[0;32m--> 205\u001b[0;31m             \u001b[0mQAOA_diff\u001b[0m\u001b[0;34m,\u001b[0m\u001b[0mbeta_diff\u001b[0m\u001b[0;34m,\u001b[0m\u001b[0mvalue\u001b[0m \u001b[0;34m=\u001b[0m \u001b[0mself\u001b[0m\u001b[0;34m.\u001b[0m\u001b[0mrqaoa_execute\u001b[0m\u001b[0;34m(\u001b[0m\u001b[0;34m)\u001b[0m\u001b[0;34m\u001b[0m\u001b[0;34m\u001b[0m\u001b[0m\n\u001b[0m\u001b[1;32m    206\u001b[0m             \u001b[0mvalue_list\u001b[0m\u001b[0;34m.\u001b[0m\u001b[0mappend\u001b[0m\u001b[0;34m(\u001b[0m\u001b[0mvalue\u001b[0m\u001b[0;34m)\u001b[0m\u001b[0;34m\u001b[0m\u001b[0;34m\u001b[0m\u001b[0m\n\u001b[1;32m    207\u001b[0m             \u001b[0mQAOA_diff_list\u001b[0m\u001b[0;34m.\u001b[0m\u001b[0mappend\u001b[0m\u001b[0;34m(\u001b[0m\u001b[0mQAOA_diff\u001b[0m\u001b[0;34m)\u001b[0m\u001b[0;34m\u001b[0m\u001b[0;34m\u001b[0m\u001b[0m\n",
            "\u001b[0;32m<ipython-input-181-1fae60981c6c>\u001b[0m in \u001b[0;36mrqaoa_execute\u001b[0;34m(self, cal_grad)\u001b[0m\n\u001b[1;32m    259\u001b[0m             \u001b[0;32mif\u001b[0m \u001b[0mcal_grad\u001b[0m\u001b[0;34m:\u001b[0m\u001b[0;34m\u001b[0m\u001b[0;34m\u001b[0m\u001b[0m\n\u001b[1;32m    260\u001b[0m               \u001b[0;31m#edge_res_grad = self._qaoa_edge_expectations_gradients(Q_init, [i for i in range(self.p*index*2,self.p*index*2+2*self.p)])\u001b[0m\u001b[0;34m\u001b[0m\u001b[0;34m\u001b[0m\u001b[0m\n\u001b[0;32m--> 261\u001b[0;31m               \u001b[0medge_res_grad\u001b[0m \u001b[0;34m=\u001b[0m \u001b[0mself\u001b[0m\u001b[0;34m.\u001b[0m\u001b[0m_qaoa_edge_expectations_gradient\u001b[0m\u001b[0;34m(\u001b[0m\u001b[0mQ_init\u001b[0m\u001b[0;34m,\u001b[0m \u001b[0;34m[\u001b[0m\u001b[0mi\u001b[0m \u001b[0;32mfor\u001b[0m \u001b[0mi\u001b[0m \u001b[0;32min\u001b[0m \u001b[0mrange\u001b[0m\u001b[0;34m(\u001b[0m\u001b[0mself\u001b[0m\u001b[0;34m.\u001b[0m\u001b[0mp\u001b[0m\u001b[0;34m*\u001b[0m\u001b[0mindex\u001b[0m\u001b[0;34m*\u001b[0m\u001b[0;36m2\u001b[0m\u001b[0;34m,\u001b[0m\u001b[0mself\u001b[0m\u001b[0;34m.\u001b[0m\u001b[0mp\u001b[0m\u001b[0;34m*\u001b[0m\u001b[0mindex\u001b[0m\u001b[0;34m*\u001b[0m\u001b[0;36m2\u001b[0m\u001b[0;34m+\u001b[0m\u001b[0;36m2\u001b[0m\u001b[0;34m*\u001b[0m\u001b[0mself\u001b[0m\u001b[0;34m.\u001b[0m\u001b[0mp\u001b[0m\u001b[0;34m)\u001b[0m\u001b[0;34m]\u001b[0m\u001b[0;34m,\u001b[0m\u001b[0mselected_edge_idx\u001b[0m\u001b[0;34m)\u001b[0m\u001b[0;34m\u001b[0m\u001b[0;34m\u001b[0m\u001b[0m\n\u001b[0m\u001b[1;32m    262\u001b[0m             \u001b[0;32mif\u001b[0m \u001b[0mcal_grad\u001b[0m\u001b[0;34m:\u001b[0m\u001b[0;34m\u001b[0m\u001b[0;34m\u001b[0m\u001b[0m\n\u001b[1;32m    263\u001b[0m               \u001b[0;31m#QAOA_diff = self._compute_log_pol_diff(selected_edge_idx,Q_action,edge_res,edge_res_grad ,policy)\u001b[0m\u001b[0;34m\u001b[0m\u001b[0;34m\u001b[0m\u001b[0m\n",
            "\u001b[0;32m<ipython-input-181-1fae60981c6c>\u001b[0m in \u001b[0;36m_qaoa_edge_expectations_gradient\u001b[0;34m(self, Q, idx, index)\u001b[0m\n\u001b[1;32m    507\u001b[0m                 \u001b[0;32mif\u001b[0m \u001b[0mnumber\u001b[0m \u001b[0;34m==\u001b[0m \u001b[0mindex\u001b[0m\u001b[0;34m:\u001b[0m\u001b[0;34m\u001b[0m\u001b[0;34m\u001b[0m\u001b[0m\n\u001b[1;32m    508\u001b[0m                   \u001b[0;31m# Compute gradients for each parameter\u001b[0m\u001b[0;34m\u001b[0m\u001b[0;34m\u001b[0m\u001b[0m\n\u001b[0;32m--> 509\u001b[0;31m                   \u001b[0mgradients\u001b[0m \u001b[0;34m=\u001b[0m \u001b[0mqml\u001b[0m\u001b[0;34m.\u001b[0m\u001b[0mgrad\u001b[0m\u001b[0;34m(\u001b[0m\u001b[0mcircuit\u001b[0m\u001b[0;34m)\u001b[0m\u001b[0;34m(\u001b[0m\u001b[0mself\u001b[0m\u001b[0;34m.\u001b[0m\u001b[0mparam\u001b[0m\u001b[0;34m,\u001b[0m\u001b[0mi\u001b[0m\u001b[0;34m,\u001b[0m\u001b[0mj\u001b[0m\u001b[0;34m)\u001b[0m\u001b[0;34m\u001b[0m\u001b[0;34m\u001b[0m\u001b[0m\n\u001b[0m\u001b[1;32m    510\u001b[0m                   \u001b[0;32mreturn\u001b[0m \u001b[0mgradients\u001b[0m\u001b[0;34m\u001b[0m\u001b[0;34m\u001b[0m\u001b[0m\n\u001b[1;32m    511\u001b[0m                 \u001b[0mnumber\u001b[0m\u001b[0;34m+=\u001b[0m\u001b[0;36m1\u001b[0m\u001b[0;34m\u001b[0m\u001b[0;34m\u001b[0m\u001b[0m\n",
            "\u001b[0;32m/usr/local/lib/python3.11/dist-packages/pennylane/_grad.py\u001b[0m in \u001b[0;36m__call__\u001b[0;34m(self, *args, **kwargs)\u001b[0m\n\u001b[1;32m    222\u001b[0m             \u001b[0;32mreturn\u001b[0m \u001b[0;34m(\u001b[0m\u001b[0;34m)\u001b[0m\u001b[0;34m\u001b[0m\u001b[0;34m\u001b[0m\u001b[0m\n\u001b[1;32m    223\u001b[0m \u001b[0;34m\u001b[0m\u001b[0m\n\u001b[0;32m--> 224\u001b[0;31m         \u001b[0mgrad_value\u001b[0m\u001b[0;34m,\u001b[0m \u001b[0mans\u001b[0m \u001b[0;34m=\u001b[0m \u001b[0mgrad_fn\u001b[0m\u001b[0;34m(\u001b[0m\u001b[0;34m*\u001b[0m\u001b[0margs\u001b[0m\u001b[0;34m,\u001b[0m \u001b[0;34m**\u001b[0m\u001b[0mkwargs\u001b[0m\u001b[0;34m)\u001b[0m  \u001b[0;31m# pylint: disable=not-callable\u001b[0m\u001b[0;34m\u001b[0m\u001b[0;34m\u001b[0m\u001b[0m\n\u001b[0m\u001b[1;32m    225\u001b[0m         \u001b[0mself\u001b[0m\u001b[0;34m.\u001b[0m\u001b[0m_forward\u001b[0m \u001b[0;34m=\u001b[0m \u001b[0mans\u001b[0m\u001b[0;34m\u001b[0m\u001b[0;34m\u001b[0m\u001b[0m\n\u001b[1;32m    226\u001b[0m \u001b[0;34m\u001b[0m\u001b[0m\n",
            "\u001b[0;32m/usr/local/lib/python3.11/dist-packages/autograd/wrap_util.py\u001b[0m in \u001b[0;36mnary_f\u001b[0;34m(*args, **kwargs)\u001b[0m\n\u001b[1;32m     18\u001b[0m             \u001b[0;32melse\u001b[0m\u001b[0;34m:\u001b[0m\u001b[0;34m\u001b[0m\u001b[0;34m\u001b[0m\u001b[0m\n\u001b[1;32m     19\u001b[0m                 \u001b[0mx\u001b[0m \u001b[0;34m=\u001b[0m \u001b[0mtuple\u001b[0m\u001b[0;34m(\u001b[0m\u001b[0margs\u001b[0m\u001b[0;34m[\u001b[0m\u001b[0mi\u001b[0m\u001b[0;34m]\u001b[0m \u001b[0;32mfor\u001b[0m \u001b[0mi\u001b[0m \u001b[0;32min\u001b[0m \u001b[0margnum\u001b[0m\u001b[0;34m)\u001b[0m\u001b[0;34m\u001b[0m\u001b[0;34m\u001b[0m\u001b[0m\n\u001b[0;32m---> 20\u001b[0;31m             \u001b[0;32mreturn\u001b[0m \u001b[0munary_operator\u001b[0m\u001b[0;34m(\u001b[0m\u001b[0munary_f\u001b[0m\u001b[0;34m,\u001b[0m \u001b[0mx\u001b[0m\u001b[0;34m,\u001b[0m \u001b[0;34m*\u001b[0m\u001b[0mnary_op_args\u001b[0m\u001b[0;34m,\u001b[0m \u001b[0;34m**\u001b[0m\u001b[0mnary_op_kwargs\u001b[0m\u001b[0;34m)\u001b[0m\u001b[0;34m\u001b[0m\u001b[0;34m\u001b[0m\u001b[0m\n\u001b[0m\u001b[1;32m     21\u001b[0m         \u001b[0;32mreturn\u001b[0m \u001b[0mnary_f\u001b[0m\u001b[0;34m\u001b[0m\u001b[0;34m\u001b[0m\u001b[0m\n\u001b[1;32m     22\u001b[0m     \u001b[0;32mreturn\u001b[0m \u001b[0mnary_operator\u001b[0m\u001b[0;34m\u001b[0m\u001b[0;34m\u001b[0m\u001b[0m\n",
            "\u001b[0;32m/usr/local/lib/python3.11/dist-packages/pennylane/_grad.py\u001b[0m in \u001b[0;36m_grad_with_forward\u001b[0;34m(fun, x)\u001b[0m\n\u001b[1;32m    240\u001b[0m         \u001b[0mdifference\u001b[0m \u001b[0mbeing\u001b[0m \u001b[0mthat\u001b[0m \u001b[0mit\u001b[0m \u001b[0mreturns\u001b[0m \u001b[0mboth\u001b[0m \u001b[0mthe\u001b[0m \u001b[0mgradient\u001b[0m \u001b[0;34m*\u001b[0m\u001b[0;32mand\u001b[0m\u001b[0;34m*\u001b[0m \u001b[0mthe\u001b[0m \u001b[0mforward\u001b[0m \u001b[0;32mpass\u001b[0m\u001b[0;34m\u001b[0m\u001b[0;34m\u001b[0m\u001b[0m\n\u001b[1;32m    241\u001b[0m         value.\"\"\"\n\u001b[0;32m--> 242\u001b[0;31m         \u001b[0mvjp\u001b[0m\u001b[0;34m,\u001b[0m \u001b[0mans\u001b[0m \u001b[0;34m=\u001b[0m \u001b[0m_make_vjp\u001b[0m\u001b[0;34m(\u001b[0m\u001b[0mfun\u001b[0m\u001b[0;34m,\u001b[0m \u001b[0mx\u001b[0m\u001b[0;34m)\u001b[0m  \u001b[0;31m# pylint: disable=redefined-outer-name\u001b[0m\u001b[0;34m\u001b[0m\u001b[0;34m\u001b[0m\u001b[0m\n\u001b[0m\u001b[1;32m    243\u001b[0m \u001b[0;34m\u001b[0m\u001b[0m\n\u001b[1;32m    244\u001b[0m         \u001b[0;32mif\u001b[0m \u001b[0mvspace\u001b[0m\u001b[0;34m(\u001b[0m\u001b[0mans\u001b[0m\u001b[0;34m)\u001b[0m\u001b[0;34m.\u001b[0m\u001b[0msize\u001b[0m \u001b[0;34m!=\u001b[0m \u001b[0;36m1\u001b[0m\u001b[0;34m:\u001b[0m\u001b[0;34m\u001b[0m\u001b[0;34m\u001b[0m\u001b[0m\n",
            "\u001b[0;32m/usr/local/lib/python3.11/dist-packages/autograd/core.py\u001b[0m in \u001b[0;36mmake_vjp\u001b[0;34m(fun, x)\u001b[0m\n\u001b[1;32m      8\u001b[0m \u001b[0;32mdef\u001b[0m \u001b[0mmake_vjp\u001b[0m\u001b[0;34m(\u001b[0m\u001b[0mfun\u001b[0m\u001b[0;34m,\u001b[0m \u001b[0mx\u001b[0m\u001b[0;34m)\u001b[0m\u001b[0;34m:\u001b[0m\u001b[0;34m\u001b[0m\u001b[0;34m\u001b[0m\u001b[0m\n\u001b[1;32m      9\u001b[0m     \u001b[0mstart_node\u001b[0m \u001b[0;34m=\u001b[0m \u001b[0mVJPNode\u001b[0m\u001b[0;34m.\u001b[0m\u001b[0mnew_root\u001b[0m\u001b[0;34m(\u001b[0m\u001b[0;34m)\u001b[0m\u001b[0;34m\u001b[0m\u001b[0;34m\u001b[0m\u001b[0m\n\u001b[0;32m---> 10\u001b[0;31m     \u001b[0mend_value\u001b[0m\u001b[0;34m,\u001b[0m \u001b[0mend_node\u001b[0m \u001b[0;34m=\u001b[0m  \u001b[0mtrace\u001b[0m\u001b[0;34m(\u001b[0m\u001b[0mstart_node\u001b[0m\u001b[0;34m,\u001b[0m \u001b[0mfun\u001b[0m\u001b[0;34m,\u001b[0m \u001b[0mx\u001b[0m\u001b[0;34m)\u001b[0m\u001b[0;34m\u001b[0m\u001b[0;34m\u001b[0m\u001b[0m\n\u001b[0m\u001b[1;32m     11\u001b[0m     \u001b[0;32mif\u001b[0m \u001b[0mend_node\u001b[0m \u001b[0;32mis\u001b[0m \u001b[0;32mNone\u001b[0m\u001b[0;34m:\u001b[0m\u001b[0;34m\u001b[0m\u001b[0;34m\u001b[0m\u001b[0m\n\u001b[1;32m     12\u001b[0m         \u001b[0;32mdef\u001b[0m \u001b[0mvjp\u001b[0m\u001b[0;34m(\u001b[0m\u001b[0mg\u001b[0m\u001b[0;34m)\u001b[0m\u001b[0;34m:\u001b[0m \u001b[0;32mreturn\u001b[0m \u001b[0mvspace\u001b[0m\u001b[0;34m(\u001b[0m\u001b[0mx\u001b[0m\u001b[0;34m)\u001b[0m\u001b[0;34m.\u001b[0m\u001b[0mzeros\u001b[0m\u001b[0;34m(\u001b[0m\u001b[0;34m)\u001b[0m\u001b[0;34m\u001b[0m\u001b[0;34m\u001b[0m\u001b[0m\n",
            "\u001b[0;32m/usr/local/lib/python3.11/dist-packages/autograd/tracer.py\u001b[0m in \u001b[0;36mtrace\u001b[0;34m(start_node, fun, x)\u001b[0m\n\u001b[1;32m      8\u001b[0m     \u001b[0;32mwith\u001b[0m \u001b[0mtrace_stack\u001b[0m\u001b[0;34m.\u001b[0m\u001b[0mnew_trace\u001b[0m\u001b[0;34m(\u001b[0m\u001b[0;34m)\u001b[0m \u001b[0;32mas\u001b[0m \u001b[0mt\u001b[0m\u001b[0;34m:\u001b[0m\u001b[0;34m\u001b[0m\u001b[0;34m\u001b[0m\u001b[0m\n\u001b[1;32m      9\u001b[0m         \u001b[0mstart_box\u001b[0m \u001b[0;34m=\u001b[0m \u001b[0mnew_box\u001b[0m\u001b[0;34m(\u001b[0m\u001b[0mx\u001b[0m\u001b[0;34m,\u001b[0m \u001b[0mt\u001b[0m\u001b[0;34m,\u001b[0m \u001b[0mstart_node\u001b[0m\u001b[0;34m)\u001b[0m\u001b[0;34m\u001b[0m\u001b[0;34m\u001b[0m\u001b[0m\n\u001b[0;32m---> 10\u001b[0;31m         \u001b[0mend_box\u001b[0m \u001b[0;34m=\u001b[0m \u001b[0mfun\u001b[0m\u001b[0;34m(\u001b[0m\u001b[0mstart_box\u001b[0m\u001b[0;34m)\u001b[0m\u001b[0;34m\u001b[0m\u001b[0;34m\u001b[0m\u001b[0m\n\u001b[0m\u001b[1;32m     11\u001b[0m         \u001b[0;32mif\u001b[0m \u001b[0misbox\u001b[0m\u001b[0;34m(\u001b[0m\u001b[0mend_box\u001b[0m\u001b[0;34m)\u001b[0m \u001b[0;32mand\u001b[0m \u001b[0mend_box\u001b[0m\u001b[0;34m.\u001b[0m\u001b[0m_trace\u001b[0m \u001b[0;34m==\u001b[0m \u001b[0mstart_box\u001b[0m\u001b[0;34m.\u001b[0m\u001b[0m_trace\u001b[0m\u001b[0;34m:\u001b[0m\u001b[0;34m\u001b[0m\u001b[0;34m\u001b[0m\u001b[0m\n\u001b[1;32m     12\u001b[0m             \u001b[0;32mreturn\u001b[0m \u001b[0mend_box\u001b[0m\u001b[0;34m.\u001b[0m\u001b[0m_value\u001b[0m\u001b[0;34m,\u001b[0m \u001b[0mend_box\u001b[0m\u001b[0;34m.\u001b[0m\u001b[0m_node\u001b[0m\u001b[0;34m\u001b[0m\u001b[0;34m\u001b[0m\u001b[0m\n",
            "\u001b[0;32m/usr/local/lib/python3.11/dist-packages/autograd/wrap_util.py\u001b[0m in \u001b[0;36munary_f\u001b[0;34m(x)\u001b[0m\n\u001b[1;32m     13\u001b[0m                 \u001b[0;32melse\u001b[0m\u001b[0;34m:\u001b[0m\u001b[0;34m\u001b[0m\u001b[0;34m\u001b[0m\u001b[0m\n\u001b[1;32m     14\u001b[0m                     \u001b[0msubargs\u001b[0m \u001b[0;34m=\u001b[0m \u001b[0msubvals\u001b[0m\u001b[0;34m(\u001b[0m\u001b[0margs\u001b[0m\u001b[0;34m,\u001b[0m \u001b[0mzip\u001b[0m\u001b[0;34m(\u001b[0m\u001b[0margnum\u001b[0m\u001b[0;34m,\u001b[0m \u001b[0mx\u001b[0m\u001b[0;34m)\u001b[0m\u001b[0;34m)\u001b[0m\u001b[0;34m\u001b[0m\u001b[0;34m\u001b[0m\u001b[0m\n\u001b[0;32m---> 15\u001b[0;31m                 \u001b[0;32mreturn\u001b[0m \u001b[0mfun\u001b[0m\u001b[0;34m(\u001b[0m\u001b[0;34m*\u001b[0m\u001b[0msubargs\u001b[0m\u001b[0;34m,\u001b[0m \u001b[0;34m**\u001b[0m\u001b[0mkwargs\u001b[0m\u001b[0;34m)\u001b[0m\u001b[0;34m\u001b[0m\u001b[0;34m\u001b[0m\u001b[0m\n\u001b[0m\u001b[1;32m     16\u001b[0m             \u001b[0;32mif\u001b[0m \u001b[0misinstance\u001b[0m\u001b[0;34m(\u001b[0m\u001b[0margnum\u001b[0m\u001b[0;34m,\u001b[0m \u001b[0mint\u001b[0m\u001b[0;34m)\u001b[0m\u001b[0;34m:\u001b[0m\u001b[0;34m\u001b[0m\u001b[0;34m\u001b[0m\u001b[0m\n\u001b[1;32m     17\u001b[0m                 \u001b[0mx\u001b[0m \u001b[0;34m=\u001b[0m \u001b[0margs\u001b[0m\u001b[0;34m[\u001b[0m\u001b[0margnum\u001b[0m\u001b[0;34m]\u001b[0m\u001b[0;34m\u001b[0m\u001b[0;34m\u001b[0m\u001b[0m\n",
            "\u001b[0;32m/usr/local/lib/python3.11/dist-packages/pennylane/workflow/qnode.py\u001b[0m in \u001b[0;36m__call__\u001b[0;34m(self, *args, **kwargs)\u001b[0m\n\u001b[1;32m    903\u001b[0m         \u001b[0;32mif\u001b[0m \u001b[0mqml\u001b[0m\u001b[0;34m.\u001b[0m\u001b[0mcapture\u001b[0m\u001b[0;34m.\u001b[0m\u001b[0menabled\u001b[0m\u001b[0;34m(\u001b[0m\u001b[0;34m)\u001b[0m\u001b[0;34m:\u001b[0m\u001b[0;34m\u001b[0m\u001b[0;34m\u001b[0m\u001b[0m\n\u001b[1;32m    904\u001b[0m             \u001b[0;32mreturn\u001b[0m \u001b[0mcapture_qnode\u001b[0m\u001b[0;34m(\u001b[0m\u001b[0mself\u001b[0m\u001b[0;34m,\u001b[0m \u001b[0;34m*\u001b[0m\u001b[0margs\u001b[0m\u001b[0;34m,\u001b[0m \u001b[0;34m**\u001b[0m\u001b[0mkwargs\u001b[0m\u001b[0;34m)\u001b[0m\u001b[0;34m\u001b[0m\u001b[0;34m\u001b[0m\u001b[0m\n\u001b[0;32m--> 905\u001b[0;31m         \u001b[0;32mreturn\u001b[0m \u001b[0mself\u001b[0m\u001b[0;34m.\u001b[0m\u001b[0m_impl_call\u001b[0m\u001b[0;34m(\u001b[0m\u001b[0;34m*\u001b[0m\u001b[0margs\u001b[0m\u001b[0;34m,\u001b[0m \u001b[0;34m**\u001b[0m\u001b[0mkwargs\u001b[0m\u001b[0;34m)\u001b[0m\u001b[0;34m\u001b[0m\u001b[0;34m\u001b[0m\u001b[0m\n\u001b[0m\u001b[1;32m    906\u001b[0m \u001b[0;34m\u001b[0m\u001b[0m\n\u001b[1;32m    907\u001b[0m \u001b[0;34m\u001b[0m\u001b[0m\n",
            "\u001b[0;32m/usr/local/lib/python3.11/dist-packages/pennylane/workflow/qnode.py\u001b[0m in \u001b[0;36m_impl_call\u001b[0;34m(self, *args, **kwargs)\u001b[0m\n\u001b[1;32m    866\u001b[0m \u001b[0;34m\u001b[0m\u001b[0m\n\u001b[1;32m    867\u001b[0m         \u001b[0;31m# construct the tape\u001b[0m\u001b[0;34m\u001b[0m\u001b[0;34m\u001b[0m\u001b[0m\n\u001b[0;32m--> 868\u001b[0;31m         \u001b[0mtape\u001b[0m \u001b[0;34m=\u001b[0m \u001b[0mself\u001b[0m\u001b[0;34m.\u001b[0m\u001b[0mconstruct\u001b[0m\u001b[0;34m(\u001b[0m\u001b[0margs\u001b[0m\u001b[0;34m,\u001b[0m \u001b[0mkwargs\u001b[0m\u001b[0;34m)\u001b[0m\u001b[0;34m\u001b[0m\u001b[0;34m\u001b[0m\u001b[0m\n\u001b[0m\u001b[1;32m    869\u001b[0m \u001b[0;34m\u001b[0m\u001b[0m\n\u001b[1;32m    870\u001b[0m         \u001b[0;32mif\u001b[0m \u001b[0mself\u001b[0m\u001b[0;34m.\u001b[0m\u001b[0minterface\u001b[0m \u001b[0;34m==\u001b[0m \u001b[0;34m\"auto\"\u001b[0m\u001b[0;34m:\u001b[0m\u001b[0;34m\u001b[0m\u001b[0;34m\u001b[0m\u001b[0m\n",
            "\u001b[0;32m/usr/local/lib/python3.11/dist-packages/pennylane/logging/decorators.py\u001b[0m in \u001b[0;36mwrapper_entry\u001b[0;34m(*args, **kwargs)\u001b[0m\n\u001b[1;32m     59\u001b[0m                 \u001b[0;34m**\u001b[0m\u001b[0m_debug_log_kwargs\u001b[0m\u001b[0;34m,\u001b[0m\u001b[0;34m\u001b[0m\u001b[0;34m\u001b[0m\u001b[0m\n\u001b[1;32m     60\u001b[0m             )\n\u001b[0;32m---> 61\u001b[0;31m         \u001b[0;32mreturn\u001b[0m \u001b[0mfunc\u001b[0m\u001b[0;34m(\u001b[0m\u001b[0;34m*\u001b[0m\u001b[0margs\u001b[0m\u001b[0;34m,\u001b[0m \u001b[0;34m**\u001b[0m\u001b[0mkwargs\u001b[0m\u001b[0;34m)\u001b[0m\u001b[0;34m\u001b[0m\u001b[0;34m\u001b[0m\u001b[0m\n\u001b[0m\u001b[1;32m     62\u001b[0m \u001b[0;34m\u001b[0m\u001b[0m\n\u001b[1;32m     63\u001b[0m     \u001b[0;34m@\u001b[0m\u001b[0mwraps\u001b[0m\u001b[0;34m(\u001b[0m\u001b[0mfunc\u001b[0m\u001b[0;34m)\u001b[0m\u001b[0;34m\u001b[0m\u001b[0;34m\u001b[0m\u001b[0m\n",
            "\u001b[0;32m/usr/local/lib/python3.11/dist-packages/pennylane/workflow/qnode.py\u001b[0m in \u001b[0;36mconstruct\u001b[0;34m(self, args, kwargs)\u001b[0m\n\u001b[1;32m    852\u001b[0m         \u001b[0;32mwith\u001b[0m \u001b[0mpldb_device_manager\u001b[0m\u001b[0;34m(\u001b[0m\u001b[0mself\u001b[0m\u001b[0;34m.\u001b[0m\u001b[0mdevice\u001b[0m\u001b[0;34m)\u001b[0m\u001b[0;34m:\u001b[0m\u001b[0;34m\u001b[0m\u001b[0;34m\u001b[0m\u001b[0m\n\u001b[1;32m    853\u001b[0m             \u001b[0;32mwith\u001b[0m \u001b[0mqml\u001b[0m\u001b[0;34m.\u001b[0m\u001b[0mqueuing\u001b[0m\u001b[0;34m.\u001b[0m\u001b[0mAnnotatedQueue\u001b[0m\u001b[0;34m(\u001b[0m\u001b[0;34m)\u001b[0m \u001b[0;32mas\u001b[0m \u001b[0mq\u001b[0m\u001b[0;34m:\u001b[0m\u001b[0;34m\u001b[0m\u001b[0;34m\u001b[0m\u001b[0m\n\u001b[0;32m--> 854\u001b[0;31m                 \u001b[0mself\u001b[0m\u001b[0;34m.\u001b[0m\u001b[0m_qfunc_output\u001b[0m \u001b[0;34m=\u001b[0m \u001b[0mself\u001b[0m\u001b[0;34m.\u001b[0m\u001b[0mfunc\u001b[0m\u001b[0;34m(\u001b[0m\u001b[0;34m*\u001b[0m\u001b[0margs\u001b[0m\u001b[0;34m,\u001b[0m \u001b[0;34m**\u001b[0m\u001b[0mkwargs\u001b[0m\u001b[0;34m)\u001b[0m\u001b[0;34m\u001b[0m\u001b[0;34m\u001b[0m\u001b[0m\n\u001b[0m\u001b[1;32m    855\u001b[0m \u001b[0;34m\u001b[0m\u001b[0m\n\u001b[1;32m    856\u001b[0m         \u001b[0mtape\u001b[0m \u001b[0;34m=\u001b[0m \u001b[0mQuantumScript\u001b[0m\u001b[0;34m.\u001b[0m\u001b[0mfrom_queue\u001b[0m\u001b[0;34m(\u001b[0m\u001b[0mq\u001b[0m\u001b[0;34m,\u001b[0m \u001b[0mshots\u001b[0m\u001b[0;34m)\u001b[0m\u001b[0;34m\u001b[0m\u001b[0;34m\u001b[0m\u001b[0m\n",
            "\u001b[0;32m<ipython-input-181-1fae60981c6c>\u001b[0m in \u001b[0;36mcircuit\u001b[0;34m(params, i, j)\u001b[0m\n\u001b[1;32m    500\u001b[0m         \u001b[0;34m@\u001b[0m\u001b[0mqml\u001b[0m\u001b[0;34m.\u001b[0m\u001b[0mqnode\u001b[0m\u001b[0;34m(\u001b[0m\u001b[0mself\u001b[0m\u001b[0;34m.\u001b[0m\u001b[0mqaoa_layer\u001b[0m\u001b[0;34m.\u001b[0m\u001b[0mdev\u001b[0m\u001b[0;34m)\u001b[0m\u001b[0;34m\u001b[0m\u001b[0;34m\u001b[0m\u001b[0m\n\u001b[1;32m    501\u001b[0m         \u001b[0;32mdef\u001b[0m \u001b[0mcircuit\u001b[0m\u001b[0;34m(\u001b[0m\u001b[0mparams\u001b[0m\u001b[0;34m,\u001b[0m\u001b[0mi\u001b[0m\u001b[0;34m,\u001b[0m\u001b[0mj\u001b[0m\u001b[0;34m)\u001b[0m\u001b[0;34m:\u001b[0m\u001b[0;34m\u001b[0m\u001b[0;34m\u001b[0m\u001b[0m\n\u001b[0;32m--> 502\u001b[0;31m             \u001b[0mself\u001b[0m\u001b[0;34m.\u001b[0m\u001b[0mqaoa_layer\u001b[0m\u001b[0;34m.\u001b[0m\u001b[0mqaoa_circuit\u001b[0m\u001b[0;34m(\u001b[0m\u001b[0mparams\u001b[0m\u001b[0;34m[\u001b[0m\u001b[0midx\u001b[0m\u001b[0;34m]\u001b[0m\u001b[0;34m)\u001b[0m\u001b[0;34m\u001b[0m\u001b[0;34m\u001b[0m\u001b[0m\n\u001b[0m\u001b[1;32m    503\u001b[0m             \u001b[0;32mreturn\u001b[0m \u001b[0mqml\u001b[0m\u001b[0;34m.\u001b[0m\u001b[0mexpval\u001b[0m\u001b[0;34m(\u001b[0m\u001b[0mqml\u001b[0m\u001b[0;34m.\u001b[0m\u001b[0mPauliZ\u001b[0m\u001b[0;34m(\u001b[0m\u001b[0mi\u001b[0m\u001b[0;34m)\u001b[0m \u001b[0;34m@\u001b[0m \u001b[0mqml\u001b[0m\u001b[0;34m.\u001b[0m\u001b[0mPauliZ\u001b[0m\u001b[0;34m(\u001b[0m\u001b[0mj\u001b[0m\u001b[0;34m)\u001b[0m\u001b[0;34m)\u001b[0m\u001b[0;34m\u001b[0m\u001b[0;34m\u001b[0m\u001b[0m\n\u001b[1;32m    504\u001b[0m         \u001b[0;32mfor\u001b[0m \u001b[0mi\u001b[0m \u001b[0;32min\u001b[0m \u001b[0mrange\u001b[0m\u001b[0;34m(\u001b[0m\u001b[0mQ\u001b[0m\u001b[0;34m.\u001b[0m\u001b[0mshape\u001b[0m\u001b[0;34m[\u001b[0m\u001b[0;36m0\u001b[0m\u001b[0;34m]\u001b[0m\u001b[0;34m)\u001b[0m \u001b[0;34m:\u001b[0m\u001b[0;34m\u001b[0m\u001b[0;34m\u001b[0m\u001b[0m\n",
            "\u001b[0;32m<ipython-input-181-1fae60981c6c>\u001b[0m in \u001b[0;36mqaoa_circuit\u001b[0;34m(self, params)\u001b[0m\n\u001b[1;32m    120\u001b[0m         \u001b[0;31m# Apply QAOA layers consisting of cost and mixer Hamiltonians\u001b[0m\u001b[0;34m\u001b[0m\u001b[0;34m\u001b[0m\u001b[0m\n\u001b[1;32m    121\u001b[0m         \u001b[0;32mfor\u001b[0m \u001b[0mlayer\u001b[0m \u001b[0;32min\u001b[0m \u001b[0mrange\u001b[0m\u001b[0;34m(\u001b[0m\u001b[0mself\u001b[0m\u001b[0;34m.\u001b[0m\u001b[0mp\u001b[0m\u001b[0;34m)\u001b[0m\u001b[0;34m:\u001b[0m\u001b[0;34m\u001b[0m\u001b[0;34m\u001b[0m\u001b[0m\n\u001b[0;32m--> 122\u001b[0;31m             \u001b[0mself\u001b[0m\u001b[0;34m.\u001b[0m\u001b[0mqubo_cost\u001b[0m\u001b[0;34m(\u001b[0m\u001b[0mgammas\u001b[0m\u001b[0;34m[\u001b[0m\u001b[0mlayer\u001b[0m\u001b[0;34m]\u001b[0m\u001b[0;34m)\u001b[0m  \u001b[0;31m# Apply cost Hamiltonian with corresponding gamma\u001b[0m\u001b[0;34m\u001b[0m\u001b[0;34m\u001b[0m\u001b[0m\n\u001b[0m\u001b[1;32m    123\u001b[0m             \u001b[0mself\u001b[0m\u001b[0;34m.\u001b[0m\u001b[0mmixer\u001b[0m\u001b[0;34m(\u001b[0m\u001b[0mbetas\u001b[0m\u001b[0;34m[\u001b[0m\u001b[0mlayer\u001b[0m\u001b[0;34m]\u001b[0m\u001b[0;34m)\u001b[0m  \u001b[0;31m# Apply mixer Hamiltonian with corresponding beta\u001b[0m\u001b[0;34m\u001b[0m\u001b[0;34m\u001b[0m\u001b[0m\n\u001b[1;32m    124\u001b[0m \u001b[0;34m\u001b[0m\u001b[0m\n",
            "\u001b[0;32m<ipython-input-181-1fae60981c6c>\u001b[0m in \u001b[0;36mqubo_cost\u001b[0;34m(self, gamma)\u001b[0m\n\u001b[1;32m    135\u001b[0m                 \u001b[0;32mif\u001b[0m \u001b[0mself\u001b[0m\u001b[0;34m.\u001b[0m\u001b[0mQ\u001b[0m\u001b[0;34m[\u001b[0m\u001b[0mi\u001b[0m\u001b[0;34m,\u001b[0m \u001b[0mj\u001b[0m\u001b[0;34m]\u001b[0m \u001b[0;34m!=\u001b[0m \u001b[0;36m0\u001b[0m\u001b[0;34m:\u001b[0m  \u001b[0;31m# If the QUBO coefficient is non-zero\u001b[0m\u001b[0;34m\u001b[0m\u001b[0;34m\u001b[0m\u001b[0m\n\u001b[1;32m    136\u001b[0m                     \u001b[0;32mif\u001b[0m \u001b[0mi\u001b[0m \u001b[0;34m==\u001b[0m \u001b[0mj\u001b[0m\u001b[0;34m:\u001b[0m\u001b[0;34m\u001b[0m\u001b[0;34m\u001b[0m\u001b[0m\n\u001b[0;32m--> 137\u001b[0;31m                         \u001b[0mqml\u001b[0m\u001b[0;34m.\u001b[0m\u001b[0mRZ\u001b[0m\u001b[0;34m(\u001b[0m\u001b[0;36m2\u001b[0m \u001b[0;34m*\u001b[0m \u001b[0mgamma\u001b[0m \u001b[0;34m*\u001b[0m \u001b[0mfloat\u001b[0m\u001b[0;34m(\u001b[0m\u001b[0mself\u001b[0m\u001b[0;34m.\u001b[0m\u001b[0mQ\u001b[0m\u001b[0;34m[\u001b[0m\u001b[0mi\u001b[0m\u001b[0;34m,\u001b[0m \u001b[0mj\u001b[0m\u001b[0;34m]\u001b[0m\u001b[0;34m)\u001b[0m\u001b[0;34m,\u001b[0m \u001b[0mwires\u001b[0m\u001b[0;34m=\u001b[0m\u001b[0mi\u001b[0m\u001b[0;34m)\u001b[0m  \u001b[0;31m# Apply single-qubit phase rotation\u001b[0m\u001b[0;34m\u001b[0m\u001b[0;34m\u001b[0m\u001b[0m\n\u001b[0m\u001b[1;32m    138\u001b[0m                     \u001b[0;32melse\u001b[0m\u001b[0;34m:\u001b[0m\u001b[0;34m\u001b[0m\u001b[0;34m\u001b[0m\u001b[0m\n\u001b[1;32m    139\u001b[0m                         \u001b[0mqml\u001b[0m\u001b[0;34m.\u001b[0m\u001b[0mCNOT\u001b[0m\u001b[0;34m(\u001b[0m\u001b[0mwires\u001b[0m\u001b[0;34m=\u001b[0m\u001b[0;34m[\u001b[0m\u001b[0mi\u001b[0m\u001b[0;34m,\u001b[0m \u001b[0mj\u001b[0m\u001b[0;34m]\u001b[0m\u001b[0;34m)\u001b[0m  \u001b[0;31m# Apply CNOT before controlled rotation\u001b[0m\u001b[0;34m\u001b[0m\u001b[0;34m\u001b[0m\u001b[0m\n",
            "\u001b[0;32m/usr/local/lib/python3.11/dist-packages/autograd/numpy/numpy_boxes.py\u001b[0m in \u001b[0;36m__rmul__\u001b[0;34m(self, other)\u001b[0m\n\u001b[1;32m     34\u001b[0m     \u001b[0;32mdef\u001b[0m \u001b[0m__radd__\u001b[0m\u001b[0;34m(\u001b[0m\u001b[0mself\u001b[0m\u001b[0;34m,\u001b[0m \u001b[0mother\u001b[0m\u001b[0;34m)\u001b[0m\u001b[0;34m:\u001b[0m \u001b[0;32mreturn\u001b[0m \u001b[0manp\u001b[0m\u001b[0;34m.\u001b[0m\u001b[0madd\u001b[0m\u001b[0;34m(\u001b[0m     \u001b[0mother\u001b[0m\u001b[0;34m,\u001b[0m \u001b[0mself\u001b[0m\u001b[0;34m)\u001b[0m\u001b[0;34m\u001b[0m\u001b[0;34m\u001b[0m\u001b[0m\n\u001b[1;32m     35\u001b[0m     \u001b[0;32mdef\u001b[0m \u001b[0m__rsub__\u001b[0m\u001b[0;34m(\u001b[0m\u001b[0mself\u001b[0m\u001b[0;34m,\u001b[0m \u001b[0mother\u001b[0m\u001b[0;34m)\u001b[0m\u001b[0;34m:\u001b[0m \u001b[0;32mreturn\u001b[0m \u001b[0manp\u001b[0m\u001b[0;34m.\u001b[0m\u001b[0msubtract\u001b[0m\u001b[0;34m(\u001b[0m\u001b[0mother\u001b[0m\u001b[0;34m,\u001b[0m \u001b[0mself\u001b[0m\u001b[0;34m)\u001b[0m\u001b[0;34m\u001b[0m\u001b[0;34m\u001b[0m\u001b[0m\n\u001b[0;32m---> 36\u001b[0;31m     \u001b[0;32mdef\u001b[0m \u001b[0m__rmul__\u001b[0m\u001b[0;34m(\u001b[0m\u001b[0mself\u001b[0m\u001b[0;34m,\u001b[0m \u001b[0mother\u001b[0m\u001b[0;34m)\u001b[0m\u001b[0;34m:\u001b[0m \u001b[0;32mreturn\u001b[0m \u001b[0manp\u001b[0m\u001b[0;34m.\u001b[0m\u001b[0mmultiply\u001b[0m\u001b[0;34m(\u001b[0m\u001b[0mother\u001b[0m\u001b[0;34m,\u001b[0m \u001b[0mself\u001b[0m\u001b[0;34m)\u001b[0m\u001b[0;34m\u001b[0m\u001b[0;34m\u001b[0m\u001b[0m\n\u001b[0m\u001b[1;32m     37\u001b[0m     \u001b[0;32mdef\u001b[0m \u001b[0m__rpow__\u001b[0m\u001b[0;34m(\u001b[0m\u001b[0mself\u001b[0m\u001b[0;34m,\u001b[0m \u001b[0mother\u001b[0m\u001b[0;34m)\u001b[0m\u001b[0;34m:\u001b[0m \u001b[0;32mreturn\u001b[0m \u001b[0manp\u001b[0m\u001b[0;34m.\u001b[0m\u001b[0mpower\u001b[0m\u001b[0;34m(\u001b[0m   \u001b[0mother\u001b[0m\u001b[0;34m,\u001b[0m \u001b[0mself\u001b[0m\u001b[0;34m)\u001b[0m\u001b[0;34m\u001b[0m\u001b[0;34m\u001b[0m\u001b[0m\n\u001b[1;32m     38\u001b[0m     \u001b[0;32mdef\u001b[0m \u001b[0m__rdiv__\u001b[0m\u001b[0;34m(\u001b[0m\u001b[0mself\u001b[0m\u001b[0;34m,\u001b[0m \u001b[0mother\u001b[0m\u001b[0;34m)\u001b[0m\u001b[0;34m:\u001b[0m \u001b[0;32mreturn\u001b[0m \u001b[0manp\u001b[0m\u001b[0;34m.\u001b[0m\u001b[0mdivide\u001b[0m\u001b[0;34m(\u001b[0m  \u001b[0mother\u001b[0m\u001b[0;34m,\u001b[0m \u001b[0mself\u001b[0m\u001b[0;34m)\u001b[0m\u001b[0;34m\u001b[0m\u001b[0;34m\u001b[0m\u001b[0m\n",
            "\u001b[0;32m/usr/local/lib/python3.11/dist-packages/autograd/tracer.py\u001b[0m in \u001b[0;36mf_wrapped\u001b[0;34m(*args, **kwargs)\u001b[0m\n\u001b[1;32m     42\u001b[0m             \u001b[0mparents\u001b[0m \u001b[0;34m=\u001b[0m \u001b[0mtuple\u001b[0m\u001b[0;34m(\u001b[0m\u001b[0mbox\u001b[0m\u001b[0;34m.\u001b[0m\u001b[0m_node\u001b[0m \u001b[0;32mfor\u001b[0m \u001b[0m_\u001b[0m     \u001b[0;34m,\u001b[0m \u001b[0mbox\u001b[0m \u001b[0;32min\u001b[0m \u001b[0mboxed_args\u001b[0m\u001b[0;34m)\u001b[0m\u001b[0;34m\u001b[0m\u001b[0;34m\u001b[0m\u001b[0m\n\u001b[1;32m     43\u001b[0m             \u001b[0margnums\u001b[0m \u001b[0;34m=\u001b[0m \u001b[0mtuple\u001b[0m\u001b[0;34m(\u001b[0m\u001b[0margnum\u001b[0m    \u001b[0;32mfor\u001b[0m \u001b[0margnum\u001b[0m\u001b[0;34m,\u001b[0m \u001b[0m_\u001b[0m   \u001b[0;32min\u001b[0m \u001b[0mboxed_args\u001b[0m\u001b[0;34m)\u001b[0m\u001b[0;34m\u001b[0m\u001b[0;34m\u001b[0m\u001b[0m\n\u001b[0;32m---> 44\u001b[0;31m             \u001b[0mans\u001b[0m \u001b[0;34m=\u001b[0m \u001b[0mf_wrapped\u001b[0m\u001b[0;34m(\u001b[0m\u001b[0;34m*\u001b[0m\u001b[0margvals\u001b[0m\u001b[0;34m,\u001b[0m \u001b[0;34m**\u001b[0m\u001b[0mkwargs\u001b[0m\u001b[0;34m)\u001b[0m\u001b[0;34m\u001b[0m\u001b[0;34m\u001b[0m\u001b[0m\n\u001b[0m\u001b[1;32m     45\u001b[0m             \u001b[0mnode\u001b[0m \u001b[0;34m=\u001b[0m \u001b[0mnode_constructor\u001b[0m\u001b[0;34m(\u001b[0m\u001b[0mans\u001b[0m\u001b[0;34m,\u001b[0m \u001b[0mf_wrapped\u001b[0m\u001b[0;34m,\u001b[0m \u001b[0margvals\u001b[0m\u001b[0;34m,\u001b[0m \u001b[0mkwargs\u001b[0m\u001b[0;34m,\u001b[0m \u001b[0margnums\u001b[0m\u001b[0;34m,\u001b[0m \u001b[0mparents\u001b[0m\u001b[0;34m)\u001b[0m\u001b[0;34m\u001b[0m\u001b[0;34m\u001b[0m\u001b[0m\n\u001b[1;32m     46\u001b[0m             \u001b[0;32mreturn\u001b[0m \u001b[0mnew_box\u001b[0m\u001b[0;34m(\u001b[0m\u001b[0mans\u001b[0m\u001b[0;34m,\u001b[0m \u001b[0mtrace\u001b[0m\u001b[0;34m,\u001b[0m \u001b[0mnode\u001b[0m\u001b[0;34m)\u001b[0m\u001b[0;34m\u001b[0m\u001b[0;34m\u001b[0m\u001b[0m\n",
            "\u001b[0;32m/usr/local/lib/python3.11/dist-packages/autograd/tracer.py\u001b[0m in \u001b[0;36mf_wrapped\u001b[0;34m(*args, **kwargs)\u001b[0m\n\u001b[1;32m     46\u001b[0m             \u001b[0;32mreturn\u001b[0m \u001b[0mnew_box\u001b[0m\u001b[0;34m(\u001b[0m\u001b[0mans\u001b[0m\u001b[0;34m,\u001b[0m \u001b[0mtrace\u001b[0m\u001b[0;34m,\u001b[0m \u001b[0mnode\u001b[0m\u001b[0;34m)\u001b[0m\u001b[0;34m\u001b[0m\u001b[0;34m\u001b[0m\u001b[0m\n\u001b[1;32m     47\u001b[0m         \u001b[0;32melse\u001b[0m\u001b[0;34m:\u001b[0m\u001b[0;34m\u001b[0m\u001b[0;34m\u001b[0m\u001b[0m\n\u001b[0;32m---> 48\u001b[0;31m             \u001b[0;32mreturn\u001b[0m \u001b[0mf_raw\u001b[0m\u001b[0;34m(\u001b[0m\u001b[0;34m*\u001b[0m\u001b[0margs\u001b[0m\u001b[0;34m,\u001b[0m \u001b[0;34m**\u001b[0m\u001b[0mkwargs\u001b[0m\u001b[0;34m)\u001b[0m\u001b[0;34m\u001b[0m\u001b[0;34m\u001b[0m\u001b[0m\n\u001b[0m\u001b[1;32m     49\u001b[0m     \u001b[0mf_wrapped\u001b[0m\u001b[0;34m.\u001b[0m\u001b[0mfun\u001b[0m \u001b[0;34m=\u001b[0m \u001b[0mf_raw\u001b[0m\u001b[0;34m\u001b[0m\u001b[0;34m\u001b[0m\u001b[0m\n\u001b[1;32m     50\u001b[0m     \u001b[0mf_wrapped\u001b[0m\u001b[0;34m.\u001b[0m\u001b[0m_is_autograd_primitive\u001b[0m \u001b[0;34m=\u001b[0m \u001b[0;32mTrue\u001b[0m\u001b[0;34m\u001b[0m\u001b[0;34m\u001b[0m\u001b[0m\n",
            "\u001b[0;32m/usr/local/lib/python3.11/dist-packages/pennylane/numpy/tensor.py\u001b[0m in \u001b[0;36m__array_ufunc__\u001b[0;34m(self, ufunc, method, *inputs, **kwargs)\u001b[0m\n\u001b[1;32m    153\u001b[0m         \u001b[0;31m# call the ndarray.__array_ufunc__ method to compute the result\u001b[0m\u001b[0;34m\u001b[0m\u001b[0;34m\u001b[0m\u001b[0m\n\u001b[1;32m    154\u001b[0m         \u001b[0;31m# of the vectorized ufunc\u001b[0m\u001b[0;34m\u001b[0m\u001b[0;34m\u001b[0m\u001b[0m\n\u001b[0;32m--> 155\u001b[0;31m         \u001b[0mres\u001b[0m \u001b[0;34m=\u001b[0m \u001b[0msuper\u001b[0m\u001b[0;34m(\u001b[0m\u001b[0;34m)\u001b[0m\u001b[0;34m.\u001b[0m\u001b[0m__array_ufunc__\u001b[0m\u001b[0;34m(\u001b[0m\u001b[0mufunc\u001b[0m\u001b[0;34m,\u001b[0m \u001b[0mmethod\u001b[0m\u001b[0;34m,\u001b[0m \u001b[0;34m*\u001b[0m\u001b[0margs\u001b[0m\u001b[0;34m,\u001b[0m \u001b[0;34m**\u001b[0m\u001b[0mkwargs\u001b[0m\u001b[0;34m)\u001b[0m\u001b[0;34m\u001b[0m\u001b[0;34m\u001b[0m\u001b[0m\n\u001b[0m\u001b[1;32m    156\u001b[0m \u001b[0;34m\u001b[0m\u001b[0m\n\u001b[1;32m    157\u001b[0m         \u001b[0;32mif\u001b[0m \u001b[0misinstance\u001b[0m\u001b[0;34m(\u001b[0m\u001b[0mres\u001b[0m\u001b[0;34m,\u001b[0m \u001b[0mOperator\u001b[0m\u001b[0;34m)\u001b[0m\u001b[0;34m:\u001b[0m\u001b[0;34m\u001b[0m\u001b[0;34m\u001b[0m\u001b[0m\n",
            "\u001b[0;31mKeyboardInterrupt\u001b[0m: "
          ]
        }
      ]
    },
    {
      "cell_type": "code",
      "source": [
        "rl_qaoa.rqaoa_execute()"
      ],
      "metadata": {
        "id": "jNz054HOiPuE",
        "outputId": "dde986dd-f845-4907-af89-165ccd644d17",
        "colab": {
          "base_uri": "https://localhost:8080/"
        }
      },
      "execution_count": 183,
      "outputs": [
        {
          "output_type": "execute_result",
          "data": {
            "text/plain": [
              "(tensor([ 25.04832627,   1.32483753,  -1.41418839,   7.19640213,\n",
              "         -11.42495369,   3.94936049,  -7.98013616,  -2.11756256,\n",
              "           0.        ,   0.        ,   0.        ,   0.        ], requires_grad=True),\n",
              " tensor([-2.01460178e-02, -5.86652053e-02,  1.95425309e-01,\n",
              "         -1.36009914e-01, -6.19250354e-02, -8.09357575e-03,\n",
              "          8.31741236e-02, -6.80286008e-05, -1.37083746e-02,\n",
              "         -1.27727838e-03,  0.00000000e+00,  0.00000000e+00,\n",
              "          0.00000000e+00,  0.00000000e+00,  0.00000000e+00,\n",
              "          0.00000000e+00,  0.00000000e+00,  0.00000000e+00,\n",
              "          0.00000000e+00,  0.00000000e+00,  0.00000000e+00,\n",
              "          0.00000000e+00,  0.00000000e+00,  0.00000000e+00,\n",
              "          0.00000000e+00,  0.00000000e+00,  0.00000000e+00,\n",
              "          0.00000000e+00,  0.00000000e+00,  0.00000000e+00], requires_grad=True),\n",
              " tensor(-29.28271388, requires_grad=True))"
            ]
          },
          "metadata": {},
          "execution_count": 183
        }
      ]
    },
    {
      "cell_type": "code",
      "source": [
        "rl_qaoa.b"
      ],
      "metadata": {
        "colab": {
          "base_uri": "https://localhost:8080/"
        },
        "id": "zJj7WeICQdCG",
        "outputId": "cf8bf304-9c04-4373-90cc-816e0f75eb80"
      },
      "execution_count": 14,
      "outputs": [
        {
          "output_type": "execute_result",
          "data": {
            "text/plain": [
              "tensor([25., 25., 25., 25., 25., 25., 25., 25., 25., 25., 25., 25., 25.,\n",
              "        25., 25., 25., 25., 25., 25., 25., 25., 25., 25., 25., 25., 25.,\n",
              "        25., 25., 25., 25.], requires_grad=True)"
            ]
          },
          "metadata": {},
          "execution_count": 14
        }
      ]
    },
    {
      "cell_type": "code",
      "source": [
        "rl_qaoa._qaoa_edge_expectations(Q,[0,1])"
      ],
      "metadata": {
        "colab": {
          "base_uri": "https://localhost:8080/"
        },
        "id": "3QwFdpUZL4uK",
        "outputId": "6e18d773-04e8-40ca-a665-f6f940255f9c"
      },
      "execution_count": 46,
      "outputs": [
        {
          "output_type": "execute_result",
          "data": {
            "text/plain": [
              "[tensor(-0.16702916, requires_grad=True),\n",
              " tensor(0.10821649, requires_grad=True),\n",
              " tensor(0.05888816, requires_grad=True),\n",
              " tensor(0.06899251, requires_grad=True),\n",
              " tensor(-0.16638491, requires_grad=True),\n",
              " tensor(-0.00021, requires_grad=True),\n",
              " tensor(-0.12248088, requires_grad=True),\n",
              " tensor(-0.36819676, requires_grad=True)]"
            ]
          },
          "metadata": {},
          "execution_count": 46
        }
      ]
    },
    {
      "cell_type": "code",
      "source": [
        "rl_qaoa._qaoa_edge_expectations(Q,[0,1])"
      ],
      "metadata": {
        "colab": {
          "base_uri": "https://localhost:8080/"
        },
        "id": "8D8gYdU4Uz21",
        "outputId": "cd02d634-144c-4925-f11b-5521c7a76c3b"
      },
      "execution_count": 62,
      "outputs": [
        {
          "output_type": "execute_result",
          "data": {
            "text/plain": [
              "[tensor(-0.02168407, requires_grad=True),\n",
              " tensor(-0.07840502, requires_grad=True),\n",
              " tensor(0.07189548, requires_grad=True),\n",
              " tensor(0.14097381, requires_grad=True),\n",
              " tensor(0.01973759, requires_grad=True),\n",
              " tensor(-0.01024301, requires_grad=True),\n",
              " tensor(-0.25178965, requires_grad=True),\n",
              " tensor(-0.25886579, requires_grad=True)]"
            ]
          },
          "metadata": {},
          "execution_count": 62
        }
      ]
    },
    {
      "cell_type": "code",
      "source": [
        "rl_qaoa."
      ],
      "metadata": {
        "id": "b29VEEk4WgmZ"
      },
      "execution_count": null,
      "outputs": []
    },
    {
      "cell_type": "code",
      "source": [
        "rl_qaoa.n_c = 4\n",
        "final_config = rl_qaoa.rqaoa_execute()\n"
      ],
      "metadata": {
        "id": "VSq_lUfiT3cr"
      },
      "execution_count": 60,
      "outputs": []
    },
    {
      "cell_type": "code",
      "source": [
        "final_config"
      ],
      "metadata": {
        "colab": {
          "base_uri": "https://localhost:8080/"
        },
        "id": "YH7_ioPDUU84",
        "outputId": "1b83d1c9-2512-4e59-fca0-e9f73edbf9b0"
      },
      "execution_count": 61,
      "outputs": [
        {
          "output_type": "execute_result",
          "data": {
            "text/plain": [
              "(tensor([50.40669303,  5.81959104,  0.        ,  0.        ], requires_grad=True),\n",
              " tensor([-2.29578388e-05, -2.93378893e-04, -2.68661969e-04,\n",
              "         -2.84728087e-03, -2.21101320e-05, -8.51516355e-06,\n",
              "          1.86186705e-01, -1.83475578e-01,  0.00000000e+00,\n",
              "          0.00000000e+00,  0.00000000e+00,  0.00000000e+00,\n",
              "          0.00000000e+00,  0.00000000e+00,  0.00000000e+00,\n",
              "          0.00000000e+00,  0.00000000e+00,  0.00000000e+00,\n",
              "          0.00000000e+00,  0.00000000e+00,  0.00000000e+00,\n",
              "          0.00000000e+00,  0.00000000e+00,  0.00000000e+00,\n",
              "          0.00000000e+00,  0.00000000e+00,  0.00000000e+00,\n",
              "          0.00000000e+00,  0.00000000e+00,  0.00000000e+00], requires_grad=True),\n",
              " tensor(-23, requires_grad=True))"
            ]
          },
          "metadata": {},
          "execution_count": 61
        }
      ]
    },
    {
      "cell_type": "code",
      "source": [
        "init_params = [params]*2\n",
        "init_params = np.reshape(init_params,(-1))\n",
        "rl_qaoa.param = init_params"
      ],
      "metadata": {
        "id": "aFCw-sLGUVzl"
      },
      "execution_count": 59,
      "outputs": []
    },
    {
      "cell_type": "code",
      "source": [],
      "metadata": {
        "id": "zDUTTShyUk_k"
      },
      "execution_count": null,
      "outputs": []
    }
  ],
  "metadata": {
    "colab": {
      "name": "scratchpad",
      "provenance": []
    },
    "kernelspec": {
      "display_name": "Python 3",
      "name": "python3"
    }
  },
  "nbformat": 4,
  "nbformat_minor": 0
}