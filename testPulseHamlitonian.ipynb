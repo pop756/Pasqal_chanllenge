{
 "cells": [
  {
   "cell_type": "code",
   "execution_count": null,
   "metadata": {},
   "outputs": [],
   "source": [
    "from pulser_simulation import QutipEmulator\n",
    "from pulser.sampler.samples import ChannelSamples, SequenceSamples\n",
    "from pulser.sampler import sample\n",
    "import pennylane as qml\n",
    "import pulser\n",
    "import numpy as np"
   ]
  },
  {
   "cell_type": "code",
   "execution_count": null,
   "metadata": {},
   "outputs": [],
   "source": [
    "def makePulseHam(register, device, sequence, time=500):\n",
    "    sam = sample(sequence)\n",
    "    qe = QutipEmulator(sam, register, device)\n",
    "    ha = qe.get_hamiltonian(time=time)\n",
    "    ha = np.array(ha.data_as(\"csr_matrix\").toarray())\n",
    "    return qml.pauli_decompose(ha)"
   ]
  },
  {
   "cell_type": "code",
   "execution_count": null,
   "metadata": {},
   "outputs": [],
   "source": [
    "register = pulser.Register.from_coordinates([(0, 0)], prefix=\"q\")\n",
    "device = pulser.AnalogDevice\n",
    "sequence = pulser.Sequence(register, device)\n",
    "sequence.declare_channel(\"rydberg_global\", \"rydberg_global\")\n",
    "pi_pulse = pulser.Pulse.ConstantPulse(1000, np.pi, 3, 0)\n",
    "sequence.add(pi_pulse, \"rydberg_global\")\n",
    "sequence.draw(mode=\"input\")"
   ]
  },
  {
   "cell_type": "code",
   "execution_count": 59,
   "metadata": {},
   "outputs": [
    {
     "data": {
      "text/plain": [
       "(\n",
       "    -1.5000000000000002 * I(0)\n",
       "  + 1.5707963267948966 * X(0)\n",
       "  + -1.5000000000000002 * Z(0)\n",
       ")"
      ]
     },
     "execution_count": 59,
     "metadata": {},
     "output_type": "execute_result"
    }
   ],
   "source": [
    "makePulseHam(register, device, sequence, time=50)"
   ]
  }
 ],
 "metadata": {
  "kernelspec": {
   "display_name": "qrf",
   "language": "python",
   "name": "python3"
  },
  "language_info": {
   "codemirror_mode": {
    "name": "ipython",
    "version": 3
   },
   "file_extension": ".py",
   "mimetype": "text/x-python",
   "name": "python",
   "nbconvert_exporter": "python",
   "pygments_lexer": "ipython3",
   "version": "3.12.0"
  }
 },
 "nbformat": 4,
 "nbformat_minor": 2
}
