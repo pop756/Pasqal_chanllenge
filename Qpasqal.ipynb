{
 "cells": [
  {
   "cell_type": "code",
   "execution_count": 4,
   "metadata": {},
   "outputs": [],
   "source": [
    "import numpy as np\n",
    "import random\n",
    "import  copy"
   ]
  },
  {
   "cell_type": "code",
   "execution_count": 5,
   "metadata": {},
   "outputs": [],
   "source": [
    "def Qpasqal(matrix , number):\n",
    "    res = copy.deepcopy(matrix)\n",
    "    N=res.shape[0]\n",
    "    for i in range(N):\n",
    "        res[i][i] =0\n",
    "    # 대각 성분 0으로 만들기\n",
    "    for i in range(N):\n",
    "        for j in range(i+1, N):\n",
    "            res[i][j] = res[i][j] +(matrix[i][i]+matrix[j][j])/((number-1)*2)\n",
    "            res[j][i] = res[j][i] +(matrix[i][i]+matrix[j][j])/((number-1)*2)\n",
    "\n",
    "    minEntity = 2000-000-000\n",
    "    for i in range(N):\n",
    "        for j in range(i + 1, N):\n",
    "            if( res[i][j] < minEntity):\n",
    "                minEntity = res[i][j]\n",
    "\n",
    "    if minEntity <= 0:\n",
    "        addValue = abs(minEntity) + 0.1\n",
    "        for i in range(N):\n",
    "            for j in range(i + 1, N):\n",
    "                res[i][j] += addValue\n",
    "                res[j][i] += addValue\n",
    "        for i in range(N):\n",
    "            res[i][i] = -addValue * (number - 1)\n",
    "\n",
    "    # 맞는지 확인\n",
    "    cntTrue =0\n",
    "    for k in range(100):\n",
    "        x =[0]*N\n",
    "        sample = random.sample([i for i in range(N)],number)\n",
    "        for i in sample:\n",
    "            x[i] = 1\n",
    "        answer = x@matrix@x\n",
    "        value = x@res@x\n",
    "        assert abs(answer- value) <=0.0001\n",
    "        cntTrue += 1\n",
    "    print(\"success rate : \",cntTrue/100)\n",
    "    return res"
   ]
  },
  {
   "cell_type": "code",
   "execution_count": 6,
   "metadata": {},
   "outputs": [],
   "source": [
    "def QpasqalOptimized(matrix, number):\n",
    "    res = copy.deepcopy(matrix)\n",
    "    N = res.shape[0]\n",
    "    for i in range(N):\n",
    "        res[i][i] = 0\n",
    "    # 대각 성분 0으로 만들기\n",
    "    for i in range(N):\n",
    "        for j in range(i + 1, N):\n",
    "            res[i][j] = res[i][j] + (matrix[i][i] + matrix[j][j]) / ((number - 1) * 2)\n",
    "            res[j][i] = res[j][i] + (matrix[i][i] + matrix[j][j]) / ((number - 1) * 2)\n",
    "\n",
    "    minEntity = 2000-000-000\n",
    "    for i in range(N):\n",
    "        for j in range(i + 1, N):\n",
    "            if res[i][j] < minEntity:\n",
    "                minEntity = res[i][j]\n",
    "    if minEntity <= 0:\n",
    "        addValue = abs(minEntity) + 0.1\n",
    "        for i in range(N):\n",
    "            for j in range(i + 1, N):\n",
    "                res[i][j] += addValue\n",
    "                res[j][i] += addValue\n",
    "        for i in range(N):\n",
    "            res[i][i] = -addValue * (number - 1)\n",
    "\n",
    "    elif minEntity >0.1:\n",
    "        addValue = minEntity-0.1\n",
    "        for i in range(N):\n",
    "            for j in range(i + 1, N):\n",
    "                res[i][j] -= addValue\n",
    "                res[j][i] -= addValue\n",
    "        for i in range(N):\n",
    "            res[i][i] = addValue * (number - 1)\n",
    "\n",
    "    # 맞는지 확인\n",
    "    cntTrue = 0\n",
    "    for k in range(100):\n",
    "        x = [0] * N\n",
    "        sample = random.sample([i for i in range(N)], number)\n",
    "        for i in sample:\n",
    "            x[i] = 1\n",
    "        answer = x @ matrix @ x\n",
    "        value = x @ res @ x\n",
    "        assert abs(answer - value) <= 0.0001\n",
    "        cntTrue += 1\n",
    "    print(\"success rate : \", cntTrue / 100)\n",
    "    return res"
   ]
  },
  {
   "cell_type": "code",
   "execution_count": 7,
   "metadata": {},
   "outputs": [
    {
     "data": {
      "text/plain": [
       "array([[ 9.93687922, 10.3724776 ,  9.86100585,  9.84282459, 11.33084513],\n",
       "       [10.3724776 , 10.921141  , 10.03440369,  9.13685052, 10.35574689],\n",
       "       [ 9.86100585, 10.03440369,  9.06373418, 10.45333402, 10.89230919],\n",
       "       [ 9.84282459,  9.13685052, 10.45333402, 11.38794288, 10.61043437],\n",
       "       [11.33084513, 10.35574689, 10.89230919, 10.61043437, 10.21116793]])"
      ]
     },
     "execution_count": 7,
     "metadata": {},
     "output_type": "execute_result"
    }
   ],
   "source": [
    "\n",
    "matrix = np.random.randn(5, 5)+10\n",
    "matrix = (matrix + matrix.T) / 2\n",
    "matrix"
   ]
  },
  {
   "cell_type": "code",
   "execution_count": 8,
   "metadata": {},
   "outputs": [
    {
     "name": "stdout",
     "output_type": "stream",
     "text": [
      "success rate :  1.0\n"
     ]
    },
    {
     "data": {
      "text/plain": [
       "array([[ 0.        , 15.58698265, 14.61115921, 15.17403012, 16.36785691],\n",
       "       [15.58698265,  0.        , 15.03062249, 14.71412149, 15.63882413],\n",
       "       [14.61115921, 15.03062249,  0.        , 15.56625328, 15.71103472],\n",
       "       [15.17403012, 14.71412149, 15.56625328,  0.        , 16.01021208],\n",
       "       [16.36785691, 15.63882413, 15.71103472, 16.01021208,  0.        ]])"
      ]
     },
     "execution_count": 8,
     "metadata": {},
     "output_type": "execute_result"
    }
   ],
   "source": [
    "Qpasqal(matrix ,3)\n"
   ]
  },
  {
   "cell_type": "code",
   "execution_count": 9,
   "metadata": {},
   "outputs": [
    {
     "name": "stdout",
     "output_type": "stream",
     "text": [
      "success rate :  1.0\n"
     ]
    },
    {
     "data": {
      "text/plain": [
       "array([[29.02231841,  1.07582345,  0.1       ,  0.66287091,  1.85669771],\n",
       "       [ 1.07582345, 29.02231841,  0.51946328,  0.20296229,  1.12766492],\n",
       "       [ 0.1       ,  0.51946328, 29.02231841,  1.05509408,  1.19987551],\n",
       "       [ 0.66287091,  0.20296229,  1.05509408, 29.02231841,  1.49905287],\n",
       "       [ 1.85669771,  1.12766492,  1.19987551,  1.49905287, 29.02231841]])"
      ]
     },
     "execution_count": 9,
     "metadata": {},
     "output_type": "execute_result"
    }
   ],
   "source": [
    "QpasqalOptimized(matrix ,3)"
   ]
  },
  {
   "cell_type": "code",
   "execution_count": null,
   "metadata": {},
   "outputs": [],
   "source": []
  }
 ],
 "metadata": {
  "kernelspec": {
   "display_name": "qrf",
   "language": "python",
   "name": "python3"
  },
  "language_info": {
   "codemirror_mode": {
    "name": "ipython",
    "version": 3
   },
   "file_extension": ".py",
   "mimetype": "text/x-python",
   "name": "python",
   "nbconvert_exporter": "python",
   "pygments_lexer": "ipython3",
   "version": "3.12.0"
  }
 },
 "nbformat": 4,
 "nbformat_minor": 2
}
