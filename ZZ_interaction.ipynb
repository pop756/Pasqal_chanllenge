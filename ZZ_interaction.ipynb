{
 "cells": [
  {
   "cell_type": "code",
   "execution_count": 4,
   "metadata": {},
   "outputs": [],
   "source": [
    "import numpy as np\n",
    "\n",
    "def compute_zz_expectation(counts, num_qubits):\n",
    "    result = np.zeros((num_qubits, num_qubits))\n",
    "    total_shots = sum(counts.values())\n",
    "    \n",
    "    for k in range(num_qubits):\n",
    "        for l in range(k, num_qubits):\n",
    "            expectation = 0\n",
    "            if k == l:\n",
    "                for bitstring, count in counts.items():\n",
    "                    z_k = 1 if bitstring[-(k+1)] == '0' else -1\n",
    "                    expectation += count * z_k\n",
    "                result[k][k] = expectation / total_shots\n",
    "            else:\n",
    "                for bitstring, count in counts.items():\n",
    "                    z_k = 1 if bitstring[-(k+1)] == '0' else -1\n",
    "                    z_l = 1 if bitstring[-(l+1)] == '0' else -1\n",
    "                    expectation += count * (z_k * z_l)\n",
    "                result[k][l] = result[l][k] = expectation / total_shots\n",
    "    \n",
    "    return result\n"
   ]
  },
  {
   "cell_type": "code",
   "execution_count": 10,
   "metadata": {},
   "outputs": [
    {
     "name": "stdout",
     "output_type": "stream",
     "text": [
      "[[ 0.4  0.5 -0.6  0.4]\n",
      " [ 0.5  0.3 -0.7  0.3]\n",
      " [-0.6 -0.7  0.   0. ]\n",
      " [ 0.4  0.3  0.   1. ]]\n"
     ]
    }
   ],
   "source": [
    "count_ex = {'0000': 1, '0001': 2, '0010': 3, '0011': 4, '0100': 10}\n",
    "print(compute_zz_expectation(count_ex, 4))"
   ]
  },
  {
   "cell_type": "code",
   "execution_count": 6,
   "metadata": {},
   "outputs": [],
   "source": [
    "import numpy as np\n",
    "\n",
    "def compute_zz_expectation_pairs(counts, qubit_pairs):\n",
    "    total_shots = sum(counts.values())\n",
    "    result = []\n",
    "    \n",
    "    for k, l in qubit_pairs:\n",
    "        expectation = 0\n",
    "        for bitstring, count in counts.items():\n",
    "            z_k = 1 if bitstring[-(k+1)] == '0' else -1\n",
    "            z_l = 1 if bitstring[-(l+1)] == '0' else -1\n",
    "            expectation += count * (z_k * z_l)\n",
    "        result.append(expectation / total_shots)\n",
    "    \n",
    "    return result"
   ]
  },
  {
   "cell_type": "code",
   "execution_count": 8,
   "metadata": {},
   "outputs": [
    {
     "name": "stdout",
     "output_type": "stream",
     "text": [
      "ZZ Expectation Values for given qubit pairs:\n",
      "Qubits (0, 1): 0.0000\n",
      "Qubits (1, 2): -0.4000\n",
      "Qubits (0, 3): -0.2000\n",
      "Qubits (1, 3): -0.4000\n"
     ]
    }
   ],
   "source": [
    "# Example usage\n",
    "def example_usage():\n",
    "    counts = {'0000': 1, '0001': 2, '0010': 3, '0011': 4}\n",
    "    qubit_pairs = [(0,1), (1,2), (0,3), (1,3)]\n",
    "    results = compute_zz_expectation_pairs(counts, qubit_pairs)\n",
    "    \n",
    "    print(\"ZZ Expectation Values for given qubit pairs:\")\n",
    "    for pair, value in zip(qubit_pairs, results):\n",
    "        print(f\"Qubits {pair}: {value:.4f}\")\n",
    "example_usage()"
   ]
  }
 ],
 "metadata": {
  "kernelspec": {
   "display_name": "pasqal_hackathon",
   "language": "python",
   "name": "python3"
  },
  "language_info": {
   "codemirror_mode": {
    "name": "ipython",
    "version": 3
   },
   "file_extension": ".py",
   "mimetype": "text/x-python",
   "name": "python",
   "nbconvert_exporter": "python",
   "pygments_lexer": "ipython3",
   "version": "3.13.2"
  }
 },
 "nbformat": 4,
 "nbformat_minor": 2
}
