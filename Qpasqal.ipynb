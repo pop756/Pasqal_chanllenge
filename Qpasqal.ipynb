{
 "cells": [
  {
   "cell_type": "code",
   "execution_count": 5,
   "metadata": {},
   "outputs": [],
   "source": [
    "import numpy as np\n",
    "import random\n",
    "import  copy"
   ]
  },
  {
   "cell_type": "code",
   "execution_count": 14,
   "metadata": {},
   "outputs": [],
   "source": [
    "\n",
    "def Qpasqal(matrix , number):\n",
    "  res = copy.deepcopy(matrix)\n",
    "  N=res.shape[0]\n",
    "  for i in range(N):\n",
    "    res[i][i] =0\n",
    "  # 대각 성분 0으로 만들기\n",
    "  for i in range(N):\n",
    "    for j in range(i+1, N):\n",
    "      res[i][j] = res[i][j] +(matrix[i][i]+matrix[j][j])/((number-1)*2)\n",
    "      res[j][i] = res[j][i] +(matrix[i][i]+matrix[j][j])/((number-1)*2)\n",
    "\n",
    "  minEntity = 0\n",
    "  for i in range(N):\n",
    "    for j in range(i+1, N):\n",
    "      if( res[i][j] < minEntity):\n",
    "        minEntity = res[i][j]\n",
    "\n",
    "  if minEntity <= 0:\n",
    "    addValue = abs(minEntity)+0.1\n",
    "    for i in range(N):\n",
    "      for j in range(i+1, N):\n",
    "        res[i][j] += addValue\n",
    "        res[j][i] += addValue\n",
    "    for i in range(N):\n",
    "      res[i][i] = -addValue*(number-1)\n",
    "\n",
    "\n",
    "  # 맞는지 확인\n",
    "  cntTrue =0\n",
    "  for k in range(100):\n",
    "    x =[0]*N\n",
    "    sample = random.sample([i for i in range(N)],number)\n",
    "    for i in sample:\n",
    "        x[i] = 1\n",
    "    answer = x@matrix@x\n",
    "    value = x@res@x\n",
    "    assert abs(answer- value) <=0.0001\n",
    "    cntTrue += 1\n",
    "  print(\"success rate : \",cntTrue/100)\n",
    "  return res"
   ]
  },
  {
   "cell_type": "code",
   "execution_count": null,
   "metadata": {},
   "outputs": [],
   "source": [
    "def QpasqalOptimized(matrix, number):\n",
    "    res = copy.deepcopy(matrix)\n",
    "    N = res.shape[0]\n",
    "    for i in range(N):\n",
    "        res[i][i] = 0\n",
    "    # 대각 성분 0으로 만들기\n",
    "    for i in range(N):\n",
    "        for j in range(i + 1, N):\n",
    "            res[i][j] = res[i][j] + (matrix[i][i] + matrix[j][j]) / ((number - 1) * 2)\n",
    "            res[j][i] = res[j][i] + (matrix[i][i] + matrix[j][j]) / ((number - 1) * 2)\n",
    "\n",
    "    minEntity = 2000-000-000\n",
    "    for i in range(N):\n",
    "        for j in range(i + 1, N):\n",
    "            if res[i][j] < minEntity:\n",
    "                minEntity = res[i][j]\n",
    "\n",
    "    if minEntity <= 0:\n",
    "        addValue = abs(minEntity) + 0.1\n",
    "        for i in range(N):\n",
    "            for j in range(i + 1, N):\n",
    "                res[i][j] += addValue\n",
    "                res[j][i] += addValue\n",
    "        for i in range(N):\n",
    "            res[i][i] = -addValue * (number - 1)\n",
    "\n",
    "    elif minEntity >0.1:\n",
    "        addValue = minEntity-0.1\n",
    "        for i in range(N):\n",
    "            for j in range(i + 1, N):\n",
    "                res[i][j] -= addValue\n",
    "                res[j][i] -= addValue\n",
    "        for i in range(N):\n",
    "            res[i][i] = addValue * (number - 1)\n",
    "\n",
    "    # 맞는지 확인\n",
    "    cntTrue = 0\n",
    "    for k in range(100):\n",
    "        x = [0] * N\n",
    "        sample = random.sample([i for i in range(N)], number)\n",
    "        for i in sample:\n",
    "            x[i] = 1\n",
    "        answer = x @ matrix @ x\n",
    "        value = x @ res @ x\n",
    "        assert abs(answer - value) <= 0.0001\n",
    "        cntTrue += 1\n",
    "    print(\"success rate : \", cntTrue / 100)\n",
    "    return res"
   ]
  },
  {
   "cell_type": "code",
   "execution_count": 37,
   "metadata": {},
   "outputs": [
    {
     "data": {
      "text/plain": [
       "array([[0.02497487, 1.70752196, 2.58143898, 1.46627054, 0.55064533],\n",
       "       [1.70752196, 1.39202255, 2.11087565, 3.08122311, 0.71205789],\n",
       "       [2.58143898, 2.11087565, 1.25492943, 2.66664455, 2.68928001],\n",
       "       [1.46627054, 3.08122311, 2.66664455, 2.29334505, 2.19764996],\n",
       "       [0.55064533, 0.71205789, 2.68928001, 2.19764996, 3.25639261]])"
      ]
     },
     "execution_count": 37,
     "metadata": {},
     "output_type": "execute_result"
    }
   ],
   "source": [
    "\n",
    "matrix = np.random.randn(5, 5) +2\n",
    "matrix = (matrix + matrix.T) / 2\n",
    "\n",
    "matrix"
   ]
  },
  {
   "cell_type": "code",
   "execution_count": 38,
   "metadata": {},
   "outputs": [
    {
     "name": "stdout",
     "output_type": "stream",
     "text": [
      "success rate :  1.0\n"
     ]
    },
    {
     "data": {
      "text/plain": [
       "array([[-0.2       ,  2.16177131,  3.00141505,  2.14585052,  1.4709872 ],\n",
       "       [ 2.16177131, -0.2       ,  2.87261365,  4.10256501,  1.97416168],\n",
       "       [ 3.00141505,  2.87261365, -0.2       ,  3.65371317,  3.91711052],\n",
       "       [ 2.14585052,  4.10256501,  3.65371317, -0.2       ,  3.68508437],\n",
       "       [ 1.4709872 ,  1.97416168,  3.91711052,  3.68508437, -0.2       ]])"
      ]
     },
     "execution_count": 38,
     "metadata": {},
     "output_type": "execute_result"
    }
   ],
   "source": [
    "Qpasqal(matrix ,3)\n"
   ]
  },
  {
   "cell_type": "code",
   "execution_count": 39,
   "metadata": {},
   "outputs": [
    {
     "name": "stdout",
     "output_type": "stream",
     "text": [
      "success rate :  1.0\n"
     ]
    },
    {
     "data": {
      "text/plain": [
       "array([[2.5419744 , 0.79078412, 1.63042785, 0.77486332, 0.1       ],\n",
       "       [0.79078412, 2.5419744 , 1.50162645, 2.73157781, 0.60317448],\n",
       "       [1.63042785, 1.50162645, 2.5419744 , 2.28272597, 2.54612332],\n",
       "       [0.77486332, 2.73157781, 2.28272597, 2.5419744 , 2.31409718],\n",
       "       [0.1       , 0.60317448, 2.54612332, 2.31409718, 2.5419744 ]])"
      ]
     },
     "execution_count": 39,
     "metadata": {},
     "output_type": "execute_result"
    }
   ],
   "source": [
    "QpasqalOptimized(matrix ,3)"
   ]
  },
  {
   "cell_type": "code",
   "execution_count": null,
   "metadata": {},
   "outputs": [],
   "source": []
  }
 ],
 "metadata": {
  "kernelspec": {
   "display_name": "qrf",
   "language": "python",
   "name": "python3"
  },
  "language_info": {
   "codemirror_mode": {
    "name": "ipython",
    "version": 3
   },
   "file_extension": ".py",
   "mimetype": "text/x-python",
   "name": "python",
   "nbconvert_exporter": "python",
   "pygments_lexer": "ipython3",
   "version": "3.12.0"
  }
 },
 "nbformat": 4,
 "nbformat_minor": 2
}
