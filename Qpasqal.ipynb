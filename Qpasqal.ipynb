{
 "cells": [
  {
   "cell_type": "code",
   "execution_count": 4,
   "metadata": {},
   "outputs": [],
   "source": [
    "import numpy as np\n",
    "import random\n",
    "import  copy"
   ]
  },
  {
   "cell_type": "code",
   "execution_count": 203,
   "metadata": {},
   "outputs": [],
   "source": [
    "\n",
    "def Qpasqal(matrix , number):\n",
    "  res = copy.deepcopy(matrix)\n",
    "  N=res.shape[0]\n",
    "  for i in range(N):\n",
    "    res[i][i] =0\n",
    "  # 대각 성분 0으로 만들기\n",
    "  for i in range(N):\n",
    "    for j in range(i+1, N):\n",
    "      res[i][j] = res[i][j] +(matrix[i][i]+matrix[j][j])/((number-1)*2)\n",
    "      res[j][i] = res[j][i] +(matrix[i][i]+matrix[j][j])/((number-1)*2)\n",
    "  minEntity = 0\n",
    "  for i in range(N):\n",
    "    for j in range(i+1, N):\n",
    "      if( res[i][j] < minEntity):\n",
    "        minEntity = res[i][j]\n",
    "\n",
    "  if minEntity <= 0:\n",
    "    addValue = abs(minEntity)+0.1\n",
    "    for i in range(N):\n",
    "      for j in range(i+1, N):\n",
    "        res[i][j] += addValue\n",
    "        res[j][i] += addValue\n",
    "    for i in range(N):\n",
    "      res[i][i] = -addValue*(number-1)\n",
    "  # 맞는지 확인\n",
    "  cntTrue =0\n",
    "  for k in range(100):\n",
    "    x =[0]*N\n",
    "    sample = random.sample([i for i in range(N)],number)\n",
    "    for i in sample:\n",
    "        x[i] = 1\n",
    "    answer = x@matrix@x\n",
    "    value = x@res@x\n",
    "    assert abs(answer- value) <=0.0001\n",
    "    cntTrue += 1\n",
    "  print(\"success rate : \",cntTrue/100)\n",
    "  return res"
   ]
  },
  {
   "cell_type": "code",
   "execution_count": 212,
   "metadata": {},
   "outputs": [
    {
     "data": {
      "text/plain": [
       "array([[-0.46281215,  1.22525521, -0.6303936 ,  0.03137331, -0.83985915],\n",
       "       [ 1.22525521,  0.33515202,  0.09255771,  0.13791295,  0.70905254],\n",
       "       [-0.6303936 ,  0.09255771,  2.33761567,  0.22489686, -0.68946164],\n",
       "       [ 0.03137331,  0.13791295,  0.22489686, -0.65977672,  0.51832578],\n",
       "       [-0.83985915,  0.70905254, -0.68946164,  0.51832578,  0.86879014]])"
      ]
     },
     "execution_count": 212,
     "metadata": {},
     "output_type": "execute_result"
    }
   ],
   "source": [
    "\n",
    "matrix = np.random.randn(5, 5)\n",
    "matrix = (matrix + matrix.T) / 2\n",
    "\n",
    "matrix"
   ]
  },
  {
   "cell_type": "code",
   "execution_count": 215,
   "metadata": {},
   "outputs": [
    {
     "name": "stdout",
     "output_type": "stream",
     "text": [
      "success rate :  1.0\n"
     ]
    },
    {
     "data": {
      "text/plain": [
       "array([[-1.67672931,  2.03170484,  0.67667193,  0.58909075,  0.1       ],\n",
       "       [ 2.03170484, -1.67672931,  1.59911429,  0.89512143,  1.84840274],\n",
       "       [ 0.67667193,  1.59911429, -1.67672931,  1.48272126,  0.95050447],\n",
       "       [ 0.58909075,  0.89512143,  1.48272126, -1.67672931,  1.40894379],\n",
       "       [ 0.1       ,  1.84840274,  0.95050447,  1.40894379, -1.67672931]])"
      ]
     },
     "execution_count": 215,
     "metadata": {},
     "output_type": "execute_result"
    }
   ],
   "source": [
    "Qpasqal(matrix ,3)\n"
   ]
  },
  {
   "cell_type": "code",
   "execution_count": null,
   "metadata": {},
   "outputs": [],
   "source": []
  }
 ],
 "metadata": {
  "kernelspec": {
   "display_name": "qrf",
   "language": "python",
   "name": "python3"
  },
  "language_info": {
   "codemirror_mode": {
    "name": "ipython",
    "version": 3
   },
   "file_extension": ".py",
   "mimetype": "text/x-python",
   "name": "python",
   "nbconvert_exporter": "python",
   "pygments_lexer": "ipython3",
   "version": "3.12.0"
  }
 },
 "nbformat": 4,
 "nbformat_minor": 2
}
