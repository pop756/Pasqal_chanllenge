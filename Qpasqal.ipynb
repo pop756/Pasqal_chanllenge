{
 "cells": [
  {
   "cell_type": "code",
   "execution_count": 5,
   "metadata": {},
   "outputs": [],
   "source": [
    "import numpy as np\n",
    "import random\n",
    "import  copy"
   ]
  },
  {
   "cell_type": "code",
   "execution_count": 50,
   "metadata": {},
   "outputs": [],
   "source": [
    "def Qpasqal(matrix , number):\n",
    "    res = copy.deepcopy(matrix)\n",
    "    N=res.shape[0]\n",
    "    for i in range(N):\n",
    "        res[i][i] =0\n",
    "    # 대각 성분 0으로 만들기\n",
    "    for i in range(N):\n",
    "        for j in range(i+1, N):\n",
    "            res[i][j] = res[i][j] +(matrix[i][i]+matrix[j][j])/((number-1)*2)\n",
    "            res[j][i] = res[j][i] +(matrix[i][i]+matrix[j][j])/((number-1)*2)\n",
    "\n",
    "    minEntity = 2000-000-000\n",
    "    for i in range(N):\n",
    "        for j in range(i + 1, N):\n",
    "            if( res[i][j] < minEntity):\n",
    "                minEntity = res[i][j]\n",
    "\n",
    "    if minEntity <= 0:\n",
    "        addValue = abs(minEntity) + 0.1\n",
    "        for i in range(N):\n",
    "            for j in range(i + 1, N):\n",
    "                res[i][j] += addValue\n",
    "                res[j][i] += addValue\n",
    "        for i in range(N):\n",
    "            res[i][i] = -addValue * (number - 1)\n",
    "\n",
    "    # 맞는지 확인\n",
    "    cntTrue =0\n",
    "    for k in range(100):\n",
    "        x =[0]*N\n",
    "        sample = random.sample([i for i in range(N)],number)\n",
    "        for i in sample:\n",
    "            x[i] = 1\n",
    "        answer = x@matrix@x\n",
    "        value = x@res@x\n",
    "        assert abs(answer- value) <=0.0001\n",
    "        cntTrue += 1\n",
    "    print(\"success rate : \",cntTrue/100)\n",
    "    return res"
   ]
  },
  {
   "cell_type": "code",
   "execution_count": 51,
   "metadata": {},
   "outputs": [],
   "source": [
    "def QpasqalOptimized(matrix, number):\n",
    "    res = copy.deepcopy(matrix)\n",
    "    N = res.shape[0]\n",
    "    for i in range(N):\n",
    "        res[i][i] = 0\n",
    "    # 대각 성분 0으로 만들기\n",
    "    for i in range(N):\n",
    "        for j in range(i + 1, N):\n",
    "            res[i][j] = res[i][j] + (matrix[i][i] + matrix[j][j]) / ((number - 1) * 2)\n",
    "            res[j][i] = res[j][i] + (matrix[i][i] + matrix[j][j]) / ((number - 1) * 2)\n",
    "\n",
    "    minEntity = 2000-000-000\n",
    "    for i in range(N):\n",
    "        for j in range(i + 1, N):\n",
    "            if res[i][j] < minEntity:\n",
    "                minEntity = res[i][j]\n",
    "    if minEntity <= 0:\n",
    "        addValue = abs(minEntity) + 0.1\n",
    "        for i in range(N):\n",
    "            for j in range(i + 1, N):\n",
    "                res[i][j] += addValue\n",
    "                res[j][i] += addValue\n",
    "        for i in range(N):\n",
    "            res[i][i] = -addValue * (number - 1)\n",
    "\n",
    "    elif minEntity >0.1:\n",
    "        addValue = minEntity-0.1\n",
    "        for i in range(N):\n",
    "            for j in range(i + 1, N):\n",
    "                res[i][j] -= addValue\n",
    "                res[j][i] -= addValue\n",
    "        for i in range(N):\n",
    "            res[i][i] = addValue * (number - 1)\n",
    "\n",
    "    # 맞는지 확인\n",
    "    cntTrue = 0\n",
    "    for k in range(100):\n",
    "        x = [0] * N\n",
    "        sample = random.sample([i for i in range(N)], number)\n",
    "        for i in sample:\n",
    "            x[i] = 1\n",
    "        answer = x @ matrix @ x\n",
    "        value = x @ res @ x\n",
    "        assert abs(answer - value) <= 0.0001\n",
    "        cntTrue += 1\n",
    "    print(\"success rate : \", cntTrue / 100)\n",
    "    return res"
   ]
  },
  {
   "cell_type": "code",
   "execution_count": 52,
   "metadata": {},
   "outputs": [
    {
     "data": {
      "text/plain": [
       "array([[ 9.45270134,  9.83648322, 11.75426791,  9.3058398 , 10.03894215],\n",
       "       [ 9.83648322, 10.64262481, 10.34132322,  9.70234332, 10.9410921 ],\n",
       "       [11.75426791, 10.34132322, 10.71179952,  9.8978519 , 10.00228123],\n",
       "       [ 9.3058398 ,  9.70234332,  9.8978519 , 10.64824763,  9.64788756],\n",
       "       [10.03894215, 10.9410921 , 10.00228123,  9.64788756,  9.57421913]])"
      ]
     },
     "execution_count": 52,
     "metadata": {},
     "output_type": "execute_result"
    }
   ],
   "source": [
    "\n",
    "matrix = np.random.randn(5, 5)+10\n",
    "matrix = (matrix + matrix.T) / 2\n",
    "matrix"
   ]
  },
  {
   "cell_type": "code",
   "execution_count": 53,
   "metadata": {},
   "outputs": [
    {
     "name": "stdout",
     "output_type": "stream",
     "text": [
      "success rate :  1.0\n"
     ]
    },
    {
     "data": {
      "text/plain": [
       "array([[ 0.        , 14.86031475, 16.79539313, 14.33107704, 14.79567227],\n",
       "       [14.86031475,  0.        , 15.6799293 , 15.02506143, 15.99530308],\n",
       "       [16.79539313, 15.6799293 ,  0.        , 15.23786368, 15.07378589],\n",
       "       [14.33107704, 15.02506143, 15.23786368,  0.        , 14.70350425],\n",
       "       [14.79567227, 15.99530308, 15.07378589, 14.70350425,  0.        ]])"
      ]
     },
     "execution_count": 53,
     "metadata": {},
     "output_type": "execute_result"
    }
   ],
   "source": [
    "Qpasqal(matrix ,3)\n"
   ]
  },
  {
   "cell_type": "code",
   "execution_count": 54,
   "metadata": {},
   "outputs": [
    {
     "name": "stdout",
     "output_type": "stream",
     "text": [
      "success rate :  1.0\n"
     ]
    },
    {
     "data": {
      "text/plain": [
       "array([[28.46215408,  0.62923772,  2.56431609,  0.1       ,  0.56459523],\n",
       "       [ 0.62923772, 28.46215408,  1.44885226,  0.7939844 ,  1.76422605],\n",
       "       [ 2.56431609,  1.44885226, 28.46215408,  1.00678665,  0.84270886],\n",
       "       [ 0.1       ,  0.7939844 ,  1.00678665, 28.46215408,  0.47242721],\n",
       "       [ 0.56459523,  1.76422605,  0.84270886,  0.47242721, 28.46215408]])"
      ]
     },
     "execution_count": 54,
     "metadata": {},
     "output_type": "execute_result"
    }
   ],
   "source": [
    "QpasqalOptimized(matrix ,3)"
   ]
  },
  {
   "cell_type": "code",
   "execution_count": null,
   "metadata": {},
   "outputs": [],
   "source": []
  }
 ],
 "metadata": {
  "kernelspec": {
   "display_name": "qrf",
   "language": "python",
   "name": "python3"
  },
  "language_info": {
   "codemirror_mode": {
    "name": "ipython",
    "version": 3
   },
   "file_extension": ".py",
   "mimetype": "text/x-python",
   "name": "python",
   "nbconvert_exporter": "python",
   "pygments_lexer": "ipython3",
   "version": "3.12.0"
  }
 },
 "nbformat": 4,
 "nbformat_minor": 2
}
