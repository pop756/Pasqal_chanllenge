{
 "cells": [
  {
   "cell_type": "code",
   "execution_count": null,
   "metadata": {},
   "outputs": [],
   "source": []
  },
  {
   "cell_type": "code",
   "execution_count": 7,
   "metadata": {},
   "outputs": [],
   "source": [
    "import json\n",
    "import numpy as np\n",
    "from itertools import product\n",
    "import matplotlib.pyplot as plt\n",
    "from RL_QAOA import *"
   ]
  },
  {
   "cell_type": "code",
   "execution_count": 2,
   "metadata": {},
   "outputs": [],
   "source": [
    "# Save the matrices to a JSON file\n",
    "with open(\"matrices5by5.json\", \"r\") as f:\n",
    "    matrices_data = json.load(f)"
   ]
  },
  {
   "cell_type": "code",
   "execution_count": 3,
   "metadata": {},
   "outputs": [],
   "source": [
    "qubo = np.array(matrices_data[6]) * 30\n",
    "penalty_term = 5\n",
    "hamming_weight = 3"
   ]
  },
  {
   "cell_type": "code",
   "execution_count": 4,
   "metadata": {},
   "outputs": [],
   "source": [
    "for i in range(qubo.shape[0]):\n",
    "    qubo[i, i] += penalty_term * (1 - 2 * hamming_weight)  # Hamming weight 페널티 적용\n",
    "    for j in range(i + 1, qubo.shape[0]):\n",
    "        qubo[i, j] += penalty_term\n",
    "        qubo[j, i] += penalty_term  # 대칭성 유지"
   ]
  },
  {
   "cell_type": "code",
   "execution_count": 11,
   "metadata": {},
   "outputs": [
    {
     "data": {
      "text/plain": [
       "array([[-23.024524  ,   5.81090817,   6.92026282,   6.74480316,\n",
       "          4.2544014 ],\n",
       "       [  5.81090817, -23.5472973 ,   5.810902  ,   5.6006006 ,\n",
       "          4.54932699],\n",
       "       [  6.92026282,   5.810902  , -23.10394464,   6.60620134,\n",
       "          4.24963681],\n",
       "       [  6.74480316,   5.6006006 ,   6.60620134, -23.01468135,\n",
       "          4.28903212],\n",
       "       [  4.2544014 ,   4.54932699,   4.24963681,   4.28903212,\n",
       "        -22.5961397 ]])"
      ]
     },
     "execution_count": 11,
     "metadata": {},
     "output_type": "execute_result"
    }
   ],
   "source": [
    "qubo"
   ]
  },
  {
   "cell_type": "code",
   "execution_count": 8,
   "metadata": {},
   "outputs": [
    {
     "name": "stdout",
     "output_type": "stream",
     "text": [
      "classical_result : -54.486890374578365,best : [-1, 1, 1, 1, 1]\n"
     ]
    },
    {
     "name": "stderr",
     "output_type": "stream",
     "text": [
      "Epoch 1/500: 100%|██████████| 50/50 [00:01<00:00, 42.60 episode/s]\n"
     ]
    },
    {
     "name": "stdout",
     "output_type": "stream",
     "text": [
      "  Probability of finding correct solution: 0.0400\n",
      "  Average reward: -49.423832144531\n",
      "  Lowest reward obtained: -54.486890374578365\n",
      "  Best state at lowest value: [-1  1  1  1  1]\n"
     ]
    },
    {
     "name": "stderr",
     "output_type": "stream",
     "text": [
      "Epoch 2/500: 100%|██████████| 50/50 [00:01<00:00, 36.76 episode/s]\n",
      "Epoch 3/500: 100%|██████████| 50/50 [00:01<00:00, 46.19 episode/s]\n",
      "Epoch 4/500: 100%|██████████| 50/50 [00:00<00:00, 58.39 episode/s]\n",
      "Epoch 5/500: 100%|██████████| 50/50 [00:01<00:00, 33.51 episode/s]\n",
      "Epoch 6/500: 100%|██████████| 50/50 [00:01<00:00, 43.52 episode/s]\n"
     ]
    },
    {
     "name": "stdout",
     "output_type": "stream",
     "text": [
      "  Probability of finding correct solution: 0.0000\n",
      "  Average reward: -44.7213094386726\n",
      "  Lowest reward obtained: -52.547622339753865\n",
      "  Best state at lowest value: [ 1  1  1 -1  1]\n"
     ]
    },
    {
     "name": "stderr",
     "output_type": "stream",
     "text": [
      "Epoch 7/500: 100%|██████████| 50/50 [00:01<00:00, 46.73 episode/s]\n",
      "Epoch 8/500: 100%|██████████| 50/50 [00:01<00:00, 30.35 episode/s]\n",
      "Epoch 9/500: 100%|██████████| 50/50 [00:01<00:00, 32.71 episode/s]\n",
      "Epoch 10/500: 100%|██████████| 50/50 [00:01<00:00, 31.12 episode/s]\n",
      "Epoch 11/500: 100%|██████████| 50/50 [00:01<00:00, 29.77 episode/s]\n"
     ]
    },
    {
     "name": "stdout",
     "output_type": "stream",
     "text": [
      "  Probability of finding correct solution: 0.0200\n",
      "  Average reward: -47.21974809476979\n",
      "  Lowest reward obtained: -54.486890374578365\n",
      "  Best state at lowest value: [-1  1  1  1  1]\n"
     ]
    },
    {
     "name": "stderr",
     "output_type": "stream",
     "text": [
      "Epoch 12/500: 100%|██████████| 50/50 [00:01<00:00, 33.11 episode/s]\n",
      "Epoch 13/500: 100%|██████████| 50/50 [00:01<00:00, 30.64 episode/s]\n",
      "Epoch 14/500: 100%|██████████| 50/50 [00:01<00:00, 33.01 episode/s]\n",
      "Epoch 15/500: 100%|██████████| 50/50 [00:01<00:00, 34.32 episode/s]\n",
      "Epoch 16/500: 100%|██████████| 50/50 [00:01<00:00, 33.45 episode/s]\n"
     ]
    },
    {
     "name": "stdout",
     "output_type": "stream",
     "text": [
      "  Probability of finding correct solution: 0.0400\n",
      "  Average reward: -45.46581971863887\n",
      "  Lowest reward obtained: -54.486890374578365\n",
      "  Best state at lowest value: [-1  1  1  1  1]\n"
     ]
    },
    {
     "name": "stderr",
     "output_type": "stream",
     "text": [
      "Epoch 17/500: 100%|██████████| 50/50 [00:01<00:00, 30.90 episode/s]\n",
      "Epoch 18/500: 100%|██████████| 50/50 [00:01<00:00, 32.30 episode/s]\n",
      "Epoch 19/500: 100%|██████████| 50/50 [00:01<00:00, 39.59 episode/s]\n",
      "Epoch 20/500: 100%|██████████| 50/50 [00:01<00:00, 32.97 episode/s]\n",
      "Epoch 21/500: 100%|██████████| 50/50 [00:01<00:00, 29.64 episode/s]\n"
     ]
    },
    {
     "name": "stdout",
     "output_type": "stream",
     "text": [
      "  Probability of finding correct solution: 0.0400\n",
      "  Average reward: -47.03551781387579\n",
      "  Lowest reward obtained: -54.486890374578365\n",
      "  Best state at lowest value: [-1  1  1  1  1]\n"
     ]
    },
    {
     "name": "stderr",
     "output_type": "stream",
     "text": [
      "Epoch 22/500: 100%|██████████| 50/50 [00:01<00:00, 30.94 episode/s]\n",
      "Epoch 23/500: 100%|██████████| 50/50 [00:01<00:00, 33.24 episode/s]\n",
      "Epoch 24/500: 100%|██████████| 50/50 [00:01<00:00, 28.90 episode/s]\n",
      "Epoch 25/500: 100%|██████████| 50/50 [00:01<00:00, 29.69 episode/s]\n",
      "Epoch 26/500: 100%|██████████| 50/50 [00:01<00:00, 33.25 episode/s]\n"
     ]
    },
    {
     "name": "stdout",
     "output_type": "stream",
     "text": [
      "  Probability of finding correct solution: 0.0400\n",
      "  Average reward: -47.72409575227578\n",
      "  Lowest reward obtained: -54.486890374578365\n",
      "  Best state at lowest value: [-1  1  1  1  1]\n"
     ]
    },
    {
     "name": "stderr",
     "output_type": "stream",
     "text": [
      "Epoch 27/500: 100%|██████████| 50/50 [00:01<00:00, 30.25 episode/s]\n",
      "Epoch 28/500: 100%|██████████| 50/50 [00:01<00:00, 32.45 episode/s]\n",
      "Epoch 29/500: 100%|██████████| 50/50 [00:01<00:00, 28.82 episode/s]\n",
      "Epoch 30/500: 100%|██████████| 50/50 [00:01<00:00, 28.75 episode/s]\n",
      "Epoch 31/500: 100%|██████████| 50/50 [00:01<00:00, 30.33 episode/s]\n"
     ]
    },
    {
     "name": "stdout",
     "output_type": "stream",
     "text": [
      "  Probability of finding correct solution: 0.0600\n",
      "  Average reward: -48.17469261827192\n",
      "  Lowest reward obtained: -54.486890374578365\n",
      "  Best state at lowest value: [-1  1  1  1  1]\n"
     ]
    },
    {
     "name": "stderr",
     "output_type": "stream",
     "text": [
      "Epoch 32/500: 100%|██████████| 50/50 [00:01<00:00, 28.68 episode/s]\n",
      "Epoch 33/500: 100%|██████████| 50/50 [00:01<00:00, 29.99 episode/s]\n",
      "Epoch 34/500: 100%|██████████| 50/50 [00:01<00:00, 34.45 episode/s]\n",
      "Epoch 35/500: 100%|██████████| 50/50 [00:01<00:00, 31.88 episode/s]\n",
      "Epoch 36/500: 100%|██████████| 50/50 [00:01<00:00, 28.23 episode/s]\n"
     ]
    },
    {
     "name": "stdout",
     "output_type": "stream",
     "text": [
      "  Probability of finding correct solution: 0.1000\n",
      "  Average reward: -48.19076845663617\n",
      "  Lowest reward obtained: -54.486890374578365\n",
      "  Best state at lowest value: [-1  1  1  1  1]\n"
     ]
    },
    {
     "name": "stderr",
     "output_type": "stream",
     "text": [
      "Epoch 37/500: 100%|██████████| 50/50 [00:01<00:00, 29.26 episode/s]\n",
      "Epoch 38/500: 100%|██████████| 50/50 [00:01<00:00, 28.47 episode/s]\n",
      "Epoch 39/500: 100%|██████████| 50/50 [00:01<00:00, 26.15 episode/s]\n",
      "Epoch 40/500: 100%|██████████| 50/50 [00:01<00:00, 27.56 episode/s]\n",
      "Epoch 41/500: 100%|██████████| 50/50 [00:01<00:00, 26.97 episode/s]\n"
     ]
    },
    {
     "name": "stdout",
     "output_type": "stream",
     "text": [
      "  Probability of finding correct solution: 0.0200\n",
      "  Average reward: -47.78188062201074\n",
      "  Lowest reward obtained: -54.486890374578365\n",
      "  Best state at lowest value: [-1  1  1  1  1]\n"
     ]
    },
    {
     "name": "stderr",
     "output_type": "stream",
     "text": [
      "Epoch 42/500: 100%|██████████| 50/50 [00:01<00:00, 27.04 episode/s]\n",
      "Epoch 43/500: 100%|██████████| 50/50 [00:01<00:00, 27.35 episode/s]\n",
      "Epoch 44/500: 100%|██████████| 50/50 [00:01<00:00, 28.60 episode/s]\n",
      "Epoch 45/500: 100%|██████████| 50/50 [00:01<00:00, 32.14 episode/s]\n",
      "Epoch 46/500: 100%|██████████| 50/50 [00:01<00:00, 29.74 episode/s]\n"
     ]
    },
    {
     "name": "stdout",
     "output_type": "stream",
     "text": [
      "  Probability of finding correct solution: 0.0800\n",
      "  Average reward: -48.462819078951654\n",
      "  Lowest reward obtained: -54.486890374578365\n",
      "  Best state at lowest value: [-1  1  1  1  1]\n"
     ]
    },
    {
     "name": "stderr",
     "output_type": "stream",
     "text": [
      "Epoch 47/500: 100%|██████████| 50/50 [00:01<00:00, 30.51 episode/s]\n",
      "Epoch 48/500: 100%|██████████| 50/50 [00:01<00:00, 29.11 episode/s]\n",
      "Epoch 49/500: 100%|██████████| 50/50 [00:01<00:00, 26.64 episode/s]\n",
      "Epoch 50/500: 100%|██████████| 50/50 [00:01<00:00, 27.37 episode/s]\n",
      "Epoch 51/500: 100%|██████████| 50/50 [00:01<00:00, 26.55 episode/s]\n"
     ]
    },
    {
     "name": "stdout",
     "output_type": "stream",
     "text": [
      "  Probability of finding correct solution: 0.0600\n",
      "  Average reward: -49.07727536622201\n",
      "  Lowest reward obtained: -54.486890374578365\n",
      "  Best state at lowest value: [-1  1  1  1  1]\n"
     ]
    },
    {
     "name": "stderr",
     "output_type": "stream",
     "text": [
      "Epoch 52/500: 100%|██████████| 50/50 [00:01<00:00, 26.51 episode/s]\n",
      "Epoch 53/500: 100%|██████████| 50/50 [00:01<00:00, 29.39 episode/s]\n",
      "Epoch 54/500: 100%|██████████| 50/50 [00:01<00:00, 28.86 episode/s]\n",
      "Epoch 55/500: 100%|██████████| 50/50 [00:01<00:00, 25.95 episode/s]\n",
      "Epoch 56/500: 100%|██████████| 50/50 [00:01<00:00, 27.32 episode/s]\n"
     ]
    },
    {
     "name": "stdout",
     "output_type": "stream",
     "text": [
      "  Probability of finding correct solution: 0.0600\n",
      "  Average reward: -47.78334832888068\n",
      "  Lowest reward obtained: -54.486890374578365\n",
      "  Best state at lowest value: [-1  1  1  1  1]\n"
     ]
    },
    {
     "name": "stderr",
     "output_type": "stream",
     "text": [
      "Epoch 57/500: 100%|██████████| 50/50 [00:01<00:00, 25.94 episode/s]\n",
      "Epoch 58/500: 100%|██████████| 50/50 [00:01<00:00, 29.39 episode/s]\n",
      "Epoch 59/500: 100%|██████████| 50/50 [00:01<00:00, 25.40 episode/s]\n",
      "Epoch 60/500: 100%|██████████| 50/50 [00:01<00:00, 28.22 episode/s]\n",
      "Epoch 61/500: 100%|██████████| 50/50 [00:01<00:00, 29.31 episode/s]\n"
     ]
    },
    {
     "name": "stdout",
     "output_type": "stream",
     "text": [
      "  Probability of finding correct solution: 0.2200\n",
      "  Average reward: -49.066889581639\n",
      "  Lowest reward obtained: -54.486890374578365\n",
      "  Best state at lowest value: [-1  1  1  1  1]\n"
     ]
    },
    {
     "name": "stderr",
     "output_type": "stream",
     "text": [
      "Epoch 62/500: 100%|██████████| 50/50 [00:01<00:00, 27.37 episode/s]\n",
      "Epoch 63/500: 100%|██████████| 50/50 [00:01<00:00, 27.33 episode/s]\n",
      "Epoch 64/500: 100%|██████████| 50/50 [00:01<00:00, 29.08 episode/s]\n",
      "Epoch 65/500: 100%|██████████| 50/50 [00:01<00:00, 29.18 episode/s]\n",
      "Epoch 66/500: 100%|██████████| 50/50 [00:01<00:00, 30.37 episode/s]\n"
     ]
    },
    {
     "name": "stdout",
     "output_type": "stream",
     "text": [
      "  Probability of finding correct solution: 0.1600\n",
      "  Average reward: -50.34324986742499\n",
      "  Lowest reward obtained: -54.486890374578365\n",
      "  Best state at lowest value: [-1  1  1  1  1]\n"
     ]
    },
    {
     "name": "stderr",
     "output_type": "stream",
     "text": [
      "Epoch 67/500: 100%|██████████| 50/50 [00:01<00:00, 27.20 episode/s]\n",
      "Epoch 68/500: 100%|██████████| 50/50 [00:01<00:00, 29.96 episode/s]\n",
      "Epoch 69/500: 100%|██████████| 50/50 [00:01<00:00, 28.65 episode/s]\n",
      "Epoch 70/500: 100%|██████████| 50/50 [00:01<00:00, 31.62 episode/s]\n",
      "Epoch 71/500: 100%|██████████| 50/50 [00:01<00:00, 33.01 episode/s]\n"
     ]
    },
    {
     "name": "stdout",
     "output_type": "stream",
     "text": [
      "  Probability of finding correct solution: 0.0800\n",
      "  Average reward: -49.48884678414089\n",
      "  Lowest reward obtained: -54.486890374578365\n",
      "  Best state at lowest value: [-1  1  1  1  1]\n"
     ]
    },
    {
     "name": "stderr",
     "output_type": "stream",
     "text": [
      "Epoch 72/500: 100%|██████████| 50/50 [00:01<00:00, 27.97 episode/s]\n",
      "Epoch 73/500: 100%|██████████| 50/50 [00:01<00:00, 33.07 episode/s]\n",
      "Epoch 74/500: 100%|██████████| 50/50 [00:01<00:00, 31.60 episode/s]\n",
      "Epoch 75/500: 100%|██████████| 50/50 [00:01<00:00, 31.56 episode/s]\n",
      "Epoch 76/500: 100%|██████████| 50/50 [00:01<00:00, 35.40 episode/s]\n"
     ]
    },
    {
     "name": "stdout",
     "output_type": "stream",
     "text": [
      "  Probability of finding correct solution: 0.2600\n",
      "  Average reward: -51.20532826344555\n",
      "  Lowest reward obtained: -54.486890374578365\n",
      "  Best state at lowest value: [-1  1  1  1  1]\n"
     ]
    },
    {
     "name": "stderr",
     "output_type": "stream",
     "text": [
      "Epoch 77/500: 100%|██████████| 50/50 [00:01<00:00, 38.24 episode/s]\n",
      "Epoch 78/500: 100%|██████████| 50/50 [00:01<00:00, 33.47 episode/s]\n",
      "Epoch 79/500: 100%|██████████| 50/50 [00:01<00:00, 35.20 episode/s]\n",
      "Epoch 80/500: 100%|██████████| 50/50 [00:01<00:00, 37.61 episode/s]\n",
      "Epoch 81/500: 100%|██████████| 50/50 [00:01<00:00, 37.04 episode/s]\n"
     ]
    },
    {
     "name": "stdout",
     "output_type": "stream",
     "text": [
      "  Probability of finding correct solution: 0.0000\n",
      "  Average reward: -47.62079881407951\n",
      "  Lowest reward obtained: -52.547622339753865\n",
      "  Best state at lowest value: [ 1  1  1 -1  1]\n"
     ]
    },
    {
     "name": "stderr",
     "output_type": "stream",
     "text": [
      "Epoch 82/500: 100%|██████████| 50/50 [00:01<00:00, 35.71 episode/s]\n",
      "Epoch 83/500: 100%|██████████| 50/50 [00:01<00:00, 36.13 episode/s]\n",
      "Epoch 84/500: 100%|██████████| 50/50 [00:01<00:00, 42.09 episode/s]\n",
      "Epoch 85/500: 100%|██████████| 50/50 [00:01<00:00, 39.69 episode/s]\n",
      "Epoch 86/500: 100%|██████████| 50/50 [00:01<00:00, 39.37 episode/s]\n"
     ]
    },
    {
     "name": "stdout",
     "output_type": "stream",
     "text": [
      "  Probability of finding correct solution: 0.1400\n",
      "  Average reward: -50.644989910479254\n",
      "  Lowest reward obtained: -54.486890374578365\n",
      "  Best state at lowest value: [-1  1  1  1  1]\n"
     ]
    },
    {
     "name": "stderr",
     "output_type": "stream",
     "text": [
      "Epoch 87/500: 100%|██████████| 50/50 [00:01<00:00, 35.60 episode/s]\n",
      "Epoch 88/500: 100%|██████████| 50/50 [00:01<00:00, 36.88 episode/s]\n",
      "Epoch 89/500: 100%|██████████| 50/50 [00:01<00:00, 37.77 episode/s]\n",
      "Epoch 90/500: 100%|██████████| 50/50 [00:01<00:00, 35.51 episode/s]\n",
      "Epoch 91/500: 100%|██████████| 50/50 [00:01<00:00, 36.95 episode/s]\n"
     ]
    },
    {
     "name": "stdout",
     "output_type": "stream",
     "text": [
      "  Probability of finding correct solution: 0.0200\n",
      "  Average reward: -47.821367416122\n",
      "  Lowest reward obtained: -54.486890374578365\n",
      "  Best state at lowest value: [-1  1  1  1  1]\n"
     ]
    },
    {
     "name": "stderr",
     "output_type": "stream",
     "text": [
      "Epoch 92/500: 100%|██████████| 50/50 [00:01<00:00, 32.81 episode/s]\n",
      "Epoch 93/500: 100%|██████████| 50/50 [00:01<00:00, 36.46 episode/s]\n",
      "Epoch 94/500: 100%|██████████| 50/50 [00:01<00:00, 35.94 episode/s]\n",
      "Epoch 95/500: 100%|██████████| 50/50 [00:01<00:00, 36.97 episode/s]\n",
      "Epoch 96/500: 100%|██████████| 50/50 [00:01<00:00, 34.15 episode/s]\n"
     ]
    },
    {
     "name": "stdout",
     "output_type": "stream",
     "text": [
      "  Probability of finding correct solution: 0.2400\n",
      "  Average reward: -50.144384020487976\n",
      "  Lowest reward obtained: -54.486890374578365\n",
      "  Best state at lowest value: [-1  1  1  1  1]\n"
     ]
    },
    {
     "name": "stderr",
     "output_type": "stream",
     "text": [
      "Epoch 97/500: 100%|██████████| 50/50 [00:01<00:00, 37.98 episode/s]\n",
      "Epoch 98/500: 100%|██████████| 50/50 [00:01<00:00, 35.77 episode/s]\n",
      "Epoch 99/500: 100%|██████████| 50/50 [00:01<00:00, 33.89 episode/s]\n",
      "Epoch 100/500: 100%|██████████| 50/50 [00:01<00:00, 39.74 episode/s]\n",
      "Epoch 101/500: 100%|██████████| 50/50 [00:01<00:00, 37.45 episode/s]\n"
     ]
    },
    {
     "name": "stdout",
     "output_type": "stream",
     "text": [
      "  Probability of finding correct solution: 0.0200\n",
      "  Average reward: -49.44023181533428\n",
      "  Lowest reward obtained: -54.486890374578365\n",
      "  Best state at lowest value: [-1  1  1  1  1]\n"
     ]
    },
    {
     "name": "stderr",
     "output_type": "stream",
     "text": [
      "Epoch 102/500: 100%|██████████| 50/50 [00:01<00:00, 43.73 episode/s]\n",
      "Epoch 103/500: 100%|██████████| 50/50 [00:01<00:00, 36.07 episode/s]\n",
      "Epoch 104/500: 100%|██████████| 50/50 [00:01<00:00, 34.78 episode/s]\n",
      "Epoch 105/500: 100%|██████████| 50/50 [00:01<00:00, 41.75 episode/s]\n",
      "Epoch 106/500: 100%|██████████| 50/50 [00:01<00:00, 34.75 episode/s]\n"
     ]
    },
    {
     "name": "stdout",
     "output_type": "stream",
     "text": [
      "  Probability of finding correct solution: 0.0000\n",
      "  Average reward: -47.001629800465714\n",
      "  Lowest reward obtained: -52.547622339753865\n",
      "  Best state at lowest value: [ 1  1  1 -1  1]\n"
     ]
    },
    {
     "name": "stderr",
     "output_type": "stream",
     "text": [
      "Epoch 107/500: 100%|██████████| 50/50 [00:01<00:00, 37.69 episode/s]\n",
      "Epoch 108/500: 100%|██████████| 50/50 [00:01<00:00, 41.32 episode/s]\n",
      "Epoch 109/500: 100%|██████████| 50/50 [00:01<00:00, 33.76 episode/s]\n",
      "Epoch 110/500: 100%|██████████| 50/50 [00:01<00:00, 40.92 episode/s]\n",
      "Epoch 111/500: 100%|██████████| 50/50 [00:00<00:00, 64.60 episode/s]\n"
     ]
    },
    {
     "name": "stdout",
     "output_type": "stream",
     "text": [
      "  Probability of finding correct solution: 0.0200\n",
      "  Average reward: -51.64836270573318\n",
      "  Lowest reward obtained: -54.486890374578365\n",
      "  Best state at lowest value: [-1  1  1  1  1]\n"
     ]
    },
    {
     "name": "stderr",
     "output_type": "stream",
     "text": [
      "Epoch 112/500: 100%|██████████| 50/50 [00:01<00:00, 45.30 episode/s]\n",
      "Epoch 113/500: 100%|██████████| 50/50 [00:01<00:00, 39.80 episode/s]\n",
      "Epoch 114/500: 100%|██████████| 50/50 [00:01<00:00, 39.78 episode/s]\n",
      "Epoch 115/500: 100%|██████████| 50/50 [00:01<00:00, 34.73 episode/s]\n",
      "Epoch 116/500: 100%|██████████| 50/50 [00:01<00:00, 34.87 episode/s]\n"
     ]
    },
    {
     "name": "stdout",
     "output_type": "stream",
     "text": [
      "  Probability of finding correct solution: 0.1400\n",
      "  Average reward: -48.99945077334272\n",
      "  Lowest reward obtained: -54.486890374578365\n",
      "  Best state at lowest value: [-1  1  1  1  1]\n"
     ]
    },
    {
     "name": "stderr",
     "output_type": "stream",
     "text": [
      "Epoch 117/500: 100%|██████████| 50/50 [00:01<00:00, 34.85 episode/s]\n",
      "Epoch 118/500: 100%|██████████| 50/50 [00:01<00:00, 37.24 episode/s]\n",
      "Epoch 119/500: 100%|██████████| 50/50 [00:01<00:00, 39.65 episode/s]\n",
      "Epoch 120/500: 100%|██████████| 50/50 [00:01<00:00, 42.49 episode/s]\n",
      "Epoch 121/500: 100%|██████████| 50/50 [00:01<00:00, 45.94 episode/s]\n"
     ]
    },
    {
     "name": "stdout",
     "output_type": "stream",
     "text": [
      "  Probability of finding correct solution: 0.2000\n",
      "  Average reward: -46.47767820127914\n",
      "  Lowest reward obtained: -54.486890374578365\n",
      "  Best state at lowest value: [-1  1  1  1  1]\n"
     ]
    },
    {
     "name": "stderr",
     "output_type": "stream",
     "text": [
      "Epoch 122/500: 100%|██████████| 50/50 [00:00<00:00, 57.19 episode/s]\n",
      "Epoch 123/500: 100%|██████████| 50/50 [00:01<00:00, 48.92 episode/s]\n",
      "Epoch 124/500: 100%|██████████| 50/50 [00:01<00:00, 40.17 episode/s]\n",
      "Epoch 125/500: 100%|██████████| 50/50 [00:01<00:00, 49.00 episode/s]\n",
      "Epoch 126/500: 100%|██████████| 50/50 [00:01<00:00, 46.49 episode/s]\n"
     ]
    },
    {
     "name": "stdout",
     "output_type": "stream",
     "text": [
      "  Probability of finding correct solution: 0.0800\n",
      "  Average reward: -48.13231559655814\n",
      "  Lowest reward obtained: -54.486890374578365\n",
      "  Best state at lowest value: [-1  1  1  1  1]\n"
     ]
    },
    {
     "name": "stderr",
     "output_type": "stream",
     "text": [
      "Epoch 127/500: 100%|██████████| 50/50 [00:01<00:00, 39.15 episode/s]\n",
      "Epoch 128/500: 100%|██████████| 50/50 [00:00<00:00, 76.51 episode/s]\n",
      "Epoch 129/500: 100%|██████████| 50/50 [00:00<00:00, 54.12 episode/s]\n",
      "Epoch 130/500: 100%|██████████| 50/50 [00:00<00:00, 62.31 episode/s]\n",
      "Epoch 131/500: 100%|██████████| 50/50 [00:00<00:00, 60.97 episode/s]\n"
     ]
    },
    {
     "name": "stdout",
     "output_type": "stream",
     "text": [
      "  Probability of finding correct solution: 0.3000\n",
      "  Average reward: -48.58339505979023\n",
      "  Lowest reward obtained: -54.486890374578365\n",
      "  Best state at lowest value: [-1  1  1  1  1]\n"
     ]
    },
    {
     "name": "stderr",
     "output_type": "stream",
     "text": [
      "Epoch 132/500: 100%|██████████| 50/50 [00:01<00:00, 43.07 episode/s]\n",
      "Epoch 133/500: 100%|██████████| 50/50 [00:01<00:00, 37.43 episode/s]\n",
      "Epoch 134/500: 100%|██████████| 50/50 [00:01<00:00, 42.17 episode/s]\n",
      "Epoch 135/500: 100%|██████████| 50/50 [00:01<00:00, 35.26 episode/s]\n",
      "Epoch 136/500: 100%|██████████| 50/50 [00:01<00:00, 41.98 episode/s]\n"
     ]
    },
    {
     "name": "stdout",
     "output_type": "stream",
     "text": [
      "  Probability of finding correct solution: 0.1000\n",
      "  Average reward: -50.396452903228294\n",
      "  Lowest reward obtained: -54.486890374578365\n",
      "  Best state at lowest value: [-1  1  1  1  1]\n"
     ]
    },
    {
     "name": "stderr",
     "output_type": "stream",
     "text": [
      "Epoch 137/500: 100%|██████████| 50/50 [00:01<00:00, 35.97 episode/s]\n",
      "Epoch 138/500: 100%|██████████| 50/50 [00:01<00:00, 43.69 episode/s]\n",
      "Epoch 139/500: 100%|██████████| 50/50 [00:01<00:00, 44.71 episode/s]\n",
      "Epoch 140/500: 100%|██████████| 50/50 [00:01<00:00, 46.22 episode/s]\n",
      "Epoch 141/500: 100%|██████████| 50/50 [00:00<00:00, 52.60 episode/s]\n"
     ]
    },
    {
     "name": "stdout",
     "output_type": "stream",
     "text": [
      "  Probability of finding correct solution: 0.0000\n",
      "  Average reward: -46.605147453980436\n",
      "  Lowest reward obtained: -52.547622339753865\n",
      "  Best state at lowest value: [ 1  1  1 -1  1]\n"
     ]
    },
    {
     "name": "stderr",
     "output_type": "stream",
     "text": [
      "Epoch 142/500: 100%|██████████| 50/50 [00:01<00:00, 43.38 episode/s]\n",
      "Epoch 143/500: 100%|██████████| 50/50 [00:01<00:00, 41.75 episode/s]\n",
      "Epoch 144/500: 100%|██████████| 50/50 [00:01<00:00, 47.31 episode/s]\n",
      "Epoch 145/500: 100%|██████████| 50/50 [00:00<00:00, 57.30 episode/s]\n",
      "Epoch 146/500: 100%|██████████| 50/50 [00:00<00:00, 63.23 episode/s]\n"
     ]
    },
    {
     "name": "stdout",
     "output_type": "stream",
     "text": [
      "  Probability of finding correct solution: 0.0000\n",
      "  Average reward: -47.094574890421136\n",
      "  Lowest reward obtained: -53.75455877348792\n",
      "  Best state at lowest value: [ 1  1 -1  1  1]\n"
     ]
    },
    {
     "name": "stderr",
     "output_type": "stream",
     "text": [
      "Epoch 147/500: 100%|██████████| 50/50 [00:01<00:00, 42.63 episode/s]\n",
      "Epoch 148/500: 100%|██████████| 50/50 [00:00<00:00, 51.80 episode/s]\n",
      "Epoch 149/500: 100%|██████████| 50/50 [00:01<00:00, 46.72 episode/s]\n",
      "Epoch 150/500: 100%|██████████| 50/50 [00:01<00:00, 40.08 episode/s]\n",
      "Epoch 151/500: 100%|██████████| 50/50 [00:01<00:00, 47.89 episode/s]\n"
     ]
    },
    {
     "name": "stdout",
     "output_type": "stream",
     "text": [
      "  Probability of finding correct solution: 0.0000\n",
      "  Average reward: -46.56746089515374\n",
      "  Lowest reward obtained: -52.547622339753865\n",
      "  Best state at lowest value: [ 1  1  1 -1  1]\n"
     ]
    },
    {
     "name": "stderr",
     "output_type": "stream",
     "text": [
      "Epoch 152/500: 100%|██████████| 50/50 [00:01<00:00, 34.72 episode/s]\n",
      "Epoch 153/500: 100%|██████████| 50/50 [00:01<00:00, 42.86 episode/s]\n",
      "Epoch 154/500: 100%|██████████| 50/50 [00:01<00:00, 40.19 episode/s]\n",
      "Epoch 155/500: 100%|██████████| 50/50 [00:01<00:00, 40.90 episode/s]\n",
      "Epoch 156/500: 100%|██████████| 50/50 [00:01<00:00, 35.21 episode/s]\n"
     ]
    },
    {
     "name": "stdout",
     "output_type": "stream",
     "text": [
      "  Probability of finding correct solution: 0.0200\n",
      "  Average reward: -40.90126660855893\n",
      "  Lowest reward obtained: -54.486890374578365\n",
      "  Best state at lowest value: [-1  1  1  1  1]\n"
     ]
    },
    {
     "name": "stderr",
     "output_type": "stream",
     "text": [
      "Epoch 157/500: 100%|██████████| 50/50 [00:01<00:00, 36.33 episode/s]\n",
      "Epoch 158/500: 100%|██████████| 50/50 [00:01<00:00, 39.25 episode/s]\n",
      "Epoch 159/500: 100%|██████████| 50/50 [00:01<00:00, 34.77 episode/s]\n",
      "Epoch 160/500: 100%|██████████| 50/50 [00:01<00:00, 37.06 episode/s]\n",
      "Epoch 161/500: 100%|██████████| 50/50 [00:01<00:00, 36.52 episode/s]\n"
     ]
    },
    {
     "name": "stdout",
     "output_type": "stream",
     "text": [
      "  Probability of finding correct solution: 0.2400\n",
      "  Average reward: -49.37317027705035\n",
      "  Lowest reward obtained: -54.486890374578365\n",
      "  Best state at lowest value: [-1  1  1  1  1]\n"
     ]
    },
    {
     "name": "stderr",
     "output_type": "stream",
     "text": [
      "Epoch 162/500: 100%|██████████| 50/50 [00:01<00:00, 30.29 episode/s]\n",
      "Epoch 163/500: 100%|██████████| 50/50 [00:01<00:00, 36.13 episode/s]\n",
      "Epoch 164/500: 100%|██████████| 50/50 [00:01<00:00, 37.96 episode/s]\n",
      "Epoch 165/500: 100%|██████████| 50/50 [00:00<00:00, 59.95 episode/s]\n",
      "Epoch 166/500: 100%|██████████| 50/50 [00:00<00:00, 52.39 episode/s]\n"
     ]
    },
    {
     "name": "stdout",
     "output_type": "stream",
     "text": [
      "  Probability of finding correct solution: 0.1000\n",
      "  Average reward: -50.945842874688225\n",
      "  Lowest reward obtained: -54.486890374578365\n",
      "  Best state at lowest value: [-1  1  1  1  1]\n"
     ]
    },
    {
     "name": "stderr",
     "output_type": "stream",
     "text": [
      "Epoch 167/500: 100%|██████████| 50/50 [00:00<00:00, 57.02 episode/s]\n",
      "Epoch 168/500: 100%|██████████| 50/50 [00:00<00:00, 51.69 episode/s]\n",
      "Epoch 169/500: 100%|██████████| 50/50 [00:01<00:00, 40.16 episode/s]\n",
      "Epoch 170/500: 100%|██████████| 50/50 [00:01<00:00, 44.03 episode/s]\n",
      "Epoch 171/500: 100%|██████████| 50/50 [00:01<00:00, 44.72 episode/s]\n"
     ]
    },
    {
     "name": "stdout",
     "output_type": "stream",
     "text": [
      "  Probability of finding correct solution: 0.0800\n",
      "  Average reward: -50.81580076923646\n",
      "  Lowest reward obtained: -54.486890374578365\n",
      "  Best state at lowest value: [-1  1  1  1  1]\n"
     ]
    },
    {
     "name": "stderr",
     "output_type": "stream",
     "text": [
      "Epoch 172/500: 100%|██████████| 50/50 [00:01<00:00, 47.61 episode/s]\n",
      "Epoch 173/500: 100%|██████████| 50/50 [00:00<00:00, 51.75 episode/s]\n",
      "Epoch 174/500: 100%|██████████| 50/50 [00:00<00:00, 50.52 episode/s]\n",
      "Epoch 175/500: 100%|██████████| 50/50 [00:01<00:00, 37.58 episode/s]\n",
      "Epoch 176/500: 100%|██████████| 50/50 [00:00<00:00, 53.88 episode/s]\n"
     ]
    },
    {
     "name": "stdout",
     "output_type": "stream",
     "text": [
      "  Probability of finding correct solution: 0.2000\n",
      "  Average reward: -53.22514069081493\n",
      "  Lowest reward obtained: -54.486890374578365\n",
      "  Best state at lowest value: [-1  1  1  1  1]\n"
     ]
    },
    {
     "name": "stderr",
     "output_type": "stream",
     "text": [
      "Epoch 177/500: 100%|██████████| 50/50 [00:01<00:00, 43.37 episode/s]\n",
      "Epoch 178/500: 100%|██████████| 50/50 [00:01<00:00, 39.52 episode/s]\n",
      "Epoch 179/500: 100%|██████████| 50/50 [00:01<00:00, 38.46 episode/s]\n",
      "Epoch 180/500: 100%|██████████| 50/50 [00:01<00:00, 38.34 episode/s]\n",
      "Epoch 181/500: 100%|██████████| 50/50 [00:01<00:00, 41.85 episode/s]\n"
     ]
    },
    {
     "name": "stdout",
     "output_type": "stream",
     "text": [
      "  Probability of finding correct solution: 0.2000\n",
      "  Average reward: -52.09794048473968\n",
      "  Lowest reward obtained: -54.486890374578365\n",
      "  Best state at lowest value: [-1  1  1  1  1]\n"
     ]
    },
    {
     "name": "stderr",
     "output_type": "stream",
     "text": [
      "Epoch 182/500: 100%|██████████| 50/50 [00:01<00:00, 35.29 episode/s]\n",
      "Epoch 183/500: 100%|██████████| 50/50 [00:01<00:00, 36.48 episode/s]\n",
      "Epoch 184/500: 100%|██████████| 50/50 [00:01<00:00, 34.77 episode/s]\n",
      "Epoch 185/500: 100%|██████████| 50/50 [00:01<00:00, 28.86 episode/s]\n",
      "Epoch 186/500: 100%|██████████| 50/50 [00:01<00:00, 28.64 episode/s]\n"
     ]
    },
    {
     "name": "stdout",
     "output_type": "stream",
     "text": [
      "  Probability of finding correct solution: 0.0200\n",
      "  Average reward: -47.96395842866475\n",
      "  Lowest reward obtained: -54.486890374578365\n",
      "  Best state at lowest value: [-1  1  1  1  1]\n"
     ]
    },
    {
     "name": "stderr",
     "output_type": "stream",
     "text": [
      "Epoch 187/500: 100%|██████████| 50/50 [00:01<00:00, 33.35 episode/s]\n",
      "Epoch 188/500: 100%|██████████| 50/50 [00:01<00:00, 32.12 episode/s]\n",
      "Epoch 189/500: 100%|██████████| 50/50 [00:01<00:00, 31.52 episode/s]\n",
      "Epoch 190/500: 100%|██████████| 50/50 [00:01<00:00, 29.86 episode/s]\n",
      "Epoch 191/500: 100%|██████████| 50/50 [00:01<00:00, 31.89 episode/s]\n"
     ]
    },
    {
     "name": "stdout",
     "output_type": "stream",
     "text": [
      "  Probability of finding correct solution: 0.1200\n",
      "  Average reward: -48.50468406669772\n",
      "  Lowest reward obtained: -54.486890374578365\n",
      "  Best state at lowest value: [-1  1  1  1  1]\n"
     ]
    },
    {
     "name": "stderr",
     "output_type": "stream",
     "text": [
      "Epoch 192/500: 100%|██████████| 50/50 [00:01<00:00, 34.80 episode/s]\n",
      "Epoch 193/500: 100%|██████████| 50/50 [00:01<00:00, 35.26 episode/s]\n",
      "Epoch 194/500: 100%|██████████| 50/50 [00:01<00:00, 31.64 episode/s]\n",
      "Epoch 195/500: 100%|██████████| 50/50 [00:01<00:00, 33.73 episode/s]\n",
      "Epoch 196/500: 100%|██████████| 50/50 [00:01<00:00, 31.53 episode/s]\n"
     ]
    },
    {
     "name": "stdout",
     "output_type": "stream",
     "text": [
      "  Probability of finding correct solution: 0.5600\n",
      "  Average reward: -52.48008285183865\n",
      "  Lowest reward obtained: -54.486890374578365\n",
      "  Best state at lowest value: [-1  1  1  1  1]\n"
     ]
    },
    {
     "name": "stderr",
     "output_type": "stream",
     "text": [
      "Epoch 197/500: 100%|██████████| 50/50 [00:01<00:00, 34.29 episode/s]\n",
      "Epoch 198/500: 100%|██████████| 50/50 [00:01<00:00, 31.85 episode/s]\n",
      "Epoch 199/500: 100%|██████████| 50/50 [00:01<00:00, 33.03 episode/s]\n",
      "Epoch 200/500: 100%|██████████| 50/50 [00:01<00:00, 32.25 episode/s]\n",
      "Epoch 201/500: 100%|██████████| 50/50 [00:01<00:00, 32.40 episode/s]\n"
     ]
    },
    {
     "name": "stdout",
     "output_type": "stream",
     "text": [
      "  Probability of finding correct solution: 0.1600\n",
      "  Average reward: -50.24144753756323\n",
      "  Lowest reward obtained: -54.486890374578365\n",
      "  Best state at lowest value: [-1  1  1  1  1]\n"
     ]
    },
    {
     "name": "stderr",
     "output_type": "stream",
     "text": [
      "Epoch 202/500: 100%|██████████| 50/50 [00:01<00:00, 31.66 episode/s]\n",
      "Epoch 203/500: 100%|██████████| 50/50 [00:01<00:00, 34.06 episode/s]\n",
      "Epoch 204/500: 100%|██████████| 50/50 [00:01<00:00, 31.31 episode/s]\n",
      "Epoch 205/500: 100%|██████████| 50/50 [00:01<00:00, 32.27 episode/s]\n",
      "Epoch 206/500: 100%|██████████| 50/50 [00:01<00:00, 36.60 episode/s]\n"
     ]
    },
    {
     "name": "stdout",
     "output_type": "stream",
     "text": [
      "  Probability of finding correct solution: 0.1200\n",
      "  Average reward: -49.44084986134791\n",
      "  Lowest reward obtained: -54.486890374578365\n",
      "  Best state at lowest value: [-1  1  1  1  1]\n"
     ]
    },
    {
     "name": "stderr",
     "output_type": "stream",
     "text": [
      "Epoch 207/500: 100%|██████████| 50/50 [00:01<00:00, 33.31 episode/s]\n",
      "Epoch 208/500: 100%|██████████| 50/50 [00:01<00:00, 34.75 episode/s]\n",
      "Epoch 209/500: 100%|██████████| 50/50 [00:01<00:00, 33.68 episode/s]\n",
      "Epoch 210/500: 100%|██████████| 50/50 [00:01<00:00, 36.18 episode/s]\n",
      "Epoch 211/500: 100%|██████████| 50/50 [00:01<00:00, 29.13 episode/s]\n"
     ]
    },
    {
     "name": "stdout",
     "output_type": "stream",
     "text": [
      "  Probability of finding correct solution: 0.0800\n",
      "  Average reward: -50.6626216753267\n",
      "  Lowest reward obtained: -54.486890374578365\n",
      "  Best state at lowest value: [-1  1  1  1  1]\n"
     ]
    },
    {
     "name": "stderr",
     "output_type": "stream",
     "text": [
      "Epoch 212/500: 100%|██████████| 50/50 [00:01<00:00, 31.55 episode/s]\n",
      "Epoch 213/500: 100%|██████████| 50/50 [00:01<00:00, 35.12 episode/s]\n",
      "Epoch 214/500: 100%|██████████| 50/50 [00:01<00:00, 30.60 episode/s]\n",
      "Epoch 215/500: 100%|██████████| 50/50 [00:01<00:00, 42.51 episode/s]\n",
      "Epoch 216/500: 100%|██████████| 50/50 [00:01<00:00, 38.93 episode/s]\n"
     ]
    },
    {
     "name": "stdout",
     "output_type": "stream",
     "text": [
      "  Probability of finding correct solution: 0.1600\n",
      "  Average reward: -51.9029666230996\n",
      "  Lowest reward obtained: -54.486890374578365\n",
      "  Best state at lowest value: [-1  1  1  1  1]\n"
     ]
    },
    {
     "name": "stderr",
     "output_type": "stream",
     "text": [
      "Epoch 217/500: 100%|██████████| 50/50 [00:01<00:00, 38.91 episode/s]\n",
      "Epoch 218/500: 100%|██████████| 50/50 [00:01<00:00, 48.16 episode/s]\n",
      "Epoch 219/500: 100%|██████████| 50/50 [00:01<00:00, 46.49 episode/s]\n",
      "Epoch 220/500: 100%|██████████| 50/50 [00:01<00:00, 42.29 episode/s]\n",
      "Epoch 221/500: 100%|██████████| 50/50 [00:01<00:00, 49.38 episode/s]\n"
     ]
    },
    {
     "name": "stdout",
     "output_type": "stream",
     "text": [
      "  Probability of finding correct solution: 0.2600\n",
      "  Average reward: -50.57190055874996\n",
      "  Lowest reward obtained: -54.486890374578365\n",
      "  Best state at lowest value: [-1  1  1  1  1]\n"
     ]
    },
    {
     "name": "stderr",
     "output_type": "stream",
     "text": [
      "Epoch 222/500: 100%|██████████| 50/50 [00:01<00:00, 42.99 episode/s]\n",
      "Epoch 223/500: 100%|██████████| 50/50 [00:01<00:00, 47.45 episode/s]\n",
      "Epoch 224/500: 100%|██████████| 50/50 [00:01<00:00, 39.77 episode/s]\n",
      "Epoch 225/500: 100%|██████████| 50/50 [00:01<00:00, 43.42 episode/s]\n",
      "Epoch 226/500: 100%|██████████| 50/50 [00:01<00:00, 46.93 episode/s]\n"
     ]
    },
    {
     "name": "stdout",
     "output_type": "stream",
     "text": [
      "  Probability of finding correct solution: 0.4200\n",
      "  Average reward: -49.766822321046654\n",
      "  Lowest reward obtained: -54.486890374578365\n",
      "  Best state at lowest value: [-1  1  1  1  1]\n"
     ]
    },
    {
     "name": "stderr",
     "output_type": "stream",
     "text": [
      "Epoch 227/500: 100%|██████████| 50/50 [00:01<00:00, 45.19 episode/s]\n",
      "Epoch 228/500: 100%|██████████| 50/50 [00:00<00:00, 58.56 episode/s]\n",
      "Epoch 229/500: 100%|██████████| 50/50 [00:00<00:00, 68.76 episode/s]\n",
      "Epoch 230/500: 100%|██████████| 50/50 [00:01<00:00, 47.30 episode/s]\n",
      "Epoch 231/500: 100%|██████████| 50/50 [00:00<00:00, 57.39 episode/s]\n"
     ]
    },
    {
     "name": "stdout",
     "output_type": "stream",
     "text": [
      "  Probability of finding correct solution: 0.0200\n",
      "  Average reward: -49.877751399787236\n",
      "  Lowest reward obtained: -54.486890374578365\n",
      "  Best state at lowest value: [-1  1  1  1  1]\n"
     ]
    },
    {
     "name": "stderr",
     "output_type": "stream",
     "text": [
      "Epoch 232/500: 100%|██████████| 50/50 [00:01<00:00, 34.18 episode/s]\n",
      "Epoch 233/500: 100%|██████████| 50/50 [00:00<00:00, 70.61 episode/s]\n",
      "Epoch 234/500: 100%|██████████| 50/50 [00:01<00:00, 44.71 episode/s]\n",
      "Epoch 235/500: 100%|██████████| 50/50 [00:01<00:00, 41.70 episode/s]\n",
      "Epoch 236/500: 100%|██████████| 50/50 [00:01<00:00, 41.55 episode/s]\n"
     ]
    },
    {
     "name": "stdout",
     "output_type": "stream",
     "text": [
      "  Probability of finding correct solution: 0.0200\n",
      "  Average reward: -46.250629958543804\n",
      "  Lowest reward obtained: -54.486890374578365\n",
      "  Best state at lowest value: [-1  1  1  1  1]\n"
     ]
    },
    {
     "name": "stderr",
     "output_type": "stream",
     "text": [
      "Epoch 237/500: 100%|██████████| 50/50 [00:00<00:00, 57.93 episode/s]\n",
      "Epoch 238/500: 100%|██████████| 50/50 [00:00<00:00, 56.80 episode/s]\n",
      "Epoch 239/500: 100%|██████████| 50/50 [00:01<00:00, 44.56 episode/s]\n",
      "Epoch 240/500: 100%|██████████| 50/50 [00:00<00:00, 51.74 episode/s]\n",
      "Epoch 241/500: 100%|██████████| 50/50 [00:01<00:00, 49.53 episode/s]\n"
     ]
    },
    {
     "name": "stdout",
     "output_type": "stream",
     "text": [
      "  Probability of finding correct solution: 0.0000\n",
      "  Average reward: -48.59613951052631\n",
      "  Lowest reward obtained: -52.547622339753865\n",
      "  Best state at lowest value: [ 1  1  1 -1  1]\n"
     ]
    },
    {
     "name": "stderr",
     "output_type": "stream",
     "text": [
      "Epoch 242/500: 100%|██████████| 50/50 [00:00<00:00, 53.49 episode/s]\n",
      "Epoch 243/500: 100%|██████████| 50/50 [00:01<00:00, 46.18 episode/s]\n",
      "Epoch 244/500: 100%|██████████| 50/50 [00:00<00:00, 50.95 episode/s]\n",
      "Epoch 245/500: 100%|██████████| 50/50 [00:00<00:00, 53.80 episode/s]\n",
      "Epoch 246/500: 100%|██████████| 50/50 [00:01<00:00, 49.31 episode/s]\n"
     ]
    },
    {
     "name": "stdout",
     "output_type": "stream",
     "text": [
      "  Probability of finding correct solution: 0.0000\n",
      "  Average reward: -46.98365635748185\n",
      "  Lowest reward obtained: -53.75455877348792\n",
      "  Best state at lowest value: [ 1  1 -1  1  1]\n"
     ]
    },
    {
     "name": "stderr",
     "output_type": "stream",
     "text": [
      "Epoch 247/500: 100%|██████████| 50/50 [00:01<00:00, 38.81 episode/s]\n",
      "Epoch 248/500: 100%|██████████| 50/50 [00:01<00:00, 49.37 episode/s]\n",
      "Epoch 249/500: 100%|██████████| 50/50 [00:00<00:00, 56.98 episode/s]\n",
      "Epoch 250/500: 100%|██████████| 50/50 [00:00<00:00, 56.00 episode/s]\n",
      "Epoch 251/500: 100%|██████████| 50/50 [00:00<00:00, 66.27 episode/s]\n"
     ]
    },
    {
     "name": "stdout",
     "output_type": "stream",
     "text": [
      "  Probability of finding correct solution: 0.1800\n",
      "  Average reward: -50.90078042738767\n",
      "  Lowest reward obtained: -54.486890374578365\n",
      "  Best state at lowest value: [-1  1  1  1  1]\n"
     ]
    },
    {
     "name": "stderr",
     "output_type": "stream",
     "text": [
      "Epoch 252/500: 100%|██████████| 50/50 [00:01<00:00, 48.02 episode/s]\n",
      "Epoch 253/500: 100%|██████████| 50/50 [00:00<00:00, 59.92 episode/s]\n",
      "Epoch 254/500: 100%|██████████| 50/50 [00:00<00:00, 60.76 episode/s] \n",
      "Epoch 255/500: 100%|██████████| 50/50 [00:00<00:00, 60.38 episode/s]\n",
      "Epoch 256/500: 100%|██████████| 50/50 [00:00<00:00, 58.64 episode/s]\n"
     ]
    },
    {
     "name": "stdout",
     "output_type": "stream",
     "text": [
      "  Probability of finding correct solution: 0.2000\n",
      "  Average reward: -51.83241711613573\n",
      "  Lowest reward obtained: -54.486890374578365\n",
      "  Best state at lowest value: [-1  1  1  1  1]\n"
     ]
    },
    {
     "name": "stderr",
     "output_type": "stream",
     "text": [
      "Epoch 257/500: 100%|██████████| 50/50 [00:00<00:00, 60.28 episode/s]\n",
      "Epoch 258/500: 100%|██████████| 50/50 [00:00<00:00, 56.25 episode/s]\n",
      "Epoch 259/500: 100%|██████████| 50/50 [00:00<00:00, 56.16 episode/s]\n",
      "Epoch 260/500: 100%|██████████| 50/50 [00:00<00:00, 59.97 episode/s]\n",
      "Epoch 261/500: 100%|██████████| 50/50 [00:00<00:00, 66.10 episode/s]\n"
     ]
    },
    {
     "name": "stdout",
     "output_type": "stream",
     "text": [
      "  Probability of finding correct solution: 0.0600\n",
      "  Average reward: -49.4541713794936\n",
      "  Lowest reward obtained: -54.486890374578365\n",
      "  Best state at lowest value: [-1  1  1  1  1]\n"
     ]
    },
    {
     "name": "stderr",
     "output_type": "stream",
     "text": [
      "Epoch 262/500: 100%|██████████| 50/50 [00:00<00:00, 59.91 episode/s]\n",
      "Epoch 263/500: 100%|██████████| 50/50 [00:00<00:00, 65.36 episode/s]\n",
      "Epoch 264/500: 100%|██████████| 50/50 [00:00<00:00, 56.64 episode/s]\n",
      "Epoch 265/500: 100%|██████████| 50/50 [00:01<00:00, 49.15 episode/s]\n",
      "Epoch 266/500: 100%|██████████| 50/50 [00:01<00:00, 43.23 episode/s]\n"
     ]
    },
    {
     "name": "stdout",
     "output_type": "stream",
     "text": [
      "  Probability of finding correct solution: 0.3200\n",
      "  Average reward: -50.538903205715336\n",
      "  Lowest reward obtained: -54.486890374578365\n",
      "  Best state at lowest value: [-1  1  1  1  1]\n"
     ]
    },
    {
     "name": "stderr",
     "output_type": "stream",
     "text": [
      "Epoch 267/500: 100%|██████████| 50/50 [00:00<00:00, 52.90 episode/s]\n",
      "Epoch 268/500: 100%|██████████| 50/50 [00:00<00:00, 66.40 episode/s]\n",
      "Epoch 269/500: 100%|██████████| 50/50 [00:00<00:00, 65.85 episode/s]\n",
      "Epoch 270/500: 100%|██████████| 50/50 [00:00<00:00, 71.88 episode/s] \n",
      "Epoch 271/500: 100%|██████████| 50/50 [00:00<00:00, 53.06 episode/s]\n"
     ]
    },
    {
     "name": "stdout",
     "output_type": "stream",
     "text": [
      "  Probability of finding correct solution: 0.2400\n",
      "  Average reward: -50.981311992622\n",
      "  Lowest reward obtained: -54.486890374578365\n",
      "  Best state at lowest value: [-1  1  1  1  1]\n"
     ]
    },
    {
     "name": "stderr",
     "output_type": "stream",
     "text": [
      "Epoch 272/500: 100%|██████████| 50/50 [00:00<00:00, 65.81 episode/s]\n",
      "Epoch 273/500: 100%|██████████| 50/50 [00:00<00:00, 64.63 episode/s]\n",
      "Epoch 274/500: 100%|██████████| 50/50 [00:00<00:00, 60.15 episode/s]\n",
      "Epoch 275/500: 100%|██████████| 50/50 [00:00<00:00, 66.12 episode/s]\n",
      "Epoch 276/500: 100%|██████████| 50/50 [00:00<00:00, 56.72 episode/s]\n"
     ]
    },
    {
     "name": "stdout",
     "output_type": "stream",
     "text": [
      "  Probability of finding correct solution: 0.1800\n",
      "  Average reward: -50.549453293290725\n",
      "  Lowest reward obtained: -54.486890374578365\n",
      "  Best state at lowest value: [-1  1  1  1  1]\n"
     ]
    },
    {
     "name": "stderr",
     "output_type": "stream",
     "text": [
      "Epoch 277/500: 100%|██████████| 50/50 [00:00<00:00, 53.05 episode/s]\n",
      "Epoch 278/500: 100%|██████████| 50/50 [00:00<00:00, 70.40 episode/s]\n",
      "Epoch 279/500: 100%|██████████| 50/50 [00:00<00:00, 58.21 episode/s]\n",
      "Epoch 280/500: 100%|██████████| 50/50 [00:00<00:00, 65.33 episode/s]\n",
      "Epoch 281/500: 100%|██████████| 50/50 [00:00<00:00, 64.75 episode/s]\n"
     ]
    },
    {
     "name": "stdout",
     "output_type": "stream",
     "text": [
      "  Probability of finding correct solution: 0.0600\n",
      "  Average reward: -50.619768246163886\n",
      "  Lowest reward obtained: -54.486890374578365\n",
      "  Best state at lowest value: [-1  1  1  1  1]\n"
     ]
    },
    {
     "name": "stderr",
     "output_type": "stream",
     "text": [
      "Epoch 282/500: 100%|██████████| 50/50 [00:00<00:00, 64.29 episode/s]\n",
      "Epoch 283/500: 100%|██████████| 50/50 [00:00<00:00, 61.21 episode/s]\n",
      "Epoch 284/500: 100%|██████████| 50/50 [00:00<00:00, 65.31 episode/s]\n",
      "Epoch 285/500: 100%|██████████| 50/50 [00:00<00:00, 65.51 episode/s]\n",
      "Epoch 286/500: 100%|██████████| 50/50 [00:00<00:00, 61.21 episode/s]\n"
     ]
    },
    {
     "name": "stdout",
     "output_type": "stream",
     "text": [
      "  Probability of finding correct solution: 0.2200\n",
      "  Average reward: -50.02153449471634\n",
      "  Lowest reward obtained: -54.486890374578365\n",
      "  Best state at lowest value: [-1  1  1  1  1]\n"
     ]
    },
    {
     "name": "stderr",
     "output_type": "stream",
     "text": [
      "Epoch 287/500: 100%|██████████| 50/50 [00:00<00:00, 65.73 episode/s]\n",
      "Epoch 288/500: 100%|██████████| 50/50 [00:00<00:00, 66.34 episode/s]\n",
      "Epoch 289/500: 100%|██████████| 50/50 [00:00<00:00, 62.35 episode/s]\n",
      "Epoch 290/500: 100%|██████████| 50/50 [00:00<00:00, 56.41 episode/s]\n",
      "Epoch 291/500: 100%|██████████| 50/50 [00:00<00:00, 56.61 episode/s]\n"
     ]
    },
    {
     "name": "stdout",
     "output_type": "stream",
     "text": [
      "  Probability of finding correct solution: 0.0800\n",
      "  Average reward: -51.69561891463596\n",
      "  Lowest reward obtained: -54.486890374578365\n",
      "  Best state at lowest value: [-1  1  1  1  1]\n"
     ]
    },
    {
     "name": "stderr",
     "output_type": "stream",
     "text": [
      "Epoch 292/500: 100%|██████████| 50/50 [00:00<00:00, 65.23 episode/s]\n",
      "Epoch 293/500: 100%|██████████| 50/50 [00:00<00:00, 61.15 episode/s]\n",
      "Epoch 294/500: 100%|██████████| 50/50 [00:00<00:00, 65.48 episode/s]\n",
      "Epoch 295/500: 100%|██████████| 50/50 [00:00<00:00, 63.67 episode/s]\n",
      "Epoch 296/500: 100%|██████████| 50/50 [00:00<00:00, 57.98 episode/s]\n"
     ]
    },
    {
     "name": "stdout",
     "output_type": "stream",
     "text": [
      "  Probability of finding correct solution: 0.2200\n",
      "  Average reward: -52.93780961060416\n",
      "  Lowest reward obtained: -54.486890374578365\n",
      "  Best state at lowest value: [-1  1  1  1  1]\n"
     ]
    },
    {
     "name": "stderr",
     "output_type": "stream",
     "text": [
      "Epoch 297/500: 100%|██████████| 50/50 [00:00<00:00, 57.30 episode/s]\n",
      "Epoch 298/500: 100%|██████████| 50/50 [00:00<00:00, 59.15 episode/s]\n",
      "Epoch 299/500: 100%|██████████| 50/50 [00:00<00:00, 56.04 episode/s]\n",
      "Epoch 300/500: 100%|██████████| 50/50 [00:00<00:00, 60.67 episode/s]\n",
      "Epoch 301/500: 100%|██████████| 50/50 [00:00<00:00, 62.85 episode/s]\n"
     ]
    },
    {
     "name": "stdout",
     "output_type": "stream",
     "text": [
      "  Probability of finding correct solution: 0.1400\n",
      "  Average reward: -52.50009888004499\n",
      "  Lowest reward obtained: -54.486890374578365\n",
      "  Best state at lowest value: [-1  1  1  1  1]\n"
     ]
    },
    {
     "name": "stderr",
     "output_type": "stream",
     "text": [
      "Epoch 302/500: 100%|██████████| 50/50 [00:00<00:00, 64.25 episode/s]\n",
      "Epoch 303/500: 100%|██████████| 50/50 [00:00<00:00, 56.59 episode/s]\n",
      "Epoch 304/500: 100%|██████████| 50/50 [00:00<00:00, 58.16 episode/s]\n",
      "Epoch 305/500: 100%|██████████| 50/50 [00:00<00:00, 66.26 episode/s]\n",
      "Epoch 306/500: 100%|██████████| 50/50 [00:00<00:00, 68.00 episode/s]\n"
     ]
    },
    {
     "name": "stdout",
     "output_type": "stream",
     "text": [
      "  Probability of finding correct solution: 0.2600\n",
      "  Average reward: -53.36800065368674\n",
      "  Lowest reward obtained: -54.486890374578365\n",
      "  Best state at lowest value: [-1  1  1  1  1]\n"
     ]
    },
    {
     "name": "stderr",
     "output_type": "stream",
     "text": [
      "Epoch 307/500: 100%|██████████| 50/50 [00:00<00:00, 66.53 episode/s]\n",
      "Epoch 308/500: 100%|██████████| 50/50 [00:00<00:00, 66.42 episode/s]\n",
      "Epoch 309/500: 100%|██████████| 50/50 [00:00<00:00, 62.35 episode/s]\n",
      "Epoch 310/500: 100%|██████████| 50/50 [00:00<00:00, 59.51 episode/s]\n",
      "Epoch 311/500: 100%|██████████| 50/50 [00:00<00:00, 54.99 episode/s]\n"
     ]
    },
    {
     "name": "stdout",
     "output_type": "stream",
     "text": [
      "  Probability of finding correct solution: 0.3000\n",
      "  Average reward: -53.44557137507972\n",
      "  Lowest reward obtained: -54.486890374578365\n",
      "  Best state at lowest value: [-1  1  1  1  1]\n"
     ]
    },
    {
     "name": "stderr",
     "output_type": "stream",
     "text": [
      "Epoch 312/500: 100%|██████████| 50/50 [00:00<00:00, 56.44 episode/s]\n",
      "Epoch 313/500: 100%|██████████| 50/50 [00:00<00:00, 58.90 episode/s]\n",
      "Epoch 314/500: 100%|██████████| 50/50 [00:00<00:00, 60.51 episode/s]\n",
      "Epoch 315/500: 100%|██████████| 50/50 [00:00<00:00, 57.65 episode/s]\n",
      "Epoch 316/500: 100%|██████████| 50/50 [00:00<00:00, 61.45 episode/s]\n"
     ]
    },
    {
     "name": "stdout",
     "output_type": "stream",
     "text": [
      "  Probability of finding correct solution: 0.4800\n",
      "  Average reward: -53.86469065526451\n",
      "  Lowest reward obtained: -54.486890374578365\n",
      "  Best state at lowest value: [-1  1  1  1  1]\n"
     ]
    },
    {
     "name": "stderr",
     "output_type": "stream",
     "text": [
      "Epoch 317/500: 100%|██████████| 50/50 [00:00<00:00, 65.97 episode/s]\n",
      "Epoch 318/500: 100%|██████████| 50/50 [00:00<00:00, 67.06 episode/s]\n",
      "Epoch 319/500: 100%|██████████| 50/50 [00:00<00:00, 51.82 episode/s]\n",
      "Epoch 320/500: 100%|██████████| 50/50 [00:00<00:00, 52.08 episode/s]\n",
      "Epoch 321/500: 100%|██████████| 50/50 [00:00<00:00, 63.96 episode/s]\n"
     ]
    },
    {
     "name": "stdout",
     "output_type": "stream",
     "text": [
      "  Probability of finding correct solution: 0.4000\n",
      "  Average reward: -53.73368794115325\n",
      "  Lowest reward obtained: -54.486890374578365\n",
      "  Best state at lowest value: [-1  1  1  1  1]\n"
     ]
    },
    {
     "name": "stderr",
     "output_type": "stream",
     "text": [
      "Epoch 322/500: 100%|██████████| 50/50 [00:00<00:00, 56.39 episode/s]\n",
      "Epoch 323/500: 100%|██████████| 50/50 [00:00<00:00, 59.14 episode/s]\n",
      "Epoch 324/500: 100%|██████████| 50/50 [00:00<00:00, 58.34 episode/s]\n",
      "Epoch 325/500: 100%|██████████| 50/50 [00:00<00:00, 61.18 episode/s]\n",
      "Epoch 326/500: 100%|██████████| 50/50 [00:00<00:00, 62.00 episode/s]\n"
     ]
    },
    {
     "name": "stdout",
     "output_type": "stream",
     "text": [
      "  Probability of finding correct solution: 0.3400\n",
      "  Average reward: -53.4392614343338\n",
      "  Lowest reward obtained: -54.486890374578365\n",
      "  Best state at lowest value: [-1  1  1  1  1]\n"
     ]
    },
    {
     "name": "stderr",
     "output_type": "stream",
     "text": [
      "Epoch 327/500: 100%|██████████| 50/50 [00:00<00:00, 67.52 episode/s]\n",
      "Epoch 328/500: 100%|██████████| 50/50 [00:00<00:00, 63.12 episode/s]\n",
      "Epoch 329/500: 100%|██████████| 50/50 [00:00<00:00, 60.17 episode/s]\n",
      "Epoch 330/500: 100%|██████████| 50/50 [00:00<00:00, 70.52 episode/s]\n",
      "Epoch 331/500: 100%|██████████| 50/50 [00:00<00:00, 65.17 episode/s]\n"
     ]
    },
    {
     "name": "stdout",
     "output_type": "stream",
     "text": [
      "  Probability of finding correct solution: 0.4000\n",
      "  Average reward: -53.5595523337654\n",
      "  Lowest reward obtained: -54.486890374578365\n",
      "  Best state at lowest value: [-1  1  1  1  1]\n"
     ]
    },
    {
     "name": "stderr",
     "output_type": "stream",
     "text": [
      "Epoch 332/500: 100%|██████████| 50/50 [00:00<00:00, 69.74 episode/s]\n",
      "Epoch 333/500: 100%|██████████| 50/50 [00:00<00:00, 70.12 episode/s]\n",
      "Epoch 334/500: 100%|██████████| 50/50 [00:00<00:00, 70.43 episode/s]\n",
      "Epoch 335/500: 100%|██████████| 50/50 [00:00<00:00, 76.40 episode/s]\n",
      "Epoch 336/500: 100%|██████████| 50/50 [00:00<00:00, 69.76 episode/s]\n"
     ]
    },
    {
     "name": "stdout",
     "output_type": "stream",
     "text": [
      "  Probability of finding correct solution: 0.2600\n",
      "  Average reward: -51.02348701082493\n",
      "  Lowest reward obtained: -54.486890374578365\n",
      "  Best state at lowest value: [-1  1  1  1  1]\n"
     ]
    },
    {
     "name": "stderr",
     "output_type": "stream",
     "text": [
      "Epoch 337/500: 100%|██████████| 50/50 [00:00<00:00, 69.36 episode/s]\n",
      "Epoch 338/500: 100%|██████████| 50/50 [00:00<00:00, 70.18 episode/s]\n",
      "Epoch 339/500: 100%|██████████| 50/50 [00:00<00:00, 70.94 episode/s]\n",
      "Epoch 340/500: 100%|██████████| 50/50 [00:00<00:00, 70.31 episode/s]\n",
      "Epoch 341/500: 100%|██████████| 50/50 [00:00<00:00, 70.96 episode/s]\n"
     ]
    },
    {
     "name": "stdout",
     "output_type": "stream",
     "text": [
      "  Probability of finding correct solution: 0.4600\n",
      "  Average reward: -52.0123242790099\n",
      "  Lowest reward obtained: -54.486890374578365\n",
      "  Best state at lowest value: [-1  1  1  1  1]\n"
     ]
    },
    {
     "name": "stderr",
     "output_type": "stream",
     "text": [
      "Epoch 342/500: 100%|██████████| 50/50 [00:00<00:00, 71.51 episode/s]\n",
      "Epoch 343/500: 100%|██████████| 50/50 [00:00<00:00, 70.93 episode/s]\n",
      "Epoch 344/500: 100%|██████████| 50/50 [00:00<00:00, 71.41 episode/s]\n",
      "Epoch 345/500: 100%|██████████| 50/50 [00:00<00:00, 69.65 episode/s]\n",
      "Epoch 346/500: 100%|██████████| 50/50 [00:00<00:00, 70.33 episode/s]\n"
     ]
    },
    {
     "name": "stdout",
     "output_type": "stream",
     "text": [
      "  Probability of finding correct solution: 0.0600\n",
      "  Average reward: -47.11962212395542\n",
      "  Lowest reward obtained: -54.486890374578365\n",
      "  Best state at lowest value: [-1  1  1  1  1]\n"
     ]
    },
    {
     "name": "stderr",
     "output_type": "stream",
     "text": [
      "Epoch 347/500: 100%|██████████| 50/50 [00:00<00:00, 66.29 episode/s]\n",
      "Epoch 348/500: 100%|██████████| 50/50 [00:00<00:00, 71.04 episode/s]\n",
      "Epoch 349/500: 100%|██████████| 50/50 [00:00<00:00, 76.50 episode/s]\n",
      "Epoch 350/500: 100%|██████████| 50/50 [00:00<00:00, 65.21 episode/s]\n",
      "Epoch 351/500: 100%|██████████| 50/50 [00:00<00:00, 70.83 episode/s]\n"
     ]
    },
    {
     "name": "stdout",
     "output_type": "stream",
     "text": [
      "  Probability of finding correct solution: 0.0000\n",
      "  Average reward: -33.95237311443666\n",
      "  Lowest reward obtained: -47.461651271564634\n",
      "  Best state at lowest value: [-1  1  1 -1  1]\n"
     ]
    },
    {
     "name": "stderr",
     "output_type": "stream",
     "text": [
      "Epoch 352/500: 100%|██████████| 50/50 [00:00<00:00, 70.01 episode/s]\n",
      "Epoch 353/500: 100%|██████████| 50/50 [00:00<00:00, 70.47 episode/s]\n",
      "Epoch 354/500: 100%|██████████| 50/50 [00:00<00:00, 71.11 episode/s]\n",
      "Epoch 355/500: 100%|██████████| 50/50 [00:00<00:00, 71.27 episode/s]\n",
      "Epoch 356/500: 100%|██████████| 50/50 [00:00<00:00, 70.74 episode/s]\n"
     ]
    },
    {
     "name": "stdout",
     "output_type": "stream",
     "text": [
      "  Probability of finding correct solution: 0.0600\n",
      "  Average reward: -46.91562133731013\n",
      "  Lowest reward obtained: -54.486890374578365\n",
      "  Best state at lowest value: [-1  1  1  1  1]\n"
     ]
    },
    {
     "name": "stderr",
     "output_type": "stream",
     "text": [
      "Epoch 357/500: 100%|██████████| 50/50 [00:00<00:00, 69.56 episode/s]\n",
      "Epoch 358/500: 100%|██████████| 50/50 [00:00<00:00, 70.98 episode/s]\n",
      "Epoch 359/500: 100%|██████████| 50/50 [00:00<00:00, 69.91 episode/s]\n",
      "Epoch 360/500: 100%|██████████| 50/50 [00:00<00:00, 61.22 episode/s]\n",
      "Epoch 361/500: 100%|██████████| 50/50 [00:00<00:00, 64.93 episode/s]\n"
     ]
    },
    {
     "name": "stdout",
     "output_type": "stream",
     "text": [
      "  Probability of finding correct solution: 0.0800\n",
      "  Average reward: -50.59843711993154\n",
      "  Lowest reward obtained: -54.486890374578365\n",
      "  Best state at lowest value: [-1  1  1  1  1]\n"
     ]
    },
    {
     "name": "stderr",
     "output_type": "stream",
     "text": [
      "Epoch 362/500: 100%|██████████| 50/50 [00:00<00:00, 63.10 episode/s]\n",
      "Epoch 363/500: 100%|██████████| 50/50 [00:00<00:00, 70.94 episode/s]\n",
      "Epoch 364/500: 100%|██████████| 50/50 [00:01<00:00, 46.71 episode/s]\n",
      "Epoch 365/500: 100%|██████████| 50/50 [00:01<00:00, 42.07 episode/s]\n",
      "Epoch 366/500: 100%|██████████| 50/50 [00:01<00:00, 38.64 episode/s]\n"
     ]
    },
    {
     "name": "stdout",
     "output_type": "stream",
     "text": [
      "  Probability of finding correct solution: 0.4000\n",
      "  Average reward: -53.12652141431396\n",
      "  Lowest reward obtained: -54.486890374578365\n",
      "  Best state at lowest value: [-1  1  1  1  1]\n"
     ]
    },
    {
     "name": "stderr",
     "output_type": "stream",
     "text": [
      "Epoch 367/500: 100%|██████████| 50/50 [00:01<00:00, 41.25 episode/s]\n",
      "Epoch 368/500: 100%|██████████| 50/50 [00:01<00:00, 31.33 episode/s]\n",
      "Epoch 369/500: 100%|██████████| 50/50 [00:01<00:00, 42.68 episode/s]\n",
      "Epoch 370/500: 100%|██████████| 50/50 [00:01<00:00, 46.70 episode/s]\n",
      "Epoch 371/500: 100%|██████████| 50/50 [00:01<00:00, 48.35 episode/s]\n"
     ]
    },
    {
     "name": "stdout",
     "output_type": "stream",
     "text": [
      "  Probability of finding correct solution: 0.3000\n",
      "  Average reward: -53.24809252589038\n",
      "  Lowest reward obtained: -54.486890374578365\n",
      "  Best state at lowest value: [-1  1  1  1  1]\n"
     ]
    },
    {
     "name": "stderr",
     "output_type": "stream",
     "text": [
      "Epoch 372/500: 100%|██████████| 50/50 [00:00<00:00, 53.83 episode/s]\n",
      "Epoch 373/500: 100%|██████████| 50/50 [00:01<00:00, 37.30 episode/s]\n",
      "Epoch 374/500: 100%|██████████| 50/50 [00:01<00:00, 46.11 episode/s]\n",
      "Epoch 375/500: 100%|██████████| 50/50 [00:01<00:00, 42.57 episode/s]\n",
      "Epoch 376/500: 100%|██████████| 50/50 [00:01<00:00, 34.59 episode/s]\n"
     ]
    },
    {
     "name": "stdout",
     "output_type": "stream",
     "text": [
      "  Probability of finding correct solution: 0.1000\n",
      "  Average reward: -49.93883486731206\n",
      "  Lowest reward obtained: -54.486890374578365\n",
      "  Best state at lowest value: [-1  1  1  1  1]\n"
     ]
    },
    {
     "name": "stderr",
     "output_type": "stream",
     "text": [
      "Epoch 377/500: 100%|██████████| 50/50 [00:01<00:00, 33.36 episode/s]\n",
      "Epoch 378/500: 100%|██████████| 50/50 [00:01<00:00, 32.72 episode/s]\n",
      "Epoch 379/500: 100%|██████████| 50/50 [00:01<00:00, 32.93 episode/s]\n",
      "Epoch 380/500: 100%|██████████| 50/50 [00:01<00:00, 33.59 episode/s]\n",
      "Epoch 381/500: 100%|██████████| 50/50 [00:01<00:00, 34.33 episode/s]\n"
     ]
    },
    {
     "name": "stdout",
     "output_type": "stream",
     "text": [
      "  Probability of finding correct solution: 0.2000\n",
      "  Average reward: -49.61120179561294\n",
      "  Lowest reward obtained: -54.486890374578365\n",
      "  Best state at lowest value: [-1  1  1  1  1]\n"
     ]
    },
    {
     "name": "stderr",
     "output_type": "stream",
     "text": [
      "Epoch 382/500: 100%|██████████| 50/50 [00:01<00:00, 31.05 episode/s]\n",
      "Epoch 383/500: 100%|██████████| 50/50 [00:01<00:00, 32.81 episode/s]\n",
      "Epoch 384/500: 100%|██████████| 50/50 [00:01<00:00, 29.65 episode/s]\n",
      "Epoch 385/500: 100%|██████████| 50/50 [00:01<00:00, 33.89 episode/s]\n",
      "Epoch 386/500: 100%|██████████| 50/50 [00:01<00:00, 31.65 episode/s]\n"
     ]
    },
    {
     "name": "stdout",
     "output_type": "stream",
     "text": [
      "  Probability of finding correct solution: 0.3800\n",
      "  Average reward: -50.953908189884174\n",
      "  Lowest reward obtained: -54.486890374578365\n",
      "  Best state at lowest value: [-1  1  1  1  1]\n"
     ]
    },
    {
     "name": "stderr",
     "output_type": "stream",
     "text": [
      "Epoch 387/500: 100%|██████████| 50/50 [00:01<00:00, 31.41 episode/s]\n",
      "Epoch 388/500: 100%|██████████| 50/50 [00:01<00:00, 32.81 episode/s]\n",
      "Epoch 389/500: 100%|██████████| 50/50 [00:01<00:00, 32.09 episode/s]\n",
      "Epoch 390/500: 100%|██████████| 50/50 [00:01<00:00, 32.02 episode/s]\n",
      "Epoch 391/500: 100%|██████████| 50/50 [00:01<00:00, 36.26 episode/s]\n"
     ]
    },
    {
     "name": "stdout",
     "output_type": "stream",
     "text": [
      "  Probability of finding correct solution: 0.2600\n",
      "  Average reward: -51.19277238323729\n",
      "  Lowest reward obtained: -54.486890374578365\n",
      "  Best state at lowest value: [-1  1  1  1  1]\n"
     ]
    },
    {
     "name": "stderr",
     "output_type": "stream",
     "text": [
      "Epoch 392/500: 100%|██████████| 50/50 [00:01<00:00, 34.90 episode/s]\n",
      "Epoch 393/500: 100%|██████████| 50/50 [00:01<00:00, 34.38 episode/s]\n",
      "Epoch 394/500: 100%|██████████| 50/50 [00:01<00:00, 35.67 episode/s]\n",
      "Epoch 395/500: 100%|██████████| 50/50 [00:01<00:00, 34.36 episode/s]\n",
      "Epoch 396/500: 100%|██████████| 50/50 [00:01<00:00, 34.02 episode/s]\n"
     ]
    },
    {
     "name": "stdout",
     "output_type": "stream",
     "text": [
      "  Probability of finding correct solution: 0.0400\n",
      "  Average reward: -48.29342159345711\n",
      "  Lowest reward obtained: -54.486890374578365\n",
      "  Best state at lowest value: [-1  1  1  1  1]\n"
     ]
    },
    {
     "name": "stderr",
     "output_type": "stream",
     "text": [
      "Epoch 397/500: 100%|██████████| 50/50 [00:01<00:00, 31.82 episode/s]\n",
      "Epoch 398/500: 100%|██████████| 50/50 [00:01<00:00, 28.27 episode/s]\n",
      "Epoch 399/500: 100%|██████████| 50/50 [00:01<00:00, 32.29 episode/s]\n",
      "Epoch 400/500: 100%|██████████| 50/50 [00:01<00:00, 32.92 episode/s]\n",
      "Epoch 401/500: 100%|██████████| 50/50 [00:01<00:00, 35.62 episode/s]\n"
     ]
    },
    {
     "name": "stdout",
     "output_type": "stream",
     "text": [
      "  Probability of finding correct solution: 0.3200\n",
      "  Average reward: -51.04102235945245\n",
      "  Lowest reward obtained: -54.486890374578365\n",
      "  Best state at lowest value: [-1  1  1  1  1]\n"
     ]
    },
    {
     "name": "stderr",
     "output_type": "stream",
     "text": [
      "Epoch 402/500: 100%|██████████| 50/50 [00:01<00:00, 32.46 episode/s]\n",
      "Epoch 403/500: 100%|██████████| 50/50 [00:01<00:00, 28.70 episode/s]\n",
      "Epoch 404/500: 100%|██████████| 50/50 [00:01<00:00, 33.77 episode/s]\n",
      "Epoch 405/500: 100%|██████████| 50/50 [00:01<00:00, 35.55 episode/s]\n",
      "Epoch 406/500: 100%|██████████| 50/50 [00:01<00:00, 32.85 episode/s]\n"
     ]
    },
    {
     "name": "stdout",
     "output_type": "stream",
     "text": [
      "  Probability of finding correct solution: 0.2000\n",
      "  Average reward: -52.03996625135974\n",
      "  Lowest reward obtained: -54.486890374578365\n",
      "  Best state at lowest value: [-1  1  1  1  1]\n"
     ]
    },
    {
     "name": "stderr",
     "output_type": "stream",
     "text": [
      "Epoch 407/500: 100%|██████████| 50/50 [00:01<00:00, 34.28 episode/s]\n",
      "Epoch 408/500: 100%|██████████| 50/50 [00:01<00:00, 33.38 episode/s]\n",
      "Epoch 409/500: 100%|██████████| 50/50 [00:01<00:00, 34.60 episode/s]\n",
      "Epoch 410/500: 100%|██████████| 50/50 [00:01<00:00, 36.08 episode/s]\n",
      "Epoch 411/500: 100%|██████████| 50/50 [00:01<00:00, 35.01 episode/s]\n"
     ]
    },
    {
     "name": "stdout",
     "output_type": "stream",
     "text": [
      "  Probability of finding correct solution: 0.2200\n",
      "  Average reward: -51.977442719208184\n",
      "  Lowest reward obtained: -54.486890374578365\n",
      "  Best state at lowest value: [-1  1  1  1  1]\n"
     ]
    },
    {
     "name": "stderr",
     "output_type": "stream",
     "text": [
      "Epoch 412/500: 100%|██████████| 50/50 [00:01<00:00, 33.22 episode/s]\n",
      "Epoch 413/500: 100%|██████████| 50/50 [00:01<00:00, 35.27 episode/s]\n",
      "Epoch 414/500: 100%|██████████| 50/50 [00:01<00:00, 33.84 episode/s]\n",
      "Epoch 415/500: 100%|██████████| 50/50 [00:01<00:00, 35.57 episode/s]\n",
      "Epoch 416/500: 100%|██████████| 50/50 [00:01<00:00, 34.90 episode/s]\n"
     ]
    },
    {
     "name": "stdout",
     "output_type": "stream",
     "text": [
      "  Probability of finding correct solution: 0.3400\n",
      "  Average reward: -51.93915167359414\n",
      "  Lowest reward obtained: -54.486890374578365\n",
      "  Best state at lowest value: [-1  1  1  1  1]\n"
     ]
    },
    {
     "name": "stderr",
     "output_type": "stream",
     "text": [
      "Epoch 417/500: 100%|██████████| 50/50 [00:01<00:00, 33.50 episode/s]\n",
      "Epoch 418/500: 100%|██████████| 50/50 [00:01<00:00, 33.59 episode/s]\n",
      "Epoch 419/500: 100%|██████████| 50/50 [00:01<00:00, 34.39 episode/s]\n",
      "Epoch 420/500: 100%|██████████| 50/50 [00:01<00:00, 30.68 episode/s]\n",
      "Epoch 421/500: 100%|██████████| 50/50 [00:01<00:00, 34.26 episode/s]\n"
     ]
    },
    {
     "name": "stdout",
     "output_type": "stream",
     "text": [
      "  Probability of finding correct solution: 0.1800\n",
      "  Average reward: -52.27522625672179\n",
      "  Lowest reward obtained: -54.486890374578365\n",
      "  Best state at lowest value: [-1  1  1  1  1]\n"
     ]
    },
    {
     "name": "stderr",
     "output_type": "stream",
     "text": [
      "Epoch 422/500: 100%|██████████| 50/50 [00:01<00:00, 32.22 episode/s]\n",
      "Epoch 423/500: 100%|██████████| 50/50 [00:01<00:00, 34.32 episode/s]\n",
      "Epoch 424/500: 100%|██████████| 50/50 [00:01<00:00, 36.33 episode/s]\n",
      "Epoch 425/500: 100%|██████████| 50/50 [00:01<00:00, 36.19 episode/s]\n",
      "Epoch 426/500: 100%|██████████| 50/50 [00:01<00:00, 40.32 episode/s]\n"
     ]
    },
    {
     "name": "stdout",
     "output_type": "stream",
     "text": [
      "  Probability of finding correct solution: 0.1400\n",
      "  Average reward: -50.061601598938616\n",
      "  Lowest reward obtained: -54.486890374578365\n",
      "  Best state at lowest value: [-1  1  1  1  1]\n"
     ]
    },
    {
     "name": "stderr",
     "output_type": "stream",
     "text": [
      "Epoch 427/500: 100%|██████████| 50/50 [00:01<00:00, 40.11 episode/s]\n",
      "Epoch 428/500: 100%|██████████| 50/50 [00:01<00:00, 33.04 episode/s]\n",
      "Epoch 429/500: 100%|██████████| 50/50 [00:01<00:00, 32.87 episode/s]\n",
      "Epoch 430/500: 100%|██████████| 50/50 [00:01<00:00, 33.24 episode/s]\n",
      "Epoch 431/500: 100%|██████████| 50/50 [00:01<00:00, 49.35 episode/s]\n"
     ]
    },
    {
     "name": "stdout",
     "output_type": "stream",
     "text": [
      "  Probability of finding correct solution: 0.0000\n",
      "  Average reward: -37.39061380808178\n",
      "  Lowest reward obtained: -47.9919814610799\n",
      "  Best state at lowest value: [-1 -1  1  1  1]\n"
     ]
    },
    {
     "name": "stderr",
     "output_type": "stream",
     "text": [
      "Epoch 432/500: 100%|██████████| 50/50 [00:00<00:00, 52.89 episode/s]\n",
      "Epoch 433/500: 100%|██████████| 50/50 [00:00<00:00, 56.93 episode/s]\n",
      "Epoch 434/500: 100%|██████████| 50/50 [00:00<00:00, 53.63 episode/s]\n",
      "Epoch 435/500: 100%|██████████| 50/50 [00:00<00:00, 52.34 episode/s]\n",
      "Epoch 436/500: 100%|██████████| 50/50 [00:01<00:00, 45.60 episode/s]\n"
     ]
    },
    {
     "name": "stdout",
     "output_type": "stream",
     "text": [
      "  Probability of finding correct solution: 0.2600\n",
      "  Average reward: -51.271279936253634\n",
      "  Lowest reward obtained: -54.486890374578365\n",
      "  Best state at lowest value: [-1  1  1  1  1]\n"
     ]
    },
    {
     "name": "stderr",
     "output_type": "stream",
     "text": [
      "Epoch 437/500: 100%|██████████| 50/50 [00:01<00:00, 48.03 episode/s]\n",
      "Epoch 438/500: 100%|██████████| 50/50 [00:01<00:00, 42.81 episode/s]\n",
      "Epoch 439/500: 100%|██████████| 50/50 [00:01<00:00, 46.92 episode/s]\n",
      "Epoch 440/500: 100%|██████████| 50/50 [00:01<00:00, 42.07 episode/s]\n",
      "Epoch 441/500: 100%|██████████| 50/50 [00:01<00:00, 35.45 episode/s]\n"
     ]
    },
    {
     "name": "stdout",
     "output_type": "stream",
     "text": [
      "  Probability of finding correct solution: 0.0800\n",
      "  Average reward: -40.37063686991493\n",
      "  Lowest reward obtained: -54.486890374578365\n",
      "  Best state at lowest value: [-1  1  1  1  1]\n"
     ]
    },
    {
     "name": "stderr",
     "output_type": "stream",
     "text": [
      "Epoch 442/500: 100%|██████████| 50/50 [00:01<00:00, 31.66 episode/s]\n",
      "Epoch 443/500: 100%|██████████| 50/50 [00:01<00:00, 30.36 episode/s]\n",
      "Epoch 444/500: 100%|██████████| 50/50 [00:01<00:00, 34.71 episode/s]\n",
      "Epoch 445/500: 100%|██████████| 50/50 [00:01<00:00, 39.59 episode/s]\n",
      "Epoch 446/500: 100%|██████████| 50/50 [00:01<00:00, 42.57 episode/s]\n"
     ]
    },
    {
     "name": "stdout",
     "output_type": "stream",
     "text": [
      "  Probability of finding correct solution: 0.0800\n",
      "  Average reward: -46.450720441406744\n",
      "  Lowest reward obtained: -54.486890374578365\n",
      "  Best state at lowest value: [-1  1  1  1  1]\n"
     ]
    },
    {
     "name": "stderr",
     "output_type": "stream",
     "text": [
      "Epoch 447/500: 100%|██████████| 50/50 [00:01<00:00, 47.95 episode/s]\n",
      "Epoch 448/500: 100%|██████████| 50/50 [00:01<00:00, 48.96 episode/s]\n",
      "Epoch 449/500: 100%|██████████| 50/50 [00:01<00:00, 39.88 episode/s]\n",
      "Epoch 450/500: 100%|██████████| 50/50 [00:01<00:00, 43.76 episode/s]\n",
      "Epoch 451/500: 100%|██████████| 50/50 [00:01<00:00, 35.64 episode/s]\n"
     ]
    },
    {
     "name": "stdout",
     "output_type": "stream",
     "text": [
      "  Probability of finding correct solution: 0.0000\n",
      "  Average reward: -46.77266252368051\n",
      "  Lowest reward obtained: -52.547622339753865\n",
      "  Best state at lowest value: [ 1  1  1 -1  1]\n"
     ]
    },
    {
     "name": "stderr",
     "output_type": "stream",
     "text": [
      "Epoch 452/500: 100%|██████████| 50/50 [00:01<00:00, 34.55 episode/s]\n",
      "Epoch 453/500: 100%|██████████| 50/50 [00:00<00:00, 61.14 episode/s]\n",
      "Epoch 454/500: 100%|██████████| 50/50 [00:01<00:00, 33.70 episode/s]\n",
      "Epoch 455/500: 100%|██████████| 50/50 [00:01<00:00, 34.23 episode/s]\n",
      "Epoch 456/500: 100%|██████████| 50/50 [00:01<00:00, 35.68 episode/s]\n"
     ]
    },
    {
     "name": "stdout",
     "output_type": "stream",
     "text": [
      "  Probability of finding correct solution: 0.0200\n",
      "  Average reward: -47.64623959295942\n",
      "  Lowest reward obtained: -54.486890374578365\n",
      "  Best state at lowest value: [-1  1  1  1  1]\n"
     ]
    },
    {
     "name": "stderr",
     "output_type": "stream",
     "text": [
      "Epoch 457/500: 100%|██████████| 50/50 [00:01<00:00, 32.84 episode/s]\n",
      "Epoch 458/500: 100%|██████████| 50/50 [00:01<00:00, 34.75 episode/s]\n",
      "Epoch 459/500: 100%|██████████| 50/50 [00:01<00:00, 31.84 episode/s]\n",
      "Epoch 460/500: 100%|██████████| 50/50 [00:01<00:00, 38.85 episode/s]\n",
      "Epoch 461/500: 100%|██████████| 50/50 [00:01<00:00, 32.46 episode/s]\n"
     ]
    },
    {
     "name": "stdout",
     "output_type": "stream",
     "text": [
      "  Probability of finding correct solution: 0.3600\n",
      "  Average reward: -52.40675182299506\n",
      "  Lowest reward obtained: -54.486890374578365\n",
      "  Best state at lowest value: [-1  1  1  1  1]\n"
     ]
    },
    {
     "name": "stderr",
     "output_type": "stream",
     "text": [
      "Epoch 462/500: 100%|██████████| 50/50 [00:01<00:00, 32.51 episode/s]\n",
      "Epoch 463/500: 100%|██████████| 50/50 [00:01<00:00, 36.76 episode/s]\n",
      "Epoch 464/500: 100%|██████████| 50/50 [00:01<00:00, 33.67 episode/s]\n",
      "Epoch 465/500: 100%|██████████| 50/50 [00:01<00:00, 33.70 episode/s]\n",
      "Epoch 466/500: 100%|██████████| 50/50 [00:01<00:00, 36.92 episode/s]\n"
     ]
    },
    {
     "name": "stdout",
     "output_type": "stream",
     "text": [
      "  Probability of finding correct solution: 0.1000\n",
      "  Average reward: -50.95364138427508\n",
      "  Lowest reward obtained: -54.486890374578365\n",
      "  Best state at lowest value: [-1  1  1  1  1]\n"
     ]
    },
    {
     "name": "stderr",
     "output_type": "stream",
     "text": [
      "Epoch 467/500: 100%|██████████| 50/50 [00:01<00:00, 38.16 episode/s]\n",
      "Epoch 468/500: 100%|██████████| 50/50 [00:01<00:00, 36.93 episode/s]\n",
      "Epoch 469/500: 100%|██████████| 50/50 [00:01<00:00, 38.23 episode/s]\n",
      "Epoch 470/500: 100%|██████████| 50/50 [00:01<00:00, 37.64 episode/s]\n",
      "Epoch 471/500: 100%|██████████| 50/50 [00:01<00:00, 35.51 episode/s]\n"
     ]
    },
    {
     "name": "stdout",
     "output_type": "stream",
     "text": [
      "  Probability of finding correct solution: 0.3600\n",
      "  Average reward: -52.026075385732604\n",
      "  Lowest reward obtained: -54.486890374578365\n",
      "  Best state at lowest value: [-1  1  1  1  1]\n"
     ]
    },
    {
     "name": "stderr",
     "output_type": "stream",
     "text": [
      "Epoch 472/500: 100%|██████████| 50/50 [00:01<00:00, 37.68 episode/s]\n",
      "Epoch 473/500: 100%|██████████| 50/50 [00:01<00:00, 35.48 episode/s]\n",
      "Epoch 474/500: 100%|██████████| 50/50 [00:01<00:00, 38.58 episode/s]\n",
      "Epoch 475/500: 100%|██████████| 50/50 [00:01<00:00, 38.98 episode/s]\n",
      "Epoch 476/500: 100%|██████████| 50/50 [00:01<00:00, 36.24 episode/s]\n"
     ]
    },
    {
     "name": "stdout",
     "output_type": "stream",
     "text": [
      "  Probability of finding correct solution: 0.0400\n",
      "  Average reward: -50.190967445488596\n",
      "  Lowest reward obtained: -54.486890374578365\n",
      "  Best state at lowest value: [-1  1  1  1  1]\n"
     ]
    },
    {
     "name": "stderr",
     "output_type": "stream",
     "text": [
      "Epoch 477/500: 100%|██████████| 50/50 [00:01<00:00, 35.77 episode/s]\n",
      "Epoch 478/500: 100%|██████████| 50/50 [00:01<00:00, 35.56 episode/s]\n",
      "Epoch 479/500: 100%|██████████| 50/50 [00:01<00:00, 34.88 episode/s]\n",
      "Epoch 480/500: 100%|██████████| 50/50 [00:01<00:00, 33.52 episode/s]\n",
      "Epoch 481/500: 100%|██████████| 50/50 [00:01<00:00, 34.83 episode/s]\n"
     ]
    },
    {
     "name": "stdout",
     "output_type": "stream",
     "text": [
      "  Probability of finding correct solution: 0.4200\n",
      "  Average reward: -52.59726566088158\n",
      "  Lowest reward obtained: -54.486890374578365\n",
      "  Best state at lowest value: [-1  1  1  1  1]\n"
     ]
    },
    {
     "name": "stderr",
     "output_type": "stream",
     "text": [
      "Epoch 482/500: 100%|██████████| 50/50 [00:01<00:00, 32.63 episode/s]\n",
      "Epoch 483/500: 100%|██████████| 50/50 [00:01<00:00, 36.15 episode/s]\n",
      "Epoch 484/500: 100%|██████████| 50/50 [00:01<00:00, 34.02 episode/s]\n",
      "Epoch 485/500: 100%|██████████| 50/50 [00:01<00:00, 35.14 episode/s]\n",
      "Epoch 486/500: 100%|██████████| 50/50 [00:01<00:00, 37.02 episode/s]\n"
     ]
    },
    {
     "name": "stdout",
     "output_type": "stream",
     "text": [
      "  Probability of finding correct solution: 0.5200\n",
      "  Average reward: -52.76435796870413\n",
      "  Lowest reward obtained: -54.486890374578365\n",
      "  Best state at lowest value: [-1  1  1  1  1]\n"
     ]
    },
    {
     "name": "stderr",
     "output_type": "stream",
     "text": [
      "Epoch 487/500: 100%|██████████| 50/50 [00:01<00:00, 35.78 episode/s]\n",
      "Epoch 488/500: 100%|██████████| 50/50 [00:01<00:00, 38.08 episode/s]\n",
      "Epoch 489/500: 100%|██████████| 50/50 [00:01<00:00, 38.87 episode/s]\n",
      "Epoch 490/500: 100%|██████████| 50/50 [00:01<00:00, 41.60 episode/s]\n",
      "Epoch 491/500: 100%|██████████| 50/50 [00:01<00:00, 38.52 episode/s]\n"
     ]
    },
    {
     "name": "stdout",
     "output_type": "stream",
     "text": [
      "  Probability of finding correct solution: 0.6000\n",
      "  Average reward: -52.69016034200688\n",
      "  Lowest reward obtained: -54.486890374578365\n",
      "  Best state at lowest value: [-1  1  1  1  1]\n"
     ]
    },
    {
     "name": "stderr",
     "output_type": "stream",
     "text": [
      "Epoch 492/500: 100%|██████████| 50/50 [00:01<00:00, 44.46 episode/s]\n",
      "Epoch 493/500: 100%|██████████| 50/50 [00:01<00:00, 43.23 episode/s]\n",
      "Epoch 494/500: 100%|██████████| 50/50 [00:01<00:00, 47.98 episode/s]\n",
      "Epoch 495/500: 100%|██████████| 50/50 [00:00<00:00, 50.86 episode/s]\n",
      "Epoch 496/500: 100%|██████████| 50/50 [00:00<00:00, 58.81 episode/s]\n"
     ]
    },
    {
     "name": "stdout",
     "output_type": "stream",
     "text": [
      "  Probability of finding correct solution: 0.6800\n",
      "  Average reward: -53.719384667212324\n",
      "  Lowest reward obtained: -54.486890374578365\n",
      "  Best state at lowest value: [-1  1  1  1  1]\n"
     ]
    },
    {
     "name": "stderr",
     "output_type": "stream",
     "text": [
      "Epoch 497/500: 100%|██████████| 50/50 [00:00<00:00, 70.67 episode/s]\n",
      "Epoch 498/500: 100%|██████████| 50/50 [00:00<00:00, 63.50 episode/s]\n",
      "Epoch 499/500: 100%|██████████| 50/50 [00:00<00:00, 56.32 episode/s]\n",
      "Epoch 500/500: 100%|██████████| 50/50 [00:00<00:00, 57.96 episode/s]\n"
     ]
    }
   ],
   "source": [
    "# RL-QAOA setup\n",
    "n=qubo.shape[0]\n",
    "n_c=2\n",
    "depth=1\n",
    "init_params = np.random.uniform(0, 0.3, 2 * depth * (n - n_c))\n",
    "\n",
    "rl_qaoa_rand = RL_QAOA(\n",
    "    qubo,\n",
    "    n,\n",
    "    init_params,\n",
    "    b_vector=np.array([[25.0] * int((n**2)) for i in range(n - n_c)]),\n",
    "    QAOA_depth=depth,\n",
    "    gamma=0.99,\n",
    "    learning_rate_init=[0.05, 0.02],\n",
    ")\n",
    "final_config = rl_qaoa_rand.rqaoa_execute()\n",
    "rl_qaoa_rand.n_c = n_c\n",
    "print(\n",
    "    f\"classical_result : {float(final_config[2])},best : {rl_qaoa_rand.node_assignments}\"\n",
    ")\n",
    "# Execute RQAOA\n",
    "final_config = rl_qaoa_rand.RL_QAOA(\n",
    "    episodes=50, epochs=500, correct_ans=float(final_config[2])\n",
    ")"
   ]
  },
  {
   "cell_type": "code",
   "execution_count": 10,
   "metadata": {},
   "outputs": [
    {
     "data": {
      "image/png": "[encoded data removed]",
      "text/plain": [
       "<Figure size 1000x500 with 1 Axes>"
      ]
     },
     "metadata": {},
     "output_type": "display_data"
    },
    {
     "data": {
      "image/png": "[encoded data removed]",
      "text/plain": [
       "<Figure size 1000x500 with 1 Axes>"
      ]
     },
     "metadata": {},
     "output_type": "display_data"
    },
    {
     "data": {
      "image/png": "[encoded data removed]",
      "text/plain": [
       "<Figure size 1000x500 with 1 Axes>"
      ]
     },
     "metadata": {},
     "output_type": "display_data"
    }
   ],
   "source": [
    "def plot_rl_qaoa_results(avg_values, min_values, prob_values):\n",
    "    \"\"\"\n",
    "    Plots the stored training values of RL_QAOA across epochs with margin.\n",
    "\n",
    "    - The first plot shows the average values over epochs with margin.\n",
    "    - The second plot displays the minimum values over epochs with margin.\n",
    "    - The third plot represents the probability of finding the correct solution.\n",
    "\n",
    "    Parameters\n",
    "    ----------\n",
    "    avg_values : list\n",
    "        List of average values over epochs.\n",
    "    min_values : list\n",
    "        List of minimum values over epochs.\n",
    "    prob_values : list\n",
    "        List of probabilities over epochs.\n",
    "\n",
    "    The x-axis represents the number of epochs in all graphs.\n",
    "    \"\"\"\n",
    "\n",
    "    epochs = range(1, len(avg_values) + 1)\n",
    "\n",
    "    # Calculate margins for y-axis limits\n",
    "    avg_min, avg_max = min(avg_values), max(avg_values)\n",
    "    min_min, min_max = min(min_values), max(min_values)\n",
    "\n",
    "    avg_margin = (avg_max - avg_min) * 0.05\n",
    "    min_margin = (min_max - min_min) * 0.05\n",
    "\n",
    "    # Plot average values with margin\n",
    "    plt.figure(figsize=(10, 5))\n",
    "    plt.plot(epochs, avg_values, label=\"random start Average Reward\", color=\"blue\")\n",
    "    plt.xlabel(\"Epochs\")\n",
    "    plt.ylabel(\"Value\")\n",
    "    plt.title(\"Random start Average Reward\")\n",
    "    plt.grid(True)\n",
    "    plt.legend()\n",
    "    plt.show()\n",
    "\n",
    "    # Plot minimum values with margin\n",
    "    plt.figure(figsize=(10, 5))\n",
    "    plt.plot(epochs, min_values, label=\"random start Minimum Reward\", color=\"red\")\n",
    "    plt.xlabel(\"Epochs\")\n",
    "    plt.ylabel(\"Value\")\n",
    "    plt.grid(True)\n",
    "    plt.legend()\n",
    "    plt.show()\n",
    "\n",
    "    # Plot probability values\n",
    "    plt.figure(figsize=(10, 5))\n",
    "    plt.plot(epochs, prob_values, label=\"random start Probability\", color=\"green\")\n",
    "    plt.xlabel(\"Epochs\")\n",
    "    plt.ylabel(\"Probability\")\n",
    "    plt.title(\"Random start Probability of Finding Correct Solution\")\n",
    "    plt.ylim(0, 1)  # Setting the y-axis range between 0 and 1\n",
    "    plt.grid(True)\n",
    "    plt.legend()\n",
    "    plt.show()\n",
    "\n",
    "\n",
    "# Example usage with dummy data\n",
    "avg_values_random = rl_qaoa_rand.avg_values\n",
    "min_values_random = rl_qaoa_rand.min_values\n",
    "prob_values_random = rl_qaoa_rand.prob_values\n",
    "plot_rl_qaoa_results(\n",
    "    rl_qaoa_rand.avg_values, rl_qaoa_rand.min_values, rl_qaoa_rand.prob_values\n",
    ")"
   ]
  }
 ],
 "metadata": {
  "kernelspec": {
   "display_name": "qrf",
   "language": "python",
   "name": "python3"
  },
  "language_info": {
   "codemirror_mode": {
    "name": "ipython",
    "version": 3
   },
   "file_extension": ".py",
   "mimetype": "text/x-python",
   "name": "python",
   "nbconvert_exporter": "python",
   "pygments_lexer": "ipython3",
   "version": "3.12.0"
  }
 },
 "nbformat": 4,
 "nbformat_minor": 2
}
